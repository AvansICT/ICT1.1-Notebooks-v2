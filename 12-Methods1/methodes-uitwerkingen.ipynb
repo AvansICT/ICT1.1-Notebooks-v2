{
 "cells": [
  {
   "cell_type": "markdown",
   "metadata": {},
   "source": [
    "# Uitwerkingen"
   ]
  },
  {
   "cell_type": "markdown",
   "metadata": {},
   "source": [
    "## Opdracht 1"
   ]
  },
  {
   "cell_type": "code",
   "execution_count": null,
   "metadata": {
    "dotnet_interactive": {
     "language": "csharp"
    },
    "polyglot_notebook": {
     "kernelName": "csharp"
    }
   },
   "outputs": [],
   "source": [
    "void BerekenWaterprijs()\n",
    "{\n",
    "    // geven waardes volgens opdracht\n",
    "    double aantalLiters = 20000;\n",
    "    double prijsPerKuub = 1.37;\n",
    "    double belastingPercentage = 0.08;\n",
    "\n",
    "    // berekeningen voor de totale prijs inclusief belasting\n",
    "    double aantalKuub = aantalLiters / 1000;\n",
    "    double belasting = prijsPerKuub * belastingPercentage;\n",
    "    double totalePrijs = aantalKuub * (prijsPerKuub + belasting);\n",
    "\n",
    "    Console.WriteLine($\"De totale waterprijs is: {totalePrijs:F2} euro\");\n",
    "}\n",
    "\n",
    "// Aanroep van de methode hierboven\n",
    "BerekenWaterprijs();"
   ]
  },
  {
   "cell_type": "markdown",
   "metadata": {},
   "source": [
    "## Opdracht 2\n"
   ]
  },
  {
   "cell_type": "code",
   "execution_count": null,
   "metadata": {
    "dotnet_interactive": {
     "language": "csharp"
    },
    "polyglot_notebook": {
     "kernelName": "csharp"
    }
   },
   "outputs": [],
   "source": [
    "void BerekenElectriciteitsprijs()\n",
    "{\n",
    "    // geven waardes volgens opdracht\n",
    "    double kWhVerbruik = 235;\n",
    "    double prijsPerKWhTot100 = 0.23;\n",
    "    double prijsPerKWhBoven100 = 0.43;\n",
    "    double belastingPercentage = 0.04;\n",
    "\n",
    "    // Bereken kosten voor verbruik tot en boven 100 kWh\n",
    "    double kostenTot100 = Math.Min(kWhVerbruik, 100) * prijsPerKWhTot100;\n",
    "    double kostenBoven100 = (kWhVerbruik > 100) ? (kWhVerbruik - 100) * prijsPerKWhBoven100 : 0;\n",
    "\n",
    "    // totaalprijs en de prijs inclusief btw berekenen\n",
    "    double totaleKosten = kostenTot100 + kostenBoven100;\n",
    "    double belasting = totaleKosten * belastingPercentage;\n",
    "    double totalePrijs = totaleKosten + belasting;\n",
    "\n",
    "    // Output\n",
    "    Console.WriteLine($\"De totale elektriciteitsprijs is: {totalePrijs:F2} euro\");\n",
    "}\n",
    "\n",
    "// Aanroep van de methode hierboven\n",
    "BerekenElectriciteitsprijs();"
   ]
  }
 ],
 "metadata": {
  "kernelspec": {
   "display_name": ".NET (C#)",
   "language": "C#",
   "name": ".net-csharp"
  },
  "language_info": {
   "name": "polyglot-notebook"
  },
  "polyglot_notebook": {
   "kernelInfo": {
    "defaultKernelName": "csharp",
    "items": [
     {
      "aliases": [],
      "languageName": "csharp",
      "name": "csharp"
     }
    ]
   }
  }
 },
 "nbformat": 4,
 "nbformat_minor": 2
}
