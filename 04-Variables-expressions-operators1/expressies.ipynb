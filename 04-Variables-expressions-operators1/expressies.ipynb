{
 "cells": [
  {
   "cell_type": "markdown",
   "metadata": {},
   "source": [
    "# Expressies\n",
    "\n",
    "Bij het programmeren worden op verschillende plaatsen expressies gebruikt. Zo kun je na een toekenning van een variabele een expressie gebruiken, maar ook bij een if- of while-statement kunnen expressies gebruikt worden. Je kunt een expressie zien als een soort berekening met een resultaat. Dit resultaat hoeft alleen niet altijd een getal te zijn, maar kan ook waar of niet waar zijn, of zelfs een stuk tekst. Een expressie kan zijn\n",
    "- Een variabele (bijvoorbeeld de variabele `som`)\n",
    "- Een vaste waarde (bijvoorbeeld de waarde 10)\n",
    "- Een methode-aanroep (bijvoorbeeld `Convert.ToInt32(\"10\")`)\n",
    "- Een operator met parameters (bijvoorbeeld 1 + 4, de operator is hier +, en de parameters zijn 1 en 4. Let op dat de parameters hier ook weer expressies zijn en dus een van bovenstaande opties kunnen zijn)\n",
    "Doordat een expressie met behulp van operatoren ook weer andere expressies kan bevatten, kunnen expressies dus erg complex worden. Iedere operator heeft, net zoals bij de wiskunde, een volgordelijkheid. Deze volgorde kan beinvloed worden door gebruik te maken van haakjes\n",
    "\n",
    "## Expressie type\n",
    "\n",
    "Een expressie heeft altijd een resulterend type, dat afhangt van de expressie operatoren en de types van de parameters van deze expressies. Deze types zijn belangrijk om in de gaten te houden, omdat een expressie gebruikt moet worden. In deze periode gebruiken we expressies op een aantal plaatsen\n",
    "- Variabele assignment\n",
    "  Het type van de expressie moet overeen komen met de variabele waar de waarde in wordt opgeslagen\n",
    "  ```csharp\n",
    "  int getal = 10+20;      // dit gaat goed\n",
    "  string tekst = 10 + 20; // dit gaat niet goed\n",
    "  ```\n",
    "- If en while statements\n",
    "  Het type van de expressie moet boolean zijn (true / false). Een if-statement moet iets doen als iets waar is, dat kan niet met bijvoorbeeld een int\n",
    "  ```csharp\n",
    "  if(temperatuur > 20) // de > operator vergelijkt 2 waarden, en geeft een true of false waarde terug\n",
    "  {\n",
    "  }\n",
    "  ```\n",
    "- Return statement\n",
    "  Het type van de expressie moet hetzelfde zijn als het return-type van de methode\n",
    "  ```csharp\n",
    "  public static int som(int a, int b)\n",
    "  {\n",
    "    return a + b;\n",
    "  }\n",
    "- Methode-parameters\n",
    "  Bij het aanroepen van een methode moeten de parameters ingevuld worden. Deze parameters hebben een bepaald type, maar kunnen met een expressie van dat type ingevuld worden\n",
    "  ```csharp\n",
    "  Console.WriteLine(som(10*2, 40*2));\n",
    "  ```\n",
    "\n",
    "Het is dus belangrijk het type van een expressie te kunnen bepalen. Deze types zullen bij het behandelen van de verschillende operatoren ook naar voren komen "
   ]
  },
  {
   "cell_type": "markdown",
   "metadata": {},
   "source": []
  }
 ],
 "metadata": {
  "kernelspec": {
   "display_name": ".NET (C#)",
   "language": "C#",
   "name": ".net-csharp"
  },
  "language_info": {
   "name": "polyglot-notebook"
  },
  "polyglot_notebook": {
   "kernelInfo": {
    "defaultKernelName": "csharp",
    "items": [
     {
      "aliases": [],
      "languageName": "csharp",
      "name": "csharp"
     }
    ]
   }
  }
 },
 "nbformat": 4,
 "nbformat_minor": 2
}
