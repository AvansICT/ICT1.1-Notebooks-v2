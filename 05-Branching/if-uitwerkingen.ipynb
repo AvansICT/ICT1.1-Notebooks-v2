{
 "cells": [
  {
   "cell_type": "markdown",
   "metadata": {},
   "source": [
    "# Uitwerkingen"
   ]
  },
  {
   "cell_type": "markdown",
   "metadata": {},
   "source": [
    "## Opdracht 1"
   ]
  },
  {
   "cell_type": "code",
   "execution_count": null,
   "metadata": {
    "dotnet_interactive": {
     "language": "csharp"
    },
    "polyglot_notebook": {
     "kernelName": "csharp"
    }
   },
   "outputs": [],
   "source": [
    "float temperatuur = 12.5f;\n",
    "\n",
    "// Controleer of het vriest\n",
    "if (temperatuur < 0)\n",
    "{\n",
    "    Console.WriteLine(\"Het vriest.\");\n",
    "}"
   ]
  },
  {
   "cell_type": "markdown",
   "metadata": {},
   "source": [
    "## Opdracht 2"
   ]
  },
  {
   "cell_type": "code",
   "execution_count": null,
   "metadata": {
    "dotnet_interactive": {
     "language": "csharp"
    },
    "polyglot_notebook": {
     "kernelName": "csharp"
    }
   },
   "outputs": [],
   "source": [
    "int getal1 = 10;\n",
    "int getal2 = 100;\n",
    "int getal3 = -10;\n",
    "int getal4 = 1;\n",
    "int som = 0;\n",
    "\n",
    "// Controleer of het getal positief is\n",
    "if (getal1 > 0)\n",
    "{\n",
    "    som += getal1; // Voeg het positieve getal toe aan de som\n",
    "}\n",
    "\n",
    "// Controleer of het getal positief is\n",
    "if (getal2 > 0)\n",
    "{\n",
    "    som += getal2; // Voeg het positieve getal toe aan de som\n",
    "}\n",
    "\n",
    "// Controleer of het getal positief is\n",
    "if (getal3 > 0)\n",
    "{\n",
    "    som += getal3; // Voeg het positieve getal toe aan de som\n",
    "}\n",
    "\n",
    "// Controleer of het getal positief is\n",
    "if (getal4 > 0)\n",
    "{\n",
    "    som += getal4; // Voeg het positieve getal toe aan de som\n",
    "}\n",
    "\n",
    "Console.WriteLine($\"Het totaal van alle positieve getallen in {getal1}, {getal2}, {getal3} en {getal4} is {som}.\")"
   ]
  }
 ],
 "metadata": {
  "kernelspec": {
   "display_name": ".NET (C#)",
   "language": "C#",
   "name": ".net-csharp"
  },
  "language_info": {
   "name": "polyglot-notebook"
  },
  "polyglot_notebook": {
   "kernelInfo": {
    "defaultKernelName": "csharp",
    "items": [
     {
      "aliases": [],
      "languageName": "csharp",
      "name": "csharp"
     }
    ]
   }
  }
 },
 "nbformat": 4,
 "nbformat_minor": 2
}
