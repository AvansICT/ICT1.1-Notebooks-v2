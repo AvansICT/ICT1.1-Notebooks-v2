{
 "cells": [
  {
   "cell_type": "markdown",
   "metadata": {},
   "source": [
    "# Uitwerkingen: Lijsten van Lijsten en 2D Data"
   ]
  },
  {
   "cell_type": "markdown",
   "metadata": {},
   "source": [
    "# Vragen"
   ]
  },
  {
   "cell_type": "markdown",
   "metadata": {},
   "source": [
    "### Vraag 1: Dagelijks Verbruik"
   ]
  },
  {
   "cell_type": "code",
   "execution_count": null,
   "metadata": {},
   "outputs": [],
   "source": [
    "List<List<double>> verbruikLijsten = [\n",
    "  [6.4, 5.4, 7.2, 6.8, 8.1 ], // Gasverbruik (index 0)\n",
    "  [0.4, 0.6, 0.5, 0.7, 0.8 ], // Waterverbruik (index 1)\n",
    "  [10.8, 11.8, 12.5, 13.2, 14.0] // Elektriciteitsverbruik (index 2)\n",
    "];\n",
    "\n",
    "// We bepalen het aantal dagen door de lengte van de eerste binnenlijst te nemen.\n",
    "int aantalDagen = verbruikLijsten[0].Count;\n",
    "\n",
    "// We itereren over de dagen (de indexen van de binnenlijsten).\n",
    "for (int dagIndex = 0; dagIndex < aantalDagen; dagIndex++)\n",
    "{\n",
    "    // We halen voor de huidige dag het verbruik van elk type op.\n",
    "    double gas = verbruikLijsten[0][dagIndex];\n",
    "    double water = verbruikLijsten[1][dagIndex];\n",
    "    double elektra = verbruikLijsten[2][dagIndex];\n",
    "\n",
    "    // We printen de geformatteerde string.\n",
    "    Console.WriteLine($\"Dag {dagIndex + 1}: {gas} m3 gas, {water} m3 water, {elektra} kWh elektriciteit\");\n",
    "}"
   ]
  },
  {
   "cell_type": "markdown",
   "metadata": {},
   "source": [
    "### Vraag 2: Een waarde opvragen"
   ]
  },
  {
   "cell_type": "code",
   "execution_count": null,
   "metadata": {},
   "outputs": [],
   "source": [
    "List<List<double>> verbruikLijsten = [\n",
    "  [6.4, 5.4, 7.2, 6.8, 8.1 ], // Gasverbruik (index 0)\n",
    "  [0.4, 0.6, 0.5, 0.7, 0.8 ], // Waterverbruik (index 1)\n",
    "  [10.8, 11.8, 12.5, 13.2, 14.0] // Elektriciteitsverbruik (index 2)\n",
    "];\n",
    "\n",
    "// De waterlijst staat op index 1 van de hoofdlijst.\n",
    "// Dag 3 staat op index 2 van de binnenlijst.\n",
    "double waterDag3 = verbruikLijsten[1][2];\n",
    "Console.WriteLine(\"Het waterverbruik op dag 3 was: \" + waterDag3 + \" m3\");"
   ]
  },
  {
   "cell_type": "markdown",
   "metadata": {},
   "source": [
    "### Vraag 3: Een rij toevoegen"
   ]
  },
  {
   "cell_type": "code",
   "execution_count": null,
   "metadata": {},
   "outputs": [],
   "source": [
    "List<List<double>> verbruikLijsten = [\n",
    "  [6.4, 5.4, 7.2, 6.8, 8.1 ], // Gasverbruik\n",
    "  [0.4, 0.6, 0.5, 0.7, 0.8 ], // Waterverbruik\n",
    "  [10.8, 11.8, 12.5, 13.2, 14.0] // Elektriciteitsverbruik\n",
    "];\n",
    "\n",
    "// Maak een nieuwe lijst voor de teruglevering\n",
    "List<double> teruglevering = [0.5, 1.2, 0.8, 1.5, 0.9];\n",
    "\n",
    "// Voeg deze lijst als nieuw element (nieuwe rij) toe aan de hoofdlijst\n",
    "verbruikLijsten.Add(teruglevering);\n",
    "\n",
    "Console.WriteLine(\"Het totaal aantal datatypes (rijen) is nu: \" + verbruikLijsten.Count);"
   ]
  },
  {
   "cell_type": "markdown",
   "metadata": {},
   "source": [
    "# Uitdagingen"
   ]
  },
  {
   "cell_type": "markdown",
   "metadata": {},
   "source": [
    "### Uitdaging 1: Transponeren van een Matrix"
   ]
  },
  {
   "cell_type": "code",
   "execution_count": null,
   "metadata": {},
   "outputs": [],
   "source": [
    "List<List<int>> TransponeerMatrix(List<List<int>> matrix)\n",
    "{\n",
    "    // Controleer of de input wel geldig is.\n",
    "    if (matrix == null || matrix.Count == 0 || matrix[0].Count == 0)\n",
    "    {\n",
    "        return new List<List<int>>(); // Geef een lege lijst terug\n",
    "    }\n",
    "\n",
    "    int oudeAantalRijen = matrix.Count;\n",
    "    int oudeAantalKolommen = matrix[0].Count;\n",
    "\n",
    "    // Maak de nieuwe (lege) matrix met de omgekeerde dimensies.\n",
    "    List<List<int>> getransponeerd = new List<List<int>>();\n",
    "    for (int i = 0; i < oudeAantalKolommen; i++)\n",
    "    {\n",
    "        getransponeerd.Add(new List<int>());\n",
    "    }\n",
    "\n",
    "    // Vul de nieuwe matrix door de rijen en kolommen om te draaien.\n",
    "    for (int i = 0; i < oudeAantalRijen; i++)\n",
    "    {\n",
    "        for (int j = 0; j < oudeAantalKolommen; j++)\n",
    "        {\n",
    "            getransponeerd[j].Add(matrix[i][j]);\n",
    "        }\n",
    "    }\n",
    "\n",
    "    return getransponeerd;\n",
    "}\n",
    "\n",
    "// --- Demonstratie ---\n",
    "List<List<int>> mijnMatrix = new List<List<int>>\n",
    "{\n",
    "    new List<int> { 1, 2, 3 },\n",
    "    new List<int> { 4, 5, 6 }\n",
    "};\n",
    "\n",
    "List<List<int>> resultaat = TransponeerMatrix(mijnMatrix);\n",
    "\n",
    "// Print het resultaat\n",
    "foreach (var rij in resultaat)\n",
    "{\n",
    "    Console.WriteLine(string.Join(\", \", rij));\n",
    "}"
   ]
  },
  {
   "cell_type": "markdown",
   "metadata": {},
   "source": [
    "### Uitdaging 2: Som per Rij"
   ]
  },
  {
   "cell_type": "code",
   "execution_count": null,
   "metadata": {},
   "outputs": [],
   "source": [
    "List<List<int>> matrix = new List<List<int>>\n",
    "{\n",
    "    new List<int> { 1, 2, 3 }, // Som = 6\n",
    "    new List<int> { 4, 5, 6 }  // Som = 15\n",
    "};\n",
    "\n",
    "for (int i = 0; i < matrix.Count; i++)\n",
    "{\n",
    "    int rijSom = 0;\n",
    "    // Itereer over de elementen in de binnenste lijst (de rij)\n",
    "    foreach (int getal in matrix[i])\n",
    "    {\n",
    "        rijSom += getal;\n",
    "    }\n",
    "    Console.WriteLine($\"Som van rij {i} is: {rijSom}\");\n",
    "}"
   ]
  }
 ],
 "metadata": {
  "kernelspec": {
   "display_name": ".NET (C#)",
   "language": "C#",
   "name": ".net-csharp"
  },
  "language_info": {
   "name": "csharp"
  }
 },
 "nbformat": 4,
 "nbformat_minor": 2
}
