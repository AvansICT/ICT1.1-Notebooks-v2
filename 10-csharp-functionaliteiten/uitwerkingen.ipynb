{
 "cells": [
  {
   "cell_type": "markdown",
   "metadata": {},
   "source": [
    "# Uitwerkingen: Standaard C# Functies"
   ]
  },
  {
   "cell_type": "markdown",
   "metadata": {},
   "source": [
    "# Vragen"
   ]
  },
  {
   "cell_type": "markdown",
   "metadata": {},
   "source": [
    "### Vraag 1: Worteltrekken"
   ]
  },
  {
   "cell_type": "code",
   "execution_count": null,
   "metadata": {
    "polyglot_notebook": {
     "kernelName": "csharp"
    },
    "vscode": {
     "languageId": "polyglot-notebook"
    }
   },
   "outputs": [],
   "source": [
    "Console.WriteLine(\"Voer een getal in om de wortel van te trekken:\");\n",
    "if (double.TryParse(Console.ReadLine(), out double getal) && getal >= 0)\n",
    "{\n",
    "    double wortel = Math.Sqrt(getal);\n",
    "    Console.WriteLine($\"De vierkantswortel van {getal} is {wortel:F4}.\");\n",
    "}\n",
    "else\n",
    "{\n",
    "    Console.WriteLine(\"Ongeldige invoer. Voer een niet-negatief getal in.\");\n",
    "}"
   ]
  },
  {
   "cell_type": "markdown",
   "metadata": {},
   "source": [
    "### Vraag 2: Willekeurige Lottogetallen"
   ]
  },
  {
   "cell_type": "code",
   "execution_count": null,
   "metadata": {
    "polyglot_notebook": {
     "kernelName": "csharp"
    },
    "vscode": {
     "languageId": "polyglot-notebook"
    }
   },
   "outputs": [],
   "source": [
    "List<int> lottogetallen = [];\n",
    "int aantalNodig = 6;\n",
    "int maxGetal = 46; // Exclusief, dus tot 45\n",
    "\n",
    "while (lottogetallen.Count < aantalNodig)\n",
    "{\n",
    "    int nieuwGetal = Random.Shared.Next(1, maxGetal);\n",
    "    if (!lottogetallen.Contains(nieuwGetal)) // Controleer op uniciteit\n",
    "    {\n",
    "        lottogetallen.Add(nieuwGetal);\n",
    "    }\n",
    "}\n",
    "\n",
    "Console.WriteLine(\"Uw willekeurige lottogetallen zijn:\");\n",
    "foreach (int getal in lottogetallen)\n",
    "{\n",
    "    Console.Write(getal + \" \");\n",
    "}"
   ]
  },
  {
   "cell_type": "markdown",
   "metadata": {},
   "source": [
    "### Vraag 3: Afronden op 2 decimalen"
   ]
  },
  {
   "cell_type": "code",
   "execution_count": null,
   "metadata": {
    "polyglot_notebook": {
     "kernelName": "csharp"
    },
    "vscode": {
     "languageId": "polyglot-notebook"
    }
   },
   "outputs": [],
   "source": [
    "Console.WriteLine(\"Voer een kommagetal in:\");\n",
    "if (double.TryParse(Console.ReadLine(), out double getal))\n",
    "{\n",
    "    double afgerond = Math.Round(getal, 2);\n",
    "    Console.WriteLine($\"Het getal {getal} afgerond op 2 decimalen is {afgerond}.\");\n",
    "}\n",
    "else\n",
    "{\n",
    "    Console.WriteLine(\"Ongeldige invoer.\");\n",
    "}"
   ]
  },
  {
   "cell_type": "markdown",
   "metadata": {},
   "source": [
    "### Vraag 4: Willekeurige groepsindeling"
   ]
  },
  {
   "cell_type": "code",
   "execution_count": null,
   "metadata": {
    "polyglot_notebook": {
     "kernelName": "csharp"
    },
    "vscode": {
     "languageId": "polyglot-notebook"
    }
   },
   "outputs": [],
   "source": [
    "string[] studenten = [ \"Piet\", \"Jan\", \"Klaas\", \"Katrijn\", \"Eva\", \"Mohammed\" ];\n",
    "\n",
    "Console.WriteLine(\"Oorspronkelijke volgorde: \" + string.Join(\", \", studenten));\n",
    "\n",
    "Random.Shared.Shuffle(studenten);\n",
    "\n",
    "Console.WriteLine(\"Nieuwe willekeurige volgorde: \" + string.Join(\", \", studenten));"
   ]
  },
  {
   "cell_type": "markdown",
   "metadata": {},
   "source": [
    "### Vraag 5: Afstandsberekening"
   ]
  },
  {
   "cell_type": "code",
   "execution_count": null,
   "metadata": {
    "polyglot_notebook": {
     "kernelName": "csharp"
    },
    "vscode": {
     "languageId": "polyglot-notebook"
    }
   },
   "outputs": [],
   "source": [
    "double x1 = 3, y1 = 4;\n",
    "double x2 = 6, y2 = 8;\n",
    "\n",
    "double deltaX = x2 - x1;\n",
    "double deltaY = y2 - y1;\n",
    "\n",
    "double afstand = Math.Sqrt(Math.Pow(deltaX, 2) + Math.Pow(deltaY, 2));\n",
    "\n",
    "Console.WriteLine($\"De afstand tussen de punten is: {afstand}\"); // Output: 5"
   ]
  },
  {
   "cell_type": "markdown",
   "metadata": {},
   "source": [
    "### Vraag 6: Dice Roll Simulator"
   ]
  },
  {
   "cell_type": "code",
   "execution_count": null,
   "metadata": {
    "polyglot_notebook": {
     "kernelName": "csharp"
    },
    "vscode": {
     "languageId": "polyglot-notebook"
    }
   },
   "outputs": [],
   "source": [
    "int dobbelsteen1 = Random.Shared.Next(1, 7);\n",
    "int dobbelsteen2 = Random.Shared.Next(1, 7);\n",
    "int som = dobbelsteen1 + dobbelsteen2;\n",
    "\n",
    "Console.WriteLine($\"Je gooide {dobbelsteen1} en {dobbelsteen2}.\");\n",
    "Console.WriteLine($\"De totale som is: {som}.\");"
   ]
  },
  {
   "cell_type": "markdown",
   "metadata": {},
   "source": [
    "# Uitdagingen"
   ]
  },
  {
   "cell_type": "markdown",
   "metadata": {},
   "source": [
    "### Uitdaging 1: Wachtwoordgenerator"
   ]
  },
  {
   "cell_type": "code",
   "execution_count": null,
   "metadata": {
    "polyglot_notebook": {
     "kernelName": "csharp"
    },
    "vscode": {
     "languageId": "polyglot-notebook"
    }
   },
   "outputs": [],
   "source": [
    "Console.WriteLine(\"Hoe lang moet het wachtwoord zijn?\");\n",
    "int.TryParse(Console.ReadLine(), out int lengte);\n",
    "\n",
    "const string karakters = \"abcdefghijklmnopqrstuvwxyzABCDEFGHIJKLMNOPQRSTUVWXYZ0123456789\";\n",
    "char[] wachtwoord = new char[lengte];\n",
    "\n",
    "for (int i = 0; i < lengte; i++)\n",
    "{\n",
    "    wachtwoord[i] = karakters[Random.Shared.Next(karakters.Length)];\n",
    "}\n",
    "\n",
    "string resultaat = new string(wachtwoord);\n",
    "Console.WriteLine(\"Uw gegenereerde wachtwoord is: \" + resultaat);"
   ]
  },
  {
   "cell_type": "markdown",
   "metadata": {},
   "source": [
    "### Uitdaging 2: Monte Carlo PI-simulatie"
   ]
  },
  {
   "cell_type": "code",
   "execution_count": null,
   "metadata": {
    "polyglot_notebook": {
     "kernelName": "csharp"
    },
    "vscode": {
     "languageId": "polyglot-notebook"
    }
   },
   "outputs": [],
   "source": [
    "Console.WriteLine(\"Hoeveel willekeurige punten moeten we simuleren?\");\n",
    "int.TryParse(Console.ReadLine(), out int aantalPunten);\n",
    "\n",
    "int puntenInCirkel = 0;\n",
    "\n",
    "for (int i = 0; i < aantalPunten; i++)\n",
    "{\n",
    "    double x = Random.Shared.NextDouble();\n",
    "    double y = Random.Shared.NextDouble();\n",
    "\n",
    "    // Bereken afstand tot de oorsprong met Pythagoras (x² + y²)\n",
    "    // Als afstand² < 1², dan is de afstand < 1, en ligt het punt in de cirkel.\n",
    "    if ((x * x + y * y) < 1)\n",
    "    {\n",
    "        puntenInCirkel++;\n",
    "    }\n",
    "}\n",
    "\n",
    "// Bereken PI: (punten in cirkel / totaal) * 4\n",
    "double piSchatting = 4.0 * puntenInCirkel / aantalPunten;\n",
    "\n",
    "Console.WriteLine($\"Na {aantalPunten} simulaties is de schatting van PI: {piSchatting}\");\n",
    "Console.WriteLine($\"De werkelijke waarde van PI is ongeveer: {Math.PI}\");"
   ]
  }
 ],
 "metadata": {
  "kernelspec": {
   "display_name": ".NET (C#)",
   "language": "C#",
   "name": ".net-csharp"
  },
  "language_info": {
   "name": "csharp"
  },
  "polyglot_notebook": {
   "kernelInfo": {
    "defaultKernelName": "csharp",
    "items": [
     {
      "aliases": [],
      "name": "csharp"
     }
    ]
   }
  }
 },
 "nbformat": 4,
 "nbformat_minor": 2
}
