{
 "cells": [
  {
   "cell_type": "markdown",
   "metadata": {},
   "source": [
    "# Uitwerkingen"
   ]
  },
  {
   "cell_type": "markdown",
   "metadata": {},
   "source": [
    "## Opdracht 1"
   ]
  },
  {
   "cell_type": "code",
   "execution_count": null,
   "metadata": {
    "dotnet_interactive": {
     "language": "csharp"
    },
    "polyglot_notebook": {
     "kernelName": "csharp"
    }
   },
   "outputs": [],
   "source": [
    "double result = Math.Pow(2, 8);\n",
    "Console.WriteLine(\"2^8 = \" + result);"
   ]
  },
  {
   "cell_type": "markdown",
   "metadata": {},
   "source": [
    "## Opdracht 2"
   ]
  },
  {
   "cell_type": "code",
   "execution_count": null,
   "metadata": {
    "dotnet_interactive": {
     "language": "csharp"
    },
    "polyglot_notebook": {
     "kernelName": "csharp"
    }
   },
   "outputs": [],
   "source": [
    "double result = Math.Log2(64);\n",
    "Console.WriteLine(\"log₂(64) = \" + result);"
   ]
  },
  {
   "cell_type": "markdown",
   "metadata": {},
   "source": [
    "## Opdracht 3"
   ]
  },
  {
   "cell_type": "code",
   "execution_count": null,
   "metadata": {
    "dotnet_interactive": {
     "language": "csharp"
    },
    "polyglot_notebook": {
     "kernelName": "csharp"
    }
   },
   "outputs": [],
   "source": [
    "// Hoek in radialen\n",
    "double angleInRadians = Math.PI / 2;\n",
    "\n",
    "// Sinus, cosinus en tangens berekenen\n",
    "double sinAngle = Math.Sin(angleInRadians);\n",
    "double cosAngle = Math.Cos(angleInRadians);\n",
    "double tanAngle = Math.Tan(angleInRadians);\n",
    "\n",
    "// Resultaten weergeven\n",
    "Console.WriteLine(\"Sin(π/2) = \" + sinAngle);\n",
    "Console.WriteLine(\"Cos(π/2) = \" + cosAngle);\n",
    "Console.WriteLine(\"Tan(π/2) = \" + tanAngle);"
   ]
  },
  {
   "cell_type": "markdown",
   "metadata": {},
   "source": [
    "## Opdracht 4"
   ]
  },
  {
   "cell_type": "code",
   "execution_count": null,
   "metadata": {
    "dotnet_interactive": {
     "language": "csharp"
    },
    "polyglot_notebook": {
     "kernelName": "csharp"
    }
   },
   "outputs": [],
   "source": [
    "int getal1 = -5;\n",
    "int getal2 = -6;\n",
    "\n",
    "// Laagste waarde vaststellen met gebruik van de Math.Max methode\n",
    "int lowestValue = Math.Min(getal1, getal2);\n",
    "\n",
    "// Resultaat weergeven\n",
    "Console.WriteLine($\"De laagste waarde van {getal1} en {getal2} is: {lowestValue}\");"
   ]
  },
  {
   "cell_type": "markdown",
   "metadata": {},
   "source": [
    "## Opdracht 5"
   ]
  },
  {
   "cell_type": "code",
   "execution_count": null,
   "metadata": {
    "dotnet_interactive": {
     "language": "csharp"
    },
    "polyglot_notebook": {
     "kernelName": "csharp"
    }
   },
   "outputs": [],
   "source": [
    "int getal1 = -5;\n",
    "int getal2 = -6;\n",
    "\n",
    "// Hoogte waarde vaststellen met gebruik van de Math.Max methode\n",
    "int lowestValue = Math.Max(getal1, getal2);\n",
    "\n",
    "// Resultaat weergeven\n",
    "Console.WriteLine($\"De hoogste waarde van {getal1} en {getal2} is: {lowestValue}\");"
   ]
  },
  {
   "cell_type": "markdown",
   "metadata": {},
   "source": [
    "## Opdracht 6"
   ]
  },
  {
   "cell_type": "code",
   "execution_count": null,
   "metadata": {
    "dotnet_interactive": {
     "language": "csharp"
    },
    "polyglot_notebook": {
     "kernelName": "csharp"
    }
   },
   "outputs": [],
   "source": [
    "double number = 12.5;\n",
    "\n",
    "// Afronden naar beneden, boven en normaal afronden\n",
    "double roundDown = Math.Floor(number);\n",
    "double roundUp = Math.Ceiling(number);\n",
    "double roundNearest = Math.Round(number);\n",
    "\n",
    "// Resultaten weergeven\n",
    "Console.WriteLine(\"Afronden naar beneden: \" + roundDown);\n",
    "Console.WriteLine(\"Afronden naar boven: \" + roundUp);\n",
    "Console.WriteLine(\"Afronden naar het dichtstbijzijnde gehele getal: \" + roundNearest);"
   ]
  }
 ],
 "metadata": {
  "kernelspec": {
   "display_name": ".NET (C#)",
   "language": "C#",
   "name": ".net-csharp"
  },
  "language_info": {
   "name": "polyglot-notebook"
  },
  "polyglot_notebook": {
   "kernelInfo": {
    "defaultKernelName": "csharp",
    "items": [
     {
      "aliases": [],
      "languageName": "csharp",
      "name": "csharp"
     }
    ]
   }
  }
 },
 "nbformat": 4,
 "nbformat_minor": 2
}
