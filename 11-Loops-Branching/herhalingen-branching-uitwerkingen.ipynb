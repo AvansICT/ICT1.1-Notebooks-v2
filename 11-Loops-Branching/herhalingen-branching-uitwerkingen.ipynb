{
 "cells": [
  {
   "cell_type": "markdown",
   "metadata": {},
   "source": [
    "# Uitwerkingen"
   ]
  },
  {
   "cell_type": "markdown",
   "metadata": {},
   "source": [
    "## Opdracht 1\n",
    "\n",
    "### FlowChart\n",
    "\n",
    "```mermaid\n",
    "---\n",
    "config:\n",
    "    flowchart:\n",
    "        defaultRenderer: elk\n",
    "---\n",
    "\n",
    "flowchart TD\n",
    "    subgraph  \n",
    "    A[TODO: Toevoegen]\n",
    "    end\n",
    "```\n",
    "\n",
    "### Code"
   ]
  },
  {
   "cell_type": "code",
   "execution_count": null,
   "metadata": {
    "dotnet_interactive": {
     "language": "csharp"
    },
    "polyglot_notebook": {
     "kernelName": "csharp"
    }
   },
   "outputs": [],
   "source": [
    "using Microsoft.DotNet.Interactive;\n",
    "\n",
    "// Vraag de gebruiker om drie getallen in te voeren\n",
    "string input1 = await Kernel.GetInputAsync(\"Voer het eerste getal in: \");\n",
    "int getal1 = Convert.ToInt32(input1);\n",
    "\n",
    "string input2 = await Kernel.GetInputAsync(\"Voer het tweede getal in: \");\n",
    "int getal2 = Convert.ToInt32(input2);\n",
    "\n",
    "string input3 = await Kernel.GetInputAsync(\"Voer het derde getal in: \");\n",
    "int getal3 = Convert.ToInt32(input3);\n",
    "\n",
    "// Bepaal de kleinste waarde\n",
    "int kleinste;\n",
    "\n",
    "if (getal1 <= getal2 && getal1 <= getal3)\n",
    "{\n",
    "    kleinste = getal1;\n",
    "}\n",
    "else if (getal2 <= getal1 && getal2 <= getal3)\n",
    "{\n",
    "    kleinste = getal2;\n",
    "}\n",
    "else\n",
    "{\n",
    "    kleinste = getal3;\n",
    "}\n",
    "\n",
    "// Print de kleinste waarde\n",
    "Console.WriteLine($\"De kleinste waarde is: {kleinste}\");"
   ]
  },
  {
   "cell_type": "markdown",
   "metadata": {},
   "source": [
    "## Opdracht 2"
   ]
  },
  {
   "cell_type": "code",
   "execution_count": null,
   "metadata": {
    "dotnet_interactive": {
     "language": "csharp"
    },
    "polyglot_notebook": {
     "kernelName": "csharp"
    }
   },
   "outputs": [],
   "source": [
    "// TODO: Uitwerking toevoegen"
   ]
  },
  {
   "cell_type": "markdown",
   "metadata": {},
   "source": [
    "## Opdracht 3"
   ]
  },
  {
   "cell_type": "code",
   "execution_count": null,
   "metadata": {
    "dotnet_interactive": {
     "language": "csharp"
    },
    "polyglot_notebook": {
     "kernelName": "csharp"
    }
   },
   "outputs": [],
   "source": [
    "// TODO: Uitwerking toevoegen"
   ]
  },
  {
   "cell_type": "markdown",
   "metadata": {},
   "source": [
    "## Opdracht 4"
   ]
  },
  {
   "cell_type": "code",
   "execution_count": null,
   "metadata": {
    "dotnet_interactive": {
     "language": "csharp"
    },
    "polyglot_notebook": {
     "kernelName": "csharp"
    }
   },
   "outputs": [],
   "source": [
    "// TODO: Uitwerking toevoegen"
   ]
  },
  {
   "cell_type": "markdown",
   "metadata": {},
   "source": [
    "## Opdracht 5 (Uitdaging)"
   ]
  },
  {
   "cell_type": "code",
   "execution_count": null,
   "metadata": {
    "dotnet_interactive": {
     "language": "csharp"
    },
    "polyglot_notebook": {
     "kernelName": "csharp"
    }
   },
   "outputs": [],
   "source": [
    "// TODO: Uitwerking toevoegen"
   ]
  }
 ],
 "metadata": {
  "kernelspec": {
   "display_name": ".NET (C#)",
   "language": "C#",
   "name": ".net-csharp"
  },
  "language_info": {
   "name": "polyglot-notebook"
  },
  "polyglot_notebook": {
   "kernelInfo": {
    "defaultKernelName": "csharp",
    "items": [
     {
      "aliases": [],
      "languageName": "csharp",
      "name": "csharp"
     }
    ]
   }
  }
 },
 "nbformat": 4,
 "nbformat_minor": 2
}
