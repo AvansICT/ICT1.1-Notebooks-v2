{
 "cells": [
  {
   "cell_type": "markdown",
   "metadata": {},
   "source": [
    "# Uitwerkingen"
   ]
  },
  {
   "cell_type": "markdown",
   "metadata": {},
   "source": [
    "## Opdracht 1"
   ]
  },
  {
   "cell_type": "code",
   "execution_count": null,
   "metadata": {
    "dotnet_interactive": {
     "language": "csharp"
    },
    "polyglot_notebook": {
     "kernelName": "csharp"
    }
   },
   "outputs": [],
   "source": [
    "using Microsoft.DotNet.Interactive;\n",
    "\n",
    "// Vraag om de naam en bepaal de lengte ervan\n",
    "string naam = await Kernel.GetInputAsync(\"Voer je naam in: \");\n",
    "int lengte = naam.Length;\n",
    "\n",
    "// Print de lengte van de naam naar de console\n",
    "Console.WriteLine(\"De naam '\" + naam + \"' is \" + lengte + \" letters lang.\");"
   ]
  },
  {
   "cell_type": "markdown",
   "metadata": {},
   "source": [
    "## Opdracht 2"
   ]
  },
  {
   "cell_type": "code",
   "execution_count": null,
   "metadata": {
    "dotnet_interactive": {
     "language": "csharp"
    },
    "polyglot_notebook": {
     "kernelName": "csharp"
    }
   },
   "outputs": [],
   "source": [
    "\n",
    "string tekst = \"Lorem ipsum dolor sit amet, consectetur adipiscing elit. Mauris eleifend, eros nec hendrerit vulputate, nisl eros mollis mauris, sed bibendum tortor mauris ac nunc.\";\n",
    "\n",
    "// Verwijder spaties uit de tekst en bepaal de lengte\n",
    "string tekstZonderSpaties = tekst.Replace(\" \", \"\");\n",
    "int lengteZonderSpaties = tekstZonderSpaties.Length;\n",
    "\n",
    "// Print de lengte van de tekst zonder spaties naar de console\n",
    "Console.WriteLine(\"De lengte van de tekst zonder spaties is: \" + lengteZonderSpaties);"
   ]
  },
  {
   "cell_type": "markdown",
   "metadata": {},
   "source": [
    "## Opdracht 3"
   ]
  },
  {
   "cell_type": "code",
   "execution_count": null,
   "metadata": {
    "dotnet_interactive": {
     "language": "csharp"
    },
    "polyglot_notebook": {
     "kernelName": "csharp"
    }
   },
   "outputs": [],
   "source": [
    "string datum = \"2024-09-30\";\n",
    "double meterstand = 1234.56;\n",
    "double gasstand = 150.75;\n",
    "double teruglevering = 300.25;\n",
    "\n",
    "// Gebruik een normale manier om de gegevens af te drukken\n",
    "Console.WriteLine(\"Op \" + datum + \" was de meterstand \" + meterstand + \" kWh, was er \" + gasstand + \" m³ aan gas verbruikt en is er \" + teruglevering + \" kWh teruggeleverd.\");\n",
    "\n",
    "// Gebruik een interpolated string om de gegevens af te drukken (let op het $ teken!)\n",
    "Console.WriteLine($\"Op {datum} was de meterstand {meterstand} kWh, was er {gasstand} m³ aan gas verbruikt en is er {teruglevering} kWh teruggeleverd.\");"
   ]
  },
  {
   "cell_type": "markdown",
   "metadata": {},
   "source": [
    "## Opdracht 4"
   ]
  },
  {
   "cell_type": "code",
   "execution_count": null,
   "metadata": {
    "dotnet_interactive": {
     "language": "csharp"
    },
    "polyglot_notebook": {
     "kernelName": "csharp"
    }
   },
   "outputs": [],
   "source": [
    "// initialiseer te tekst en print dit op het scherm\n",
    "string normalText = \"Ik studeer bij Avans\";\n",
    "Console.WriteLine(normalText);\n",
    "\n",
    "string swappedText = \"\";\n",
    "// deze code split de tekst op spatie, het wordt dan een lijst van woorden\n",
    "// en vervolgens gaat hij woord voor woord af. Dan bepaald hij de eerste letter,\n",
    "// de laatste letter en het deel ertussen om vervolgens het nieuwe woord te maken.\n",
    "foreach (string word in normalText.Split(\" \"))\n",
    "{\n",
    "    // eerste kartakter opslaan in nieuwe variabele\n",
    "    char firstChar = word[0];\n",
    "    // midden deel opslaan in nieuwe variabele\n",
    "    string middlePart = word.Substring(1, word.Length - 2);\n",
    "    // laatste kartakter opslaan in nieuwe variabele\n",
    "    char lastChar = word.LastOrDefault();\n",
    "\n",
    "    // het gehusselde woord aan elkaar knopen en aan de nieuwe zin toevoegen\n",
    "    string adaptedWord = lastChar + middlePart + firstChar;\n",
    "    swappedText = swappedText + adaptedWord + \" \";\n",
    "}\n",
    "\n",
    "// de nieuwe zin afdrukken\n",
    "Console.WriteLine(swappedText);"
   ]
  }
 ],
 "metadata": {
  "kernelspec": {
   "display_name": ".NET (C#)",
   "language": "C#",
   "name": ".net-csharp"
  },
  "language_info": {
   "name": "polyglot-notebook"
  },
  "polyglot_notebook": {
   "kernelInfo": {
    "defaultKernelName": "csharp",
    "items": [
     {
      "aliases": [],
      "languageName": "csharp",
      "name": "csharp"
     }
    ]
   }
  }
 },
 "nbformat": 4,
 "nbformat_minor": 2
}
