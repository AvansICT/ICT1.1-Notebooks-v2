{
 "cells": [
  {
   "cell_type": "markdown",
   "metadata": {},
   "source": [
    "# Uitwerkingen: Introductie tot C# Klassen"
   ]
  },
  {
   "cell_type": "markdown",
   "metadata": {},
   "source": [
    "# Vragen"
   ]
  },
  {
   "cell_type": "markdown",
   "metadata": {},
   "source": [
    "### Vraag 1: Boek Klasse"
   ]
  },
  {
   "cell_type": "code",
   "execution_count": null,
   "metadata": {
    "polyglot_notebook": {
     "kernelName": "csharp"
    },
    "vscode": {
     "languageId": "polyglot-notebook"
    }
   },
   "outputs": [],
   "source": [
    "public class Boek\n",
    "{\n",
    "    public string Titel { get; set; }\n",
    "    public string Auteur { get; set; }\n",
    "}"
   ]
  },
  {
   "cell_type": "markdown",
   "metadata": {},
   "source": [
    "### Vraag 2: Object instantiëren"
   ]
  },
  {
   "cell_type": "code",
   "execution_count": null,
   "metadata": {
    "polyglot_notebook": {
     "kernelName": "csharp"
    },
    "vscode": {
     "languageId": "polyglot-notebook"
    }
   },
   "outputs": [],
   "source": [
    "// Definitie van de klasse (nodig voor de context)\n",
    "public class Boek \n",
    "{ \n",
    "    public string Titel { get; set; } \n",
    "    public string Auteur { get; set; } \n",
    "}\n",
    "\n",
    "// Het maken van het object\n",
    "Boek mijnBoek = new Boek();\n",
    "mijnBoek.Titel = \"The Lord of the Rings\";\n",
    "mijnBoek.Auteur = \"J.R.R. Tolkien\";\n",
    "\n",
    "Console.WriteLine($\"Mijn favoriete boek is '{mijnBoek.Titel}' van {mijnBoek.Auteur}.\");"
   ]
  },
  {
   "cell_type": "markdown",
   "metadata": {},
   "source": [
    "### Vraag 3: Methode toevoegen"
   ]
  },
  {
   "cell_type": "code",
   "execution_count": null,
   "metadata": {
    "polyglot_notebook": {
     "kernelName": "csharp"
    },
    "vscode": {
     "languageId": "polyglot-notebook"
    }
   },
   "outputs": [],
   "source": [
    "public class Boek\n",
    "{\n",
    "    public string Titel { get; set; }\n",
    "    public string Auteur { get; set; }\n",
    "\n",
    "    public void ToonDetails()\n",
    "    {\n",
    "        Console.WriteLine($\"Titel: {Titel}\");\n",
    "        Console.WriteLine($\"Auteur: {Auteur}\");\n",
    "    }\n",
    "}\n",
    "\n",
    "// Voorbeeld van aanroep\n",
    "Boek anderBoek = new Boek();\n",
    "anderBoek.Titel = \"1984\";\n",
    "anderBoek.Auteur = \"George Orwell\";\n",
    "anderBoek.ToonDetails();"
   ]
  },
  {
   "cell_type": "markdown",
   "metadata": {},
   "source": [
    "### Vraag 4: Constructor maken"
   ]
  },
  {
   "cell_type": "code",
   "execution_count": null,
   "metadata": {
    "polyglot_notebook": {
     "kernelName": "csharp"
    },
    "vscode": {
     "languageId": "polyglot-notebook"
    }
   },
   "outputs": [],
   "source": [
    "public class Boek\n",
    "{\n",
    "    public string Titel { get; set; }\n",
    "    public string Auteur { get; set; }\n",
    "\n",
    "    // Constructor\n",
    "    public Boek(string titel, string auteur)\n",
    "    {\n",
    "        Titel = titel;\n",
    "        Auteur = auteur;\n",
    "    }\n",
    "\n",
    "    public void ToonDetails()\n",
    "    {\n",
    "        Console.WriteLine($\"Titel: {Titel}, Auteur: {Auteur}\");\n",
    "    }\n",
    "}\n",
    "\n",
    "// Aanroep met de constructor\n",
    "Boek nieuwBoek = new Boek(\"Dune\", \"Frank Herbert\");\n",
    "nieuwBoek.ToonDetails();"
   ]
  },
  {
   "cell_type": "markdown",
   "metadata": {},
   "source": [
    "### Vraag 5: Klasse vs. Object"
   ]
  },
  {
   "cell_type": "code",
   "execution_count": null,
   "metadata": {
    "polyglot_notebook": {
     "kernelName": "csharp"
    },
    "vscode": {
     "languageId": "polyglot-notebook"
    }
   },
   "outputs": [],
   "source": [
    "// Tekstueel antwoord:\n",
    "// Een klasse is de blauwdruk of het sjabloon. Het definieert de eigenschappen (properties) en het gedrag (methodes) van een bepaald type, maar het is zelf geen concrete entiteit.\n",
    "// Een object is een daadwerkelijke, concrete instantie van een klasse die in het geheugen van de computer leeft. Je kunt meerdere objecten van dezelfde klasse maken, die elk hun eigen waarden voor de properties hebben."
   ]
  },
  {
   "cell_type": "markdown",
   "metadata": {},
   "source": [
    "### Vraag 6: Persoon Klasse"
   ]
  },
  {
   "cell_type": "code",
   "execution_count": null,
   "metadata": {
    "polyglot_notebook": {
     "kernelName": "csharp"
    },
    "vscode": {
     "languageId": "polyglot-notebook"
    }
   },
   "outputs": [],
   "source": [
    "public class Persoon\n",
    "{\n",
    "    public string Naam { get; set; }\n",
    "    public int Leeftijd { get; set; }\n",
    "\n",
    "    public void WordtJaarOuder()\n",
    "    {\n",
    "        Leeftijd++;\n",
    "    }\n",
    "}\n",
    "\n",
    "// Voorbeeld van gebruik\n",
    "Persoon student = new Persoon();\n",
    "student.Naam = \"Sofia\";\n",
    "student.Leeftijd = 20;\n",
    "Console.WriteLine($\"{student.Naam} is nu {student.Leeftijd} jaar oud.\");\n",
    "student.WordtJaarOuder();\n",
    "Console.WriteLine($\"{student.Naam} is nu {student.Leeftijd} jaar oud.\");"
   ]
  },
  {
   "cell_type": "markdown",
   "metadata": {},
   "source": [
    "# Uitdagingen"
   ]
  },
  {
   "cell_type": "markdown",
   "metadata": {},
   "source": [
    "### Uitdaging 1: Bankrekening"
   ]
  },
  {
   "cell_type": "code",
   "execution_count": null,
   "metadata": {
    "polyglot_notebook": {
     "kernelName": "csharp"
    },
    "vscode": {
     "languageId": "polyglot-notebook"
    }
   },
   "outputs": [],
   "source": [
    "public class Bankrekening\n",
    "{\n",
    "    // De 'private set' zorgt ervoor dat het saldo alleen binnen deze klasse kan worden gewijzigd.\n",
    "    public decimal Saldo { get; private set; }\n",
    "\n",
    "    public Bankrekening(decimal beginSaldo)\n",
    "    {\n",
    "        Saldo = beginSaldo;\n",
    "    }\n",
    "\n",
    "    public void StortGeld(decimal bedrag)\n",
    "    {\n",
    "        if (bedrag > 0)\n",
    "        {\n",
    "            Saldo += bedrag;\n",
    "        }\n",
    "    }\n",
    "\n",
    "    public bool NeemGeldOp(decimal bedrag)\n",
    "    {\n",
    "        if (bedrag > 0 && Saldo >= bedrag)\n",
    "        {\n",
    "            Saldo -= bedrag;\n",
    "            return true; // Opname gelukt\n",
    "        }\n",
    "        return false; // Opname mislukt\n",
    "    }\n",
    "}\n",
    "\n",
    "// Voorbeeld\n",
    "Bankrekening mijnRekening = new Bankrekening(500.00m);\n",
    "mijnRekening.StortGeld(100);\n",
    "Console.WriteLine($\"Saldo na storting: {mijnRekening.Saldo:C}\");\n",
    "\n",
    "bool gelukt = mijnRekening.NeemGeldOp(200);\n",
    "Console.WriteLine($\"Opname van 200 gelukt? {gelukt}. Nieuw saldo: {mijnRekening.Saldo:C}\");\n",
    "\n",
    "gelukt = mijnRekening.NeemGeldOp(500);\n",
    "Console.WriteLine($\"Opname van 500 gelukt? {gelukt}. Nieuw saldo: {mijnRekening.Saldo:C}\");"
   ]
  },
  {
   "cell_type": "markdown",
   "metadata": {},
   "source": [
    "### Uitdaging 2: Cirkel Klasse"
   ]
  },
  {
   "cell_type": "code",
   "execution_count": null,
   "metadata": {
    "polyglot_notebook": {
     "kernelName": "csharp"
    },
    "vscode": {
     "languageId": "polyglot-notebook"
    }
   },
   "outputs": [],
   "source": [
    "public class Cirkel\n",
    "{\n",
    "    public double Straal { get; set; }\n",
    "\n",
    "    // Read-only property met een 'expression body'\n",
    "    public double Diameter => Straal * 2;\n",
    "\n",
    "    // Read-only property met een berekening\n",
    "    public double Oppervlakte\n",
    "    {\n",
    "        get\n",
    "        {\n",
    "            return Math.PI * Straal * Straal;\n",
    "        }\n",
    "    }\n",
    "\n",
    "    public Cirkel(double straal)\n",
    "    {\n",
    "        Straal = straal;\n",
    "    }\n",
    "}\n",
    "\n",
    "// Voorbeeld\n",
    "Cirkel c = new Cirkel(10);\n",
    "Console.WriteLine($\"Straal: {c.Straal}\");\n",
    "Console.WriteLine($\"Diameter: {c.Diameter}\");\n",
    "Console.WriteLine($\"Oppervlakte: {c.Oppervlakte:F2}\");"
   ]
  }
 ],
 "metadata": {
  "kernelspec": {
   "display_name": ".NET (C#)",
   "language": "C#",
   "name": ".net-csharp"
  },
  "language_info": {
   "name": "csharp"
  }
 },
 "nbformat": 4,
 "nbformat_minor": 2
}
