{
 "cells": [
  {
   "cell_type": "markdown",
   "metadata": {},
   "source": [
    "# Uitwerkingen"
   ]
  },
  {
   "cell_type": "markdown",
   "metadata": {},
   "source": [
    "## Opdracht 1"
   ]
  },
  {
   "cell_type": "code",
   "execution_count": null,
   "metadata": {
    "dotnet_interactive": {
     "language": "csharp"
    },
    "polyglot_notebook": {
     "kernelName": "csharp"
    }
   },
   "outputs": [],
   "source": [
    "int punten  = 32;\n",
    "char beoordeling = 'X';\n",
    "\n",
    "if (punten >= 0 && punten <= 29)\n",
    "{\n",
    "    beoordeling = 'F';\n",
    "}\n",
    "else if (punten >= 30 && punten <= 34)\n",
    "{\n",
    "    beoordeling = 'E';\n",
    "}\n",
    "else if (punten >= 35 && punten <= 39)\n",
    "{\n",
    "    beoordeling = 'D';\n",
    "}\n",
    "else if (punten >= 40 && punten <= 50)\n",
    "{\n",
    "    beoordeling = 'C';\n",
    "}\n",
    "else if (punten >= 51 && punten <= 55)\n",
    "{\n",
    "    beoordeling = 'B';\n",
    "}\n",
    "else if (punten >= 56 && punten <= 60)\n",
    "{\n",
    "    beoordeling = 'A';\n",
    "}\n",
    "\n",
    "// Print de beoordeling (bij een ongeldige waarde wordt de X geprint)\n",
    "Console.WriteLine($\"De beoordeling voor {punten} punten is: {beoordeling}\");"
   ]
  },
  {
   "cell_type": "markdown",
   "metadata": {},
   "source": [
    "## Opdracht 2"
   ]
  },
  {
   "cell_type": "code",
   "execution_count": null,
   "metadata": {
    "dotnet_interactive": {
     "language": "csharp"
    },
    "polyglot_notebook": {
     "kernelName": "csharp"
    }
   },
   "outputs": [],
   "source": [
    "int getal = 15;\n",
    "\n",
    "// Controleer deelbaarheid en print de juiste term\n",
    "if (getal % 3 == 0 && getal % 5 == 0)\n",
    "{\n",
    "    Console.WriteLine(\"FizzBuzz\");\n",
    "}\n",
    "else if (getal % 3 == 0)\n",
    "{\n",
    "    Console.WriteLine(\"Fizz\");\n",
    "}\n",
    "else if (getal % 5 == 0)\n",
    "{\n",
    "    Console.WriteLine(\"Buzz\");\n",
    "}\n",
    "else\n",
    "{\n",
    "    Console.WriteLine(getal);\n",
    "}"
   ]
  },
  {
   "cell_type": "markdown",
   "metadata": {},
   "source": [
    "# Opdracht 3"
   ]
  },
  {
   "cell_type": "code",
   "execution_count": null,
   "metadata": {
    "dotnet_interactive": {
     "language": "csharp"
    },
    "polyglot_notebook": {
     "kernelName": "csharp"
    }
   },
   "outputs": [],
   "source": [
    "int jaar = 2024;\n",
    "\n",
    "// Controleer of het jaar een schrikkeljaar is (deelbaar door 4)\n",
    "if (jaar % 4 == 0)\n",
    "{\n",
    "    // bij 100 tallen extra controle\n",
    "    if (jaar % 100 == 0) \n",
    "    {\n",
    "        // alleen schrikkeljaar als deelbaar door 400\n",
    "        if (jaar % 400 == 0) \n",
    "        {\n",
    "            Console.WriteLine($\"{jaar} is een schrikkeljaar.\");\n",
    "        } else\n",
    "        {\n",
    "            Console.WriteLine($\"{jaar} is geen schrikkeljaar.\");\n",
    "        }\n",
    "    } else\n",
    "    {\n",
    "        Console.WriteLine($\"{jaar} is een schrikkeljaar.\");\n",
    "    }\n",
    "}\n",
    "else\n",
    "{\n",
    "    Console.WriteLine($\"{jaar} is geen schrikkeljaar.\");\n",
    "}"
   ]
  }
 ],
 "metadata": {
  "kernelspec": {
   "display_name": ".NET (C#)",
   "language": "C#",
   "name": ".net-csharp"
  },
  "language_info": {
   "name": "polyglot-notebook"
  },
  "polyglot_notebook": {
   "kernelInfo": {
    "defaultKernelName": "csharp",
    "items": [
     {
      "aliases": [],
      "languageName": "csharp",
      "name": "csharp"
     }
    ]
   }
  }
 },
 "nbformat": 4,
 "nbformat_minor": 2
}
