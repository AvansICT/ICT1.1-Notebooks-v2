{
 "cells": [
  {
   "cell_type": "markdown",
   "metadata": {},
   "source": [
    "# Uitwerkingen: Conditionele Statements"
   ]
  },
  {
   "cell_type": "markdown",
   "metadata": {},
   "source": [
    "# Vragen"
   ]
  },
  {
   "cell_type": "markdown",
   "metadata": {},
   "source": [
    "### Vraag 1: Vriest het of niet?"
   ]
  },
  {
   "cell_type": "code",
   "execution_count": null,
   "metadata": {
    "polyglot_notebook": {
     "kernelName": "csharp"
    }
   },
   "outputs": [],
   "source": [
    "double temperatuur;\n",
    "Console.WriteLine(\"Voer de temperatuur in:\");\n",
    "\n",
    "// Robuuste input validatie\n",
    "while (!double.TryParse(Console.ReadLine(), out temperatuur))\n",
    "{\n",
    "    Console.WriteLine(\"Ongeldige invoer. Voer een getal in:\");\n",
    "}\n",
    "\n",
    "if (temperatuur < 0)\n",
    "{\n",
    "    Console.WriteLine(\"Het vriest.\");\n",
    "}\n",
    "else\n",
    "{\n",
    "    Console.WriteLine(\"Het dooit.\");\n",
    "}"
   ]
  },
  {
   "cell_type": "markdown",
   "metadata": {},
   "source": [
    "### Vraag 2: Toegang tot de club"
   ]
  },
  {
   "cell_type": "code",
   "execution_count": null,
   "metadata": {
    "polyglot_notebook": {
     "kernelName": "csharp"
    }
   },
   "outputs": [],
   "source": [
    "int leeftijd;\n",
    "Console.WriteLine(\"Wat is uw leeftijd?\");\n",
    "\n",
    "while (!int.TryParse(Console.ReadLine(), out leeftijd))\n",
    "{\n",
    "    Console.WriteLine(\"Ongeldige invoer. Voer een geheel getal in:\");\n",
    "}\n",
    "\n",
    "if (leeftijd >= 18)\n",
    "{\n",
    "    Console.WriteLine(\"Welkom in de club!\");\n",
    "}\n",
    "else\n",
    "{\n",
    "    Console.WriteLine(\"Sorry, je bent te jong.\");\n",
    "}"
   ]
  },
  {
   "cell_type": "markdown",
   "metadata": {},
   "source": [
    "### Vraag 3: Positief, negatief of nul?"
   ]
  },
  {
   "cell_type": "code",
   "execution_count": null,
   "metadata": {
    "polyglot_notebook": {
     "kernelName": "csharp"
    }
   },
   "outputs": [],
   "source": [
    "double getal;\n",
    "Console.WriteLine(\"Voer een getal in:\");\n",
    "\n",
    "while (!double.TryParse(Console.ReadLine(), out getal))\n",
    "{\n",
    "    Console.WriteLine(\"Ongeldige invoer. Voer een getal in:\");\n",
    "}\n",
    "\n",
    "if (getal > 0)\n",
    "{\n",
    "    Console.WriteLine(\"Het getal is positief.\");\n",
    "}\n",
    "else if (getal < 0)\n",
    "{\n",
    "    Console.WriteLine(\"Het getal is negatief.\");\n",
    "}\n",
    "else\n",
    "{\n",
    "    Console.WriteLine(\"Het getal is nul.\");\n",
    "}"
   ]
  },
  {
   "cell_type": "markdown",
   "metadata": {},
   "source": [
    "### Vraag 4: Cijfer bepalen"
   ]
  },
  {
   "cell_type": "code",
   "execution_count": null,
   "metadata": {
    "polyglot_notebook": {
     "kernelName": "csharp"
    }
   },
   "outputs": [],
   "source": [
    "int punten;\n",
    "Console.WriteLine(\"Voer het aantal punten in (0-100):\");\n",
    "\n",
    "while (!int.TryParse(Console.ReadLine(), out punten) || punten < 0 || punten > 100)\n",
    "{\n",
    "    Console.WriteLine(\"Ongeldige invoer. Voer een getal tussen 0 en 100 in:\");\n",
    "}\n",
    "\n",
    "if (punten >= 90)\n",
    "{\n",
    "    Console.WriteLine(\"Beoordeling: A\");\n",
    "}\n",
    "else if (punten >= 80)\n",
    "{\n",
    "    Console.WriteLine(\"Beoordeling: B\");\n",
    "}\n",
    "else if (punten >= 70)\n",
    "{\n",
    "    Console.WriteLine(\"Beoordeling: C\");\n",
    "}\n",
    "else if (punten >= 60)\n",
    "{\n",
    "    Console.WriteLine(\"Beoordeling: D\");\n",
    "}\n",
    "else\n",
    "{\n",
    "    Console.WriteLine(\"Beoordeling: F\");\n",
    "}"
   ]
  },
  {
   "cell_type": "markdown",
   "metadata": {},
   "source": [
    "### Vraag 5: Kortingschecker"
   ]
  },
  {
   "cell_type": "code",
   "execution_count": null,
   "metadata": {
    "polyglot_notebook": {
     "kernelName": "csharp"
    }
   },
   "outputs": [],
   "source": [
    "decimal aankoopbedrag;\n",
    "Console.WriteLine(\"Voer het aankoopbedrag in:\");\n",
    "\n",
    "while (!decimal.TryParse(Console.ReadLine(), out aankoopbedrag))\n",
    "{\n",
    "    Console.WriteLine(\"Ongeldige invoer. Voer een bedrag in:\");\n",
    "}\n",
    "\n",
    "decimal korting = 0;\n",
    "if (aankoopbedrag > 100)\n",
    "{\n",
    "    korting = aankoopbedrag * 0.10m; // 10%\n",
    "}\n",
    "\n",
    "decimal definitievePrijs = aankoopbedrag - korting;\n",
    "\n",
    "Console.WriteLine($\"Originele prijs: {aankoopbedrag:C}\");\n",
    "Console.WriteLine($\"Korting: {korting:C}\");\n",
    "Console.WriteLine($\"Definitieve prijs: {definitievePrijs:C}\");"
   ]
  },
  {
   "cell_type": "markdown",
   "metadata": {},
   "source": [
    "### Vraag 6: Wachtwoordlengte"
   ]
  },
  {
   "cell_type": "code",
   "execution_count": null,
   "metadata": {
    "polyglot_notebook": {
     "kernelName": "csharp"
    }
   },
   "outputs": [],
   "source": [
    "Console.WriteLine(\"Voer een wachtwoord in:\");\n",
    "string wachtwoord = Console.ReadLine();\n",
    "\n",
    "if (wachtwoord.Length >= 8)\n",
    "{\n",
    "    Console.WriteLine(\"Wachtwoord is sterk genoeg.\");\n",
    "}\n",
    "else\n",
    "{\n",
    "    Console.WriteLine(\"Wachtwoord is te kort.\");\n",
    "}"
   ]
  },
  {
   "cell_type": "markdown",
   "metadata": {},
   "source": [
    "### Vraag 7: Grootste van twee getallen"
   ]
  },
  {
   "cell_type": "code",
   "execution_count": null,
   "metadata": {
    "polyglot_notebook": {
     "kernelName": "csharp"
    }
   },
   "outputs": [],
   "source": [
    "double getal1, getal2;\n",
    "Console.WriteLine(\"Voer het eerste getal in:\");\n",
    "while (!double.TryParse(Console.ReadLine(), out getal1))\n",
    "{\n",
    "    Console.WriteLine(\"Ongeldige invoer, probeer opnieuw:\");\n",
    "}\n",
    "\n",
    "Console.WriteLine(\"Voer het tweede getal in:\");\n",
    "while (!double.TryParse(Console.ReadLine(), out getal2))\n",
    "{\n",
    "    Console.WriteLine(\"Ongeldige invoer, probeer opnieuw:\");\n",
    "}\n",
    "\n",
    "if (getal1 > getal2)\n",
    "{\n",
    "    Console.WriteLine($\"{getal1} is groter dan {getal2}.\");\n",
    "}\n",
    "else if (getal2 > getal1)\n",
    "{\n",
    "    Console.WriteLine($\"{getal2} is groter dan {getal1}.\");\n",
    "}\n",
    "else\n",
    "{\n",
    "    Console.WriteLine(\"De getallen zijn gelijk.\");\n",
    "}"
   ]
  },
  {
   "cell_type": "markdown",
   "metadata": {},
   "source": [
    "### Vraag 8: Bevat het woord \"Avans\"?"
   ]
  },
  {
   "cell_type": "code",
   "execution_count": null,
   "metadata": {
    "polyglot_notebook": {
     "kernelName": "csharp"
    }
   },
   "outputs": [],
   "source": [
    "Console.WriteLine(\"Voer een zin in:\");\n",
    "string zin = Console.ReadLine();\n",
    "\n",
    "// Gebruik ToLower() om de controle hoofdletterongevoelig te maken\n",
    "if (zin.ToLower().Contains(\"avans\"))\n",
    "{\n",
    "    Console.WriteLine(\"De zin bevat het woord 'Avans'.\");\n",
    "}\n",
    "else\n",
    "{\n",
    "    Console.WriteLine(\"De zin bevat het woord 'Avans' niet.\");\n",
    "}"
   ]
  },
  {
   "cell_type": "markdown",
   "metadata": {},
   "source": [
    "### Vraag 9: Weekend of werkdag?"
   ]
  },
  {
   "cell_type": "code",
   "execution_count": null,
   "metadata": {
    "polyglot_notebook": {
     "kernelName": "csharp"
    }
   },
   "outputs": [],
   "source": [
    "Console.WriteLine(\"Voer een dag van de week in:\");\n",
    "string dag = Console.ReadLine().ToLower(); // Meteen naar lowercase voor makkelijke vergelijking\n",
    "\n",
    "if (dag == \"zaterdag\" || dag == \"zondag\")\n",
    "{\n",
    "    Console.WriteLine(\"Het is weekend!\");\n",
    "}\n",
    "else\n",
    "{\n",
    "    Console.WriteLine(\"Het is een werkdag.\");\n",
    "}"
   ]
  },
  {
   "cell_type": "markdown",
   "metadata": {},
   "source": [
    "### Vraag 10: Positieve getallen optellen"
   ]
  },
  {
   "cell_type": "code",
   "execution_count": null,
   "metadata": {
    "polyglot_notebook": {
     "kernelName": "csharp"
    }
   },
   "outputs": [],
   "source": [
    "double som = 0;\n",
    "double getal;\n",
    "\n",
    "Console.WriteLine(\"Voer getal 1 in:\");\n",
    "if(double.TryParse(Console.ReadLine(), out getal) && getal > 0) som += getal;\n",
    "\n",
    "Console.WriteLine(\"Voer getal 2 in:\");\n",
    "if(double.TryParse(Console.ReadLine(), out getal) && getal > 0) som += getal;\n",
    "\n",
    "Console.WriteLine(\"Voer getal 3 in:\");\n",
    "if(double.TryParse(Console.ReadLine(), out getal) && getal > 0) som += getal;\n",
    "\n",
    "Console.WriteLine(\"Voer getal 4 in:\");\n",
    "if(double.TryParse(Console.ReadLine(), out getal) && getal > 0) som += getal;\n",
    "\n",
    "Console.WriteLine(\"De som van de positieve getallen is: \" + som);\n"
   ]
  },
  {
   "cell_type": "markdown",
   "metadata": {},
   "source": [
    "# Uitdagingen"
   ]
  },
  {
   "cell_type": "markdown",
   "metadata": {},
   "source": [
    "### Uitdaging 1: FizzBuzz"
   ]
  },
  {
   "cell_type": "code",
   "execution_count": null,
   "metadata": {
    "polyglot_notebook": {
     "kernelName": "csharp"
    }
   },
   "outputs": [],
   "source": [
    "int getal;\n",
    "Console.WriteLine(\"Voer een getal in voor FizzBuzz:\");\n",
    "while(!int.TryParse(Console.ReadLine(), out getal))\n",
    "{\n",
    "    Console.WriteLine(\"Ongeldige invoer, probeer opnieuw:\");\n",
    "}\n",
    "\n",
    "// De volgorde is hier belangrijk. Eerst de meest specifieke controle.\n",
    "if (getal % 3 == 0 && getal % 5 == 0) // of (getal % 15 == 0)\n",
    "{\n",
    "    Console.WriteLine(\"FizzBuzz\");\n",
    "}\n",
    "else if (getal % 3 == 0)\n",
    "{\n",
    "    Console.WriteLine(\"Fizz\");\n",
    "}\n",
    "else if (getal % 5 == 0)\n",
    "{\n",
    "    Console.WriteLine(\"Buzz\");\n",
    "}\n",
    "else\n",
    "{\n",
    "    Console.WriteLine(getal);\n",
    "}"
   ]
  },
  {
   "cell_type": "markdown",
   "metadata": {},
   "source": [
    "### Uitdaging 2: Driehoek typering"
   ]
  },
  {
   "cell_type": "code",
   "execution_count": null,
   "metadata": {
    "polyglot_notebook": {
     "kernelName": "csharp"
    }
   },
   "outputs": [],
   "source": [
    "double a, b, c;\n",
    "Console.WriteLine(\"Voer de lengte van zijde a in:\");\n",
    "while(!double.TryParse(Console.ReadLine(), out a) || a <= 0) Console.WriteLine(\"Ongeldige invoer.\");\n",
    "\n",
    "Console.WriteLine(\"Voer de lengte van zijde b in:\");\n",
    "while(!double.TryParse(Console.ReadLine(), out b) || b <= 0) Console.WriteLine(\"Ongeldige invoer.\");\n",
    "\n",
    "Console.WriteLine(\"Voer de lengte van zijde c in:\");\n",
    "while(!double.TryParse(Console.ReadLine(), out c) || c <= 0) Console.WriteLine(\"Ongeldige invoer.\");\n",
    "\n",
    "// Stap 1: Controleer of het een geldige driehoek is\n",
    "if (a + b > c && a + c > b && b + c > a)\n",
    "{\n",
    "    // Stap 2: Bepaal het type\n",
    "    if (a == b && b == c)\n",
    "    {\n",
    "        Console.WriteLine(\"Het is een gelijkzijdige driehoek.\");\n",
    "    }\n",
    "    else if (a == b || a == c || b == c)\n",
    "    {\n",
    "        Console.WriteLine(\"Het is een gelijkbenige driehoek.\");\n",
    "    }\n",
    "    else\n",
    "    {\n",
    "        Console.WriteLine(\"Het is een ongelijkzijdige driehoek.\");\n",
    "    }\n",
    "}\n",
    "else\n",
    "{\n",
    "    Console.WriteLine(\"Dit is geen geldige driehoek.\");\n",
    "}"
   ]
  },
  {
   "cell_type": "markdown",
   "metadata": {},
   "source": [
    "### Uitdaging 3: (Simpele) rekenmachine"
   ]
  },
  {
   "cell_type": "code",
   "execution_count": null,
   "metadata": {
    "polyglot_notebook": {
     "kernelName": "csharp"
    }
   },
   "outputs": [],
   "source": [
    "double getal1, getal2;\n",
    "\n",
    "Console.WriteLine(\"Voer het eerste getal in:\");\n",
    "while(!double.TryParse(Console.ReadLine(), out getal1)) Console.WriteLine(\"Ongeldige invoer.\");\n",
    "\n",
    "Console.WriteLine(\"Voer een operator in (+, -, *, /):\");\n",
    "string op = Console.ReadLine();\n",
    "\n",
    "Console.WriteLine(\"Voer het tweede getal in:\");\n",
    "while(!double.TryParse(Console.ReadLine(), out getal2)) Console.WriteLine(\"Ongeldige invoer.\");\n",
    "\n",
    "double resultaat = 0;\n",
    "bool geldigeOperator = true;\n",
    "\n",
    "if (op == \"+\")\n",
    "{\n",
    "    resultaat = getal1 + getal2;\n",
    "}\n",
    "else if (op == \"-\")\n",
    "{\n",
    "    resultaat = getal1 - getal2;\n",
    "}\n",
    "else if (op == \"*\")\n",
    "{\n",
    "    resultaat = getal1 * getal2;\n",
    "}\n",
    "else if (op == \"/\")\n",
    "{\n",
    "    if (getal2 != 0)\n",
    "    {\n",
    "        resultaat = getal1 / getal2;\n",
    "    }\n",
    "    else\n",
    "    {\n",
    "        Console.WriteLine(\"Fout: Kan niet door nul delen.\");\n",
    "        geldigeOperator = false;\n",
    "    }\n",
    "}\n",
    "else\n",
    "{\n",
    "    Console.WriteLine(\"Onbekende operator.\");\n",
    "    geldigeOperator = false;\n",
    "}\n",
    "\n",
    "if (geldigeOperator)\n",
    "{\n",
    "    Console.WriteLine($\"Het resultaat is: {resultaat}\");\n",
    "}"
   ]
  }
 ],
 "metadata": {
  "kernelspec": {
   "display_name": ".NET (C#)",
   "language": "C#",
   "name": ".net-csharp"
  },
  "language_info": {
   "name": "polyglot-notebook"
  },
  "polyglot_notebook": {
   "kernelInfo": {
    "defaultKernelName": "csharp",
    "items": [
     {
      "aliases": [],
      "name": "csharp"
     }
    ]
   }
  }
 },
 "nbformat": 4,
 "nbformat_minor": 2
}
