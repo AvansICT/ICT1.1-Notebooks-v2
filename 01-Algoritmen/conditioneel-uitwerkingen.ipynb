{
 "cells": [
  {
   "cell_type": "markdown",
   "metadata": {},
   "source": [
    "# Uitwerkingen"
   ]
  },
  {
   "cell_type": "markdown",
   "metadata": {},
   "source": [
    "## Opdracht 1\n",
    "\n",
    "Je ziet hier een mogelijke uitwerking van deze opdracht.\n",
    "\n",
    "![Uitwerking middelste variant 1](images/flowchart_middelste_variant_1.png \"Uitwerking opdracht 1 middelste van 3 getallen variant 1\")\n"
   ]
  },
  {
   "cell_type": "markdown",
   "metadata": {},
   "source": [
    "## Opdracht 2\n",
    "\n",
    "Zorgvuldig bekijken en uitproberen van de gegeven flowchart geeft aan dat er problemen zijn bij de rode cirkels:\n",
    "\n",
    "![Uitwerking fouten zoeken](images/uitwerking_kortste_en_langste_van_3_namen_met_fouten.png \"Uitwerking opdracht 2 fouten zoeken in een flowchart\")\n",
    "\n",
    "Je ziet dat in het pad met de meest linkse rode cirkel geen waarde voor `langste` is vastgelegd, dus bij het afdrukken daarvan zal het misgaan, immers de waarde is dan nog onbekend.\n",
    "\n",
    "In de cirkel helemaal rechts staat `langste = a` maar dat is een typfout. Immers, a is korter dan b en korter dan c, dus a is de kortste. De langste is in die tak c, want b is korter dan c, dus er zou moeten staan `langste = c`.\n",
    "\n",
    "In de cirkel in de keuzestructuur staat bij de rode cirkel `LENGTH(C)`. Variabelennamen zijn in de meeste programmeertalen (waaronder in C#) hoofdlettergevoelig (case sensitive in het Engels), dus `c` en `C` zijn verschillende(!) variabelen. Er had dus `LENGTH(c)` moeten staan."
   ]
  }
 ],
 "metadata": {
  "kernelspec": {
   "display_name": ".NET (C#)",
   "language": "C#",
   "name": ".net-csharp"
  },
  "language_info": {
   "name": "polyglot-notebook"
  },
  "polyglot_notebook": {
   "kernelInfo": {
    "defaultKernelName": "csharp",
    "items": [
     {
      "aliases": [],
      "languageName": "csharp",
      "name": "csharp"
     }
    ]
   }
  }
 },
 "nbformat": 4,
 "nbformat_minor": 2
}
