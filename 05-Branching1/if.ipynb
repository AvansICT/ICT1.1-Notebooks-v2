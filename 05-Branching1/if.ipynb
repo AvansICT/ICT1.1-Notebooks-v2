{
 "cells": [
  {
   "cell_type": "markdown",
   "metadata": {},
   "source": [
    "# If-condities\n",
    "\n",
    "De meeste algoritmes werken op basis van keuzes. Hierbij kunnen er verschillende dingen gebeuren op basis van de keuzes die een algoritme maakt. Aan de basis van deze keuzes staat het if-statement. Het if-statement krijgt een expressie (de conditie) mee die waar of niet waar is, en op basis hiervan wordt een keuze gemaakt. Hierna kan een bepaald stuk code wel of niet uitgevoerd worden."
   ]
  },
  {
   "cell_type": "markdown",
   "metadata": {},
   "source": [
    "## In flowcharts\n",
    "\n",
    "Deze keuze kun je in een flowchart duidelijk laten zien doordat de verschillende code-paden ook 2 lijnen zijn. Voor de keuze zelf wordt een ruit-symbool gebruikt, waar de conditie-expressie in staat.\n",
    "\n",
    "```mermaid\n",
    "flowchart LR\n",
    "  A[double verbruik = 12.5] --> AA[zonnepaneelOpbrengst = 10.2]\n",
    "  AA --> B{verbruik < zonnepaneelOpbrengst}\n",
    "  B --true--> C([\"#quot;Er zijn voldoende zonnepanelen#quot;\"])\n",
    "  B --false--> E[end]\n",
    "  C --> E\n",
    "```\n",
    "\n",
    "Uit het ruit-symbool komen 2 uitgaande lijnen, waarbij een van de pijlen gemarkeerd is met true en de ander met false. Als de conditie waar is, gaat de flow door naar het blok onder de true-pijl, zoniet gaat de flow verder naar het blok onder de false-pijl. Uiteindelijk komen deze flows altijd weer samen."
   ]
  },
  {
   "cell_type": "markdown",
   "metadata": {},
   "source": [
    "## In Code\n",
    "\n",
    "Een if-statement wordt altijd opgevolgd door een conditie, tussen haakjes, met daarna een stuk code tussen accolades. De flowchart uit het eerdere hoofdstuk is in code.\n",
    "```csharp\n",
    "double verbruik = 12.5;\n",
    "double zonnepaneelOpbrengst = 10.2;\n",
    "if(verbruik < zonnePaneelOpbrengst)\n",
    "{\n",
    "    Console.WriteLine(\"Er zijn voldoende zonnepanelen\");\n",
    "}\n",
    "```\n",
    "\n",
    "Hierbij kunnen er dus meerdere regels code in het codeblock na de if staan. Let hierbij op:\n",
    "\n",
    "- De conditie staat tussen haakjes\n",
    "  ```csharp\n",
    "  if verbruik < opbrengst // fout\n",
    "  {\n",
    "\n",
    "  }\n",
    "  ```\n",
    "- De conditie is een boolean expressie\n",
    "  ```csharp\n",
    "  if(verbruik) // fout, verbruik is een getal\n",
    "  {\n",
    "\n",
    "  }\n",
    "  ```\n",
    "- Na de if moet **geen** `;` staan\n",
    "  ```csharp\n",
    "  if(verbruik < opbrengst); // fout, de code in de if wordt hier altijd uitgevoerd\n",
    "  {\n",
    "\n",
    "  }\n",
    "  ```\n",
    "- De code die na de `if` komt, staat tussen { }\n",
    "  ```csharp\n",
    "  if verbruik < opbrengst // fout\n",
    "    Console.WriteLine(\"Hallo\");\n",
    "    Console.WriteLine(\"Wereld\"); //deze regel wordt altijd uitgevoerd\n",
    "  ```\n"
   ]
  },
  {
   "cell_type": "markdown",
   "metadata": {},
   "source": [
    "## Nesting\n",
    "\n",
    "Het is ook mogelijk om in een if-blok, weer een if-blok te zetten. Dit is een handige manier om een complex if-statement te versimpelen, en kan soms nodig zijn als het [else](else) statement gebruikt word. Op deze manier kunnen verschillende condities samen afgevangen worden."
   ]
  },
  {
   "cell_type": "code",
   "execution_count": null,
   "metadata": {
    "dotnet_interactive": {
     "language": "csharp"
    },
    "polyglot_notebook": {
     "kernelName": "csharp"
    }
   },
   "outputs": [],
   "source": [
    "int leeftijd = 25;\n",
    "bool heeftGeldigBSN = true;\n",
    "string nationaliteit = \"Nederland\";\n",
    "\n",
    "if (leeftijd >= 18)\n",
    "{\n",
    "    Console.WriteLine(\"Je bent volwassen.\");\n",
    "\n",
    "    if (heeftGeldigBSN)\n",
    "    {\n",
    "        Console.WriteLine(\"Je hebt een geldig BSN.\");\n",
    "\n",
    "        if (nationaliteit == \"Nederland\")\n",
    "        {\n",
    "            Console.WriteLine(\"Je bent een Nederlandse burger.\");\n",
    "        }\n",
    "        else\n",
    "        {\n",
    "            Console.WriteLine(\"Je bent geen Nederlandse burger.\");\n",
    "        }\n",
    "    }\n",
    "    else\n",
    "    {\n",
    "        Console.WriteLine(\"Je hebt geen geldig BSN.\");\n",
    "    }\n",
    "}\n",
    "else\n",
    "{\n",
    "    Console.WriteLine(\"Je bent minderjarig.\");\n",
    "}"
   ]
  },
  {
   "cell_type": "markdown",
   "metadata": {},
   "source": [
    "## Opdracht 1\n",
    "Geef aan of het vriest (als output in de console). Als voorbeeld een flowchart"
   ]
  },
  {
   "cell_type": "markdown",
   "metadata": {},
   "source": [
    "```mermaid\n",
    "flowchart\n",
    "  A[double temperatuur = 12.5] --> B{temperatuur < 0>}\n",
    "  B --> C([\"#quot;Het vriest#quot;\"])\n",
    "  B --> E[end]\n",
    "  C --> E\n",
    "```"
   ]
  },
  {
   "cell_type": "code",
   "execution_count": null,
   "metadata": {
    "dotnet_interactive": {
     "language": "csharp"
    },
    "polyglot_notebook": {
     "kernelName": "csharp"
    }
   },
   "outputs": [],
   "source": [
    "float temperatuur = 12.5f;\n",
    "// Maak de code verder af"
   ]
  },
  {
   "cell_type": "markdown",
   "metadata": {},
   "source": [
    "## Opdracht 2\n",
    "Tel van de 4 gegeven getallen alleen de getallen bij elkaar op die positief zijn. Tip: maak een flowchart die je helpt om vooraf te bepalen hoe je dit gaat programmeren. \n"
   ]
  },
  {
   "cell_type": "code",
   "execution_count": null,
   "metadata": {
    "dotnet_interactive": {
     "language": "csharp"
    },
    "polyglot_notebook": {
     "kernelName": "csharp"
    }
   },
   "outputs": [],
   "source": [
    "int getal1 = 10;\n",
    "int getal2 = 100;\n",
    "int getal3 = -10;\n",
    "int getal4 = 1;"
   ]
  }
 ],
 "metadata": {
  "kernelspec": {
   "display_name": ".NET (C#)",
   "language": "C#",
   "name": ".net-csharp"
  },
  "language_info": {
   "name": "polyglot-notebook"
  },
  "polyglot_notebook": {
   "kernelInfo": {
    "defaultKernelName": "csharp",
    "items": [
     {
      "aliases": [],
      "languageName": "csharp",
      "name": "csharp"
     }
    ]
   }
  }
 },
 "nbformat": 4,
 "nbformat_minor": 2
}
