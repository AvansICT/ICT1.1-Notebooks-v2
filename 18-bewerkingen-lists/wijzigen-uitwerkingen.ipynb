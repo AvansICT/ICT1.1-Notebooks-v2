{
 "cells": [
  {
   "cell_type": "markdown",
   "metadata": {},
   "source": [
    "# Uitwerkingen"
   ]
  },
  {
   "cell_type": "markdown",
   "metadata": {},
   "source": [
    "## Opdracht 1"
   ]
  },
  {
   "cell_type": "code",
   "execution_count": null,
   "metadata": {
    "dotnet_interactive": {
     "language": "csharp"
    },
    "polyglot_notebook": {
     "kernelName": "csharp"
    }
   },
   "outputs": [],
   "source": [
    "//List<int> solarProfits = [10, 4, 75, 9, 12, 90, 165];\n",
    "List<int> solarProfits = [ 75, 75, 999, 75, 15, 2, -1, 75];\n",
    "\n",
    "for (int i = 0; i < solarProfits.Count; i++)\n",
    "{\n",
    "    if (solarProfits[i] == 75)\n",
    "    {\n",
    "        solarProfits[i] = 999;\n",
    "    }\n",
    "}\n",
    "\n",
    "Console.WriteLine(string.Join(\" \", solarProfits));"
   ]
  }
 ],
 "metadata": {
  "kernelspec": {
   "display_name": ".NET (C#)",
   "language": "C#",
   "name": ".net-csharp"
  },
  "language_info": {
   "name": "polyglot-notebook"
  },
  "polyglot_notebook": {
   "kernelInfo": {
    "defaultKernelName": "csharp",
    "items": [
     {
      "aliases": [],
      "languageName": "csharp",
      "name": "csharp"
     }
    ]
   }
  }
 },
 "nbformat": 4,
 "nbformat_minor": 2
}
