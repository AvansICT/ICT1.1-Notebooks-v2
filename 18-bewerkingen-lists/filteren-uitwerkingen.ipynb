{
 "cells": [
  {
   "cell_type": "markdown",
   "metadata": {},
   "source": [
    "# Uitwerkingen\n",
    "\n",
    "Opdracht 1"
   ]
  },
  {
   "cell_type": "code",
   "execution_count": null,
   "metadata": {},
   "outputs": [],
   "source": [
    "List<string> namenLijst = [\"Jan\",\"Waldorf\",\"Eren\", \"Tristan\", System.DateTime.Now.Second % 2 == 0 ? \"Waldo\" : \"Marc\" ];\n",
    "\n",
    "// Jouw code hier\n",
    "var eersteWaldoMatch = namenLijst.Find(x => x == \"Waldo\");\n",
    "\n",
    "// We printen de match die we hebben gevonden, hebben we niets gevonden (null)\n",
    "// dan printen we het woord niets \n",
    "Console.WriteLine($\"{eersteWaldoMatch ?? \"Niet\"} gevonden\");\n",
    "\n",
    "// Een alternatief die een boolean retourneert is:\n",
    "// var isWaldoGevonden = people.Contains(\"Waldo\");"
   ]
  },
  {
   "cell_type": "markdown",
   "metadata": {},
   "source": [
    "## Opdracht 2"
   ]
  },
  {
   "cell_type": "code",
   "execution_count": null,
   "metadata": {},
   "outputs": [],
   "source": [
    "List<string> boodschappenLijst = [\"Avocado\", \"Choco chip cookies\", \"Broccoli\", \"Appels\", \"Chocoladecake\", \"Bananen\", \"Chocolade\"];\n",
    "\n",
    "var gezondeItems = boodschappenLijst.FindAll(item => !item.StartsWith(\"Choco\")); \n",
    "\n",
    "gezondeItems.Sort();\n",
    "\n",
    "foreach(var item in gezondeItems)\n",
    "{\n",
    "    Console.WriteLine(item);\n",
    "}\n",
    "\n",
    "// Uiteraard zijn er variaties mogelijk zoals itereren door \n",
    "// de gevondenItems om een nieuwe lijst te vullen\n",
    "// Ook zonder gebruik van FindAll kun je uiteraard dit programmeren (loop => if/else)\n"
   ]
  }
 ],
 "metadata": {
  "kernelspec": {
   "display_name": ".NET (C#)",
   "language": "C#",
   "name": ".net-csharp"
  },
  "language_info": {
   "name": "polyglot-notebook"
  },
  "polyglot_notebook": {
   "kernelInfo": {
    "defaultKernelName": "csharp",
    "items": [
     {
      "aliases": [],
      "languageName": "csharp",
      "name": "csharp"
     }
    ]
   }
  }
 },
 "nbformat": 4,
 "nbformat_minor": 2
}
