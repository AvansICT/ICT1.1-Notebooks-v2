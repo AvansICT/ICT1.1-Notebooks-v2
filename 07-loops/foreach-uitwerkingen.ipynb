{
 "cells": [
  {
   "cell_type": "markdown",
   "metadata": {},
   "source": [
    "# Uitwerkingen"
   ]
  },
  {
   "cell_type": "markdown",
   "metadata": {},
   "source": [
    "## Opdracht 1"
   ]
  },
  {
   "cell_type": "code",
   "execution_count": null,
   "metadata": {
    "dotnet_interactive": {
     "language": "csharp"
    },
    "polyglot_notebook": {
     "kernelName": "csharp"
    }
   },
   "outputs": [],
   "source": [
    "// Variabele numbers is een lijst van het type int\n",
    "List<int> numbers = new List<int> { 1, 2, 3, 4, 5, 6, 7, 8, 9, 10 };\n",
    "\n",
    "// loop door de lijst en voor iedere element in deze lijst. Iedere waarde\n",
    "// wordt toegewezen aan de variabele number. Daarna wordt de code tussen\n",
    "// de acolates uitgevoerd (printen van het getal)\n",
    "foreach(int number  in numbers) {\n",
    "    Console.WriteLine(number);\n",
    "}"
   ]
  },
  {
   "cell_type": "markdown",
   "metadata": {},
   "source": [
    "## Opdracht 2"
   ]
  },
  {
   "cell_type": "code",
   "execution_count": null,
   "metadata": {
    "dotnet_interactive": {
     "language": "csharp"
    },
    "polyglot_notebook": {
     "kernelName": "csharp"
    }
   },
   "outputs": [],
   "source": [
    "List<double> energiePerDag = new List<double> { 20.1, 18.4, 23.4, 16.5, 19.2, 21.3, 22.1};\n",
    "double totaleEnergie = 0;\n",
    "\n",
    "foreach (double energie in energiePerDag)\n",
    "{\n",
    "    // tel de huidige waarde op bij de totale energie\n",
    "    totaleEnergie += energie;\n",
    "}\n",
    "\n",
    "Console.WriteLine($\"De totale hoeveelheid opgewekte energie is {totaleEnergie} kWh\");"
   ]
  },
  {
   "cell_type": "markdown",
   "metadata": {},
   "source": [
    "## Opdracht 3"
   ]
  },
  {
   "cell_type": "code",
   "execution_count": null,
   "metadata": {
    "dotnet_interactive": {
     "language": "csharp"
    },
    "polyglot_notebook": {
     "kernelName": "csharp"
    }
   },
   "outputs": [],
   "source": [
    "List<int> numbers = new List<int>\n",
    "{\n",
    "    32, 99, 7, 58, 95, 100, 63, 57, 33, 39, 24, 87, 38, 25, 48,\n",
    "    54, 63, 71, 9, 9, 32, 13, 1, 55, 29, 31, 77, 93, 30, 34\n",
    "};\n",
    "\n",
    "// Begin met het eerste getal in de lijst\n",
    "var hoogsteGetal = numbers.First();\n",
    "\n",
    "foreach (int number in numbers)\n",
    "{\n",
    "    // Vervang het huidige hoogste getal als een groter getal wordt gevonden\n",
    "    if (number > hoogsteGetal)\n",
    "    {\n",
    "        hoogsteGetal = number;\n",
    "    }\n",
    "}\n",
    "\n",
    "Console.WriteLine(\"Het hoogste getal is: \" + hoogsteGetal);"
   ]
  }
 ],
 "metadata": {
  "kernelspec": {
   "display_name": ".NET (C#)",
   "language": "C#",
   "name": ".net-csharp"
  },
  "language_info": {
   "name": "polyglot-notebook"
  },
  "polyglot_notebook": {
   "kernelInfo": {
    "defaultKernelName": "csharp",
    "items": [
     {
      "aliases": [],
      "languageName": "csharp",
      "name": "csharp"
     }
    ]
   }
  }
 },
 "nbformat": 4,
 "nbformat_minor": 2
}
