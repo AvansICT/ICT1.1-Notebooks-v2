{
 "cells": [
  {
   "cell_type": "markdown",
   "source": [
    "# Uitwerkingen: Herhalingsstructuren"
   ]
  },
  {
   "cell_type": "markdown",
   "source": [
    "# Vragen"
   ]
  },
  {
   "cell_type": "markdown",
   "source": [
    "### Vraag 1: De Tafel van 7"
   ]
  },
  {
   "cell_type": "code",
   "execution_count": null,
   "metadata": {},
   "outputs": [],
   "source": [
    "Console.WriteLine(\"De tafel van 7:\");\n",
    "for (int i = 1; i <= 10; i++)\n",
    "{\n",
    "    Console.WriteLine($\"{i} x 7 = {i * 7}\");\n",
    "}"
   ]
  },
  {
   "cell_type": "markdown",
   "source": [
    "### Vraag 2: Gemiddelde Cijfer"
   ]
  },
  {
   "cell_type": "code",
   "execution_count": null,
   "metadata": {},
   "outputs": [],
   "source": [
    "List<double> cijfers = new List<double> { 8.5, 7.0, 9.2, 5.5, 6.8 };\n",
    "double som = 0;\n",
    "\n",
    "foreach (double cijfer in cijfers)\n",
    "{\n",
    "    som += cijfer;\n",
    "}\n",
    "\n",
    "// Controleer of de lijst niet leeg is om delen door nul te voorkomen.\n",
    "if (cijfers.Count > 0)\n",
    "{\n",
    "    double gemiddelde = som / cijfers.Count;\n",
    "    Console.WriteLine($\"Het gemiddelde cijfer is: {gemiddelde:F1}\");\n",
    "}\n",
    "else\n",
    "{\n",
    "    Console.WriteLine(\"De lijst met cijfers is leeg.\");\n",
    "}"
   ]
  },
  {
   "cell_type": "markdown",
   "source": [
    "### Vraag 3: Wachtwoord Validatie"
   ]
  },
  {
   "cell_type": "code",
   "execution_count": null,
   "metadata": {},
   "outputs": [],
   "source": [
    "string wachtwoord;\n",
    "do\n",
    "{\n",
    "    Console.WriteLine(\"Voer een wachtwoord in (minimaal 8 karakters):\");\n",
    "    wachtwoord = Console.ReadLine();\n",
    "    if (wachtwoord.Length < 8)\n",
    "    {\n",
    "        Console.WriteLine(\"Wachtwoord is te kort. Probeer opnieuw.\");\n",
    "    }\n",
    "} \n",
    "while (wachtwoord.Length < 8);\n",
    "\n",
    "Console.WriteLine(\"Wachtwoord geaccepteerd!\");"
   ]
  },
  {
   "cell_type": "markdown",
   "source": [
    "### Vraag 4: Aftellen voor Lancering"
   ]
  },
  {
   "cell_type": "code",
   "execution_count": null,
   "metadata": {},
   "outputs": [],
   "source": [
    "for (int i = 10; i > 0; i--)\n",
    "{\n",
    "    Console.WriteLine(i + \"...\");\n",
    "}\n",
    "Console.WriteLine(\"Lancering!\");"
   ]
  },
  {
   "cell_type": "markdown",
   "source": [
    "### Vraag 5: Alle hoofdletters printen"
   ]
  },
  {
   "cell_type": "code",
   "execution_count": null,
   "metadata": {},
   "outputs": [],
   "source": [
    "Console.WriteLine(\"Voer een zin in:\");\n",
    "string zin = Console.ReadLine();\n",
    "Console.Write(\"Gevonden hoofdletters: \");\n",
    "\n",
    "foreach (char karakter in zin)\n",
    "{\n",
    "    if (char.IsUpper(karakter))\n",
    "    {\n",
    "        Console.Write(karakter + \" \");\n",
    "    }\n",
    "}"
   ]
  },
  {
   "cell_type": "markdown",
   "source": [
    "### Vraag 6: Som van kwadraten"
   ]
  },
  {
   "cell_type": "code",
   "execution_count": null,
   "metadata": {},
   "outputs": [],
   "source": [
    "int somVanKwadraten = 0;\n",
    "for (int i = 1; i <= 20; i++)\n",
    "{\n",
    "    somVanKwadraten += i * i;\n",
    "}\n",
    "Console.WriteLine(\"De som van de kwadraten van 1 t/m 20 is: \" + somVanKwadraten);"
   ]
  },
  {
   "cell_type": "markdown",
   "source": [
    "### Vraag 7: De langste naam"
   ]
  },
  {
   "cell_type": "code",
   "execution_count": null,
   "metadata": {},
   "outputs": [],
   "source": [
    "List<string> namen = new List<string> { \"Chris\", \"Alexandra\", \"Bastiaan\", \"Kim\", \"Mohammed\" };\n",
    "string langsteNaam = \"\";\n",
    "\n",
    "foreach (string naam in namen)\n",
    "{\n",
    "    if (naam.Length > langsteNaam.Length)\n",
    "    {\n",
    "        langsteNaam = naam;\n",
    "    }\n",
    "}\n",
    "\n",
    "Console.WriteLine(\"De langste naam in de lijst is: \" + langsteNaam);"
   ]
  },
  {
   "cell_type": "markdown",
   "source": [
    "### Vraag 8: Wachten op het juiste woord"
   ]
  },
  {
   "cell_type": "code",
   "execution_count": null,
   "metadata": {},
   "outputs": [],
   "source": [
    "string input = \"\";\n",
    "const string geheimWoord = \"exit\";\n",
    "\n",
    "while (input.ToLower() != geheimWoord)\n",
    "{\n",
    "    Console.WriteLine(\"Voer een woord in (typ 'exit' om te stoppen):\");\n",
    "    input = Console.ReadLine();\n",
    "}\n",
    "\n",
    "Console.WriteLine(\"Programma wordt afgesloten.\");"
   ]
  },
  {
   "cell_type": "markdown",
   "source": [
    "# Uitdagingen"
   ]
  },
  {
   "cell_type": "markdown",
   "source": [
    "### Uitdaging 1: Teken een driehoek"
   ]
  },
  {
   "cell_type": "code",
   "execution_count": null,
   "metadata": {},
   "outputs": [],
   "source": [
    "Console.WriteLine(\"Hoe hoog moet de driehoek zijn?\");\n",
    "int.TryParse(Console.ReadLine(), out int hoogte);\n",
    "\n",
    "// De buitenste lus controleert de rijen (van 1 tot hoogte)\n",
    "for (int i = 1; i <= hoogte; i++)\n",
    "{\n",
    "    // De binnenste lus print het juiste aantal sterretjes voor de huidige rij\n",
    "    for (int j = 1; j <= i; j++)\n",
    "    {\n",
    "        Console.Write(\"*\");\n",
    "    }\n",
    "    Console.WriteLine(); // Ga naar de volgende regel na elke rij\n",
    "}"
   ]
  },
  {
   "cell_type": "markdown",
   "source": [
    "### Uitdaging 2: Tekst omkeren"
   ]
  },
  {
   "cell_type": "code",
   "execution_count": null,
   "metadata": {},
   "outputs": [],
   "source": [
    "Console.WriteLine(\"Voer een tekst in om om te keren:\");\n",
    "string input = Console.ReadLine();\n",
    "string omgekeerd = \"\";\n",
    "\n",
    "// We beginnen bij de laatste index (Length - 1) en tellen terug naar 0\n",
    "for (int i = input.Length - 1; i >= 0; i--)\n",
    "{\n",
    "    omgekeerd += input[i];\n",
    "}\n",
    "\n",
    "Console.WriteLine(\"Omgekeerd: \" + omgekeerd);"
   ]
  },
  {
   "cell_type": "markdown",
   "source": [
    "### Uitdaging 3: Priemgetal-checker"
   ]
  },
  {
   "cell_type": "code",
   "execution_count": null,
   "metadata": {},
   "outputs": [],
   "source": [
    "Console.WriteLine(\"Voer een getal in om te controleren of het een priemgetal is:\");\n",
    "int.TryParse(Console.ReadLine(), out int getal);\n",
    "\n",
    "bool isPriem = true;\n",
    "\n",
    "if (getal <= 1) \n",
    "{\n",
    "    isPriem = false; // 1 en getallen kleiner dan 1 zijn geen priemgetallen\n",
    "}\n",
    "else\n",
    "{\n",
    "    // We hoeven maar te controleren tot de wortel van het getal\n",
    "    for (int i = 2; i * i <= getal; i++)\n",
    "    {\n",
    "        if (getal % i == 0)\n",
    "        {\n",
    "            isPriem = false;\n",
    "            break; // We hebben een deler gevonden, dus we kunnen stoppen met zoeken\n",
    "        }\n",
    "    }\n",
    "}\n",
    "\n",
    "if (isPriem)\n",
    "{\n",
    "    Console.WriteLine($\"{getal} is een priemgetal.\");\n",
    "}\n",
    "else\n",
    "{\n",
    "    Console.WriteLine($\"{getal} is geen priemgetal.\");\n",
    "}"
   ]
  },
  {
   "cell_type": "markdown",
   "source": [
    "### Uitdaging 4: Vermenigvuldigingstabel"
   ]
  },
  {
   "cell_type": "code",
   "execution_count": null,
   "metadata": {},
   "outputs": [],
   "source": [
    "// Buitenste lus voor de rijen (vermenigvuldiger)\n",
    "for (int i = 1; i <= 10; i++)\n",
    "{\n",
    "    // Binnenste lus voor de kolommen (vermenigvuldigtal)\n",
    "    for (int j = 1; j <= 10; j++)\n",
    "    {\n",
    "        // Gebruik PadLeft voor nette uitlijning\n",
    "        Console.Write((i * j).ToString().PadLeft(4));\n",
    "    }\n",
    "    Console.WriteLine(); // Nieuwe regel na elke rij\n",
    "}"
   ]
  },
  {
   "cell_type": "markdown",
   "source": [
    "### Uitdaging 5: Som van een getal met recursie"
   ]
  },
  {
   "cell_type": "code",
   "execution_count": null,
   "metadata": {},
   "outputs": [],
   "source": [
    "// Definitie van de recursieve functie\n",
    "int RecursieveSom(int n)\n",
    "{\n",
    "    // Basisgeval: als n 1 is, stopt de recursie en geven we 1 terug.\n",
    "    if (n <= 1)\n",
    "    {\n",
    "        return n;\n",
    "    }\n",
    "    // Recursieve stap: n plus de som van alle getallen kleiner dan n.\n",
    "    return n + RecursieveSom(n - 1);\n",
    "}\n",
    "\n",
    "// Aanroepen van de functie\n",
    "Console.WriteLine(\"Voer een getal in om de som tot dat getal te berekenen:\");\n",
    "int.TryParse(Console.ReadLine(), out int nummer);\n",
    "int resultaat = RecursieveSom(nummer);\n",
    "Console.WriteLine($\"De som van 1 tot {nummer} is {resultaat}.\");"
   ]
  }
 ],
 "metadata": {
  "kernelspec": {
   "display_name": ".NET (C#)",
   "language": "C#",
   "name": ".net-csharp"
  },
  "language_info": {
   "name": "csharp"
  }
 },
 "nbformat": 4,
 "nbformat_minor": 2
}
