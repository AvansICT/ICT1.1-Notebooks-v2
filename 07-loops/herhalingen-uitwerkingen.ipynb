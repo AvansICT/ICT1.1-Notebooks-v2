{
 "cells": [
  {
   "cell_type": "markdown",
   "metadata": {},
   "source": [
    "# Uitwerkingen"
   ]
  },
  {
   "cell_type": "markdown",
   "metadata": {},
   "source": [
    "## Opdracht 1\n",
    "\n",
    "### FlowChart\n",
    "\n",
    "Een mogelijke uitwerking hiervan:\n",
    "\n",
    "![Uitwerking DIN papierformaten](images/flowchart_DIN_papierformaten_modulair.PNG \"Uitwerking opdracht 1 DIN papierformaten flowchart\")\n",
    "\n",
    "Deze uitwerking is modulair opgezet, dat wil zeggen dat we een aparte module (flowchart) maken voor het berekenen van de papierformaten en die module aanroepen vanuit de hoofd-flowchart.\n",
    "\n",
    "In de flowchart staat `breedte = oudelengte // 2`. Met `//` wordt een integer deling bedoeld, dus het floating point resultaat van de deling wordt afgekapt tot een integer waarde.\n",
    "\n",
    "### Code"
   ]
  },
  {
   "cell_type": "code",
   "execution_count": null,
   "metadata": {
    "dotnet_interactive": {
     "language": "csharp"
    },
    "polyglot_notebook": {
     "kernelName": "csharp"
    }
   },
   "outputs": [],
   "source": [
    "// Beginafmetingen van A0 papier\n",
    "int lengte = 1189; // in mm\n",
    "int breedte = 841; // in mm\n",
    "\n",
    "Console.WriteLine(\"Afmetingen van A-formaat papier:\");\n",
    "Console.WriteLine($\"A0: {lengte} mm x {breedte} mm (Oppervlakte: {lengte * breedte} mm²)\");\n",
    "\n",
    "// Loop om de afmetingen van de A-formaten te berekenen\n",
    "for (int i = 1; i <= 10; i++)\n",
    "{\n",
    "    // Bereken de afmetingen van A(x+1)\n",
    "    int nieuweLengte = breedte; // Lengte van A(x+1) is gelijk aan de breedte van A(x)\n",
    "    int nieuweBreedte = lengte / 2; // Breedte van A(x+1) is de helft van de lengte van A(x)\n",
    "\n",
    "    // Print de afmetingen en oppervlakte van A(x+1)\n",
    "    Console.WriteLine($\"A{i}: {nieuweLengte} mm x {nieuweBreedte} mm (Oppervlakte: {nieuweLengte * nieuweBreedte} mm²)\");\n",
    "\n",
    "    // Update de lengte en breedte voor de volgende iteratie\n",
    "    lengte = nieuweLengte;\n",
    "    breedte = nieuweBreedte;\n",
    "}"
   ]
  },
  {
   "cell_type": "markdown",
   "metadata": {},
   "source": [
    "## Opdracht 2 - Klinkers in een zin tellen\n",
    "\n",
    "### FlowChart\n",
    "\n",
    "Een mogelijke uitwerking als flowchart:\n",
    "\n",
    "![Uitwerking klinkers in zin tellen](images/flowchart_klinkers_in_zin_modulair.PNG \"Uitwerking opdracht 2 klinkers in zin tellen flowchart\")\n",
    "\n",
    "Ook deze uitwerking is modulair opgezet. Er is een aparte flowchart voor het tellen van de klinkers in een zin. Die wordt vanuit de hoofd-flowchart aangeroepen met de zin die de gebruiker invoert. Het invoeren van een zin wordt dus gescheiden van het tellen van de klinkers. Zo'n scheiding van taken is voor leesbaarheid en onderhoudbaarheid vaak raadzaam.\n",
    "\n",
    "Voor de testzinnen kies je dan\n",
    "- Een zin van 0 tekens, dus een lege zin, om te testen of je flowchart daar correct op reageert.\n",
    "- Een zin met alleen leestekens en medeklinkers, om te testen of het resultaat 0 is.\n",
    "- Een zin met alleen klinkers, om te testen of het resultaat de lengte van de zin is.\n",
    "- Een zin die begint met klinkers.\n",
    "- Een zin die eindigt op klinkers.\n",
    "- Een zin met klinkers zowel in lower case (kleine letters) als upper case (hoofdletters), om te testen of die beide correct worden geteld.\n",
    "\n",
    "Om te zorgen dat zowel lower case als upper case klinkers worden geteld kan je de zin in zijn geheel in lower case veranderen zodat je alleen op de lower case versie van de klinkers (dus 'a', 'e', etc.) hoeft te controleren en niet ook nog op de upper case klinkers ('A', 'E', etc.). Zie de flowchart. Maar het kan ook anders, je kan op zowel 'a' als 'A' checken in je flowchart en dat levert ook een goed algoritme op. Er zijn vaak meerdere goede manieren om tot het juiste resultaat te komen.\n",
    "\n",
    "### Code"
   ]
  },
  {
   "cell_type": "code",
   "execution_count": null,
   "metadata": {
    "dotnet_interactive": {
     "language": "csharp"
    },
    "polyglot_notebook": {
     "kernelName": "csharp"
    }
   },
   "outputs": [],
   "source": [
    "string zin = \"Dit is een voorbeeldzin met enkele klinkers: a, e, i, o, u!\";\n",
    "int klinkerTeller = 0;\n",
    "\n",
    "// Loop door elke letter in de zin\n",
    "for (int i = 0; i < zin.Length; i++)\n",
    "{\n",
    "    // pak de specifieke letter van de zin voor verdere controle en zet deze om \n",
    "    // naar een kleine letter (ToLower), zodat eventuele hoofdletters ook meetellen.\n",
    "    char karakter = char.ToLower(zin[i]);\n",
    "\n",
    "    // Controleer of het karakter een klinker is\n",
    "    if (karakter == 'a' || karakter == 'e' || karakter == 'i' || karakter == 'o' || karakter == 'u')\n",
    "    {\n",
    "        klinkerTeller++; // Verhoog de teller voor elke klinker\n",
    "    }\n",
    "}\n",
    "\n",
    "// Print het resultaat\n",
    "Console.WriteLine($\"Aantal klinkers in de zin: {klinkerTeller}\");"
   ]
  }
 ],
 "metadata": {
  "kernelspec": {
   "display_name": ".NET (C#)",
   "language": "C#",
   "name": ".net-csharp"
  },
  "language_info": {
   "name": "polyglot-notebook"
  },
  "polyglot_notebook": {
   "kernelInfo": {
    "defaultKernelName": "csharp",
    "items": [
     {
      "aliases": [],
      "languageName": "csharp",
      "name": "csharp"
     }
    ]
   }
  }
 },
 "nbformat": 4,
 "nbformat_minor": 2
}
