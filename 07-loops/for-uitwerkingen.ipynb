{
 "cells": [
  {
   "cell_type": "markdown",
   "metadata": {},
   "source": [
    "# Uitwerkingen"
   ]
  },
  {
   "cell_type": "markdown",
   "metadata": {},
   "source": [
    "## Opdracht 1"
   ]
  },
  {
   "cell_type": "code",
   "execution_count": null,
   "metadata": {
    "dotnet_interactive": {
     "language": "csharp"
    },
    "polyglot_notebook": {
     "kernelName": "csharp"
    }
   },
   "outputs": [],
   "source": [
    "// Deze lus loopt van 1 tot en met 100 met tussenstappen van 1\n",
    "for (int i = 1; i <= 100; i++)\n",
    "{\n",
    "    Console.WriteLine(i);\n",
    "}"
   ]
  },
  {
   "cell_type": "markdown",
   "metadata": {},
   "source": [
    "## Opdracht 2"
   ]
  },
  {
   "cell_type": "code",
   "execution_count": null,
   "metadata": {
    "dotnet_interactive": {
     "language": "csharp"
    },
    "polyglot_notebook": {
     "kernelName": "csharp"
    }
   },
   "outputs": [],
   "source": [
    "// In plaats van i++ doen we i-- (i = i - 1) waardoor de loop naar \n",
    "// beneden aftelt. En we beginnen dan bij 100 en stoppen bij 1.\n",
    "for (int i = 100; i >= 1; i--)\n",
    "{\n",
    "    Console.WriteLine(i);\n",
    "}"
   ]
  },
  {
   "cell_type": "markdown",
   "metadata": {},
   "source": [
    "## Opdracht 3"
   ]
  },
  {
   "cell_type": "code",
   "execution_count": null,
   "metadata": {
    "dotnet_interactive": {
     "language": "csharp"
    },
    "polyglot_notebook": {
     "kernelName": "csharp"
    }
   },
   "outputs": [],
   "source": [
    "// Optie 1: Alle 100 mogelijkheden controleren of het een even getal is\n",
    "for (int i = 0; i < 100; i++)\n",
    "{\n",
    "    // Controleer of het getal even is\n",
    "    if (i % 2 == 0)\n",
    "    {\n",
    "        Console.WriteLine(i);\n",
    "    }\n",
    "}\n",
    "\n",
    "// Optie 2: Met stappen van 2 door de for loop heen gaan\n",
    "for (int i = 0; i < 100; i +=2)\n",
    "{\n",
    "    Console.WriteLine(i);\n",
    "}"
   ]
  },
  {
   "cell_type": "markdown",
   "metadata": {
    "slideshow": {
     "slide_type": "slide"
    }
   },
   "source": [
    "## Opdracht 4"
   ]
  },
  {
   "cell_type": "code",
   "execution_count": null,
   "metadata": {
    "dotnet_interactive": {
     "language": "csharp"
    },
    "polyglot_notebook": {
     "kernelName": "csharp"
    }
   },
   "outputs": [],
   "source": [
    "// Buitenste loop voor de rijen\n",
    "for (int i = 0; i < 5; i++) \n",
    "{\n",
    "    // Binnenste loop voor de kolommen\n",
    "    for (int j = 0; j < 5; j++)\n",
    "    {\n",
    "        Console.Write(\"*\");\n",
    "    }\n",
    "    // Ga naar de volgende regel\n",
    "    Console.WriteLine();\n",
    "}"
   ]
  },
  {
   "cell_type": "markdown",
   "metadata": {},
   "source": [
    "## Opdracht 5"
   ]
  },
  {
   "cell_type": "code",
   "execution_count": null,
   "metadata": {
    "dotnet_interactive": {
     "language": "csharp"
    },
    "polyglot_notebook": {
     "kernelName": "csharp"
    }
   },
   "outputs": [],
   "source": [
    " // Variabele om de som op te slaan\n",
    "int som = 0;\n",
    "\n",
    "for (int i = 0; i <= 100; i++)\n",
    "{\n",
    "    // Voeg elk getal toe aan de som\n",
    "    som += i;\n",
    "}\n",
    "\n",
    "Console.WriteLine(\"De som van alle getallen tussen 0 en 100 is: \" + som);"
   ]
  },
  {
   "cell_type": "markdown",
   "metadata": {},
   "source": [
    "## Opdracht 6"
   ]
  },
  {
   "cell_type": "code",
   "execution_count": null,
   "metadata": {
    "dotnet_interactive": {
     "language": "csharp"
    },
    "polyglot_notebook": {
     "kernelName": "csharp"
    }
   },
   "outputs": [],
   "source": [
    "int getal = 10;\n",
    "int faculteit = 1;\n",
    "\n",
    "for (int i = 1; i <= getal; i++)\n",
    "{\n",
    "    // Vermenigvuldig de huidige waarde van faculteit met i\n",
    "    faculteit *= i; \n",
    "}\n",
    "\n",
    "Console.WriteLine(\"De faculteit van \" + getal + \" is: \" + faculteit);"
   ]
  },
  {
   "cell_type": "markdown",
   "metadata": {},
   "source": [
    "## Opdracht 7"
   ]
  },
  {
   "cell_type": "code",
   "execution_count": null,
   "metadata": {
    "dotnet_interactive": {
     "language": "csharp"
    },
    "polyglot_notebook": {
     "kernelName": "csharp"
    }
   },
   "outputs": [],
   "source": [
    " // Initialieer en print de eerste twee getallen\n",
    "int getal1 = 1;\n",
    "int getal2 = 1;\n",
    "Console.Write(getal1 + \" \" + getal2 + \" \");\n",
    "\n",
    "// Initialiseer variabele die nodig is voor de berekening van de reeks\n",
    "int volgendGetal = 0;\n",
    "\n",
    "// Start bij het derde getal, daarom i met 3 initialiseren (want getal 1 en getal 2 \n",
    "// zijn al geprint). Als we dat niet doen zouden we meer dan 40 getallen printen.\n",
    "for (int i = 3; i <= 40; i++)\n",
    "{\n",
    "    // bereken en print het volgende getal a.d.h.v. de twee huidige getallen\n",
    "    volgendGetal = getal1 + getal2;\n",
    "    Console.Write(volgendGetal + \" \");\n",
    "\n",
    "    // schuif de getallen door zodat de volgende berekening ook weer klopt\n",
    "    getal1 = getal2;\n",
    "    getal2 = volgendGetal;\n",
    "}"
   ]
  }
 ],
 "metadata": {
  "kernelspec": {
   "display_name": ".NET (C#)",
   "language": "C#",
   "name": ".net-csharp"
  },
  "language_info": {
   "name": "polyglot-notebook"
  },
  "polyglot_notebook": {
   "kernelInfo": {
    "defaultKernelName": "csharp",
    "items": [
     {
      "aliases": [],
      "languageName": "csharp",
      "name": "csharp"
     }
    ]
   }
  }
 },
 "nbformat": 4,
 "nbformat_minor": 2
}
