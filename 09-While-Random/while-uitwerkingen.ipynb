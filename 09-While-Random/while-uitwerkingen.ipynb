{
 "cells": [
  {
   "cell_type": "markdown",
   "metadata": {},
   "source": [
    "# Uitwerkingen"
   ]
  },
  {
   "cell_type": "markdown",
   "metadata": {},
   "source": [
    "## Opdracht 1"
   ]
  },
  {
   "cell_type": "code",
   "execution_count": null,
   "metadata": {
    "dotnet_interactive": {
     "language": "csharp"
    },
    "polyglot_notebook": {
     "kernelName": "csharp"
    }
   },
   "outputs": [],
   "source": [
    "int gezochtGetal = 27;\n",
    "int beginGetal = gezochtGetal;\n",
    "int aantalStappen = 0;\n",
    "\n",
    "// Loop gaat door zolang gezochtGetal groter is dan 1\n",
    "while (gezochtGetal > 1)\n",
    "{\n",
    "    // Als gezochtGetal even is\n",
    "    if (gezochtGetal % 2 == 0) \n",
    "    {\n",
    "        gezochtGetal /= 2;\n",
    "    }\n",
    "    // Als gezochtGetal oneven is\n",
    "    else \n",
    "    {\n",
    "        gezochtGetal = 3 * gezochtGetal + 1;\n",
    "    }\n",
    "\n",
    "    // Verhoog het aantalStappen met 1\n",
    "    aantalStappen++;\n",
    "}\n",
    "\n",
    "Console.WriteLine($\"Het aantal stappen om van {beginGetal} naar 1 te komen is: {aantalStappen}\");"
   ]
  },
  {
   "cell_type": "markdown",
   "metadata": {},
   "source": [
    "## Opdracht 2\n",
    "\n",
    "### FlowChart\n",
    "\n",
    "```mermaid\n",
    "---\n",
    "config:\n",
    "    flowchart:\n",
    "        defaultRenderer: elk\n",
    "---\n",
    "\n",
    "flowchart TD\n",
    "    subgraph  \n",
    "    A[Start] --> B\n",
    "    B[getal1 = 10\n",
    "    getal2 = 3] --> C\n",
    "    C{{\"getal2 != 0\"}} --true--> D\n",
    "    D[tijdelijk = getal2\n",
    "    getal2 = getal1 % getal2\n",
    "    getal1 = tijdelijk] --> C\n",
    "    C --false--> E(\"De grootste gemeenschappelijke deler is: getal1\")\n",
    "    E --> F[End]\n",
    "    end\n",
    "```"
   ]
  },
  {
   "cell_type": "markdown",
   "metadata": {},
   "source": [
    "### Code"
   ]
  },
  {
   "cell_type": "code",
   "execution_count": null,
   "metadata": {
    "dotnet_interactive": {
     "language": "csharp"
    },
    "polyglot_notebook": {
     "kernelName": "csharp"
    }
   },
   "outputs": [],
   "source": [
    "// Twee getallen waarvan we de grootste gemeenschappelijke deler willen berekenen\n",
    "int getal1 = 10;\n",
    "int getal2 = 3;\n",
    "\n",
    "// Algoritme van Euclides\n",
    "while (getal2 != 0)\n",
    "{\n",
    "    int tijdelijk = getal2;\n",
    "    getal2 = getal1 % getal2; // Bereken de rest\n",
    "    getal1 = tijdelijk;  // Verander a naar de oude waarde van getal2\n",
    "}\n",
    "\n",
    "// Print het resultaat\n",
    "Console.WriteLine($\"De grootste gemeenschappelijke deler is: {getal1}\");"
   ]
  },
  {
   "cell_type": "markdown",
   "metadata": {},
   "source": [
    "## Opdracht 3"
   ]
  },
  {
   "cell_type": "code",
   "execution_count": null,
   "metadata": {
    "dotnet_interactive": {
     "language": "csharp"
    },
    "polyglot_notebook": {
     "kernelName": "csharp"
    }
   },
   "outputs": [],
   "source": [
    "// Het getal waarvan we de som van de cijfers willen berekenen\n",
    "int getal = 12345;\n",
    "int som = 0;\n",
    "\n",
    "while (getal > 0)\n",
    "{\n",
    "    // Geeft het laatste cijfer van het getal\n",
    "    int laatsteCijfer = getal % 10; \n",
    "    // Tel dit getal op bij de som\n",
    "    som += laatsteCijfer;           \n",
    "    // Verwijder het laatste cijfer door te delen door 10\n",
    "    getal /= 10;\n",
    "}\n",
    "\n",
    "Console.WriteLine($\"De som van de cijfers is: {som}\");"
   ]
  },
  {
   "cell_type": "markdown",
   "metadata": {},
   "source": [
    "## Opdracht 4"
   ]
  },
  {
   "cell_type": "code",
   "execution_count": null,
   "metadata": {
    "dotnet_interactive": {
     "language": "csharp"
    },
    "polyglot_notebook": {
     "kernelName": "csharp"
    }
   },
   "outputs": [],
   "source": [
    "using Microsoft.DotNet.Interactive;\n",
    "\n",
    "int laagsteWaarde = 1;\n",
    "int hoogsteWaarde = 100;\n",
    "int aantalPogingen = 0;\n",
    "bool geraden = false;\n",
    "\n",
    "Console.WriteLine(\"Denk aan een getal tussen 1 en 100, en ik zal het raden!\");\n",
    "\n",
    "while (!geraden)\n",
    "{\n",
    "    // Bereken het midden van het huidige bereik\n",
    "    int gok = (laagsteWaarde + hoogsteWaarde) / 2;\n",
    "    aantalPogingen++;\n",
    "\n",
    "    // Vraag de gebruiker of het getal correct, hoger, of lager is\n",
    "    Console.WriteLine($\"Is je getal {gok}? (typ 'hoger', 'lager', of 'correct')\");\n",
    "    string reactie = await Kernel.GetInputAsync();;\n",
    "\n",
    "    // Verwerk de reactie van de gebruiker en pas daarop het bereik aan van het te gokken getal\n",
    "    if (reactie == \"correct\")\n",
    "    {\n",
    "        Console.WriteLine($\"Ik heb je getal geraden! Het is {gok} en het duurde {aantalPogingen} pogingen.\");\n",
    "        // deze regel zorgt ervoor dat de loop afgebroken wordt\n",
    "        geraden = true;\n",
    "    }\n",
    "    else if (reactie == \"hoger\")\n",
    "    {\n",
    "        // Het getal ligt in het hogere deel, laagsteWaarde aanpassen\n",
    "        laagsteWaarde = gok + 1; \n",
    "    }\n",
    "    else if (reactie == \"lager\")\n",
    "    {\n",
    "        // Het getal ligt in het lagere deel, hoogsteWaarde aanpassen\n",
    "        hoogsteWaarde = gok - 1; \n",
    "    }\n",
    "    else\n",
    "    {\n",
    "        Console.WriteLine(\"Ongeldige invoer, probeer opnieuw.\");\n",
    "    }\n",
    "}"
   ]
  }
 ],
 "metadata": {
  "kernelspec": {
   "display_name": ".NET (C#)",
   "language": "C#",
   "name": ".net-csharp"
  },
  "language_info": {
   "name": "polyglot-notebook"
  },
  "polyglot_notebook": {
   "kernelInfo": {
    "defaultKernelName": "csharp",
    "items": [
     {
      "aliases": [],
      "languageName": "csharp",
      "name": "csharp"
     }
    ]
   }
  }
 },
 "nbformat": 4,
 "nbformat_minor": 2
}
