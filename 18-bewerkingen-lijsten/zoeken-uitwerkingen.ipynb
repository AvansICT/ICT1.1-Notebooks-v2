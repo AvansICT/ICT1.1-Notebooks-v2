{
 "cells": [
  {
   "cell_type": "markdown",
   "metadata": {},
   "source": [
    "# Uitwerkingen"
   ]
  },
  {
   "cell_type": "markdown",
   "metadata": {},
   "source": [
    "## Opdracht 1"
   ]
  },
  {
   "cell_type": "code",
   "execution_count": null,
   "metadata": {
    "dotnet_interactive": {
     "language": "csharp"
    },
    "polyglot_notebook": {
     "kernelName": "csharp"
    }
   },
   "outputs": [],
   "source": [
    "// Kan op meerdere manieren worden opgelost, bijvoorbeeld door heel de lijst te doorlopen en het laatste index bij te houden, maar je kan ook kiezen om de lijst omgekeerd te doorlopen. \n",
    "int LinearSearchLastOccurrence(List<int> list, int target)\n",
    "{\n",
    "    int lastIndex = -1;\n",
    "    for (int i = 0; i < list.Count; i++)\n",
    "    {\n",
    "        if (list[i] == target)\n",
    "        {\n",
    "            lastIndex = i;\n",
    "        }\n",
    "    }\n",
    "    return lastIndex;\n",
    "}\n",
    "List<int> numbers = [ 4, 5, 2, 8, 9, 10, 45, 2, 7, 6 ];\n",
    "Console.WriteLine(LinearSearchLastOccurrence(numbers, 2));"
   ]
  },
  {
   "cell_type": "markdown",
   "metadata": {},
   "source": [
    "## Opdracht 2"
   ]
  },
  {
   "cell_type": "code",
   "execution_count": null,
   "metadata": {
    "dotnet_interactive": {
     "language": "csharp"
    },
    "polyglot_notebook": {
     "kernelName": "csharp"
    }
   },
   "outputs": [],
   "source": [
    "// Voorbeeldoplossing:\n",
    "int BinarySearchFirstOccurrence(List<string> list, string target)\n",
    "{\n",
    "    int left = 0;\n",
    "    int right = list.Count - 1;\n",
    "\n",
    "    while (left <= right)\n",
    "    {\n",
    "        int mid = left + (right - left) / 2;\n",
    "\n",
    "        if (list[mid] == target && (mid == 0 || list[mid - 1] != target))\n",
    "        {\n",
    "            return mid;\n",
    "        }\n",
    "        else if (string.Compare(list[mid], target) < 0)\n",
    "        {\n",
    "            left = mid + 1;\n",
    "        }\n",
    "        else\n",
    "        {\n",
    "            right = mid - 1;\n",
    "        }\n",
    "    }\n",
    "\n",
    "    return -1;\n",
    "}\n",
    "\n",
    "List<string> fruits = [\"Apple\", \"Apple\", \"Banana\", \"Cherry\", \"Cherry\", \"Cherry\", \"Grape\", \"Kiwi\", \"Lemon\", \"Mango\", \"Orange\", \"Orange\", \"Orange\", \"Peach\", \"Pear\", \"Pear\", \"Strawberry\", \"Watermelon\"];\n",
    "Console.WriteLine(BinarySearchFirstOccurrence(fruits, \"Cherry\"));"
   ]
  },
  {
   "cell_type": "markdown",
   "metadata": {},
   "source": [
    "Schrijf nu een methode die de range teruggeeft van indexen waar een element zich bevindt. "
   ]
  },
  {
   "cell_type": "code",
   "execution_count": null,
   "metadata": {
    "dotnet_interactive": {
     "language": "csharp"
    },
    "polyglot_notebook": {
     "kernelName": "csharp"
    }
   },
   "outputs": [],
   "source": [
    "// Voorbeeldoplossing:\n",
    "(int, int) BinarySearchRange(List<string> list, string target)\n",
    "{\n",
    "    int left = 0;\n",
    "    int right = list.Count - 1;\n",
    "    int start = -1;\n",
    "    int end = -1;\n",
    "\n",
    "    while (left <= right)\n",
    "    {\n",
    "        int mid = left + (right - left) / 2;\n",
    "\n",
    "        if (list[mid] == target)\n",
    "        {\n",
    "            start = mid;\n",
    "            end = mid;\n",
    "\n",
    "            // Find the start index of the range\n",
    "            while (start > 0 && list[start - 1] == target)\n",
    "            {\n",
    "                start--;\n",
    "            }\n",
    "\n",
    "            // Find the end index of the range\n",
    "            while (end < list.Count - 1 && list[end + 1] == target)\n",
    "            {\n",
    "                end++;\n",
    "            }\n",
    "\n",
    "            return (start, end);\n",
    "        }\n",
    "        else if (string.Compare(list[mid], target) < 0)\n",
    "        {\n",
    "            left = mid + 1;\n",
    "        }\n",
    "        else\n",
    "        {\n",
    "            right = mid - 1;\n",
    "        }\n",
    "    }\n",
    "\n",
    "    return (-1, -1);\n",
    "}\n",
    "\n",
    "List<string> fruits = [\"Apple\", \"Apple\", \"Banana\", \"Cherry\", \"Cherry\", \"Cherry\", \"Grape\", \"Kiwi\", \"Lemon\", \"Mango\", \"Orange\", \"Orange\", \"Orange\", \"Peach\", \"Pear\", \"Pear\", \"Strawberry\", \"Watermelon\"];\n",
    "(int start, int end) = BinarySearchRange(fruits, \"Cherry\");\n",
    "Console.WriteLine($\"Start: {start}\");\n",
    "Console.WriteLine($\"End: {end}\");"
   ]
  }
 ],
 "metadata": {
  "kernelspec": {
   "display_name": ".NET (C#)",
   "language": "C#",
   "name": ".net-csharp"
  },
  "language_info": {
   "name": "polyglot-notebook"
  },
  "polyglot_notebook": {
   "kernelInfo": {
    "defaultKernelName": "csharp",
    "items": [
     {
      "aliases": [],
      "languageName": "csharp",
      "name": "csharp"
     }
    ]
   }
  }
 },
 "nbformat": 4,
 "nbformat_minor": 2
}
