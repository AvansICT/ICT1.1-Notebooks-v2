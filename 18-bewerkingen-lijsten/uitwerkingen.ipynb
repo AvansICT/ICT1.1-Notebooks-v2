{
 "cells": [
  {
   "cell_type": "markdown",
   "source": [
    "# Uitwerkingen: Verzamelingen Manipuleren"
   ]
  },
  {
   "cell_type": "markdown",
   "source": [
    "# Vragen"
   ]
  },
  {
   "cell_type": "markdown",
   "source": [
    "### Vraag 1: Een item wijzigen"
   ]
  },
  {
   "cell_type": "code",
   "execution_count": null,
   "metadata": {},
   "outputs": [],
   "source": [
    "List<string> fruit = [\"Banaan\", \"Peer\", \"Kiwi\"];\n",
    "// \"Peer\" staat op index 1\n",
    "fruit[1] = \"Appel\";\n",
    "Console.WriteLine(string.Join(\", \", fruit));"
   ]
  },
  {
   "cell_type": "markdown",
   "source": [
    "### Vraag 2: Een item verwijderen op waarde"
   ]
  },
  {
   "cell_type": "code",
   "execution_count": null,
   "metadata": {},
   "outputs": [],
   "source": [
    "List<int> getallen = [10, 20, 30, 40];\n",
    "getallen.Remove(20);\n",
    "Console.WriteLine(string.Join(\", \", getallen));"
   ]
  },
  {
   "cell_type": "markdown",
   "source": [
    "### Vraag 3: Een item verwijderen op index"
   ]
  },
  {
   "cell_type": "code",
   "execution_count": null,
   "metadata": {},
   "outputs": [],
   "source": [
    "List<string> steden = [\"Breda\", \"Tilburg\", \"Eindhoven\"];\n",
    "// Het eerste element staat op index 0\n",
    "steden.RemoveAt(0);\n",
    "Console.WriteLine(string.Join(\", \", steden));"
   ]
  },
  {
   "cell_type": "markdown",
   "source": [
    "### Vraag 4: Sorteren"
   ]
  },
  {
   "cell_type": "code",
   "execution_count": null,
   "metadata": {},
   "outputs": [],
   "source": [
    "List<int> scores = [88, 55, 95, 74, 63];\n",
    "scores.Sort();\n",
    "Console.WriteLine(string.Join(\", \", scores));"
   ]
  },
  {
   "cell_type": "markdown",
   "source": [
    "### Vraag 5: Bestaat het item?"
   ]
  },
  {
   "cell_type": "code",
   "execution_count": null,
   "metadata": {},
   "outputs": [],
   "source": [
    "List<string> namen = [\"Adam\", \"Ben\", \"Chris\", \"Diana\"];\n",
    "bool heeftEva = namen.Contains(\"Eva\");\n",
    "Console.WriteLine(\"Bevat de lijst 'Eva'? \" + heeftEva);"
   ]
  },
  {
   "cell_type": "markdown",
   "source": [
    "### Vraag 6: Filter op lengte"
   ]
  },
  {
   "cell_type": "code",
   "execution_count": null,
   "metadata": {},
   "outputs": [],
   "source": [
    "List<string> namenLijst = [\"Jan\", \"Pieternella\", \"Klaas\", \"Eva\", \"Bartholomeus\"];\n",
    "List<string> langeNamen = namenLijst.FindAll(naam => naam.Length > 4);\n",
    "Console.WriteLine(string.Join(\", \", langeNamen));"
   ]
  },
  {
   "cell_type": "markdown",
   "source": [
    "### Vraag 7: Vind de eerste"
   ]
  },
  {
   "cell_type": "code",
   "execution_count": null,
   "metadata": {},
   "outputs": [],
   "source": [
    "List<int> getallen = [23, 45, 51, 8, 99];\n",
    "int eersteGroteGetal = getallen.Find(g => g > 50);\n",
    "Console.WriteLine(\"Het eerste getal groter dan 50 is: \" + eersteGroteGetal);"
   ]
  },
  {
   "cell_type": "markdown",
   "source": [
    "### Vraag 8: Index zoeken"
   ]
  },
  {
   "cell_type": "code",
   "execution_count": null,
   "metadata": {},
   "outputs": [],
   "source": [
    "List<string> fruit = [\"Appel\", \"Banaan\", \"Kiwi\", \"Mango\"];\n",
    "int indexVanKiwi = fruit.IndexOf(\"Kiwi\");\n",
    "Console.WriteLine(\"De index van 'Kiwi' is: \" + indexVanKiwi);"
   ]
  },
  {
   "cell_type": "markdown",
   "source": [
    "### Vraag 9: Leegmaken"
   ]
  },
  {
   "cell_type": "code",
   "execution_count": null,
   "metadata": {},
   "outputs": [],
   "source": [
    "List<string> taken = [\"Afwassen\", \"Stofzuigen\", \"Programmeren\"];\n",
    "Console.WriteLine(\"Aantal taken voor Clear(): \" + taken.Count);\n",
    "taken.Clear();\n",
    "Console.WriteLine(\"Aantal taken na Clear(): \" + taken.Count);"
   ]
  },
  {
   "cell_type": "markdown",
   "source": [
    "### Vraag 10: Toevoegen op een specifieke plek"
   ]
  },
  {
   "cell_type": "code",
   "execution_count": null,
   "metadata": {},
   "outputs": [],
   "source": [
    "List<string> fruitmand = [\"Appel\", \"Banaan\", \"Kiwi\"];\n",
    "fruitmand.Insert(1, \"Peer\"); // Voegt \"Peer\" toe op index 1\n",
    "Console.WriteLine(string.Join(\", \", fruitmand));"
   ]
  },
  {
   "cell_type": "markdown",
   "source": [
    "# Uitdagingen"
   ]
  },
  {
   "cell_type": "markdown",
   "source": [
    "### Uitdaging 1: Verwijder alle negatieve getallen"
   ]
  },
  {
   "cell_type": "code",
   "execution_count": null,
   "metadata": {},
   "outputs": [],
   "source": [
    "List<int> getallen = [10, -5, 8, -3, -12, 15];\n",
    "\n",
    "// Een for-lus die van achteren naar voren loopt, voorkomt problemen met de index.\n",
    "for (int i = getallen.Count - 1; i >= 0; i--)\n",
    "{\n",
    "    if (getallen[i] < 0)\n",
    "    {\n",
    "        getallen.RemoveAt(i);\n",
    "    }\n",
    "}\n",
    "\n",
    "Console.WriteLine(\"Lijst zonder negatieve getallen: \" + string.Join(\", \", getallen));"
   ]
  },
  {
   "cell_type": "markdown",
   "source": [
    "### Uitdaging 2: Dubbele waarden verwijderen"
   ]
  },
  {
   "cell_type": "code",
   "execution_count": null,
   "metadata": {},
   "outputs": [],
   "source": [
    "List<int> getallen = [1, 5, 2, 5, 4, 1, 8, 9, 2];\n",
    "List<int> uniekeGetallen = new List<int>();\n",
    "\n",
    "foreach (int getal in getallen)\n",
    "{\n",
    "    if (!uniekeGetallen.Contains(getal))\n",
    "    {\n",
    "        uniekeGetallen.Add(getal);\n",
    "    }\n",
    "}\n",
    "\n",
    "Console.WriteLine(\"Lijst met unieke waarden: \" + string.Join(\", \", uniekeGetallen));"
   ]
  },
  {
   "cell_type": "markdown",
   "source": [
    "### Uitdaging 3: Zoeken in een lijst van objecten"
   ]
  },
  {
   "cell_type": "code",
   "execution_count": null,
   "metadata": {},
   "outputs": [],
   "source": [
    "public class Product\n",
    "{\n",
    "    public string Naam { get; set; }\n",
    "    public decimal Prijs { get; set; }\n",
    "}\n",
    "\n",
    "List<Product> producten = new List<Product>\n",
    "{\n",
    "    new Product { Naam = \"Laptop\", Prijs = 1200m },\n",
    "    new Product { Naam = \"Muis\", Prijs = 25m },\n",
    "    new Product { Naam = \"Toetsenbord\", Prijs = 75m },\n",
    "    new Product { Naam = \"Monitor\", Prijs = 300m }\n",
    "};\n",
    "\n",
    "List<Product> dureProducten = producten.FindAll(p => p.Prijs > 50);\n",
    "\n",
    "Console.WriteLine(\"Dure producten:\");\n",
    "foreach(var product in dureProducten)\n",
    "{\n",
    "    Console.WriteLine($\"- {product.Naam} ({product.Prijs:C})\");\n",
    "}"
   ]
  },
  {
   "cell_type": "markdown",
   "source": [
    "### Uitdaging 4: Binair zoeken implementeren"
   ]
  },
  {
   "cell_type": "code",
   "execution_count": null,
   "metadata": {},
   "outputs": [],
   "source": [
    "int BinarySearch(List<int> gesorteerdeLijst, int target)\n",
    "{\n",
    "    int left = 0;\n",
    "    int right = gesorteerdeLijst.Count - 1;\n",
    "\n",
    "    while (left <= right)\n",
    "    {\n",
    "        int mid = left + (right - left) / 2;\n",
    "\n",
    "        if (gesorteerdeLijst[mid] == target)\n",
    "        {\n",
    "            return mid; // Gevonden!\n",
    "        }\n",
    "        else if (gesorteerdeLijst[mid] < target)\n",
    "        {\n",
    "            left = mid + 1; // Zoek in de rechterhelft\n",
    "        }\n",
    "        else\n",
    "        {\n",
    "            right = mid - 1; // Zoek in de linkerhelft\n",
    "        }\n",
    "    }\n",
    "    return -1; // Niet gevonden\n",
    "}\n",
    "\n",
    "List<int> data = [10, 20, 30, 40, 50, 60, 70, 80, 90];\n",
    "int index = BinarySearch(data, 70);\n",
    "Console.WriteLine(\"Index van 70 is: \" + index);"
   ]
  },
  {
   "cell_type": "markdown",
   "source": [
    "### Uitdaging 5: Lijsten Samenvoegen"
   ]
  },
  {
   "cell_type": "code",
   "execution_count": null,
   "metadata": {},
   "outputs": [],
   "source": [
    "List<int> lijst1 = [1, 2, 3];\n",
    "List<int> lijst2 = [4, 5, 6];\n",
    "\n",
    "List<int> samengevoegd = new List<int>();\n",
    "samengevoegd.AddRange(lijst1);\n",
    "samengevoegd.AddRange(lijst2);\n",
    "\n",
    "Console.WriteLine(string.Join(\", \", samengevoegd));"
   ]
  }
 ],
 "metadata": {
  "kernelspec": {
   "display_name": ".NET (C#)",
   "language": "C#",
   "name": ".net-csharp"
  },
  "language_info": {
   "name": "csharp"
  }
 },
 "nbformat": 4,
 "nbformat_minor": 2
}
