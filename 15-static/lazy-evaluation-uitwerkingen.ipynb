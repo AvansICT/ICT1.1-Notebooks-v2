{
 "cells": [
  {
   "cell_type": "markdown",
   "metadata": {},
   "source": [
    "# Uitwerkingen"
   ]
  },
  {
   "cell_type": "markdown",
   "metadata": {},
   "source": [
    "## Opdracht 1"
   ]
  },
  {
   "cell_type": "code",
   "execution_count": null,
   "metadata": {
    "dotnet_interactive": {
     "language": "csharp"
    },
    "polyglot_notebook": {
     "kernelName": "csharp"
    }
   },
   "outputs": [],
   "source": [
    "using Microsoft.DotNet.Interactive;\n",
    "\n",
    "// Stap 1: Maak een variabele die de rol van de medewerker bevat\n",
    "string rolInput = await Kernel.GetInputAsync(\"Voer de rol van de medewerker in (docent, student, receptie, onderzoeker, etc.): \");\n",
    "\n",
    "// Stap 2: Maak een variabele die aangeeft of de rol toegestaan is\n",
    "bool isRolToegestaan = false;\n",
    "\n",
    "// Controleer of de rol toegang heeft tot de parkeerplaats\n",
    "if (rolInput.ToLower() == \"docent\" || rolInput.ToLower() == \"onderzoeker\")\n",
    "{\n",
    "    isRolToegestaan = true;\n",
    "}\n",
    "\n",
    "// Stap 3: Maak een variabele om aan te geven of de medewerker een parkeerpas heeft\n",
    "string heeftParkeerpasInput = await Kernel.GetInputAsync(\"Heeft de medewerker een parkeerpas? (ja of nee): \");\n",
    "bool heeftParkeerpas = (heeftParkeerpasInput.ToLower() == \"ja\");\n",
    "\n",
    "// Stap 4: Controleer of de medewerker toegang heeft tot de parkeerplaats\n",
    "if (isRolToegestaan && heeftParkeerpas)\n",
    "{\n",
    "    Console.WriteLine(\"Toegang verleend tot de parkeerplaats.\");\n",
    "}\n",
    "else\n",
    "{\n",
    "    Console.WriteLine(\"Toegang geweigerd.\");\n",
    "}"
   ]
  }
 ],
 "metadata": {
  "kernelspec": {
   "display_name": ".NET (C#)",
   "language": "C#",
   "name": ".net-csharp"
  },
  "language_info": {
   "name": "polyglot-notebook"
  },
  "polyglot_notebook": {
   "kernelInfo": {
    "defaultKernelName": "csharp",
    "items": [
     {
      "aliases": [],
      "languageName": "csharp",
      "name": "csharp"
     }
    ]
   }
  }
 },
 "nbformat": 4,
 "nbformat_minor": 2
}
