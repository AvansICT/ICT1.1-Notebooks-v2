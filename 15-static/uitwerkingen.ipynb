{
 "cells": [
  {
   "cell_type": "markdown",
   "metadata": {},
   "source": [
    "# Uitwerkingen: Static Klassen en Leden"
   ]
  },
  {
   "cell_type": "markdown",
   "metadata": {},
   "source": [
    "# Vragen"
   ]
  },
  {
   "cell_type": "markdown",
   "metadata": {},
   "source": [
    "### Vraag 1: Conversie helper"
   ]
  },
  {
   "cell_type": "code",
   "execution_count": null,
   "metadata": {
    "polyglot_notebook": {
     "kernelName": "csharp"
    },
    "vscode": {
     "languageId": "polyglot-notebook"
    }
   },
   "outputs": [],
   "source": [
    "public static class ValutaConverter\n",
    "{\n",
    "    private static readonly decimal wisselkoers = 1.08m;\n",
    "\n",
    "    public static decimal EuroNaarDollar(decimal euros)\n",
    "    {\n",
    "        return euros * wisselkoers;\n",
    "    }\n",
    "}\n",
    "\n",
    "// Aanroep via de klassenaam\n",
    "decimal dollars = ValutaConverter.EuroNaarDollar(100.00m);\n",
    "Console.WriteLine($\"€100,00 is {dollars:C2} (USD)\");"
   ]
  },
  {
   "cell_type": "markdown",
   "metadata": {},
   "source": [
    "### Vraag 2: Static property"
   ]
  },
  {
   "cell_type": "code",
   "execution_count": null,
   "metadata": {
    "polyglot_notebook": {
     "kernelName": "csharp"
    },
    "vscode": {
     "languageId": "polyglot-notebook"
    }
   },
   "outputs": [],
   "source": [
    "public class Game\n",
    "{\n",
    "    // Deze property hoort bij de klasse, niet bij een individueel spel.\n",
    "    public static int MaxScore { get; set; } = 10000;\n",
    "\n",
    "    public string SpelNaam { get; set; } // Dit is een instance property\n",
    "}\n",
    "\n",
    "// Je hoeft geen object te maken om de static property te benaderen.\n",
    "Console.WriteLine(\"De maximale score in elk spel is: \" + Game.MaxScore);\n",
    "\n",
    "// Een object maken heeft geen invloed op de static property.\n",
    "Game mijnSpel = new Game();\n",
    "mijnSpel.SpelNaam = \"Space Invaders\";"
   ]
  },
  {
   "cell_type": "markdown",
   "metadata": {},
   "source": [
    "### Vraag 3: Lazy evaluation voorspellen"
   ]
  },
  {
   "cell_type": "code",
   "execution_count": null,
   "metadata": {
    "polyglot_notebook": {
     "kernelName": "csharp"
    },
    "vscode": {
     "languageId": "polyglot-notebook"
    }
   },
   "outputs": [],
   "source": [
    "// Output:\n",
    "// Testen met &&:\n",
    "// Functie A uitgevoerd\n",
    "\n",
    "// Uitleg:\n",
    "// De `&&` operator maakt gebruik van 'short-circuiting' (lazy evaluation).\n",
    "// Eerst wordt FunctieA() uitgevoerd. Deze geeft `false` terug.\n",
    "// Omdat de eerste helft van een `&&` expressie al `false` is, kan de totale uitkomst nooit meer `true` worden.\n",
    "// Het is daarom niet nodig om FunctieB() uit te voeren. C# slaat deze stap over voor betere prestaties.\n",
    "// Als gevolg daarvan wordt \"Functie B uitgevoerd\" nooit geprint."
   ]
  },
  {
   "cell_type": "markdown",
   "metadata": {},
   "source": [
    "# Uitdagingen"
   ]
  },
  {
   "cell_type": "markdown",
   "metadata": {},
   "source": [
    "### Uitdaging 1: Configuratie klasse met static constructor"
   ]
  },
  {
   "cell_type": "code",
   "execution_count": null,
   "metadata": {
    "polyglot_notebook": {
     "kernelName": "csharp"
    },
    "vscode": {
     "languageId": "polyglot-notebook"
    }
   },
   "outputs": [],
   "source": [
    "public static class Configuratie\n",
    "{\n",
    "    public static string ApplicatieNaam { get; }\n",
    "    public static int MaxGebruikers { get; }\n",
    "    public static string DatabaseConnectieString { get; }\n",
    "\n",
    "    // Static constructor: wordt automatisch één keer aangeroepen, de eerste keer dat de klasse wordt gebruikt.\n",
    "    static Configuratie()\n",
    "    {\n",
    "        Console.WriteLine(\"(Static constructor wordt nu uitgevoerd om configuratie te laden...)\");\n",
    "        ApplicatieNaam = \"Mijn Super Applicatie\";\n",
    "        MaxGebruikers = 100;\n",
    "        DatabaseConnectieString = \"Server=localhost;Database=MijnDb;User Id=root;\";\n",
    "    }\n",
    "}\n",
    "\n",
    "// Aanroepen van de static properties\n",
    "Console.WriteLine(\"Applicatie: \" + Configuratie.ApplicatieNaam);\n",
    "Console.WriteLine(\"Max gebruikers: \" + Configuratie.MaxGebruikers);\n",
    "Console.WriteLine(\"Connectie: \" + Configuratie.DatabaseConnectieString);"
   ]
  }
 ],
 "metadata": {
  "kernelspec": {
   "display_name": ".NET (C#)",
   "language": "C#",
   "name": ".net-csharp"
  },
  "language_info": {
   "name": "csharp"
  }
 },
 "nbformat": 4,
 "nbformat_minor": 2
}
