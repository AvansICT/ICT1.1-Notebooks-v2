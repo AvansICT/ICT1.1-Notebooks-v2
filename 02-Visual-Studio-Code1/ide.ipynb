{
 "cells": [
  {
   "cell_type": "markdown",
   "metadata": {},
   "source": [
    "# De IDE\n",
    "\n",
    "Om code te kunnen schrijven gebruiken we een IDE, een *integrated development environment*. Een IDE is in de basis een tekst-editor, met allerlei functionaliteiten om het programmeren makkelijker te maken. Zo bieden IDEs vaak functionaliteiten voor:\n",
    "\n",
    "- *Organiseren van bestanden in een project*\n",
    "\n",
    "    Door een overzicht te geven van verschillende typen bestanden die nodig zijn voor het project.\n",
    "    Denk aan bestanden met daadwerkelijke source (functionele) code, maar ook aan bestanden waar in de afhankelijkheden of interfaces gedefinieerd staan.\n",
    "- *Syntax highlighting*\n",
    "\n",
    "    Hier mee kun je bijvoorbeeld eenvoudig zien wat kernwoorden van een programmeertaal zijn.\n",
    "- *Code completion*\n",
    "\n",
    "    Een hulp die, op basis van al bekende methodes, variabelen, klassen etc. etc. je aanvullingen geeft bij het schrijven van code.\n",
    "- *Code analyse*\n",
    "\n",
    "    Een hulpmiddel die aangeeft of je code mogelijk een bug introduceert.    \n",
    "- *Makkelijk een project kunnen compileren en uitvoeren*\n",
    "\n",
    "    Voordat je code echt uit te voeren is, zijn een aantal stappen nodig om het begrijpbaar te maken voor de computer.\n",
    "\n",
    "    Deze stappen zijn natuurlijk ook handmatig uit te voeren, maar niemand wil elke keer dezelfde commando's geven. Dus zie je vaak dat deze stappen, en de benodigde volgorde van die stappen, door de IDE overgenomen worden. Zo kun jij je concentreren op de daadwerkelijke code 😉 \n",
    "- *Debugging*\n",
    "\n",
    "    Dit is een speciale manier van het uitvoeren van een programma.\n",
    "    \n",
    "    Hierbij draait je code in een omgeving waarbij je o.a.:\n",
    "    * toegang krijgt tot variabelen;\n",
    "    * de mogelijkheid hebt om het programma te pauzeren en stap voor stap verder te gaan;"
   ]
  },
  {
   "cell_type": "code",
   "execution_count": null,
   "metadata": {
    "dotnet_interactive": {
     "language": "csharp"
    },
    "polyglot_notebook": {
     "kernelName": "csharp"
    }
   },
   "outputs": [],
   "source": []
  }
 ],
 "metadata": {
  "kernelspec": {
   "display_name": ".NET (C#)",
   "language": "C#",
   "name": ".net-csharp"
  },
  "language_info": {
   "name": "polyglot-notebook"
  },
  "polyglot_notebook": {
   "kernelInfo": {
    "defaultKernelName": "csharp",
    "items": [
     {
      "aliases": [],
      "languageName": "csharp",
      "name": "csharp"
     }
    ]
   }
  }
 },
 "nbformat": 4,
 "nbformat_minor": 2
}
