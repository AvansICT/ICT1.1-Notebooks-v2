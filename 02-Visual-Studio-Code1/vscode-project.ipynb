{
 "cells": [
  {
   "cell_type": "markdown",
   "metadata": {},
   "source": [
    "# Project in Visual Studio Code\n"
   ]
  },
  {
   "cell_type": "markdown",
   "metadata": {},
   "source": [
    "## Benodigdheden\n",
    "\n",
    "Om Visual Studio Code te kunnen gebruiken om C# applicaties te maken, zijn dezelfde tools en Extensions nodig als genoemd bij [Notebooks](https://avansict.github.io/ICT1.1-Notebooks/ide/vscode-notebooks.html#benodigdheden)."
   ]
  },
  {
   "cell_type": "markdown",
   "metadata": {},
   "source": [
    "## Een project voor een Console applicatie maken\n",
    "\n",
    "Een Console applicatie is een programma dat geen grafische interface heeft.\n",
    "Dit soort applicaties wordt doorgaan uitgevoerd op een Command Line Interface (CLI).\n",
    "\n",
    "Om een project voor een C# console applicatie op te zetten, zijn er 2 mogelijkheden:\n",
    "\n",
    "* Middels VS Code (incl. grafische interface)\n",
    "* Via een CLI\n",
    "\n",
    "Volg de volgende stappen om een eerste project te maken:\n",
    "\n",
    "* \"Ctrl+Shift+P\" -> \".NET: New Project...\" -> \"Console App\";\n",
    "* Kies een directory waar je het project wilt opslaan;\n",
    "* Geef het project een naam. Bijvoorbeeld: \"HelloWorld\";\n",
    "* \"Create project\".\n",
    "\n",
    "\n",
    "Dit kan ook op een andere \"snellere\" manier:\n",
    "* Open een Command Prompt: \"Win+R\", type \"cmd\" -> Enter. Of open een \"terminal\" in VS Code: \"Ctrl+`\"\n",
    "* Ga naar de locatie waar je het project wilt hebben. Bijvoorbeeld:\n",
    "```\n",
    "cd C:\\Users\\%USERNAME%\n",
    "mkdir projects\n",
    "cd projects\n",
    "```\n",
    "* Voer het volgende commando\n",
    "```\n",
    "dotnet new console -n HelloWorld\n",
    "```\n",
    "* Open het project in een nieuw scherm van VS Code:\n",
    "```\n",
    "cd HelloWorld\n",
    "code .\n",
    "```"
   ]
  },
  {
   "cell_type": "markdown",
   "metadata": {},
   "source": [
    "Als het goed gaat, zie je dit in de \"Explorer\" van VS Code:\n",
    "![HelloWorldOverview](VSC-Project-HelloWorldOverview.png \"HelloWorldOverview\")"
   ]
  },
  {
   "cell_type": "markdown",
   "metadata": {},
   "source": [
    "## Project bestanden\n",
    "\n",
    "Zoals je ziet is \"HelloWorld\" de hoofd-map van het project.\n",
    "\n",
    "\"Program.cs\" is het beginpunt van de applicatie. Deze bevat de \"Main\" methode, welke als eerste wordt aangeroepen bij het uitvoeren van het programma.\n",
    "\n",
    "\"HelloWorld.csproj\" is een projectfile met informatie over o.a.:\n",
    "* afhankelijkheden (dependencies);\n",
    "* .NET versies.\n",
    "\n",
    "\"CSharp.sln\" (of \"HelloWorld.sln\") is een bestand dat eigenlijk niet nodig is voor Visual Studio Code, maar voor Visual Studio. Dat is ook een IDE van Microsoft, waar veel meer software ontwikkel hulpmiddelen standaard in verwerkt zijn. Visual Studio Code, is eigenlijk een lichtgewicht editor, uitbreidbaar met allerlei Extensions."
   ]
  },
  {
   "cell_type": "markdown",
   "metadata": {},
   "source": [
    "## Een project \"bouwen\" en uitvoeren\n",
    "\n",
    "Open het bestand \"Program.cs\" en gebruik \"Ctrl+F5\" om deze code uit te voeren. Alternatief: ![Run](VSC-Project-Run.png \"Run\")\n",
    "\n",
    "Voordat deze code uitgevoerd kan worden, zal Visual Studio Code (eigenlijk de C# Extension) het project \"bouwen\" tot een \"executable\".\n",
    "\n",
    "De 'executable' is te vinden in de \"bin\" map van het project -> \"HelloWorld.exe\"\n",
    "\n",
    "Het uitvoeren betekent niets meer dan dat die 'executable' wordt gestart.\n",
    "\n",
    "## Help! Het bouwen lukt niet.\n",
    "Als het bouwen van de applicatie niet lukt controleer dan eerst of je code geen fouten bevat. Je vindt foutmeldingen in het tabblad `Problems` onder. Je kunt ook de tekst in de terminal lezen.  \n",
    "\n",
    "Krijg je een foutmelding van Visual Studio Code zelf zoals : `No C# project is currently loaded` dan betekent dit dat Visual Studio Code niet weet welk project je wilt bouwen. \n",
    "\n",
    "### Oplossing 1: Open de map waarin het .csproj bestand staat.\n",
    "\n",
    "Als je bijvoorbeeld een bovenliggende map hebt geopend begrijpt Visual Studio Code niet welk project wilt bouwen. Open in Visual Studio Code map waarin je `.csproj`-bestand staat en probeer het nogmaals.\n",
    "\n",
    "### Oplossing 2: Build/debug assets genereren\n",
    "Je kunt in Visual Studio Code de 'build'-configuratie te genereren. Doe dit op een soortgelijke manier als dat je een project aanmaakt:\n",
    "\n",
    "1. Open de command palette (`CTRL+SHIFT+P` of type `>` in de zoekbalk bovenin)\n",
    "2. Ga op zoek naar `.NET: Generate Assets for Build and Debug` en klik dit aan.\n",
    "\n",
    "Visual Studio Code zal in de map `.vscode` een `tasks.json` en `launch.json` aanmaken waarin precies staat hoe jouw project gebouwd en gedebugged kan worden. \n",
    "\n"
   ]
  },
  {
   "cell_type": "markdown",
   "metadata": {},
   "source": [
    "## Een project bouwen voor een andere PC\n",
    "\n",
    "Soms wil je een applicatie bouwen om je eigen PC maar uitvoeren op een andere PC. We gaan onze applicatie dan 'publiceren'. Helaas zit er in Visual Studio Code geen publiceer knop. \n",
    "\n",
    "Voor het bouwen heb je dan een ander commando nodig:\n",
    "\n",
    "```\n",
    "dotnet publish -r win-x64 --self-contained true\n",
    "```\n",
    "\n",
    "Na het uitvoeren van dit commando, zul je de map \"publish\" vinden onder \"bin\\Release\\net8.0\\win-x64\". Hiermee heb je de applicatie gebouwd voor een windows computer met x64 processor (`win-x64`) en wordt het .NET-framework meegeleverd met de applicatie (`self-contained true`). Dit houdt dus in dat het .NET framework (in de juiste versie) niet al geïnstalleerd hoeft te zijn op de computer, maar betekent wel dat je .zip een grote bestandsgrootte heeft. Wil je je weten hoe je je .NET applicatie voor andere machines kunt publiceren en welke opties er nog meer zijn? Kijk dan eens in de documentatie op [https://learn.microsoft.com/en-us/dotnet/core/deploying/](dotnet publish overview).\n",
    "\n",
    "Deze \"publish\"-map kun je inpakken (zippen):\n",
    "* Ga met een Windows Explorer (\"Win+E\"), naar de map \"bin\\Release\\net8.0\\win-x64\" onder de map waar je applicatie staat.\n",
    "* Rechter-muisknop -> \"Compress to Zip file\":\n",
    "\n",
    "![CompressToZip](VSC-Project-CompressToZip.png \"Compress to Zip\")\n",
    "* Geef een goede naam (bijvoorbeeld \"HelloWorld.zip\")\n",
    "\n",
    "\n",
    "Om dit bestand uit te voeren op een andere pc, dien je dit zip-bestand te kopiëren naar een andere Windows PC, uitpakken en de \"HelloWorld.exe\" uit te voeren.\n",
    "\n",
    "\n",
    "\n",
    "\n",
    "\n",
    "\n",
    "\n"
   ]
  },
  {
   "cell_type": "markdown",
   "metadata": {},
   "source": [
    "# Opdracht 1\n",
    "\n",
    "Schrijf de \"HelloWorld\" applicatie, open een terminal in VS Code en voer de \"Debug\"-versie \"HelloWorld.exe\" uit.\n"
   ]
  },
  {
   "cell_type": "markdown",
   "metadata": {},
   "source": [
    "# Opdracht 2\n",
    "\n",
    "Schrijf een applicatie die een unieke tekst afbeeld.\n",
    "\n",
    "Voer deze uit op een computer van een mede-student. "
   ]
  }
 ],
 "metadata": {
  "kernelspec": {
   "display_name": ".NET (C#)",
   "language": "C#",
   "name": ".net-csharp"
  },
  "language_info": {
   "name": "polyglot-notebook"
  },
  "polyglot_notebook": {
   "kernelInfo": {
    "defaultKernelName": "csharp",
    "items": [
     {
      "aliases": [],
      "languageName": "csharp",
      "name": "csharp"
     }
    ]
   }
  }
 },
 "nbformat": 4,
 "nbformat_minor": 2
}
