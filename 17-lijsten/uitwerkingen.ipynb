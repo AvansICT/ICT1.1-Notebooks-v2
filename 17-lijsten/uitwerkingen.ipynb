{
 "cells": [
  {
   "cell_type": "markdown",
   "metadata": {},
   "source": [
    "# Uitwerkingen: Verzamelingen en Collecties"
   ]
  },
  {
   "cell_type": "markdown",
   "metadata": {},
   "source": [
    "# Vragen"
   ]
  },
  {
   "cell_type": "markdown",
   "metadata": {},
   "source": [
    "### Vraag 1: Boodschappenlijst"
   ]
  },
  {
   "cell_type": "code",
   "execution_count": null,
   "metadata": {
    "polyglot_notebook": {
     "kernelName": "csharp"
    },
    "vscode": {
     "languageId": "polyglot-notebook"
    }
   },
   "outputs": [],
   "source": [
    "List<string> boodschappenlijst = new List<string>();\n",
    "boodschappenlijst.Add(\"Melk\");\n",
    "boodschappenlijst.Add(\"Brood\");\n",
    "boodschappenlijst.Add(\"Eieren\");\n",
    "\n",
    "Console.WriteLine(\"Boodschappen:\");\n",
    "foreach (string item in boodschappenlijst)\n",
    "{\n",
    "    Console.WriteLine(\"- \" + item);\n",
    "}"
   ]
  },
  {
   "cell_type": "markdown",
   "metadata": {},
   "source": [
    "### Vraag 2: Toegang tot een Element"
   ]
  },
  {
   "cell_type": "code",
   "execution_count": null,
   "metadata": {
    "polyglot_notebook": {
     "kernelName": "csharp"
    },
    "vscode": {
     "languageId": "polyglot-notebook"
    }
   },
   "outputs": [],
   "source": [
    "List<string> dagen = [\"Maandag\", \"Dinsdag\", \"Woensdag\", \"Donderdag\", \"Vrijdag\"];\n",
    "\n",
    "// Het derde element heeft index 2\n",
    "string derdeDag = dagen[2];\n",
    "Console.WriteLine(\"Het derde element is: \" + derdeDag);"
   ]
  },
  {
   "cell_type": "markdown",
   "metadata": {},
   "source": [
    "### Vraag 3: Dynamisch vullen"
   ]
  },
  {
   "cell_type": "code",
   "execution_count": null,
   "metadata": {
    "polyglot_notebook": {
     "kernelName": "csharp"
    },
    "vscode": {
     "languageId": "polyglot-notebook"
    }
   },
   "outputs": [],
   "source": [
    "List<string> favorieteFilms = new List<string>();\n",
    "\n",
    "Console.WriteLine(\"Voer uw eerste favoriete film in:\");\n",
    "favorieteFilms.Add(Console.ReadLine());\n",
    "\n",
    "Console.WriteLine(\"Voer uw tweede favoriete film in:\");\n",
    "favorieteFilms.Add(Console.ReadLine());\n",
    "\n",
    "Console.WriteLine(\"Voer uw derde favoriete film in:\");\n",
    "favorieteFilms.Add(Console.ReadLine());\n",
    "\n",
    "Console.WriteLine(\"\\nUw favoriete films zijn:\");\n",
    "foreach(string film in favorieteFilms)\n",
    "{\n",
    "    Console.WriteLine(film);\n",
    "}"
   ]
  },
  {
   "cell_type": "markdown",
   "metadata": {},
   "source": [
    "### Vraag 4: Aantal Elementen"
   ]
  },
  {
   "cell_type": "code",
   "execution_count": null,
   "metadata": {
    "polyglot_notebook": {
     "kernelName": "csharp"
    },
    "vscode": {
     "languageId": "polyglot-notebook"
    }
   },
   "outputs": [],
   "source": [
    "List<int> scores = [10, 4, 9, 12, 90, 165];\n",
    "int aantal = scores.Count;\n",
    "Console.WriteLine(\"De lijst bevat \" + aantal + \" elementen.\");"
   ]
  },
  {
   "cell_type": "markdown",
   "metadata": {},
   "source": [
    "### Vraag 5: Het laatste element"
   ]
  },
  {
   "cell_type": "code",
   "execution_count": null,
   "metadata": {
    "polyglot_notebook": {
     "kernelName": "csharp"
    },
    "vscode": {
     "languageId": "polyglot-notebook"
    }
   },
   "outputs": [],
   "source": [
    "List<string> items = [\"Eerste\", \"Middelste\", \"Laatste\"];\n",
    "\n",
    "if (items.Count > 0)\n",
    "{\n",
    "    // De index van het laatste item is altijd Count - 1\n",
    "    string laatsteItem = items[items.Count - 1];\n",
    "    Console.WriteLine(\"Het laatste element is: \" + laatsteItem);\n",
    "}"
   ]
  },
  {
   "cell_type": "markdown",
   "metadata": {},
   "source": [
    "# Uitdagingen"
   ]
  },
  {
   "cell_type": "markdown",
   "metadata": {},
   "source": [
    "### Uitdaging 1: Zoek een Specifiek Item"
   ]
  },
  {
   "cell_type": "code",
   "execution_count": null,
   "metadata": {
    "polyglot_notebook": {
     "kernelName": "csharp"
    },
    "vscode": {
     "languageId": "polyglot-notebook"
    }
   },
   "outputs": [],
   "source": [
    "List<string> aanwezigen = [\"Piet\", \"Jan\", \"Klaas\"];\n",
    "Console.WriteLine(\"Wiens aanwezigheid wilt u controleren?\");\n",
    "string zoekNaam = Console.ReadLine();\n",
    "\n",
    "bool gevonden = false;\n",
    "foreach(string naam in aanwezigen)\n",
    "{\n",
    "    if (naam.ToLower() == zoekNaam.ToLower())\n",
    "    {\n",
    "        gevonden = true;\n",
    "        break; // We kunnen stoppen met zoeken zodra we de naam hebben gevonden\n",
    "    }\n",
    "}\n",
    "\n",
    "if (gevonden)\n",
    "{\n",
    "    Console.WriteLine($\"{zoekNaam} staat in de lijst.\");\n",
    "}\n",
    "else\n",
    "{\n",
    "    Console.WriteLine($\"{zoekNaam} staat niet in de lijst.\");\n",
    "}"
   ]
  },
  {
   "cell_type": "markdown",
   "metadata": {},
   "source": [
    "### Uitdaging 2: Filter en kopieer"
   ]
  },
  {
   "cell_type": "code",
   "execution_count": null,
   "metadata": {
    "polyglot_notebook": {
     "kernelName": "csharp"
    },
    "vscode": {
     "languageId": "polyglot-notebook"
    }
   },
   "outputs": [],
   "source": [
    "List<int> origineel = [5, 12, -8, 25, -2, 15];\n",
    "List<int> gefilterd = new List<int>();\n",
    "\n",
    "foreach (int getal in origineel)\n",
    "{\n",
    "    if (getal > 0)\n",
    "    {\n",
    "        gefilterd.Add(getal);\n",
    "    }\n",
    "}\n",
    "\n",
    "Console.WriteLine(\"De gefilterde lijst (alleen positieve getallen) is: \" + string.Join(\", \", gefilterd));"
   ]
  },
  {
   "cell_type": "markdown",
   "metadata": {},
   "source": [
    "### Uitdaging 3: Omgekeerde lijst"
   ]
  },
  {
   "cell_type": "code",
   "execution_count": null,
   "metadata": {
    "polyglot_notebook": {
     "kernelName": "csharp"
    },
    "vscode": {
     "languageId": "polyglot-notebook"
    }
   },
   "outputs": [],
   "source": [
    "List<string> origineel = [\"een\", \"twee\", \"drie\"];\n",
    "List<string> omgekeerd = new List<string>();\n",
    "\n",
    "// Begin bij de laatste index en tel terug naar 0\n",
    "for (int i = origineel.Count - 1; i >= 0; i--)\n",
    "{\n",
    "    omgekeerd.Add(origineel[i]);\n",
    "}\n",
    "\n",
    "Console.WriteLine(\"Omgekeerde lijst: \" + string.Join(\", \", omgekeerd));"
   ]
  }
 ],
 "metadata": {
  "kernelspec": {
   "display_name": ".NET (C#)",
   "language": "C#",
   "name": ".net-csharp"
  },
  "language_info": {
   "name": "csharp"
  }
 },
 "nbformat": 4,
 "nbformat_minor": 2
}
