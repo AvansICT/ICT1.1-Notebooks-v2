{
 "cells": [
  {
   "cell_type": "markdown",
   "metadata": {},
   "source": [
    "# Uitwerkingen"
   ]
  },
  {
   "cell_type": "markdown",
   "metadata": {},
   "source": [
    "## Opdracht 1"
   ]
  },
  {
   "cell_type": "code",
   "execution_count": null,
   "metadata": {
    "vscode": {
     "languageId": "polyglot-notebook"
    }
   },
   "outputs": [],
   "source": [
    "Console.WriteLine(\"Hello World\");"
   ]
  },
  {
   "cell_type": "markdown",
   "metadata": {},
   "source": [
    "## Opdracht 2\n",
    "\n",
    "```csharp\n",
    "string naam = Console.ReadLine(\"Wat is je naam?\");\n",
    "Console.WriteLine(\"Hallo, \" + naam);\n",
    "```"
   ]
  },
  {
   "cell_type": "markdown",
   "metadata": {},
   "source": [
    "## Opdracht 3"
   ]
  },
  {
   "cell_type": "code",
   "execution_count": null,
   "metadata": {
    "vscode": {
     "languageId": "polyglot-notebook"
    }
   },
   "outputs": [],
   "source": [
    "Console.WriteLine(\"*****\");\n",
    "Console.WriteLine(\"*   *\");\n",
    "Console.WriteLine(\"*   *\");\n",
    "Console.WriteLine(\"*   *\");\n",
    "Console.WriteLine(\"*****\");"
   ]
  },
  {
   "cell_type": "markdown",
   "metadata": {},
   "source": [
    "## Uitdaging 1\n",
    "\n",
    "```csharp\n",
    "int hoogte = 3;\n",
    "int breedte = 4;\n",
    "\n",
    "// dit is een lus en wordt herhaalt van 1 tot en met 3 (waarde van hoogte)\n",
    "for (int i = 1; i <= hoogte; i++)\n",
    "{\n",
    "    // dit is een lus en wordt herhaalt van 1 tot en met 4 (waarde van hoogte)\n",
    "    for (int j = 1; j <= breedte; j++)\n",
    "    {\n",
    "        Console.Write(\"*\");\n",
    "    }\n",
    "    Console.WriteLine();\n",
    "}\n",
    "```\n"
   ]
  },
  {
   "cell_type": "markdown",
   "metadata": {},
   "source": [
    "# Uitdaging 2\n",
    "\n",
    "```csharp\n",
    "int breedte = 10;\n",
    "\n",
    "// het aantal sterren wordt met 2 opgehoogd iedere keer, vanwege symmetrie\n",
    "for (int aantalSterren = 1; aantalSterren <= breedte; aantalSterren += 2)\n",
    "{\n",
    "    // bereken het aantal spaties voor de sterren\n",
    "    int aantalSpaties = (breedte - aantalSterren) / 2;\n",
    "\n",
    "    // print het aantal berekende spaties\n",
    "    for (int tellerSpaties = 0; tellerSpaties < aantalSpaties; tellerSpaties++)\n",
    "    {\n",
    "        Console.Write(\" \");\n",
    "    }\n",
    "\n",
    "    // print nu het aantal sterren wat nodig is\n",
    "    for (int tellerSterren = 0; tellerSterren < aantalSterren; tellerSterren++)\n",
    "    {\n",
    "        Console.Write(\"*\");\n",
    "    }\n",
    "\n",
    "    Console.WriteLine();\n",
    "}\n",
    "```"
   ]
  },
  {
   "cell_type": "markdown",
   "metadata": {},
   "source": [
    "# Uitdaging 3\n",
    "\n",
    "```csharp\n",
    "string geboorteJaar = Console.ReadLine(\"Wat is uw geboortejaar?\");\n",
    "int geboorteJaarAlsGetal = Convert.ToInt32(geboorteJaar);\n",
    "\n",
    "// met deze code kunnen we het huidige jaar opvragen aan de computer\n",
    "int huidigJaar = DateTime.Now.Year;\n",
    "int leeftijd = huidigJaar - geboorteJaarAlsGetal; // aanname dat gebruiker al jarig is geweest, anders is dit natuurlijk niet correct want we gebruiken immers niet de maand en de dag\n",
    "\n",
    "Console.WriteLine(\"Uw leeftijd is \" + leeftijd);\n",
    "```"
   ]
  },
  {
   "cell_type": "code",
   "execution_count": null,
   "metadata": {
    "vscode": {
     "languageId": "polyglot-notebook"
    }
   },
   "outputs": [],
   "source": []
  }
 ],
 "metadata": {
  "language_info": {
   "name": "python"
  }
 },
 "nbformat": 4,
 "nbformat_minor": 2
}
