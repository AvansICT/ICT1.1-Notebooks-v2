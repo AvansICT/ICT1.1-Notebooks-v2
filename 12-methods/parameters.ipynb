{
 "cells": [
  {
   "cell_type": "markdown",
   "metadata": {},
   "source": [
    "# Methode parameters\n",
    "Zoals in [Methodes](/methodes/methodes.ipynb) is aangegeven kan een **methode** ook parameters bevatten. Een parameter is een variabele die gebruikt kan worden in de **methode** *scope*. [Hier vind je meer informatie over Scopes](/variabelen-expressies/scopes.ipynb). In je **methode** aanroep geef je deze parameters aan."
   ]
  },
  {
   "cell_type": "code",
   "execution_count": 1,
   "metadata": {
    "dotnet_interactive": {
     "language": "csharp"
    },
    "polyglot_notebook": {
     "kernelName": "csharp"
    }
   },
   "outputs": [],
   "source": [
    "CalculateEnergyConsumption(23, 47, 12);\n",
    "\n",
    "int CalculateEnergyConsumption(int gasConsumption, int elektricityConsumption, int waterConsumption){\n",
    "    return gasConsumption + elektricityConsumption + waterConsumption;\n",
    "}"
   ]
  },
  {
   "cell_type": "markdown",
   "metadata": {},
   "source": []
  },
  {
   "cell_type": "markdown",
   "metadata": {},
   "source": [
    "De parameters die je meegeeft kunnen alle [datatypes(int, string, float, char, list, array, etc)](/variabelen-expressies/datatypes.ipynb) zijn. Maar je kan bijvoorbeeld ook **methodes** meegeven of *linq queries*, maar dat is voor het volgend studiejaar. Hier toch alvast een voorbeeld hoe je dat kan doen:"
   ]
  },
  {
   "cell_type": "code",
   "execution_count": null,
   "metadata": {
    "dotnet_interactive": {
     "language": "csharp"
    },
    "polyglot_notebook": {
     "kernelName": "csharp"
    }
   },
   "outputs": [],
   "source": [
    "void RunMethod(Func<double, double, double> berekenMethode, double kracht, double tijd)"
   ]
  },
  {
   "cell_type": "markdown",
   "metadata": {},
   "source": [
    "Houd altijd wel rekening met de leesbaarheid en voeg geen lange reeks parameters toe. In dat soort gevallen heb je *objecten* nodig, maar dat valt buiten de scope van deze periode.\n",
    "\n",
    "## Opdracht 1\n",
    "We gaan opdracht 1 in [Methodes](./methodes.ipynb) uitbreiden. Hierbij moet aan de volgende requirements worden voldaan:\n",
    "- De waterprijs kan ik als decimaal meegeven\n",
    "- de hoeveelheid kuub in een int16\n",
    "- belasting is een double\n",
    "- string met een waarschuwingsbericht dat je te veel gas gebruikt > 50 kuub\n",
    "- methode output de prijs in de console plus de waarschuwing als het breekpunt wordt bereikt"
   ]
  },
  {
   "cell_type": "code",
   "execution_count": 3,
   "metadata": {
    "dotnet_interactive": {
     "language": "csharp"
    },
    "polyglot_notebook": {
     "kernelName": "csharp"
    }
   },
   "outputs": [],
   "source": []
  },
  {
   "cell_type": "markdown",
   "metadata": {},
   "source": [
    "## Opdracht 2\n",
    "We gaan opdracht 2 in [Methodes](./methodes.ipynb) uitbreiden. Hierbij moet aan de volgende requirements worden voldaan:\n",
    "- het aantal Kwh in long\n",
    "- prijs in een float\n",
    "- de verhoging wanneer je 100kwh hebt gepasseerd in een decimal\n",
    "- methode output de prijs afgerond op 3 decimalen (N3 format)"
   ]
  },
  {
   "cell_type": "code",
   "execution_count": 4,
   "metadata": {
    "dotnet_interactive": {
     "language": "csharp"
    },
    "polyglot_notebook": {
     "kernelName": "csharp"
    }
   },
   "outputs": [],
   "source": []
  }
 ],
 "metadata": {
  "kernelspec": {
   "display_name": ".NET (C#)",
   "language": "C#",
   "name": ".net-csharp"
  },
  "language_info": {
   "name": "polyglot-notebook"
  },
  "polyglot_notebook": {
   "kernelInfo": {
    "defaultKernelName": "csharp",
    "items": [
     {
      "aliases": [],
      "languageName": "csharp",
      "name": "csharp"
     }
    ]
   }
  }
 },
 "nbformat": 4,
 "nbformat_minor": 2
}
