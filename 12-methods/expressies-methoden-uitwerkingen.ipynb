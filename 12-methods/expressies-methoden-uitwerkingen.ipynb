{
 "cells": [
  {
   "cell_type": "markdown",
   "metadata": {},
   "source": [
    "# Uitwerkingen"
   ]
  },
  {
   "cell_type": "markdown",
   "metadata": {},
   "source": [
    "## Opdracht 1"
   ]
  },
  {
   "cell_type": "code",
   "execution_count": 6,
   "metadata": {
    "dotnet_interactive": {
     "language": "csharp"
    },
    "polyglot_notebook": {
     "kernelName": "csharp"
    }
   },
   "outputs": [],
   "source": [
    "// Methode die controleert of een getal even is\n",
    "bool IsEven(int number)\n",
    "{\n",
    "    return number % 2 == 0;\n",
    "}\n",
    "\n",
    "int getal = 3;\n",
    "\n",
    "// Roep de IsEven methode aan en geef de uitkomst weer\n",
    "if (IsEven(getal))\n",
    "{\n",
    "    Console.WriteLine(\"Het getal \" + getal + \" is even.\");\n",
    "}\n",
    "else\n",
    "{\n",
    "    Console.WriteLine(\"Het getal \" + getal + \" is oneven.\");\n",
    "}"
   ]
  },
  {
   "cell_type": "markdown",
   "metadata": {},
   "source": [
    "## Opdracht 2"
   ]
  },
  {
   "cell_type": "code",
   "execution_count": null,
   "metadata": {
    "dotnet_interactive": {
     "language": "csharp"
    },
    "polyglot_notebook": {
     "kernelName": "csharp"
    }
   },
   "outputs": [],
   "source": [
    "// Methode die controleert of het vriest en een boolean retourneert\n",
    "bool ControleerOfHetVriest(int temperatuur)\n",
    "{\n",
    "    if (temperatuur < 0) \n",
    "    {\n",
    "        return true;\n",
    "    } else \n",
    "    {\n",
    "        return false;\n",
    "    }\n",
    "}\n",
    "\n",
    "int temperatuur = -12;\n",
    "\n",
    "// Geef de uitkomst weer\n",
    "if (ControleerOfHetVriest(temperatuur))\n",
    "{\n",
    "    Console.WriteLine(\"Het vriest wel.\");\n",
    "}\n",
    "else\n",
    "{\n",
    "    Console.WriteLine(\"Het vriest niet.\");\n",
    "}"
   ]
  },
  {
   "cell_type": "markdown",
   "metadata": {},
   "source": [
    "## Opdracht 3"
   ]
  },
  {
   "cell_type": "code",
   "execution_count": null,
   "metadata": {
    "dotnet_interactive": {
     "language": "csharp"
    },
    "polyglot_notebook": {
     "kernelName": "csharp"
    }
   },
   "outputs": [],
   "source": [
    "using Microsoft.DotNet.Interactive;\n",
    "\n",
    "// Enum voor seizoenen\n",
    "public enum Seizoen\n",
    "{\n",
    "    Zomer,\n",
    "    Herfst,\n",
    "    Winter,\n",
    "    Lente\n",
    "}\n",
    "\n",
    "double batterijOpslagInKwh = 82;\n",
    "\n",
    "// Methode die de het verbruik in Kwh berekend aan de hand van de actieradius, kilometers en seizoen\n",
    "double BenodigdAantalKwh(double aantalKilometers, Seizoen seizoen)\n",
    "{\n",
    "    // bepaal aan de hand van het seizoen wat de actieradius is\n",
    "    double actieRadius = IsWinter(seizoen) ? 500 : 663;\n",
    "\n",
    "    // Bereken verbruik per kilometer en daarmee de benodigde KWh voor deze rit\n",
    "    double kwhPerKm = batterijOpslagInKwh / actieRadius;\n",
    "    double benodigdAantalKwH = kwhPerKm * aantalKilometers;\n",
    "\n",
    "    return benodigdAantalKwH;\n",
    "}\n",
    "\n",
    "// Methode die controleert of het winter is\n",
    "bool IsWinter(Seizoen seizoen)\n",
    "{\n",
    "    return seizoen == Seizoen.Winter;\n",
    "}\n",
    "\n",
    "// Vraag de gebruiker om het aantal kilometers en het seizoen\n",
    "string aantalKilometersInput = await Kernel.GetInputAsync(\"Voer het aantal kilometers in dat je wilt afleggen: \");\n",
    "double aantalKilometers = double.Parse(aantalKilometersInput);\n",
    "\n",
    "string seizoenInput = await Kernel.GetInputAsync(\"Voer het seizoen in (Zomer, Herfst, Winter, Lente): \");\n",
    "Seizoen seizoen = (Seizoen)Enum.Parse(typeof(Seizoen), seizoenInput, true);\n",
    "\n",
    "// Bereken de verbruikte batterij opslag\n",
    "double benodigdAantalKwh = BenodigdAantalKwh(aantalKilometers, seizoen);\n",
    "\n",
    "// Bereken de resterende batterij opslag\n",
    "double resterendeBatterijOpslag = batterijOpslagInKwh - benodigdAantalKwh;\n",
    "Console.WriteLine($\"De resterende batterij opslag na een rit van {aantalKilometers}km tijdens het {seizoen} seizoen is: {resterendeBatterijOpslag:0.##} kWh\");"
   ]
  }
 ],
 "metadata": {
  "kernelspec": {
   "display_name": ".NET (C#)",
   "language": "C#",
   "name": ".net-csharp"
  },
  "language_info": {
   "name": "polyglot-notebook"
  },
  "polyglot_notebook": {
   "kernelInfo": {
    "defaultKernelName": "csharp",
    "items": [
     {
      "aliases": [],
      "languageName": "csharp",
      "name": "csharp"
     }
    ]
   }
  }
 },
 "nbformat": 4,
 "nbformat_minor": 2
}
