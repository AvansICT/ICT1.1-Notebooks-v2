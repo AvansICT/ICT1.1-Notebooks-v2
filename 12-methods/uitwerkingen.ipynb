{
 "cells": [
  {
   "cell_type": "markdown",
   "source": [
    "# Uitwerkingen: Methodes en Functies"
   ]
  },
  {
   "cell_type": "markdown",
   "source": [
    "# Vragen"
   ]
  },
  {
   "cell_type": "markdown",
   "source": [
    "### Vraag 1: Groeten"
   ]
  },
  {
   "cell_type": "code",
   "execution_count": null,
   "metadata": {},
   "outputs": [],
   "source": [
    "void GroetGebruiker(string naam)\n",
    "{\n",
    "    Console.WriteLine($\"Hallo, {naam}!\");\n",
    "}\n",
    "\n",
    "// Voorbeeld van aanroep\n",
    "GroetGebruiker(\"Alex\");"
   ]
  },
  {
   "cell_type": "markdown",
   "source": [
    "### Vraag 2: Vermenigvuldigen"
   ]
  },
  {
   "cell_type": "code",
   "execution_count": null,
   "metadata": {},
   "outputs": [],
   "source": [
    "double Vermenigvuldig(double a, double b)\n",
    "{\n",
    "    return a * b;\n",
    "}\n",
    "\n",
    "// Voorbeeld van aanroep\n",
    "double resultaat = Vermenigvuldig(5.5, 10.0);\n",
    "Console.WriteLine(\"Het product is: \" + resultaat);"
   ]
  },
  {
   "cell_type": "markdown",
   "source": [
    "### Vraag 3: Is het weekend?"
   ]
  },
  {
   "cell_type": "code",
   "execution_count": null,
   "metadata": {},
   "outputs": [],
   "source": [
    "bool IsWeekend(string dag)\n",
    "{\n",
    "    string lageDag = dag.ToLower(); // Ongevoelig voor hoofdletters maken\n",
    "    if (lageDag == \"zaterdag\" || lageDag == \"zondag\")\n",
    "    {\n",
    "        return true;\n",
    "    }\n",
    "    else\n",
    "    {\n",
    "        return false;\n",
    "    }\n",
    "    // Kortere versie: return lageDag == \"zaterdag\" || lageDag == \"zondag\";\n",
    "}\n",
    "\n",
    "// Voorbeeld van aanroep\n",
    "Console.WriteLine(\"Is dinsdag een weekenddag? \" + IsWeekend(\"dinsdag\"));\n",
    "Console.WriteLine(\"Is ZATERDAG een weekenddag? \" + IsWeekend(\"ZATERDAG\"));"
   ]
  },
  {
   "cell_type": "markdown",
   "source": [
    "### Vraag 4: Omtrek van een Cirkel"
   ]
  },
  {
   "cell_type": "code",
   "execution_count": null,
   "metadata": {},
   "outputs": [],
   "source": [
    "double BerekenOmtrek(double straal)\n",
    "{\n",
    "    return 2 * Math.PI * straal;\n",
    "}\n",
    "\n",
    "// Voorbeeld van aanroep\n",
    "double omtrek = BerekenOmtrek(10.0);\n",
    "Console.WriteLine($\"De omtrek is: {omtrek:F2}\");"
   ]
  },
  {
   "cell_type": "markdown",
   "source": [
    "### Vraag 5: Combineren van methodes"
   ]
  },
  {
   "cell_type": "code",
   "execution_count": null,
   "metadata": {},
   "outputs": [],
   "source": [
    "// Gebruik de methode uit de vorige vraag\n",
    "double BerekenOmtrek(double straal)\n",
    "{\n",
    "    return 2 * Math.PI * straal;\n",
    "}\n",
    "\n",
    "// De return-waarde wordt direct als argument meegegeven aan Console.WriteLine\n",
    "Console.WriteLine($\"De omtrek van een cirkel met straal 5 is: {BerekenOmtrek(5.0):F2}\");"
   ]
  },
  {
   "cell_type": "markdown",
   "source": [
    "### Vraag 6: Gemiddelde van Drie"
   ]
  },
  {
   "cell_type": "code",
   "execution_count": null,
   "metadata": {},
   "outputs": [],
   "source": [
    "double BerekenGemiddelde(int a, int b, int c)\n",
    "{\n",
    "    // We casten de som naar een double om decimale deling te garanderen\n",
    "    return (double)(a + b + c) / 3.0;\n",
    "}\n",
    "\n",
    "// Voorbeeld van aanroep\n",
    "double gemiddelde = BerekenGemiddelde(5, 10, 12);\n",
    "Console.WriteLine($\"Het gemiddelde is: {gemiddelde:F2}\");"
   ]
  },
  {
   "cell_type": "markdown",
   "source": [
    "# Uitdagingen"
   ]
  },
  {
   "cell_type": "markdown",
   "source": [
    "### Uitdaging 1: Tekst-analyse"
   ]
  },
  {
   "cell_type": "code",
   "execution_count": null,
   "metadata": {},
   "outputs": [],
   "source": [
    "void AnalyseerTekst(string tekst)\n",
    "{\n",
    "    if (string.IsNullOrEmpty(tekst))\n",
    "    {\n",
    "        Console.WriteLine(\"De tekst is leeg.\");\n",
    "        return;\n",
    "    }\n",
    "\n",
    "    // 1. Aantal karakters\n",
    "    int aantalKarakters = tekst.Length;\n",
    "\n",
    "    // 2. Aantal woorden\n",
    "    string[] woorden = tekst.Split(new char[] { ' ' }, StringSplitOptions.RemoveEmptyEntries);\n",
    "    int aantalWoorden = woorden.Length;\n",
    "\n",
    "    // 3. Aantal klinkers\n",
    "    int aantalKlinkers = 0;\n",
    "    string klinkers = \"aeiou\";\n",
    "    foreach (char c in tekst.ToLower())\n",
    "    {\n",
    "        if (klinkers.Contains(c))\n",
    "        {\n",
    "            aantalKlinkers++;\n",
    "        }\n",
    "    }\n",
    "\n",
    "    Console.WriteLine(\"--- Tekstanalyse ---\");\n",
    "    Console.WriteLine(\"Aantal karakters: \" + aantalKarakters);\n",
    "    Console.WriteLine(\"Aantal woorden: \" + aantalWoorden);\n",
    "    Console.WriteLine(\"Aantal klinkers: \" + aantalKlinkers);\n",
    "}\n",
    "\n",
    "// Voorbeeld van aanroep\n",
    "AnalyseerTekst(\"Dit is een voorbeeldzin voor de analyse.\");"
   ]
  },
  {
   "cell_type": "markdown",
   "source": [
    "### Uitdaging 2: Recursieve Faculteit"
   ]
  },
  {
   "cell_type": "code",
   "execution_count": null,
   "metadata": {},
   "outputs": [],
   "source": [
    "long BerekenFaculteit(int n)\n",
    "{\n",
    "    // Basisgeval: De faculteit van 0 is 1. Dit stopt de recursie.\n",
    "    if (n == 0)\n",
    "    {\n",
    "        return 1;\n",
    "    }\n",
    "    // Recursieve stap: n * de faculteit van (n-1).\n",
    "    return n * BerekenFaculteit(n - 1);\n",
    "}\n",
    "\n",
    "// Voorbeeld van aanroep (gebruik long voor grotere resultaten)\n",
    "long faculteitVan5 = BerekenFaculteit(5);\n",
    "Console.WriteLine(\"5! = \" + faculteitVan5);\n",
    "\n",
    "long faculteitVan15 = BerekenFaculteit(15);\n",
    "Console.WriteLine(\"15! = \" + faculteitVan15);"
   ]
  }
 ],
 "metadata": {
  "kernelspec": {
   "display_name": ".NET (C#)",
   "language": "C#",
   "name": ".net-csharp"
  },
  "language_info": {
   "name": "csharp"
  }
 },
 "nbformat": 4,
 "nbformat_minor": 2
}
