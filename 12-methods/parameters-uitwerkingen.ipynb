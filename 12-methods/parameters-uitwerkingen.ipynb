{
 "cells": [
  {
   "cell_type": "markdown",
   "metadata": {},
   "source": [
    "# Uitwerkingen"
   ]
  },
  {
   "cell_type": "markdown",
   "metadata": {},
   "source": [
    "## Opdracht 1"
   ]
  },
  {
   "cell_type": "code",
   "execution_count": null,
   "metadata": {
    "dotnet_interactive": {
     "language": "csharp"
    },
    "polyglot_notebook": {
     "kernelName": "csharp"
    }
   },
   "outputs": [],
   "source": [
    "void BerekenWaterprijs(decimal prijsPerKuub, short aantalM3Water) // hoewel je de short in de praktijk niet vaak zult tegenkomen.\n",
    "{\n",
    "    double belastingPercentage = 0.08;\n",
    "    // berekeningen voor de totale prijs inclusief belasting\n",
    "    decimal belasting = prijsPerKuub * (decimal)belastingPercentage;\n",
    "    decimal totalePrijs = aantalM3Water * (prijsPerKuub + belasting);\n",
    "\n",
    "    Console.WriteLine($\"De totale waterprijs is: {totalePrijs:F2} euro\");\n",
    "}\n",
    "\n",
    "// Aanroep van de methode hierboven\n",
    "BerekenWaterprijs(1.37m, 2000);"
   ]
  },
  {
   "cell_type": "markdown",
   "metadata": {},
   "source": [
    "## Opdracht 2"
   ]
  },
  {
   "cell_type": "code",
   "execution_count": null,
   "metadata": {
    "dotnet_interactive": {
     "language": "csharp"
    },
    "polyglot_notebook": {
     "kernelName": "csharp"
    }
   },
   "outputs": [],
   "source": [
    "void BerekenElectriciteitsprijs(long kWhVerbruik, float prijsPerKWhTot100, decimal verhogingBoven100KWh) // de verschillende datatypes zijn vooral bedoeld om te laten zien dat ook bij parameters types van toepassing zijn en niet perse nuttig/ bewust gekozen.\n",
    "{\n",
    "    // geven waardes volgens opdracht\n",
    "    double belastingPercentage = 0.04;\n",
    "\n",
    "    // Bereken kosten voor verbruik tot en boven 100 kWh\n",
    "    decimal totaleKosten = (decimal)Math.Min(kWhVerbruik, 100) * (decimal)prijsPerKWhTot100;\n",
    "    totaleKosten += ((kWhVerbruik > 100) ? (kWhVerbruik - 100) : 0) * ((decimal)prijsPerKWhTot100 + verhogingBoven100KWh);\n",
    "    Console.WriteLine(totaleKosten);\n",
    "\n",
    "    // totaalprijs en de prijs inclusief btw berekenen\n",
    "    decimal belasting = totaleKosten * (decimal)belastingPercentage;\n",
    "    decimal totalePrijs = totaleKosten + belasting;\n",
    "\n",
    "    // Output\n",
    "    Console.WriteLine($\"De totale prijs van {kWhVerbruik} kWh energie is € {totalePrijs:N3}\");\n",
    "}\n",
    "\n",
    "// Aanroep van de methode hierboven\n",
    "BerekenElectriciteitsprijs(100, 0.23f, 0.20m);"
   ]
  }
 ],
 "metadata": {
  "kernelspec": {
   "display_name": ".NET (C#)",
   "language": "C#",
   "name": ".net-csharp"
  },
  "language_info": {
   "name": "polyglot-notebook"
  },
  "polyglot_notebook": {
   "kernelInfo": {
    "defaultKernelName": "csharp",
    "items": [
     {
      "aliases": [],
      "languageName": "csharp",
      "name": "csharp"
     }
    ]
   }
  }
 },
 "nbformat": 4,
 "nbformat_minor": 2
}
