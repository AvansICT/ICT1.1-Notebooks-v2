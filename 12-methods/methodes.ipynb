{
 "cells": [
  {
   "cell_type": "markdown",
   "metadata": {},
   "source": [
    "# Methodes\n",
    "Een **methode** is een stukje code dat een bepaalde taak uitvoert. Het wordt gebruikt om herhalende acties te definiëren. Een voorbeeld zou zijn het printen van tekst naar de console. Hiervoor is de methode ***WriteLine*** uitgevonden. Deze heb je gebruikt in [IO/Output regels](/io/output-regels.ipynb).\n",
    "\n",
    "Een methode bestaat altijd uit 4 onderdelen:\n",
    "- **Naam** : Een unieke naam die omschrijft wat de **methode** doet.\n",
    "- **Parameters** : Optionele variabelen die je meegeeft, zodat je ermee kan werken in de **methode**.\n",
    "- **Codeblok** : Hierin staat de code die de taak uitvoert.\n",
    "- **Return waarde**: Optioneel een *variabel* die je teruggeeft aan de plek waar je hem hebt aangeroepen."
   ]
  },
  {
   "cell_type": "code",
   "execution_count": null,
   "metadata": {
    "dotnet_interactive": {
     "language": "csharp"
    },
    "polyglot_notebook": {
     "kernelName": "csharp"
    }
   },
   "outputs": [],
   "source": [
    "float GasConsumptionPrice(float gasConsumption , float gasPrice)\n",
    "{\n",
    "    return gasConsumption * gasPrice * 1.21f;\n",
    "}\n",
    "\n",
    "Console.WriteLine($\"$ {GasConsumptionPrice(12.0f, 0.39f)}\");\n",
    "Console.WriteLine($\"$ {GasConsumptionPrice(12.4f, 0.34f)}\");\n",
    "Console.WriteLine($\"$ {GasConsumptionPrice(16, 1.54f)}\");\n",
    "\n"
   ]
  },
  {
   "cell_type": "markdown",
   "metadata": {},
   "source": [
    "In de code hierboven zijn de onderdelen als volgt:\n",
    "- **Naam** : GasConsumptionPrice.\n",
    "- **Parameters** : 2 *floats* voor gasConsumption en gasPrice.\n",
    "- **CodeBlok** : De berekening van de prijs (consumptie * prijs * belasting).\n",
    "- **ReturnWaarde** : *float* met de berekende prijs.\n",
    "\n",
    "We roepen de code hierboven meerdere keren aan met verschillende parameters.\n",
    "Een **methode** kan je gebruiken om dubbele code te verminderen. Neem aan, dat we een grote applicatie waar de gasprijs op 100 plekken wordt berekend. Als we dan een wijziging maken in de prijsberekening dan moeten we dat op 100 plekken aanpassen. Wanneer we de prijsberekening zoals hierboven in een **methode** zetten. Hoeven we hem maar 1x te wijzigen. Dit zal veel werktijd schelen."
   ]
  },
  {
   "cell_type": "markdown",
   "metadata": {},
   "source": [
    "## Opdracht 1\n",
    "Schrijf een **methode** die het volgende doet:\n",
    "- Het doel van de **methode** is de waterprijs te berekenen\n",
    "- De **methode** heeft nog geen parameters of return waarde\n",
    "    - gebruik hiervoor de void als return waarde   \n",
    "- formule voor de berekening is: *kuub * prijs * belasting*\n",
    "    - voor nu vaste waardes 20000 liter water, prijs is 1,37 per kuub en de belasting is 8%\n",
    "- De **methode** output de waarde in de console."
   ]
  },
  {
   "cell_type": "code",
   "execution_count": 9,
   "metadata": {
    "dotnet_interactive": {
     "language": "csharp"
    },
    "polyglot_notebook": {
     "kernelName": "csharp"
    }
   },
   "outputs": [],
   "source": []
  },
  {
   "cell_type": "markdown",
   "metadata": {},
   "source": [
    "## Opdracht 2\n",
    "Maak ook een **methode** voor elektriciteit. De overheid heeft echter gekozen om burgers twee tarieven te geven, afhankelijk van het verbruik. Wel is het belastingpercentaga naar beneden bijgesteld op 4%, ongeacht het verbruik. Schrijf een methode die de totaalprijs print voor:\n",
    "- 235 Kwh stroom\n",
    "- 23 eurocent per Kwh tot 100 Kwh\n",
    "- 43 eurocent per Kwh boven de 100 Kwh\n",
    "- 4% belasting\n"
   ]
  },
  {
   "cell_type": "code",
   "execution_count": 10,
   "metadata": {
    "dotnet_interactive": {
     "language": "csharp"
    },
    "polyglot_notebook": {
     "kernelName": "csharp"
    }
   },
   "outputs": [],
   "source": []
  }
 ],
 "metadata": {
  "kernelspec": {
   "display_name": ".NET (C#)",
   "language": "C#",
   "name": ".net-csharp"
  },
  "language_info": {
   "name": "polyglot-notebook"
  },
  "polyglot_notebook": {
   "kernelInfo": {
    "defaultKernelName": "csharp",
    "items": [
     {
      "aliases": [],
      "languageName": "csharp",
      "name": "csharp"
     }
    ]
   }
  }
 },
 "nbformat": 4,
 "nbformat_minor": 2
}
