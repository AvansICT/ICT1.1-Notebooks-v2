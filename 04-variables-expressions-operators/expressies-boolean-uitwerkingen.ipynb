{
 "cells": [
  {
   "cell_type": "markdown",
   "metadata": {},
   "source": [
    "# Uitwerkingen"
   ]
  },
  {
   "cell_type": "markdown",
   "metadata": {},
   "source": [
    "## Opdracht 1"
   ]
  },
  {
   "cell_type": "code",
   "execution_count": null,
   "metadata": {
    "dotnet_interactive": {
     "language": "csharp"
    },
    "polyglot_notebook": {
     "kernelName": "csharp"
    }
   },
   "outputs": [],
   "source": [
    "float temperatuur = 12.5f;\n",
    "\n",
    "// Controleer of het vriest\n",
    "if (temperatuur < 0)\n",
    "{\n",
    "    Console.WriteLine(\"Het vriest.\");\n",
    "}\n",
    "else\n",
    "{\n",
    "    Console.WriteLine(\"Het vriest niet.\");\n",
    "}"
   ]
  },
  {
   "cell_type": "markdown",
   "metadata": {},
   "source": [
    "## Opdracht 2"
   ]
  },
  {
   "cell_type": "code",
   "execution_count": null,
   "metadata": {
    "dotnet_interactive": {
     "language": "csharp"
    },
    "polyglot_notebook": {
     "kernelName": "csharp"
    }
   },
   "outputs": [],
   "source": [
    "int getal = 10;\n",
    "\n",
    "// Controleer of het getal even of oneven is met behulp van de modulusoperator\n",
    "// Even als de rest van de deling door 2 gelijk is aan 0, anders oneven.\n",
    "if (getal % 2 == 0) \n",
    "{\n",
    "    Console.WriteLine($\"Het getal {getal} is even.\");\n",
    "}\n",
    "else\n",
    "{\n",
    "    Console.WriteLine($\"Het getal {getal} is oneven.\");\n",
    "}"
   ]
  },
  {
   "cell_type": "markdown",
   "metadata": {},
   "source": [
    "## Opdracht 3"
   ]
  },
  {
   "cell_type": "code",
   "execution_count": null,
   "metadata": {
    "dotnet_interactive": {
     "language": "csharp"
    },
    "polyglot_notebook": {
     "kernelName": "csharp"
    }
   },
   "outputs": [],
   "source": [
    "using Microsoft.DotNet.Interactive;\n",
    "\n",
    "string geboortejaarInput = await Kernel.GetInputAsync(\"Voer je geboortejaar in (bijv. 2005): \");\n",
    "int geboortejaar = Convert.ToInt32(geboortejaarInput);\n",
    "\n",
    "// Met deze code kunnen we het huidige jaar opvragen aan de computer\n",
    "int huidigJaar = DateTime.Now.Year;\n",
    "\n",
    "// Leeftijd berekenen aan de hand van de twee variabelen\n",
    "int leeftijd = huidigJaar - geboortejaar;\n",
    "\n",
    "// Controleer of de persoon ouder is dan 18\n",
    "if (leeftijd >= 18)\n",
    "{\n",
    "    Console.WriteLine(\"Je bent 18 jaar of ouder.\");\n",
    "}\n",
    "else\n",
    "{\n",
    "    Console.WriteLine(\"Je bent jonger dan 18 jaar.\");\n",
    "}"
   ]
  }
 ],
 "metadata": {
  "kernelspec": {
   "display_name": ".NET (C#)",
   "language": "C#",
   "name": ".net-csharp"
  },
  "language_info": {
   "name": "polyglot-notebook"
  },
  "polyglot_notebook": {
   "kernelInfo": {
    "defaultKernelName": "csharp",
    "items": [
     {
      "aliases": [],
      "languageName": "csharp",
      "name": "csharp"
     }
    ]
   }
  }
 },
 "nbformat": 4,
 "nbformat_minor": 2
}
