{
 "cells": [
  {
   "cell_type": "markdown",
   "metadata": {},
   "source": [
    "# Uitwerkingen"
   ]
  },
  {
   "cell_type": "markdown",
   "metadata": {},
   "source": [
    "## Opdracht 1"
   ]
  },
  {
   "cell_type": "code",
   "execution_count": null,
   "metadata": {
    "dotnet_interactive": {
     "language": "csharp"
    },
    "polyglot_notebook": {
     "kernelName": "csharp"
    }
   },
   "outputs": [],
   "source": [
    "int dagenInJaar = 365;\n",
    "\n",
    "// Bereken het aantal seconden in een jaar\n",
    "// 1 dag = 24 uur, 1 uur = 60 minuten, 1 minuut = 60 seconden\n",
    "int aantalSeconden = dagenInJaar * 24 * 60 * 60;\n",
    "\n",
    "// Print het aantal seconden naar de console\n",
    "Console.WriteLine($\"Aantal seconden in een jaar: {aantalSeconden}\");"
   ]
  },
  {
   "cell_type": "markdown",
   "metadata": {},
   "source": [
    "## Opdracht 2"
   ]
  },
  {
   "cell_type": "code",
   "execution_count": null,
   "metadata": {
    "dotnet_interactive": {
     "language": "csharp"
    },
    "polyglot_notebook": {
     "kernelName": "csharp"
    }
   },
   "outputs": [],
   "source": [
    "float a = 10;\n",
    "\n",
    "a = a * 1000;\n",
    "Console.WriteLine(a); // 10000\n",
    "a = a * 1000;\n",
    "Console.WriteLine(a); // 10000000\n",
    "\n",
    "// Hierna gebeurt er iets belangrijks. float kan niet zo groot worden, en het resultaat\n",
    "// kan leiden tot een overflow. Dit betekent dat het resultaat niet meer correct kan\n",
    "// worden weergegeven en er kan een wetenschappelijke notatie verschijnen.\n",
    "\n",
    "a = a * 1000;\n",
    "Console.WriteLine(a); // 1E+10\n",
    "a = a * 1000;\n",
    "Console.WriteLine(a); // 1E+13"
   ]
  }
 ],
 "metadata": {
  "kernelspec": {
   "display_name": ".NET (C#)",
   "language": "C#",
   "name": ".net-csharp"
  },
  "language_info": {
   "name": "polyglot-notebook"
  },
  "polyglot_notebook": {
   "kernelInfo": {
    "defaultKernelName": "csharp",
    "items": [
     {
      "aliases": [],
      "languageName": "csharp",
      "name": "csharp"
     }
    ]
   }
  }
 },
 "nbformat": 4,
 "nbformat_minor": 2
}
