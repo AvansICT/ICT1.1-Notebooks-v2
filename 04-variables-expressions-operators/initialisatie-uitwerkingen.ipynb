{
 "cells": [
  {
   "cell_type": "markdown",
   "metadata": {},
   "source": [
    "# Uitwerkingen"
   ]
  },
  {
   "cell_type": "markdown",
   "metadata": {},
   "source": [
    "## Opdracht 1"
   ]
  },
  {
   "cell_type": "code",
   "execution_count": null,
   "metadata": {
    "dotnet_interactive": {
     "language": "csharp"
    },
    "polyglot_notebook": {
     "kernelName": "csharp"
    }
   },
   "outputs": [],
   "source": [
    "// Initialiseer de variabelen\n",
    "string naam = \"Voornaam en Achternaam\";\n",
    "int leeftijd = 17;\n",
    "\n",
    "// Print de naam en leeftijd naar de console\n",
    "Console.WriteLine($\"Mijn naam is: {naam}\");\n",
    "Console.WriteLine($\"Mijn leeftijd is: {leeftijd}\");"
   ]
  },
  {
   "cell_type": "markdown",
   "metadata": {},
   "source": [
    "## Opdracht 2\n"
   ]
  },
  {
   "cell_type": "code",
   "execution_count": null,
   "metadata": {
    "dotnet_interactive": {
     "language": "csharp"
    },
    "polyglot_notebook": {
     "kernelName": "csharp"
    },
    "tags": [
     "opdracht"
    ]
   },
   "outputs": [],
   "source": [
    "string cpu = \"i7\";\n",
    "int cores = 12;\n",
    "double snelheid = 4.0;\n",
    "\n",
    "Console.WriteLine(\"CPU:\");\n",
    "Console.WriteLine(cpu);\n",
    "Console.WriteLine(\"Cores:\");\n",
    "Console.WriteLine(cores);\n",
    "Console.WriteLine(\"Snelheid:\");\n",
    "Console.WriteLine(snelheid);\n",
    "\n",
    "Console.WriteLine();\n",
    "Console.WriteLine(\"samengevat\");\n",
    "Console.WriteLine(cpu);\n",
    "Console.WriteLine(cores);\n",
    "Console.WriteLine(snelheid);"
   ]
  },
  {
   "cell_type": "markdown",
   "metadata": {},
   "source": [
    "## Opdracht 3"
   ]
  },
  {
   "cell_type": "code",
   "execution_count": null,
   "metadata": {
    "dotnet_interactive": {
     "language": "csharp"
    },
    "polyglot_notebook": {
     "kernelName": "csharp"
    }
   },
   "outputs": [],
   "source": [
    "// Type double, omdat bedragen vaak decimaal zijn\n",
    "double totaleKosten = 49.99;\n",
    "// Aanname dat temperatuur een geheel getal is, daarom int\n",
    "int gemiddeldeTemperatuur = 22;\n",
    "// Aantal uren voor bereiding, kan ook een half uur of een kwartier zijn\n",
    "double bereidingstijdInUren = 2.25;\n",
    "\n",
    "// Print de waarden naar de console\n",
    "Console.WriteLine($\"Totale kosten: {totaleKosten} euro\");\n",
    "Console.WriteLine($\"Gemiddelde temperatuur: {gemiddeldeTemperatuur} °C\");\n",
    "Console.WriteLine($\"Bereidingstijd in uren: {bereidingstijdInUren} uur\");"
   ]
  }
 ],
 "metadata": {
  "kernelspec": {
   "display_name": ".NET (C#)",
   "language": "C#",
   "name": ".net-csharp"
  },
  "language_info": {
   "name": "polyglot-notebook"
  },
  "polyglot_notebook": {
   "kernelInfo": {
    "defaultKernelName": "csharp",
    "items": [
     {
      "aliases": [],
      "languageName": "csharp",
      "name": "csharp"
     }
    ]
   }
  }
 },
 "nbformat": 4,
 "nbformat_minor": 2
}
