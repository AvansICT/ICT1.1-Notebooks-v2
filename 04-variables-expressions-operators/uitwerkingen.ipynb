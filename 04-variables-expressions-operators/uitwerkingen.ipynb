{
 "cells": [
  {
   "cell_type": "markdown",
   "metadata": {},
   "source": [
    "# Uitwerkingen: Opdrachten (Verbeterde Versie)"
   ]
  },
  {
   "cell_type": "markdown",
   "metadata": {},
   "source": [
    "### Opdracht 1: Variabelen initialiseren"
   ]
  },
  {
   "cell_type": "code",
   "execution_count": null,
   "metadata": {
    "polyglot_notebook": {
     "kernelName": "csharp"
    },
    "vscode": {
     "languageId": "polyglot-notebook"
    }
   },
   "outputs": [],
   "source": [
    "// A. Goede variabelenamen:\n",
    "// - De totale kosten: totaleKosten\n",
    "// - De gemiddelde temperatuur: gemiddeldeTemperatuur\n",
    "// - Het aantal uren waarin een recept bereid wordt: bereidingstijdInUren\n",
    "\n",
    "// B. Initialisatie en uitvoer:\n",
    "decimal totaleKosten = 24.95M; // decimal is goed voor financiële waarden\n",
    "double gemiddeldeTemperatuur = 14.7;\n",
    "int bereidingstijdInUren = 3;\n",
    "\n",
    "Console.WriteLine(\"De totale kosten zijn: \" + totaleKosten);\n",
    "Console.WriteLine(\"De gemiddelde temperatuur is: \" + gemiddeldeTemperatuur);\n",
    "Console.WriteLine(\"De bereidingstijd is: \" + bereidingstijdInUren + \" uren.\");"
   ]
  },
  {
   "cell_type": "markdown",
   "metadata": {},
   "source": [
    "### Opdracht 2: Variabelen aanpassen"
   ]
  },
  {
   "cell_type": "code",
   "execution_count": null,
   "metadata": {
    "polyglot_notebook": {
     "kernelName": "csharp"
    },
    "vscode": {
     "languageId": "polyglot-notebook"
    }
   },
   "outputs": [],
   "source": [
    "string cpu = \"i7\";\n",
    "int cores = 12;\n",
    "double snelheid = 4.0;\n",
    "\n",
    "Console.WriteLine(\"CPU:\");\n",
    "Console.WriteLine(cpu);\n",
    "Console.WriteLine(\"Cores:\");\n",
    "Console.WriteLine(cores);\n",
    "Console.WriteLine(\"Snelheid:\");\n",
    "Console.WriteLine(snelheid);"
   ]
  },
  {
   "cell_type": "markdown",
   "metadata": {},
   "source": [
    "### Opdracht 3: Input van gebruiker"
   ]
  },
  {
   "cell_type": "code",
   "execution_count": null,
   "metadata": {
    "polyglot_notebook": {
     "kernelName": "csharp"
    },
    "vscode": {
     "languageId": "polyglot-notebook"
    }
   },
   "outputs": [],
   "source": [
    "Console.WriteLine(\"Wat is uw naam?\");\n",
    "string naam = Console.ReadLine();\n",
    "Console.WriteLine(\"Hallo, \" + naam + \"!\");"
   ]
  },
  {
   "cell_type": "markdown",
   "metadata": {},
   "source": [
    "### Opdracht 4: Getallen optellen"
   ]
  },
  {
   "cell_type": "code",
   "execution_count": null,
   "metadata": {
    "polyglot_notebook": {
     "kernelName": "csharp"
    },
    "vscode": {
     "languageId": "polyglot-notebook"
    }
   },
   "outputs": [],
   "source": [
    "int getal1, getal2;\n",
    "\n",
    "Console.WriteLine(\"Voer het eerste getal in:\");\n",
    "while (!int.TryParse(Console.ReadLine(), out getal1))\n",
    "{\n",
    "    Console.WriteLine(\"Ongeldige invoer. Voer a.u.b. een geheel getal in:\");\n",
    "}\n",
    "\n",
    "Console.WriteLine(\"Voer het tweede getal in:\");\n",
    "while (!int.TryParse(Console.ReadLine(), out getal2))\n",
    "{\n",
    "    Console.WriteLine(\"Ongeldige invoer. Voer a.u.b. een geheel getal in:\");\n",
    "}\n",
    "\n",
    "int som = getal1 + getal2;\n",
    "Console.WriteLine($\"De som van {getal1} en {getal2} is: {som}\");"
   ]
  },
  {
   "cell_type": "markdown",
   "metadata": {},
   "source": [
    "### Opdracht 5: Even of oneven"
   ]
  },
  {
   "cell_type": "code",
   "execution_count": null,
   "metadata": {
    "polyglot_notebook": {
     "kernelName": "csharp"
    },
    "vscode": {
     "languageId": "polyglot-notebook"
    }
   },
   "outputs": [],
   "source": [
    "int getal;\n",
    "Console.WriteLine(\"Voer een getal in:\");\n",
    "while(!int.TryParse(Console.ReadLine(), out getal))\n",
    "{\n",
    "    Console.WriteLine(\"Ongeldige invoer. Probeer het opnieuw:\");\n",
    "}\n",
    "\n",
    "if (getal % 2 == 0)\n",
    "{\n",
    "    Console.WriteLine(\"Het getal \" + getal + \" is even.\");\n",
    "}\n",
    "else\n",
    "{\n",
    "    Console.WriteLine(\"Het getal \" + getal + \" is oneven.\");\n",
    "}"
   ]
  },
  {
   "cell_type": "markdown",
   "metadata": {},
   "source": [
    "### Opdracht 6: Meerderjarig?"
   ]
  },
  {
   "cell_type": "code",
   "execution_count": null,
   "metadata": {
    "polyglot_notebook": {
     "kernelName": "csharp"
    },
    "vscode": {
     "languageId": "polyglot-notebook"
    }
   },
   "outputs": [],
   "source": [
    "int geboortejaar;\n",
    "Console.WriteLine(\"Wat is uw geboortejaar?\");\n",
    "while(!int.TryParse(Console.ReadLine(), out geboortejaar))\n",
    "{\n",
    "    Console.WriteLine(\"Ongeldige invoer. Voer een jaartal in:\");\n",
    "}\n",
    "\n",
    "int huidigJaar = DateTime.Now.Year; // Vraagt het huidige jaar op\n",
    "int leeftijd = huidigJaar - geboortejaar;\n",
    "\n",
    "if (leeftijd >= 18)\n",
    "{\n",
    "    Console.WriteLine($\"U bent {leeftijd} jaar oud en dus meerderjarig.\");\n",
    "}\n",
    "else\n",
    "{\n",
    "    Console.WriteLine($\"U bent {leeftijd} jaar oud en dus minderjarig.\");\n",
    "}"
   ]
  },
  {
   "cell_type": "markdown",
   "metadata": {},
   "source": [
    "### Opdracht 7: Cirkelberekening"
   ]
  },
  {
   "cell_type": "code",
   "execution_count": null,
   "metadata": {
    "polyglot_notebook": {
     "kernelName": "csharp"
    },
    "vscode": {
     "languageId": "polyglot-notebook"
    }
   },
   "outputs": [],
   "source": [
    "double straal;\n",
    "Console.WriteLine(\"Voer de straal van de cirkel in:\");\n",
    "while(!double.TryParse(Console.ReadLine(), out straal))\n",
    "{\n",
    "    Console.WriteLine(\"Ongeldige invoer. Voer een getal in:\");\n",
    "}\n",
    "\n",
    "double omtrek = 2 * Math.PI * straal;\n",
    "double oppervlakte = Math.PI * straal * straal;\n",
    "\n",
    "// Gebruik van :F2 om de output netjes af te ronden op 2 decimalen.\n",
    "Console.WriteLine($\"De omtrek van de cirkel is: {omtrek:F2}\");\n",
    "Console.WriteLine($\"De oppervlakte van de cirkel is: {oppervlakte:F2}\");"
   ]
  },
  {
   "cell_type": "markdown",
   "metadata": {},
   "source": [
    "### Opdracht 8: Temperatuur omrekenen"
   ]
  },
  {
   "cell_type": "code",
   "execution_count": null,
   "metadata": {
    "polyglot_notebook": {
     "kernelName": "csharp"
    },
    "vscode": {
     "languageId": "polyglot-notebook"
    }
   },
   "outputs": [],
   "source": [
    "double celsius;\n",
    "Console.WriteLine(\"Voer de temperatuur in graden Celsius in:\");\n",
    "while(!double.TryParse(Console.ReadLine(), out celsius))\n",
    "{\n",
    "    Console.WriteLine(\"Ongeldige invoer. Voer een getal in:\");\n",
    "}\n",
    "\n",
    "double fahrenheit = (celsius * 9 / 5.0) + 32; // Gebruik 5.0 om integer deling te voorkomen\n",
    "\n",
    "// Gebruik van :F1 voor 1 decimaal.\n",
    "Console.WriteLine($\"{celsius:F1} graden Celsius is {fahrenheit:F1} graden Fahrenheit.\");"
   ]
  },
  {
   "cell_type": "markdown",
   "metadata": {},
   "source": [
    "### Opdracht 9: Palindroom-checker"
   ]
  },
  {
   "cell_type": "code",
   "execution_count": null,
   "metadata": {
    "polyglot_notebook": {
     "kernelName": "csharp"
    },
    "vscode": {
     "languageId": "polyglot-notebook"
    }
   },
   "outputs": [],
   "source": [
    "Console.WriteLine(\"Voer een woord in:\");\n",
    "string woord = Console.ReadLine();\n",
    "string omgekeerdWoord = \"\";\n",
    "\n",
    "for (int i = woord.Length - 1; i >= 0; i--)\n",
    "{\n",
    "    omgekeerdWoord += woord[i];\n",
    "}\n",
    "\n",
    "// Vergelijk de lowercase versies om hoofdletterongevoelig te zijn\n",
    "if (woord.ToLower() == omgekeerdWoord.ToLower())\n",
    "{\n",
    "    Console.WriteLine(\"Het woord '\" + woord + \"' is een palindroom.\");\n",
    "}\n",
    "else\n",
    "{\n",
    "    Console.WriteLine(\"Het woord '\" + woord + \"' is geen palindroom.\");\n",
    "}\n",
    "\n",
    "// Alternatieve, kortere methode:\n",
    "// char[] karakterArray = woord.ToCharArray();\n",
    "// Array.Reverse(karakterArray);\n",
    "// string omgekeerdViaArray = new string(karakterArray);\n",
    "// if (woord.ToLower() == omgekeerdViaArray.ToLower()) ...\n"
   ]
  },
  {
   "cell_type": "markdown",
   "metadata": {},
   "source": [
    "### Opdracht 10: Klinkers tellen"
   ]
  },
  {
   "cell_type": "code",
   "execution_count": null,
   "metadata": {
    "polyglot_notebook": {
     "kernelName": "csharp"
    },
    "vscode": {
     "languageId": "polyglot-notebook"
    }
   },
   "outputs": [],
   "source": [
    "Console.WriteLine(\"Voer een zin in:\");\n",
    "string zin = Console.ReadLine().ToLower(); // Meteen naar kleine letters\n",
    "int klinkerAantal = 0;\n",
    "\n",
    "// Efficiëntere methode dan een lange if met ||\n",
    "string klinkers = \"aeiou\";\n",
    "\n",
    "foreach (char karakter in zin)\n",
    "{\n",
    "    if (klinkers.Contains(karakter))\n",
    "    {\n",
    "        klinkerAantal++;\n",
    "    }\n",
    "}\n",
    "\n",
    "Console.WriteLine(\"De zin bevat \" + klinkerAantal + \" klinkers.\");"
   ]
  },
  {
   "cell_type": "markdown",
   "metadata": {},
   "source": [
    "# Uitwerkingen: Uitdagingen"
   ]
  },
  {
   "cell_type": "markdown",
   "metadata": {},
   "source": [
    "### Uitdaging 1: Overflow"
   ]
  },
  {
   "cell_type": "code",
   "execution_count": null,
   "metadata": {
    "polyglot_notebook": {
     "kernelName": "csharp"
    },
    "vscode": {
     "languageId": "polyglot-notebook"
    }
   },
   "outputs": [],
   "source": [
    "byte waarde = 255; // Maximale waarde voor een byte\n",
    "Console.WriteLine(\"Startwaarde: \" + waarde);\n",
    "\n",
    "waarde = (byte)(waarde + 1);\n",
    "\n",
    "Console.WriteLine(\"Waarde na +1: \" + waarde); // Geeft 0. De waarde 'slaat om' naar het begin van het bereik."
   ]
  },
  {
   "cell_type": "markdown",
   "metadata": {},
   "source": [
    "### Uitdaging 2: Negatief in Unsigned"
   ]
  },
  {
   "cell_type": "code",
   "execution_count": null,
   "metadata": {
    "polyglot_notebook": {
     "kernelName": "csharp"
    },
    "vscode": {
     "languageId": "polyglot-notebook"
    }
   },
   "outputs": [],
   "source": [
    "// Een negatief getal direct in een unsigned variabele stoppen geeft een compileerfout.\n",
    "// uint getal = -10; // Dit werkt niet.\n",
    "\n",
    "// Als je het via een cast doet, gebeurt er een 'underflow'.\n",
    "int signedGetal = -10;\n",
    "uint unsignedGetal = (uint)signedGetal;\n",
    "\n",
    "Console.WriteLine(unsignedGetal); // Geeft een heel groot getal (4294967286).\n",
    "// De binaire representatie van -10 wordt geïnterpreteerd als een groot positief getal."
   ]
  },
  {
   "cell_type": "markdown",
   "metadata": {},
   "source": [
    "### Uitdaging 3: Lengte zonder spaties"
   ]
  },
  {
   "cell_type": "code",
   "execution_count": null,
   "metadata": {
    "polyglot_notebook": {
     "kernelName": "csharp"
    },
    "vscode": {
     "languageId": "polyglot-notebook"
    }
   },
   "outputs": [],
   "source": [
    "Console.WriteLine(\"Voer een zin in:\");\n",
    "string zin = Console.ReadLine();\n",
    "\n",
    "string zinZonderSpaties = zin.Replace(\" \", \"\");\n",
    "int lengte = zinZonderSpaties.Length;\n",
    "\n",
    "Console.WriteLine(\"De lengte van de zin zonder spaties is: \" + lengte);"
   ]
  },
  {
   "cell_type": "markdown",
   "metadata": {},
   "source": [
    "### Uitdaging 4: Woorden husselen"
   ]
  },
  {
   "cell_type": "code",
   "execution_count": null,
   "metadata": {
    "polyglot_notebook": {
     "kernelName": "csharp"
    },
    "vscode": {
     "languageId": "polyglot-notebook"
    }
   },
   "outputs": [],
   "source": [
    "Console.WriteLine(\"Voer een zin in om te husselen:\");\n",
    "string husselTekst = Console.ReadLine();\n",
    "string resultaat = \"\";\n",
    "\n",
    "// Gebruik StringSplitOptions.RemoveEmptyEntries voor het geval er dubbele spaties zijn\n",
    "string[] woorden = husselTekst.Split(' ', StringSplitOptions.RemoveEmptyEntries);\n",
    "\n",
    "foreach (string woord in woorden)\n",
    "{\n",
    "    if (woord.Length > 1)\n",
    "    {\n",
    "        char eersteLetter = woord[0];\n",
    "        char laatsteLetter = woord[woord.Length - 1];\n",
    "        string middenstuk = woord.Substring(1, woord.Length - 2);\n",
    "        \n",
    "        resultaat += laatsteLetter + middenstuk + eersteLetter + \" \";\n",
    "    }\n",
    "    else\n",
    "    {\n",
    "        resultaat += woord + \" \";\n",
    "    }\n",
    "}\n",
    "\n",
    "Console.WriteLine(\"Gehusselde zin:\");\n",
    "Console.WriteLine(resultaat.Trim());"
   ]
  },
  {
   "cell_type": "markdown",
   "metadata": {},
   "source": [
    "### Uitdaging 5: Wachtwoord validatie"
   ]
  },
  {
   "cell_type": "code",
   "execution_count": null,
   "metadata": {
    "polyglot_notebook": {
     "kernelName": "csharp"
    },
    "vscode": {
     "languageId": "polyglot-notebook"
    }
   },
   "outputs": [],
   "source": [
    "Console.WriteLine(\"Voer een wachtwoord in:\");\n",
    "string wachtwoord = Console.ReadLine();\n",
    "\n",
    "bool heeftLengte = wachtwoord.Length >= 8;\n",
    "bool heeftHoofdletter = false;\n",
    "bool heeftKleineLetter = false;\n",
    "bool heeftCijfer = false;\n",
    "\n",
    "foreach (char c in wachtwoord)\n",
    "{\n",
    "    if (char.IsUpper(c)) heeftHoofdletter = true;\n",
    "    if (char.IsLower(c)) heeftKleineLetter = true;\n",
    "    if (char.IsDigit(c)) heeftCijfer = true;\n",
    "}\n",
    "\n",
    "if (heeftLengte && heeftHoofdletter && heeftKleineLetter && heeftCijfer)\n",
    "{\n",
    "    Console.WriteLine(\"Wachtwoord is geldig.\");\n",
    "}\n",
    "else\n",
    "{\n",
    "    Console.WriteLine(\"Wachtwoord is ongeldig:\");\n",
    "    if (!heeftLengte) Console.WriteLine(\"- Moet minimaal 8 karakters lang zijn.\");\n",
    "    if (!heeftHoofdletter) Console.WriteLine(\"- Moet minstens één hoofdletter bevatten.\");\n",
    "    if (!heeftKleineLetter) Console.WriteLine(\"- Moet minstens één kleine letter bevatten.\");\n",
    "    if (!heeftCijfer) Console.WriteLine(\"- Moet minstens één cijfer bevatten.\");\n",
    "}"
   ]
  },
  {
   "cell_type": "markdown",
   "metadata": {},
   "source": [
    "### Uitdaging 6: Acroniem generator"
   ]
  },
  {
   "cell_type": "code",
   "execution_count": null,
   "metadata": {
    "polyglot_notebook": {
     "kernelName": "csharp"
    },
    "vscode": {
     "languageId": "polyglot-notebook"
    }
   },
   "outputs": [],
   "source": [
    "Console.WriteLine(\"Voer een zin in om een acroniem te maken:\");\n",
    "string zin = Console.ReadLine();\n",
    "string acroniem = \"\";\n",
    "\n",
    "string[] woorden = zin.Split(new char[] { ' ' }, StringSplitOptions.RemoveEmptyEntries);\n",
    "foreach (string woord in woorden)\n",
    "{\n",
    "    acroniem += woord[0];\n",
    "}\n",
    "\n",
    "Console.WriteLine(\"Het acroniem is: \" + acroniem.ToUpper());"
   ]
  },
  {
   "cell_type": "markdown",
   "metadata": {},
   "source": [
    "### Uitdaging 7: BTW berekenen"
   ]
  },
  {
   "cell_type": "code",
   "execution_count": null,
   "metadata": {
    "polyglot_notebook": {
     "kernelName": "csharp"
    },
    "vscode": {
     "languageId": "polyglot-notebook"
    }
   },
   "outputs": [],
   "source": [
    "decimal bedragExcl, btwPercentage;\n",
    "const decimal StandaardBtw = 21.0M;\n",
    "\n",
    "Console.WriteLine(\"Voer het bedrag exclusief BTW in:\");\n",
    "while(!decimal.TryParse(Console.ReadLine(), out bedragExcl))\n",
    "{\n",
    "    Console.WriteLine(\"Ongeldige invoer. Voer een getal in:\");\n",
    "}\n",
    "\n",
    "Console.WriteLine($\"Voer het BTW-percentage in (bijv. 21) of druk op Enter voor de standaard {StandaardBtw}%:\");\n",
    "string btwInput = Console.ReadLine();\n",
    "if (string.IsNullOrWhiteSpace(btwInput) || !decimal.TryParse(btwInput, out btwPercentage))\n",
    "{\n",
    "    btwPercentage = StandaardBtw;\n",
    "}\n",
    "\n",
    "decimal btwFactor = btwPercentage / 100;\n",
    "decimal btwBedrag = bedragExcl * btwFactor;\n",
    "decimal totaalBedrag = bedragExcl + btwBedrag;\n",
    "\n",
    "// Gebruik de :C (Currency) formatter voor een nette weergave van geldbedragen.\n",
    "Console.WriteLine($\"Bedrag excl. BTW: {bedragExcl:C}\");\n",
    "Console.WriteLine($\"BTW-bedrag ({btwPercentage}%): {btwBedrag:C}\");\n",
    "Console.WriteLine($\"Totaal incl. BTW: {totaalBedrag:C}\");"
   ]
  },
  {
   "cell_type": "markdown",
   "metadata": {},
   "source": [
    "### Uitdaging 8: Caesar-cijfer"
   ]
  },
  {
   "cell_type": "code",
   "execution_count": null,
   "metadata": {
    "polyglot_notebook": {
     "kernelName": "csharp"
    },
    "vscode": {
     "languageId": "polyglot-notebook"
    }
   },
   "outputs": [],
   "source": [
    "Console.WriteLine(\"Voer een bericht in om te versleutelen:\");\n",
    "string bericht = Console.ReadLine();\n",
    "int verschuiving;\n",
    "\n",
    "Console.WriteLine(\"Voer de verschuiving in (een getal):\");\n",
    "while(!int.TryParse(Console.ReadLine(), out verschuiving))\n",
    "{\n",
    "    Console.WriteLine(\"Ongeldige invoer, voer een geheel getal in:\");\n",
    "}\n",
    "\n",
    "string versleuteldBericht = \"\";\n",
    "\n",
    "foreach (char c in bericht)\n",
    "{\n",
    "    if (char.IsLetter(c))\n",
    "    {\n",
    "        char basis = char.IsUpper(c) ? 'A' : 'a';\n",
    "        versleuteldBericht += (char)(((c - basis + verschuiving) % 26) + basis);\n",
    "    }\n",
    "    else\n",
    "    {\n",
    "        versleuteldBericht += c;\n",
    "    }\n",
    "}\n",
    "Console.WriteLine(\"Versleuteld bericht: \" + versleuteldBericht);"
   ]
  },
  {
   "cell_type": "markdown",
   "metadata": {},
   "source": [
    "### Uitdaging 9: Raad het getal"
   ]
  },
  {
   "cell_type": "code",
   "execution_count": null,
   "metadata": {
    "polyglot_notebook": {
     "kernelName": "csharp"
    },
    "vscode": {
     "languageId": "polyglot-notebook"
    }
   },
   "outputs": [],
   "source": [
    "int geheimGetal = new Random().Next(1, 101); // Getal tussen 1 en 100\n",
    "int gok = 0;\n",
    "int aantalPogingen = 0;\n",
    "Console.WriteLine(\"Ik heb een getal tussen 1 en 100 in gedachten. Raad maar!\");\n",
    "\n",
    "while (gok != geheimGetal)\n",
    "{\n",
    "    Console.Write(\"Jouw gok: \");\n",
    "    if(int.TryParse(Console.ReadLine(), out gok))\n",
    "    {\n",
    "        aantalPogingen++;\n",
    "        if (gok < geheimGetal)\n",
    "        {\n",
    "            Console.WriteLine(\"Hoger!\");\n",
    "        }\n",
    "        else if (gok > geheimGetal)\n",
    "        {\n",
    "            Console.WriteLine(\"Lager!\");\n",
    "        }\n",
    "    }\n",
    "    else\n",
    "    {\n",
    "        Console.WriteLine(\"Dat is geen geldig getal, probeer het opnieuw.\");\n",
    "    }\n",
    "}\n",
    "\n",
    "Console.WriteLine($\"Goed geraden! Het getal was inderdaad {geheimGetal}.\");\n",
    "Console.WriteLine($\"Je had er {aantalPogingen} pogingen voor nodig.\");"
   ]
  }
 ],
 "metadata": {
  "kernelspec": {
   "display_name": ".NET (C#)",
   "language": "C#",
   "name": ".net-csharp"
  },
  "language_info": {
   "name": "csharp"
  },
  "polyglot_notebook": {
   "kernelInfo": {
    "defaultKernelName": "csharp",
    "items": [
     {
      "aliases": [],
      "name": "csharp"
     }
    ]
   }
  }
 },
 "nbformat": 4,
 "nbformat_minor": 2
}
