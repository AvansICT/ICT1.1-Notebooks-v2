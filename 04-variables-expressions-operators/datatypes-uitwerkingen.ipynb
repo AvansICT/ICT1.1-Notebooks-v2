{
 "cells": [
  {
   "cell_type": "markdown",
   "metadata": {},
   "source": [
    "# Uitwerkingen"
   ]
  },
  {
   "cell_type": "markdown",
   "metadata": {},
   "source": [
    "## Opdracht 1"
   ]
  },
  {
   "cell_type": "code",
   "execution_count": null,
   "metadata": {
    "dotnet_interactive": {
     "language": "csharp"
    },
    "polyglot_notebook": {
     "kernelName": "csharp"
    }
   },
   "outputs": [],
   "source": [
    "// Maximum waarde van een uint\n",
    "uint maxValue = uint.MaxValue;\n",
    "\n",
    "Console.WriteLine($\"Maximale waarde van uint: {maxValue}\");\n",
    "\n",
    "// Probeer de waarde te verhogen om een overflow te veroorzaken\n",
    "uint overflowValue = maxValue + 1;\n",
    "\n",
    "// Print de waarde na de overflow\n",
    "Console.WriteLine($\"Waarde na overflow: {overflowValue}\");"
   ]
  },
  {
   "cell_type": "markdown",
   "metadata": {},
   "source": [
    "## Opdracht 2"
   ]
  },
  {
   "cell_type": "code",
   "execution_count": null,
   "metadata": {
    "dotnet_interactive": {
     "language": "csharp"
    },
    "polyglot_notebook": {
     "kernelName": "csharp"
    }
   },
   "outputs": [],
   "source": [
    "var a = 10;         // a is van type int (default type)\n",
    "var b = 10u;        // b is van type uint (unsigned int)\n",
    "var c = 10ul;       // c is van type ulong (unsigned long)\n",
    "var d = 10.0;       // d is van type double (default type voor floating point)\n",
    "var e = 10.0f;      // e is van type float (single precision floating point)\n",
    "var f = 10.0d;      // f is van type double (double precision floating point)\n",
    "var g = 10_000;     // g is van type int (underscore voor leesbaarheid)"
   ]
  },
  {
   "cell_type": "markdown",
   "metadata": {},
   "source": [
    "## Opdracht 3"
   ]
  },
  {
   "cell_type": "code",
   "execution_count": null,
   "metadata": {
    "dotnet_interactive": {
     "language": "csharp"
    },
    "polyglot_notebook": {
     "kernelName": "csharp"
    }
   },
   "outputs": [],
   "source": [
    "// Proberen een negatief getal toe te wijzen aan een unsigned variabele\n",
    "int negatieveWaarde = -10;\n",
    "\n",
    "// Dit geeft een fout omdat -10 niet kan worden toegewezen aan een uint\n",
    "uint positieveWaarde = negatieveWaarde;"
   ]
  }
 ],
 "metadata": {
  "kernelspec": {
   "display_name": ".NET (C#)",
   "language": "C#",
   "name": ".net-csharp"
  },
  "language_info": {
   "name": "polyglot-notebook"
  },
  "polyglot_notebook": {
   "kernelInfo": {
    "defaultKernelName": "csharp",
    "items": [
     {
      "aliases": [],
      "languageName": "csharp",
      "name": "csharp"
     }
    ]
   }
  }
 },
 "nbformat": 4,
 "nbformat_minor": 2
}
