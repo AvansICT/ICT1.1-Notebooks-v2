{
 "cells": [
  {
   "cell_type": "markdown",
   "id": "77c436e8",
   "metadata": {},
   "source": [
    "## Notebooks in Visual Studio Code\n",
    "\n",
    "### Wat is een notebook?\n",
    "\n",
    "Een notebook biedt een manier om tekst te combineren met uitvoerbare code.  \n",
    "Hiermee kun je snel bijvoorbeeld een verslag, logboek of groeidocument opstellen.  \n",
    "Naast tekst kun je ook afbeeldingen, tabellen en diagrammen toevoegen.\n",
    "\n",
    "Tekstvelden in een notebook worden geschreven in Markdown-formaat.  \n",
    "Zie [de Markdown-gids](https://www.markdownguide.org/) voor meer informatie.\n",
    "\n",
    "Voor het maken van diagrammen kun je bijvoorbeeld gebruikmaken van [Mermaid](https://mermaid.js.org/#/).  \n",
    "Met Mermaid kun je eenvoudig visuele diagrammen genereren in tekstvorm.\n",
    "\n",
    "Codeblokken in het notebook zijn direct uitvoerbaar.  \n",
    "Dit betekent dat je snel feedback krijgt op je code, zonder het document te verlaten.\n"
   ]
  },
  {
   "cell_type": "markdown",
   "id": "38843a64",
   "metadata": {},
   "source": [
    "### Diagrammen\n",
    "\n",
    "In de notebooks kun je diagrammane (zoals flowcharts) tegen komen. Voor het weergeven van *Mermaid*-diagrammen is een extensie nodig in Visual Studio Code:\n",
    "\n",
    "- **Markdown Preview Mermaid Support**  \n",
    "  *(Identifier: bierner.markdown-mermaid)*\n",
    "\n"
   ]
  },
  {
   "cell_type": "markdown",
   "id": "c6df75b3",
   "metadata": {},
   "source": [
    "## Code uitvoeren\n",
    "\n",
    "Hieronder zie je een voorbeeld van een stukje code in een notebook. Als de SDK, Visual Studio Code en de benodigde extensies correct zijn geïnstalleerd, zou je deze code direct moeten kunnen uitvoeren. Zodra je een codeblok invoegt, verschijnt er een kleine **play-knop** links van het blok: ![Codeblock play](images/VSC-Notebook-Codeblock-play.png \"Play-knop in codeblok\"). Zie je de knop? Mooi! Klik erop en laat je code tot leven komen! 😃\n"
   ]
  },
  {
   "cell_type": "code",
   "execution_count": 1,
   "id": "da0cc1f2",
   "metadata": {
    "vscode": {
     "languageId": "polyglot-notebook"
    }
   },
   "outputs": [
    {
     "name": "stdout",
     "output_type": "stream",
     "text": [
      "It works on my machine\r\n"
     ]
    }
   ],
   "source": [
    "Console.WriteLine(\"It works on my machine\");"
   ]
  },
  {
   "cell_type": "markdown",
   "id": "ecb6114f",
   "metadata": {},
   "source": [
    "## Notebook uitbreiden of aanpassen\n",
    "\n",
    "Wil je extra code of tekst (in Markdown) toevoegen aan je notebook?  \n",
    "Gebruik dan de knop **+ Code** of **+ Markdown** in de knoppenbalk bovenaan.\n",
    "\n",
    "Daarnaast verschijnen er soms knoppen direct onder een bestaand blok:\n",
    "\n",
    "![Notebook add block buttons](images/VSC-Notebook-Block-add-buttons.png \"Knoppen onder een blok\")\n",
    "\n",
    "Deze knoppen geven je een snellere manier om nieuwe blokken toe te voegen.\n",
    "\n",
    "Rechtsboven in elk code- of tekstblok zie je ook een kleine knoppenbalk:\n",
    "\n",
    "![Notebook modifier bar](images/VSC-Notebook-modifier.png \"Bewerkbalk voor blokken\")\n",
    "\n",
    "Met deze knoppen kun je blokken aanpassen, splitsen, verwijderen of verplaatsen.  \n",
    "Wanneer je klaar bent met bewerken, klik je op:\n",
    "\n",
    "![Notebook modifier check](images/VSC-Notebook-modifier-check.png \"Bevestigen van wijzigingen\")\n",
    "\n",
    "---\n",
    "\n",
    "## Verschil tussen code in notebooks en 'echte' applicaties\n",
    "\n",
    "Codeblokken in een notebook zijn ideaal om korte stukken code te schrijven en direct uit te voeren. Ze zijn handig voor experimenten, uitleg of het testen van kleine onderdelen.\n",
    "\n",
    "Het schrijven van volledige programma’s in een notebook is echter niet de bedoeling. De code in een blok wordt namelijk niet gecompileerd tot een zelfstandig programma, maar alleen geïnterpreteerd en uitgevoerd binnen de notebook-omgeving.\n"
   ]
  },
  {
   "cell_type": "markdown",
   "id": "28cff89f",
   "metadata": {},
   "source": [
    "Zoals je hopelijk hebt gezien, kun je kleine stukjes code uitvoeren binnen een notebook.\n",
    "\n",
    "Het uitvoeren van code genereert vaak een stukje *output* direct onder het codeblok.  \n",
    "Die terugkoppeling is handig, maar kan het document ook wat onoverzichtelijk maken wanneer er veel code wordt uitgevoerd.\n",
    "\n",
    "Gelukkig is er bovenaan het notebook een knoppenbalk beschikbaar:\n",
    "\n",
    "![Notebook button bar](images/VSC-Notebook-buttons.png \"Knoppenbalk in notebook\")\n",
    "\n",
    "Met de knop **Clear All Outputs** kun je in één klik alle gegenereerde uitvoer verwijderen.  \n",
    "Zo houd je je notebook overzichtelijk en netjes.\n"
   ]
  }
 ],
 "metadata": {
  "kernelspec": {
   "display_name": ".NET (C#)",
   "language": "C#",
   "name": ".net-csharp"
  },
  "language_info": {
   "name": "python"
  },
  "polyglot_notebook": {
   "kernelInfo": {
    "defaultKernelName": "csharp",
    "items": [
     {
      "aliases": [],
      "name": "csharp"
     }
    ]
   }
  }
 },
 "nbformat": 4,
 "nbformat_minor": 5
}
