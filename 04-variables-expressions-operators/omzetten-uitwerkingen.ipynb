{
 "cells": [
  {
   "cell_type": "markdown",
   "metadata": {},
   "source": [
    "# Uitwerkingen"
   ]
  },
  {
   "cell_type": "markdown",
   "metadata": {},
   "source": [
    "## Opdracht 1"
   ]
  },
  {
   "cell_type": "code",
   "execution_count": null,
   "metadata": {
    "dotnet_interactive": {
     "language": "csharp"
    },
    "polyglot_notebook": {
     "kernelName": "csharp"
    }
   },
   "outputs": [],
   "source": [
    "using Microsoft.DotNet.Interactive;\n",
    "\n",
    "// Vraag de gebruiker om het eerste getal\n",
    "string eersteGetalInput = await Kernel.GetInputAsync(\"Voer het eerste getal in: \");\n",
    "int eersteGetal = Convert.ToInt32(eersteGetalInput); // Converteer de input naar een integer\n",
    "\n",
    "// Vraag de gebruiker om het tweede getal\n",
    " string tweedeGetalInput = await Kernel.GetInputAsync(\"Voer het tweede getal in: \");\n",
    "int tweedeGetal = Convert.ToInt32(tweedeGetalInput); // Converteer de input naar een integer\n",
    "\n",
    "// Print de som naar de console\n",
    "Console.WriteLine($\"De som van {eersteGetal} en {tweedeGetal} is: {eersteGetal + tweedeGetal}\");"
   ]
  },
  {
   "cell_type": "markdown",
   "metadata": {},
   "source": [
    "## Opdracht 2"
   ]
  },
  {
   "cell_type": "code",
   "execution_count": null,
   "metadata": {
    "dotnet_interactive": {
     "language": "csharp"
    },
    "polyglot_notebook": {
     "kernelName": "csharp"
    }
   },
   "outputs": [],
   "source": [
    "int negatieveWaarde = -10;\n",
    "// Foutmeling \"Error: System.OverflowException: Value was either too large or too small for a UInt32\"\n",
    "uint geconverteerdeWaarde = Convert.ToUInt32(negatieveWaarde);\n",
    "\n",
    "// Print de waarden (wordt nooit uitgevoerd)\n",
    "Console.WriteLine($\"Negatieve waarde: {negatieveWaarde}\");\n",
    "Console.WriteLine($\"Geconverteerde waarde (unsigned): {geconverteerdeWaarde}\");"
   ]
  }
 ],
 "metadata": {
  "kernelspec": {
   "display_name": ".NET (C#)",
   "language": "C#",
   "name": ".net-csharp"
  },
  "language_info": {
   "name": "polyglot-notebook"
  },
  "polyglot_notebook": {
   "kernelInfo": {
    "defaultKernelName": "csharp",
    "items": [
     {
      "aliases": [],
      "languageName": "csharp",
      "name": "csharp"
     }
    ]
   }
  }
 },
 "nbformat": 4,
 "nbformat_minor": 2
}
