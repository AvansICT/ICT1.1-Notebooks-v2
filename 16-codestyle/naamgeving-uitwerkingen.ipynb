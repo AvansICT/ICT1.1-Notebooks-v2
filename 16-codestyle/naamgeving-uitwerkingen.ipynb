{
 "cells": [
  {
   "cell_type": "markdown",
   "metadata": {},
   "source": [
    "# Uitwerkingen"
   ]
  },
  {
   "cell_type": "markdown",
   "metadata": {},
   "source": [
    "## Opdracht 1"
   ]
  },
  {
   "cell_type": "code",
   "execution_count": 2,
   "metadata": {
    "dotnet_interactive": {
     "language": "csharp"
    },
    "polyglot_notebook": {
     "kernelName": "csharp"
    }
   },
   "outputs": [],
   "source": [
    "// Interfaces namen zijn altijd PascalCase en starten met een 'I' (interfaces is stof voor periode 2)\n",
    "public interface IDisplay\n",
    "{\n",
    "    void Display();\n",
    "}\n",
    "\n",
    "// Klassen namen zijn altijd PascalCase (klassen is stof voor periode 2)\n",
    "public class Customer : IDisplay\n",
    "{\n",
    "    // Properties zijn altijd PascalCase (properties is stof voor periode 2)\n",
    "    public int Id { get; private set; }\n",
    "    public string FullName { get; private set; }\n",
    "\n",
    "    // PascalCase voor Methode namen en parameter naamgeving in camelCase\n",
    "    public Customer(int id, string fullName)\n",
    "    {\n",
    "        Id = id;\n",
    "        FullName = fullName;\n",
    "    }\n",
    "\n",
    "    // Klassen en Interfaces zijn altijd PascalCase\n",
    "    public void Display()\n",
    "    {\n",
    "        Console.WriteLine(\"ID: \" + Id + \", Full name: \" + FullName);\n",
    "    }\n",
    "}"
   ]
  }
 ],
 "metadata": {
  "kernelspec": {
   "display_name": ".NET (C#)",
   "language": "C#",
   "name": ".net-csharp"
  },
  "language_info": {
   "name": "polyglot-notebook"
  },
  "polyglot_notebook": {
   "kernelInfo": {
    "defaultKernelName": "csharp",
    "items": [
     {
      "aliases": [],
      "languageName": "csharp",
      "name": "csharp"
     }
    ]
   }
  }
 },
 "nbformat": 4,
 "nbformat_minor": 2
}
