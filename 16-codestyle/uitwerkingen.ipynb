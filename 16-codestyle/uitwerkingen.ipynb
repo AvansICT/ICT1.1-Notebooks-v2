{
 "cells": [
  {
   "cell_type": "markdown",
   "source": [
    "# Uitwerkingen: Coding Standards"
   ]
  },
  {
   "cell_type": "markdown",
   "source": [
    "# Vragen"
   ]
  },
  {
   "cell_type": "markdown",
   "source": [
    "### Vraag 1: Naamgeving corrigeren"
   ]
  },
  {
   "cell_type": "code",
   "execution_count": null,
   "metadata": {},
   "outputs": [],
   "source": [
    "public class Person // PascalCase voor klassen\n",
    "{\n",
    "    // PascalCase voor publieke properties\n",
    "    public string FullName { get; set; }\n",
    "\n",
    "    // PascalCase voor publieke methodes, camelCase voor parameters\n",
    "    public void Greet(string nameToGreet)\n",
    "    {\n",
    "        Console.WriteLine($\"{FullName} greets {nameToGreet}\");\n",
    "    }\n",
    "}"
   ]
  },
  {
   "cell_type": "markdown",
   "source": [
    "### Vraag 2: Commentaar Toevoegen"
   ]
  },
  {
   "cell_type": "code",
   "execution_count": null,
   "metadata": {},
   "outputs": [],
   "source": [
    "public decimal CalculateVat(decimal amount)\n",
    "{\n",
    "    // Berekent het BTW-bedrag op basis van een vast percentage.\n",
    "    // TODO: Vervang de 'magic number' 0.21m door een benoemde constante, bijv. BtwTarief.\n",
    "    return amount * 0.21m;\n",
    "}"
   ]
  },
  {
   "cell_type": "markdown",
   "source": [
    "### Vraag 3: Code uitschakelen"
   ]
  },
  {
   "cell_type": "code",
   "execution_count": null,
   "metadata": {},
   "outputs": [],
   "source": [
    "int GebruikersInvoer(string vraag)\n",
    "{\n",
    "    Console.WriteLine(vraag);\n",
    "    string input = Console.ReadLine();\n",
    "    // Console.WriteLine(\"Debug: gebruiker typte '\" + input + \"'\");\n",
    "    return int.Parse(input);\n",
    "}"
   ]
  },
  {
   "cell_type": "markdown",
   "source": [
    "### Vraag 4: Foute Uitlijning"
   ]
  },
  {
   "cell_type": "code",
   "execution_count": null,
   "metadata": {},
   "outputs": [],
   "source": [
    "for (int i = 0; i < 5; i++)\n",
    "{\n",
    "    Console.WriteLine(\"Buitenste lus\");\n",
    "    for (int j = 0; j < 2; j++)\n",
    "    {\n",
    "        Console.WriteLine(\"  Binnenste lus\");\n",
    "    }\n",
    "}"
   ]
  },
  {
   "cell_type": "markdown",
   "source": [
    "### Vraag 5: XML Documentatie"
   ]
  },
  {
   "cell_type": "code",
   "execution_count": null,
   "metadata": {},
   "outputs": [],
   "source": [
    "/// <summary>\n",
    "/// Converteert een temperatuur van graden Celsius naar Fahrenheit.\n",
    "/// </summary>\n",
    "/// <param name=\"celsius\">De temperatuur in graden Celsius.</param>\n",
    "/// <returns>De temperatuur in graden Fahrenheit.</returns>\n",
    "public double CelsiusToFahrenheit(double celsius)\n",
    "{\n",
    "    return (celsius * 9.0 / 5.0) + 32; // Gebruik 9.0/5.0 voor decimale deling\n",
    "}"
   ]
  },
  {
   "cell_type": "markdown",
   "source": [
    "### Vraag 6: Welk commentaar?"
   ]
  },
  {
   "cell_type": "code",
   "execution_count": null,
   "metadata": {},
   "outputs": [],
   "source": [
    "// Tekstueel antwoord:\n",
    "// Een multi-line commentaar (`/* ... */`) is het meest geschikt. \n",
    "// Het is speciaal ontworpen voor commentaar dat over meerdere regels loopt, \n",
    "// wat leesbaarder is dan op elke regel `//` te moeten plaatsen."
   ]
  },
  {
   "cell_type": "markdown",
   "source": [
    "### Vraag 7: Constante Naamgeving"
   ]
  },
  {
   "cell_type": "code",
   "execution_count": null,
   "metadata": {},
   "outputs": [],
   "source": [
    "// Tekstueel antwoord:\n",
    "// Volgens de C#-conventies gebruiken constanten PascalCase.\n",
    "// Een goede naam zou zijn: `public const int MaximaalAantalPogingen = 5;`"
   ]
  },
  {
   "cell_type": "markdown",
   "source": [
    "### Vraag 8: Interface Naam"
   ]
  },
  {
   "cell_type": "code",
   "execution_count": null,
   "metadata": {},
   "outputs": [],
   "source": [
    "// Tekstueel antwoord:\n",
    "// Interfaces krijgen een naam in PascalCase, voorafgegaan door de letter 'I'.\n",
    "// Een goede naam zou zijn: `public interface IBeweegbaar` (of in het Engels: `IMovable`)."
   ]
  },
  {
   "cell_type": "markdown",
   "source": [
    "# Uitdagingen"
   ]
  },
  {
   "cell_type": "markdown",
   "source": [
    "### Uitdaging 1: Refactor een complete klasse"
   ]
  },
  {
   "cell_type": "code",
   "execution_count": null,
   "metadata": {},
   "outputs": [],
   "source": [
    "/// <summary>\n",
    "/// Representeert een gebruiker in het systeem.\n",
    "/// </summary>\n",
    "public class User\n",
    "{\n",
    "    /// <summary>\n",
    "    /// De volledige naam van de gebruiker.\n",
    "    /// </summary>\n",
    "    public string FullName { get; set; }\n",
    "    \n",
    "    /// <summary>\n",
    "    /// De leeftijd van de gebruiker.\n",
    "    /// </summary>\n",
    "    public int Age { get; set; }\n",
    "\n",
    "    /// <summary>\n",
    "    /// Initialiseert een nieuwe instantie van de User klasse.\n",
    "    /// </summary>\n",
    "    /// <param name=\"fullName\">De volledige naam.</param>\n",
    "    /// <param name=\"age\">De leeftijd.</param>\n",
    "    public User(string fullName, int age)\n",
    "    {\n",
    "        FullName = fullName;\n",
    "        Age = age;\n",
    "    }\n",
    "\n",
    "    /// <summary>\n",
    "    /// Toont een welkomstbericht voor de gebruiker.\n",
    "    /// </summary>\n",
    "    public void Greet()\n",
    "    {\n",
    "        Console.WriteLine(\"Hallo \" + FullName);\n",
    "    }\n",
    "}"
   ]
  },
  {
   "cell_type": "markdown",
   "source": [
    "### Uitdaging 2: Zelfreflecterend commentaar"
   ]
  },
  {
   "cell_type": "code",
   "execution_count": null,
   "metadata": {},
   "outputs": [],
   "source": [
    "bool IsPriem(int getal)\n",
    "{\n",
    "    // Een priemgetal is een getal groter dan 1 dat geen positieve delers heeft behalve 1 en zichzelf.\n",
    "    // Deze methode controleert dit efficiënt.\n",
    "\n",
    "    // Stap 1: Handel de basisgevallen af. Getallen kleiner dan of gelijk aan 1 zijn per definitie niet priem.\n",
    "    if (getal <= 1) return false;\n",
    "\n",
    "    // Stap 2: We hoeven alleen te controleren op delers tot aan de vierkantswortel van het getal.\n",
    "    // Als een getal 'n' een deler 'd' heeft die groter is dan zijn wortel, \n",
    "    // dan moet er ook een deler zijn die kleiner is dan de wortel. We hoeven dus niet verder te zoeken.\n",
    "    for (int i = 2; i * i <= getal; i++)\n",
    "    {\n",
    "        // De modulo-operator (%) geeft de rest van een deling. Als de rest 0 is, is het getal deelbaar.\n",
    "        if (getal % i == 0) return false; // Een deler gevonden, dus geen priemgetal.\n",
    "    }\n",
    "\n",
    "    // Als de lus is voltooid zonder delers te vinden, is het een priemgetal.\n",
    "    return true;\n",
    "}"
   ]
  },
  {
   "cell_type": "markdown",
   "source": [
    "### Uitdaging 3: Een kleine Style Guide"
   ]
  },
  {
   "cell_type": "code",
   "execution_count": null,
   "metadata": {},
   "outputs": [],
   "source": [
    "/*\n",
    " * == Style Guide Team Alpha ==\n",
    " * Versie 1.0 (2025-06-13)\n",
    " * \n",
    " * 1. Naamgeving:\n",
    " * - Private fields moeten beginnen met een underscore, gevolgd door camelCase (bv. _aantalStudenten).\n",
    " * - Alle andere conventies volgen de standaard Microsoft C# richtlijnen.\n",
    " * \n",
    " * 2. Layout:\n",
    " * - De openende accolade '{' komt altijd op een NIEUWE regel.\n",
    " * - Plaats altijd een witregel tussen methodes voor de leesbaarheid.\n",
    " * \n",
    " * 3. Commentaar:\n",
    " * - TODO-commentaar moet altijd de naam van de auteur en de datum bevatten.\n",
    " * Voorbeeld: // TODO (Jan J. - 2025-06-13): Validatie toevoegen.\n",
    " */"
   ]
  },
  {
   "cell_type": "markdown",
   "source": [
    "### Uitdaging 4: Debug-code conditioneel uitvoeren"
   ]
  },
  {
   "cell_type": "code",
   "execution_count": null,
   "metadata": {},
   "outputs": [],
   "source": [
    "// Deze 'globale' variabele kan aan het begin van het programma worden ingesteld.\n",
    "bool debugMode = true;\n",
    "\n",
    "int BerekenBonus(int score)\n",
    "{\n",
    "    // Deze debug-regel wordt nu alleen getoond als we in debug-modus zijn.\n",
    "    // Dit voorkomt ongewenste output in de uiteindelijke applicatie voor de eindgebruiker.\n",
    "    if (debugMode)\n",
    "    {\n",
    "        Console.WriteLine($\"DEBUG: Score is {score}\");\n",
    "    }\n",
    "    return score > 100 ? 50 : 10;\n",
    "}\n",
    "\n",
    "BerekenBonus(150);"
   ]
  },
  {
   "cell_type": "markdown",
   "source": [
    "### Uitdaging 5: Code opruimen"
   ]
  },
  {
   "cell_type": "code",
   "execution_count": null,
   "metadata": {},
   "outputs": [],
   "source": [
    "/* \n",
    " * Analyse van de fouten:\n",
    " * 1. Naamgeving: \n",
    " * - 'calculate' moet 'Calculate' zijn (PascalCase voor methodes).\n",
    " * - 'aantal' en 'PRICE_PER_ITEM' moeten 'aantal' en 'prijsPerItem' zijn (camelCase voor parameters).\n",
    " * - 'PRICE_PER_ITEM' is geen constante, dus geen hoofdletters.\n",
    " * - 'total_price' moet 'totaalPrijs' zijn (camelCase voor lokale variabelen).\n",
    " * 2. Layout:\n",
    " * - Accolades staan niet op nieuwe regels.\n",
    " * - Inspringing is incorrect.\n",
    " * 3. Commentaar:\n",
    " * - \"// dit programma berekent de prijs\" is te vaag.\n",
    " * - \"// berekening\" is overbodig commentaar dat uitlegt wat de code al zegt.\n",
    " */\n",
    "\n",
    "// Gecorrigeerde versie:\n",
    "public int CalculateTotalPrice(int aantal, int prijsPerItem)\n",
    "{\n",
    "    int totaalPrijs = aantal * prijsPerItem;\n",
    "\n",
    "    // Pas 5 euro korting toe bij een bestelling van meer dan 10 stuks.\n",
    "    if (aantal > 10)\n",
    "    {\n",
    "        totaalPrijs -= 5;\n",
    "    }\n",
    "\n",
    "    return totaalPrijs;\n",
    "}"
   ]
  }
 ],
 "metadata": {
  "kernelspec": {
   "display_name": ".NET (C#)",
   "language": "C#",
   "name": ".net-csharp"
  },
  "language_info": {
   "name": "csharp"
  }
 },
 "nbformat": 4,
 "nbformat_minor": 2
}
