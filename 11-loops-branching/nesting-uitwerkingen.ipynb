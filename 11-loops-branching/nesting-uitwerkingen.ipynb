{
 "cells": [
  {
   "cell_type": "markdown",
   "metadata": {},
   "source": [
    "# Uitwerkingen"
   ]
  },
  {
   "cell_type": "markdown",
   "metadata": {},
   "source": [
    "## Opdracht 1"
   ]
  },
  {
   "cell_type": "code",
   "execution_count": null,
   "metadata": {
    "dotnet_interactive": {
     "language": "csharp"
    },
    "polyglot_notebook": {
     "kernelName": "csharp"
    }
   },
   "outputs": [],
   "source": [
    "string[,] speelbord = new string[5, 5]\n",
    "        {\n",
    "            { \"\", \"red\", \"yellow\", \"\", \"\" },\n",
    "            { \"\", \"\", \"yellow\", \"\", \"\" },\n",
    "            { \"\", \"\", \"red\", \"yellow\", \"\" },\n",
    "            { \"\", \"red\", \"yellow\", \"yellow\", \"red\" },\n",
    "            { \"yellow\", \"red\", \"red\", \"yellow\", \"yellow\" }\n",
    "        };\n",
    "\n",
    "int rodeMuntjes = 0;\n",
    "int geleMuntjes = 0;\n",
    "\n",
    "// Geneste for-loops om door het speelbord te lopen: de buitenste \n",
    "// loop is voor de rijen en de binnenste voor de kolommen.\n",
    "for (int rij = 0; rij < speelbord.GetLength(0); rij++)\n",
    "{\n",
    "    for (int kolom = 0; kolom < speelbord.GetLength(1); kolom++)\n",
    "    {\n",
    "        // kijk naar de specifieke locatie (rij, kolom) en controlleer of daar rood staat\n",
    "        if (speelbord[rij, kolom] == \"red\")\n",
    "        {\n",
    "            rodeMuntjes++;\n",
    "        }\n",
    "        \n",
    "        // kijk naar de specifieke locatie (rij, kolom) en controlleer of daar geel staat\n",
    "        if (speelbord[rij, kolom] == \"yellow\")\n",
    "        {\n",
    "            geleMuntjes++;\n",
    "        }\n",
    "    }\n",
    "}\n",
    "\n",
    "// Print het aantal rode en gele muntjes die gevonden zijn\n",
    "Console.WriteLine($\"Aantal rode muntjes: {rodeMuntjes}\");\n",
    "Console.WriteLine($\"Aantal gele muntjes: {geleMuntjes}\");"
   ]
  },
  {
   "cell_type": "markdown",
   "metadata": {},
   "source": [
    "## Opdracht 2 (Optioneel)\n",
    "Wij zijn benieuwd naar jullie creatieve uitwerkingen! Het is best een pittige opdracht namelijk."
   ]
  }
 ],
 "metadata": {
  "kernelspec": {
   "display_name": ".NET (C#)",
   "language": "C#",
   "name": ".net-csharp"
  },
  "language_info": {
   "name": "polyglot-notebook"
  },
  "polyglot_notebook": {
   "kernelInfo": {
    "defaultKernelName": "csharp",
    "items": [
     {
      "aliases": [],
      "languageName": "csharp",
      "name": "csharp"
     }
    ]
   }
  }
 },
 "nbformat": 4,
 "nbformat_minor": 2
}
