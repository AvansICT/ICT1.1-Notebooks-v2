{
 "cells": [
  {
   "cell_type": "markdown",
   "metadata": {},
   "source": [
    "# Uitwerkingen: Geneste Lussen en Branching"
   ]
  },
  {
   "cell_type": "markdown",
   "metadata": {},
   "source": [
    "# Vragen"
   ]
  },
  {
   "cell_type": "markdown",
   "metadata": {},
   "source": [
    "### Vraag 1: Coördinaten-grid"
   ]
  },
  {
   "cell_type": "code",
   "execution_count": null,
   "metadata": {
    "polyglot_notebook": {
     "kernelName": "csharp"
    },
    "vscode": {
     "languageId": "polyglot-notebook"
    }
   },
   "outputs": [],
   "source": [
    "for (int i = 0; i < 3; i++) // Buitenste lus voor de rijen\n",
    "{\n",
    "    for (int j = 0; j < 3; j++) // Binnenste lus voor de kolommen\n",
    "    {\n",
    "        Console.Write($\"({i},{j}) \");\n",
    "    }\n",
    "    Console.WriteLine(); // Nieuwe regel na elke rij\n",
    "}"
   ]
  },
  {
   "cell_type": "markdown",
   "metadata": {},
   "source": [
    "### Vraag 2: Namen filteren"
   ]
  },
  {
   "cell_type": "code",
   "execution_count": null,
   "metadata": {
    "polyglot_notebook": {
     "kernelName": "csharp"
    },
    "vscode": {
     "languageId": "polyglot-notebook"
    }
   },
   "outputs": [],
   "source": [
    "List<string> namen = [\"Anna\", \"Ben\", \"Arthur\", \"Clara\", \"Adam\"];\n",
    "\n",
    "Console.WriteLine(\"Namen die beginnen met 'A':\");\n",
    "foreach (string naam in namen)\n",
    "{\n",
    "    if (naam.StartsWith(\"A\"))\n",
    "    {\n",
    "        Console.WriteLine(naam);\n",
    "    }\n",
    "}"
   ]
  },
  {
   "cell_type": "markdown",
   "metadata": {},
   "source": [
    "### Vraag 3: Eenvoudige inlogprocedure"
   ]
  },
  {
   "cell_type": "code",
   "execution_count": null,
   "metadata": {
    "polyglot_notebook": {
     "kernelName": "csharp"
    },
    "vscode": {
     "languageId": "polyglot-notebook"
    }
   },
   "outputs": [],
   "source": [
    "const string CorrectWachtwoord = \"geheim\";\n",
    "bool ingelogd = false;\n",
    "\n",
    "for (int poging = 1; poging <= 3; poging++)\n",
    "{\n",
    "    Console.Write($\"Poging {poging}/3: Voer wachtwoord in: \");\n",
    "    string invoer = Console.ReadLine();\n",
    "\n",
    "    if (invoer == CorrectWachtwoord)\n",
    "    {\n",
    "        Console.WriteLine(\"Correct! U bent ingelogd.\");\n",
    "        ingelogd = true;\n",
    "        break; // Stop de lus, want het wachtwoord is correct\n",
    "    }\n",
    "}\n",
    "\n",
    "if (!ingelogd)\n",
    "{\n",
    "    Console.WriteLine(\"Te veel foute pogingen. Toegang geweigerd.\");\n",
    "}"
   ]
  },
  {
   "cell_type": "markdown",
   "metadata": {},
   "source": [
    "### Vraag 4: Zoek het eerste even getal"
   ]
  },
  {
   "cell_type": "code",
   "execution_count": null,
   "metadata": {
    "polyglot_notebook": {
     "kernelName": "csharp"
    },
    "vscode": {
     "languageId": "polyglot-notebook"
    }
   },
   "outputs": [],
   "source": [
    "List<int> getallen = [ 7, 3, 9, 12, 5, 8 ];\n",
    "\n",
    "foreach (int getal in getallen)\n",
    "{\n",
    "    if (getal % 2 == 0) // Controleer of het getal even is\n",
    "    {\n",
    "        Console.WriteLine(\"Het eerste even getal in de lijst is: \" + getal);\n",
    "        break; // Stop de lus na het vinden van het eerste even getal\n",
    "    }\n",
    "}"
   ]
  },
  {
   "cell_type": "markdown",
   "metadata": {},
   "source": [
    "### Vraag 5: Sla de vijven over"
   ]
  },
  {
   "cell_type": "code",
   "execution_count": null,
   "metadata": {
    "polyglot_notebook": {
     "kernelName": "csharp"
    },
    "vscode": {
     "languageId": "polyglot-notebook"
    }
   },
   "outputs": [],
   "source": [
    "for (int i = 1; i <= 10; i++)\n",
    "{\n",
    "    if (i % 5 == 0)\n",
    "    {\n",
    "        continue; // Sla de rest van deze iteratie over en ga naar de volgende\n",
    "    }\n",
    "    Console.WriteLine(i);\n",
    "}"
   ]
  },
  {
   "cell_type": "markdown",
   "metadata": {},
   "source": [
    "### Vraag 6: Aantal positieve waarden in een 2D-array"
   ]
  },
  {
   "cell_type": "code",
   "execution_count": null,
   "metadata": {
    "polyglot_notebook": {
     "kernelName": "csharp"
    },
    "vscode": {
     "languageId": "polyglot-notebook"
    }
   },
   "outputs": [],
   "source": [
    "int[,] matrix = new int[,] { { 1, -2, 3 }, { -4, 5, -6 }, { 7, 8, -9 } };\n",
    "int aantalPositief = 0;\n",
    "\n",
    "for (int i = 0; i < matrix.GetLength(0); i++)\n",
    "{\n",
    "    for (int j = 0; j < matrix.GetLength(1); j++)\n",
    "    {\n",
    "        if (matrix[i, j] > 0)\n",
    "        {\n",
    "            aantalPositief++;\n",
    "        }\n",
    "    }\n",
    "}\n",
    "\n",
    "Console.WriteLine(\"Aantal positieve getallen in de matrix: \" + aantalPositief);"
   ]
  },
  {
   "cell_type": "markdown",
   "metadata": {},
   "source": [
    "# Uitdagingen"
   ]
  },
  {
   "cell_type": "markdown",
   "metadata": {},
   "source": [
    "### Uitdaging 1: Vier op een rij - Winnaar bepalen"
   ]
  },
  {
   "cell_type": "code",
   "execution_count": null,
   "metadata": {
    "polyglot_notebook": {
     "kernelName": "csharp"
    },
    "vscode": {
     "languageId": "polyglot-notebook"
    }
   },
   "outputs": [],
   "source": [
    "string[,] grid = new string[5, 5]\n",
    "{\n",
    "    { \"\", \"red\", \"yellow\", \"\", \"\" },\n",
    "    { \"\", \"\", \"yellow\", \"red\", \"\" },\n",
    "    { \"\", \"\", \"red\", \"red\", \"\" },\n",
    "    { \"\", \"red\", \"yellow\", \"red\", \"red\" },\n",
    "    { \"yellow\", \"red\", \"red\", \"red\", \"yellow\" }\n",
    "};\n",
    "\n",
    "string winnaar = \"\";\n",
    "\n",
    "// Check horizontaal\n",
    "for (int i = 0; i < grid.GetLength(0); i++)\n",
    "{\n",
    "    for (int j = 0; j <= grid.GetLength(1) - 4; j++)\n",
    "    {\n",
    "        if (grid[i, j] != \"\" && grid[i, j] == grid[i, j + 1] && grid[i, j] == grid[i, j + 2] && grid[i, j] == grid[i, j + 3])\n",
    "        {\n",
    "            winnaar = grid[i, j];\n",
    "        }\n",
    "    }\n",
    "}\n",
    "\n",
    "// Check verticaal (als er nog geen winnaar is)\n",
    "if (winnaar == \"\")\n",
    "{\n",
    "    for (int i = 0; i <= grid.GetLength(0) - 4; i++)\n",
    "    {\n",
    "        for (int j = 0; j < grid.GetLength(1); j++)\n",
    "        {\n",
    "            if (grid[i, j] != \"\" && grid[i, j] == grid[i + 1, j] && grid[i, j] == grid[i + 2, j] && grid[i, j] == grid[i + 3, j])\n",
    "            {\n",
    "                winnaar = grid[i, j];\n",
    "            }\n",
    "        }\n",
    "    }\n",
    "}\n",
    "\n",
    "if (winnaar != \"\")\n",
    "{\n",
    "    Console.WriteLine($\"De winnaar is: {winnaar}!\");\n",
    "}\n",
    "else\n",
    "{\n",
    "    Console.WriteLine(\"Er is nog geen winnaar.\");\n",
    "}"
   ]
  },
  {
   "cell_type": "markdown",
   "metadata": {},
   "source": [
    "### Uitdaging 2: Zoek de kleinste waarde in een reeks"
   ]
  },
  {
   "cell_type": "code",
   "execution_count": null,
   "metadata": {
    "polyglot_notebook": {
     "kernelName": "csharp"
    },
    "vscode": {
     "languageId": "polyglot-notebook"
    }
   },
   "outputs": [],
   "source": [
    "int? kleinsteGetal = null; // Gebruik een nullable int om het eerste getal te kunnen opslaan\n",
    "string invoer = \"\";\n",
    "\n",
    "Console.WriteLine(\"Voer een reeks getallen in (typ 'stop' om te eindigen):\");\n",
    "\n",
    "while (invoer.ToLower() != \"stop\")\n",
    "{\n",
    "    invoer = Console.ReadLine();\n",
    "    if (int.TryParse(invoer, out int huidigGetal))\n",
    "    {\n",
    "        if (kleinsteGetal == null || huidigGetal < kleinsteGetal)\n",
    "        {\n",
    "            kleinsteGetal = huidigGetal;\n",
    "        }\n",
    "    }\n",
    "}\n",
    "\n",
    "if (kleinsteGetal.HasValue)\n",
    "{\n",
    "    Console.WriteLine(\"Het kleinste ingevoerde getal is: \" + kleinsteGetal.Value);\n",
    "}\n",
    "else\n",
    "{\n",
    "    Console.WriteLine(\"Er zijn geen getallen ingevoerd.\");\n",
    "}"
   ]
  },
  {
   "cell_type": "markdown",
   "metadata": {},
   "source": [
    "### Uitdaging 3: Fibonacci en de Gulden Snede"
   ]
  },
  {
   "cell_type": "code",
   "execution_count": null,
   "metadata": {
    "polyglot_notebook": {
     "kernelName": "csharp"
    },
    "vscode": {
     "languageId": "polyglot-notebook"
    }
   },
   "outputs": [],
   "source": [
    "double guldenSnede = (1 + Math.Sqrt(5)) / 2;\n",
    "double precisie = 0.000001;\n",
    "\n",
    "double a = 0;\n",
    "double b = 1;\n",
    "int stappen = 0;\n",
    "\n",
    "while (true)\n",
    "{\n",
    "    stappen++;\n",
    "    double volgende = a + b;\n",
    "    a = b;\n",
    "    b = volgende;\n",
    "\n",
    "    if (a > 0) // Voorkom delen door nul bij de start\n",
    "    {\n",
    "        double huidigeVerhouding = b / a;\n",
    "        double verschil = Math.Abs(huidigeVerhouding - guldenSnede);\n",
    "        \n",
    "        Console.WriteLine($\"Stap {stappen}: Verhouding is {huidigeVerhouding:F10}, Verschil is {verschil:E2}\");\n",
    "\n",
    "        if (verschil < precisie)\n",
    "        {\n",
    "            Console.WriteLine($\"\\nPrecisie bereikt na {stappen} stappen.\");\n",
    "            break;\n",
    "        }\n",
    "    }\n",
    "}"
   ]
  }
 ],
 "metadata": {
  "kernelspec": {
   "display_name": ".NET (C#)",
   "language": "C#",
   "name": ".net-csharp"
  },
  "language_info": {
   "name": "csharp"
  },
  "polyglot_notebook": {
   "kernelInfo": {
    "defaultKernelName": "csharp",
    "items": [
     {
      "aliases": [],
      "name": "csharp"
     }
    ]
   }
  }
 },
 "nbformat": 4,
 "nbformat_minor": 2
}
