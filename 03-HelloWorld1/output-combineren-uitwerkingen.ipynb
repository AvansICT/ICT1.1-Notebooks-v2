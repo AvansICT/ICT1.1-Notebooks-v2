{
 "cells": [
  {
   "cell_type": "markdown",
   "metadata": {},
   "source": [
    "# Uitwerkingen"
   ]
  },
  {
   "cell_type": "markdown",
   "metadata": {},
   "source": [
    "## Opdracht 1"
   ]
  },
  {
   "cell_type": "code",
   "execution_count": null,
   "metadata": {
    "dotnet_interactive": {
     "language": "csharp"
    },
    "polyglot_notebook": {
     "kernelName": "csharp"
    }
   },
   "outputs": [],
   "source": [
    "int hoogte = 3;\n",
    "int breedte = 4;\n",
    "\n",
    "// dit is een lus en wordt herhaalt van 1 tot en met 3 (waarde van hoogte)\n",
    "for (int i = 1; i <= hoogte; i++)\n",
    "{\n",
    "    // dit is een lus en wordt herhaalt van 1 tot en met 4 (waarde van hoogte)\n",
    "    for (int j = 1; j <= breedte; j++)\n",
    "    {\n",
    "        Console.Write(\"*\");\n",
    "    }\n",
    "    Console.WriteLine();\n",
    "}"
   ]
  },
  {
   "cell_type": "markdown",
   "metadata": {},
   "source": [
    "## Opdracht 2"
   ]
  },
  {
   "cell_type": "code",
   "execution_count": null,
   "metadata": {
    "dotnet_interactive": {
     "language": "csharp"
    },
    "polyglot_notebook": {
     "kernelName": "csharp"
    }
   },
   "outputs": [],
   "source": [
    "int breedte = 15;\n",
    "\n",
    "// het aantal sterren wordt met 2 opgehoogd iedere keer, vanwege symmetrie\n",
    "for (int aantalSterren = 1; aantalSterren <= breedte; aantalSterren += 2)\n",
    "{\n",
    "    // bereken het aantal spaties voor de sterren\n",
    "    int aantalSpaties = (breedte - aantalSterren) / 2;\n",
    "\n",
    "    // print het aantal berekende spaties\n",
    "    for (int tellerSpaties = 0; tellerSpaties < aantalSpaties; tellerSpaties++)\n",
    "    {\n",
    "        Console.Write(\" \");\n",
    "    }\n",
    "\n",
    "    // print nu het aantal sterren wat nodig is\n",
    "    for (int tellerSterren = 0; tellerSterren < aantalSterren; tellerSterren++)\n",
    "    {\n",
    "        Console.Write(\"*\");\n",
    "    }\n",
    "\n",
    "    Console.WriteLine();\n",
    "}"
   ]
  }
 ],
 "metadata": {
  "kernelspec": {
   "display_name": ".NET (C#)",
   "language": "C#",
   "name": ".net-csharp"
  },
  "language_info": {
   "name": "polyglot-notebook"
  },
  "polyglot_notebook": {
   "kernelInfo": {
    "defaultKernelName": "csharp",
    "items": [
     {
      "aliases": [],
      "languageName": "csharp",
      "name": "csharp"
     }
    ]
   }
  }
 },
 "nbformat": 4,
 "nbformat_minor": 2
}
