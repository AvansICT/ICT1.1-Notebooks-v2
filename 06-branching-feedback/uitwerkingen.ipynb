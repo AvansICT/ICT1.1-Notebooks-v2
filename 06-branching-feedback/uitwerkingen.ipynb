{
 "cells": [
  {
   "cell_type": "markdown",
   "metadata": {},
   "source": [
    "# Uitwerkingen: Enums en Switch-Statements"
   ]
  },
  {
   "cell_type": "markdown",
   "metadata": {},
   "source": [
    "# Vragen"
   ]
  },
  {
   "cell_type": "markdown",
   "metadata": {},
   "source": [
    "### Vraag 1: Planeten Enum"
   ]
  },
  {
   "cell_type": "code",
   "execution_count": null,
   "metadata": {
    "polyglot_notebook": {
     "kernelName": "csharp"
    },
    "vscode": {
     "languageId": "polyglot-notebook"
    }
   },
   "outputs": [],
   "source": [
    "public enum Planeet { Mercurius, Venus, Aarde, Mars, Jupiter, Saturnus, Uranus, Neptunus }\n",
    "\n",
    "Planeet mijnPlaneet = Planeet.Aarde;\n",
    "Console.WriteLine(\"Mijn favoriete planeet is: \" + mijnPlaneet);"
   ]
  },
  {
   "cell_type": "markdown",
   "metadata": {},
   "source": [
    "### Vraag 2: Dag van de Week"
   ]
  },
  {
   "cell_type": "code",
   "execution_count": null,
   "metadata": {
    "polyglot_notebook": {
     "kernelName": "csharp"
    },
    "vscode": {
     "languageId": "polyglot-notebook"
    }
   },
   "outputs": [],
   "source": [
    "int dagNummer;\n",
    "Console.WriteLine(\"Voer een dagnummer in (1-7):\");\n",
    "while (!int.TryParse(Console.ReadLine(), out dagNummer))\n",
    "{\n",
    "    Console.WriteLine(\"Ongeldige invoer. Voer een getal in:\");\n",
    "}\n",
    "\n",
    "switch (dagNummer)\n",
    "{\n",
    "    case 1: Console.WriteLine(\"Maandag\"); break;\n",
    "    case 2: Console.WriteLine(\"Dinsdag\"); break;\n",
    "    case 3: Console.WriteLine(\"Woensdag\"); break;\n",
    "    case 4: Console.WriteLine(\"Donderdag\"); break;\n",
    "    case 5: Console.WriteLine(\"Vrijdag\"); break;\n",
    "    case 6: Console.WriteLine(\"Zaterdag\"); break;\n",
    "    case 7: Console.WriteLine(\"Zondag\"); break;\n",
    "    default: Console.WriteLine(\"Ongeldig dagnummer.\"); break;\n",
    "}"
   ]
  },
  {
   "cell_type": "markdown",
   "metadata": {},
   "source": [
    "### Vraag 3: Gebruikersrollen"
   ]
  },
  {
   "cell_type": "code",
   "execution_count": null,
   "metadata": {
    "polyglot_notebook": {
     "kernelName": "csharp"
    },
    "vscode": {
     "languageId": "polyglot-notebook"
    }
   },
   "outputs": [],
   "source": [
    "public enum Gebruikersrol { Gast, Gebruiker, Moderator, Admin }\n",
    "\n",
    "Console.WriteLine(\"Voer uw gebruikersrol in (Gast, Gebruiker, Moderator, Admin):\");\n",
    "string rolInput = Console.ReadLine();\n",
    "\n",
    "switch (rolInput.ToLower())\n",
    "{\n",
    "    case \"gast\":\n",
    "        Console.WriteLine(\"Welkom, Gast! U kunt rondkijken.\");\n",
    "        break;\n",
    "    case \"gebruiker\":\n",
    "        Console.WriteLine(\"Welkom, Gebruiker! U kunt berichten plaatsen.\");\n",
    "        break;\n",
    "    case \"moderator\":\n",
    "        Console.WriteLine(\"Welkom, Moderator! U kunt berichten beheren.\");\n",
    "        break;\n",
    "    case \"admin\":\n",
    "        Console.WriteLine(\"Welkom, Admin! U heeft volledige toegang.\");\n",
    "        break;\n",
    "    default:\n",
    "        Console.WriteLine(\"Onbekende rol.\");\n",
    "        break;\n",
    "}"
   ]
  },
  {
   "cell_type": "markdown",
   "metadata": {},
   "source": [
    "### Vraag 4: Seizoenen"
   ]
  },
  {
   "cell_type": "code",
   "execution_count": null,
   "metadata": {
    "polyglot_notebook": {
     "kernelName": "csharp"
    },
    "vscode": {
     "languageId": "polyglot-notebook"
    }
   },
   "outputs": [],
   "source": [
    "int maandNummer;\n",
    "Console.WriteLine(\"Voer een maandnummer in (1-12):\");\n",
    "while (!int.TryParse(Console.ReadLine(), out maandNummer))\n",
    "{\n",
    "    Console.WriteLine(\"Ongeldige invoer. Voer een getal in:\");\n",
    "}\n",
    "\n",
    "switch (maandNummer)\n",
    "{\n",
    "    case 12:\n",
    "    case 1:\n",
    "    case 2:\n",
    "        Console.WriteLine(\"Het is winter.\");\n",
    "        break;\n",
    "    case 3:\n",
    "    case 4:\n",
    "    case 5:\n",
    "        Console.WriteLine(\"Het is lente.\");\n",
    "        break;\n",
    "    case 6:\n",
    "    case 7:\n",
    "    case 8:\n",
    "        Console.WriteLine(\"Het is zomer.\");\n",
    "        break;\n",
    "    case 9:\n",
    "    case 10:\n",
    "    case 11:\n",
    "        Console.WriteLine(\"Het is herfst.\");\n",
    "        break;\n",
    "    default:\n",
    "        Console.WriteLine(\"Ongeldig maandnummer.\");\n",
    "        break;\n",
    "}"
   ]
  },
  {
   "cell_type": "markdown",
   "metadata": {},
   "source": [
    "### Vraag 5: Drankautomaat"
   ]
  },
  {
   "cell_type": "code",
   "execution_count": null,
   "metadata": {
    "polyglot_notebook": {
     "kernelName": "csharp"
    },
    "vscode": {
     "languageId": "polyglot-notebook"
    }
   },
   "outputs": [],
   "source": [
    "Console.WriteLine(\"Voer een productcode in (bv. A1, A2, B1):\");\n",
    "string code = Console.ReadLine().ToUpper();\n",
    "\n",
    "switch (code)\n",
    "{\n",
    "    case \"A1\":\n",
    "        Console.WriteLine(\"U heeft Cola gekozen.\");\n",
    "        break;\n",
    "    case \"A2\":\n",
    "        Console.WriteLine(\"U heeft Fanta gekozen.\");\n",
    "        break;\n",
    "    case \"B1\":\n",
    "        Console.WriteLine(\"U heeft Water gekozen.\");\n",
    "        break;\n",
    "    default:\n",
    "        Console.WriteLine(\"Ongeldige productcode.\");\n",
    "        break;\n",
    "}"
   ]
  },
  {
   "cell_type": "markdown",
   "metadata": {},
   "source": [
    "### Vraag 6: Type conversie met Enums"
   ]
  },
  {
   "cell_type": "code",
   "execution_count": null,
   "metadata": {
    "polyglot_notebook": {
     "kernelName": "csharp"
    },
    "vscode": {
     "languageId": "polyglot-notebook"
    }
   },
   "outputs": [],
   "source": [
    "// Gebruikt de Planeet enum uit Vraag 1\n",
    "public enum Planeet { Mercurius, Venus, Aarde, Mars, Jupiter, Saturnus, Uranus, Neptunus }\n",
    "\n",
    "// Converteer enum naar int\n",
    "Planeet mars = Planeet.Mars;\n",
    "int marsAlsGetal = (int)mars;\n",
    "Console.WriteLine($\"De planeet {mars} heeft de numerieke waarde {marsAlsGetal}.\");\n",
    "\n",
    "// Converteer int naar enum\n",
    "int saturnusGetal = 5;\n",
    "Planeet saturnus = (Planeet)saturnusGetal;\n",
    "Console.WriteLine($\"Het getal {saturnusGetal} komt overeen met de planeet {saturnus}.\");\n"
   ]
  },
  {
   "cell_type": "markdown",
   "metadata": {},
   "source": [
    "### Vraag 7: Stoplicht met Enums"
   ]
  },
  {
   "cell_type": "code",
   "execution_count": null,
   "metadata": {
    "polyglot_notebook": {
     "kernelName": "csharp"
    },
    "vscode": {
     "languageId": "polyglot-notebook"
    }
   },
   "outputs": [],
   "source": [
    "public enum Verkeerslicht { Rood, Oranje, Groen }\n",
    "\n",
    "Verkeerslicht status = Verkeerslicht.Groen;\n",
    "\n",
    "switch (status)\n",
    "{\n",
    "    case Verkeerslicht.Rood:\n",
    "        Console.WriteLine(\"Stoppen\");\n",
    "        break;\n",
    "    case Verkeerslicht.Oranje:\n",
    "        Console.WriteLine(\"Afremmen\");\n",
    "        break;\n",
    "    case Verkeerslicht.Groen:\n",
    "        Console.WriteLine(\"Doorgaan\");\n",
    "        break;\n",
    "}"
   ]
  },
  {
   "cell_type": "markdown",
   "metadata": {},
   "source": [
    "### Vraag 8: Klinker of Medeklinker?"
   ]
  },
  {
   "cell_type": "code",
   "execution_count": null,
   "metadata": {
    "polyglot_notebook": {
     "kernelName": "csharp"
    },
    "vscode": {
     "languageId": "polyglot-notebook"
    }
   },
   "outputs": [],
   "source": [
    "Console.WriteLine(\"Voer een letter in:\");\n",
    "char letter = Console.ReadKey().KeyChar;\n",
    "Console.WriteLine(); // Voor een nieuwe regel na de input\n",
    "\n",
    "switch (char.ToLower(letter))\n",
    "{\n",
    "    case 'a':\n",
    "    case 'e':\n",
    "    case 'i':\n",
    "    case 'o':\n",
    "    case 'u':\n",
    "        Console.WriteLine(\"Het is een klinker.\");\n",
    "        break;\n",
    "    default:\n",
    "        // Extra controle of het wel een letter is\n",
    "        if (char.IsLetter(letter))\n",
    "        {\n",
    "            Console.WriteLine(\"Het is een medeklinker.\");\n",
    "        }\n",
    "        else\n",
    "        {\n",
    "            Console.WriteLine(\"Dit is geen letter.\");\n",
    "        }\n",
    "        break;\n",
    "}"
   ]
  },
  {
   "cell_type": "markdown",
   "metadata": {},
   "source": [
    "# Uitdagingen"
   ]
  },
  {
   "cell_type": "markdown",
   "metadata": {},
   "source": [
    "### Uitdaging 1: Statusmachine voor een Deur"
   ]
  },
  {
   "cell_type": "code",
   "execution_count": null,
   "metadata": {
    "polyglot_notebook": {
     "kernelName": "csharp"
    },
    "vscode": {
     "languageId": "polyglot-notebook"
    }
   },
   "outputs": [],
   "source": [
    "public enum DeurStatus { OpSlot, Ontgrendeld, Open }\n",
    "\n",
    "DeurStatus huidigeStatus = DeurStatus.OpSlot;\n",
    "Console.WriteLine($\"De deur is nu: {huidigeStatus}\");\n",
    "Console.WriteLine(\"Welke actie wil je uitvoeren? (gebruik sleutel / duw tegen deur)\");\n",
    "string actie = Console.ReadLine();\n",
    "\n",
    "switch(huidigeStatus)\n",
    "{\n",
    "    case DeurStatus.OpSlot:\n",
    "        if (actie == \"gebruik sleutel\")\n",
    "        {\n",
    "            huidigeStatus = DeurStatus.Ontgrendeld;\n",
    "            Console.WriteLine(\"Klik! De deur is nu ontgrendeld.\");\n",
    "        }\n",
    "        else\n",
    "        {\n",
    "            Console.WriteLine(\"De deur zit op slot en beweegt niet.\");\n",
    "        }\n",
    "        break;\n",
    "    case DeurStatus.Ontgrendeld:\n",
    "        if (actie == \"duw tegen deur\")\n",
    "        {\n",
    "            huidigeStatus = DeurStatus.Open;\n",
    "            Console.WriteLine(\"De deur zwaait open.\");\n",
    "        }\n",
    "        else if (actie == \"gebruik sleutel\")\n",
    "        {\n",
    "            huidigeStatus = DeurStatus.OpSlot;\n",
    "            Console.WriteLine(\"Je draait de deur weer op slot.\");\n",
    "        }\n",
    "        break;\n",
    "    case DeurStatus.Open:\n",
    "        Console.WriteLine(\"De deur is al open.\");\n",
    "        break;\n",
    "}\n",
    "Console.WriteLine($\"De deur is nu: {huidigeStatus}\");"
   ]
  },
  {
   "cell_type": "markdown",
   "metadata": {},
   "source": [
    "### Uitdaging 2: RPG Schade Calculator"
   ]
  },
  {
   "cell_type": "code",
   "execution_count": null,
   "metadata": {
    "polyglot_notebook": {
     "kernelName": "csharp"
    },
    "vscode": {
     "languageId": "polyglot-notebook"
    }
   },
   "outputs": [],
   "source": [
    "public enum Element { Vuur, IJs, Bliksem };\n",
    "public enum VijandType { Trol, Geest, Golem };\n",
    "\n",
    "Element aanval = Element.Vuur;\n",
    "VijandType vijand = VijandType.Trol;\n",
    "int basisSchade = 100;\n",
    "double uiteindelijkeSchade = basisSchade;\n",
    "\n",
    "Console.WriteLine($\"Je valt een {vijand} aan met {aanval}...\");\n",
    "\n",
    "switch (vijand)\n",
    "{\n",
    "    case VijandType.Trol:\n",
    "        switch (aanval)\n",
    "        {\n",
    "            case Element.Vuur: // zwakte\n",
    "                uiteindelijkeSchade *= 2.0; // 200%\n",
    "                Console.WriteLine(\"Het is super effectief!\");\n",
    "                break;\n",
    "        }\n",
    "        break;\n",
    "    case VijandType.Geest:\n",
    "        switch (aanval)\n",
    "        {\n",
    "            case Element.Bliksem: // immuniteit\n",
    "                uiteindelijkeSchade *= 0.0; // 0%\n",
    "                Console.WriteLine(\"Het heeft geen effect...\");\n",
    "                break;\n",
    "        }\n",
    "        break;\n",
    "    case VijandType.Golem:\n",
    "        switch(aanval)\n",
    "        {\n",
    "            case Element.IJs: // resistentie\n",
    "                uiteindelijkeSchade *= 0.5; // 50%\n",
    "                Console.WriteLine(\"Het is niet erg effectief...\");\n",
    "                break;\n",
    "        }\n",
    "        break;\n",
    "}\n",
    "\n",
    "Console.WriteLine($\"Je doet {uiteindelijkeSchade} schade.\");"
   ]
  },
  {
   "cell_type": "markdown",
   "metadata": {},
   "source": [
    "### Uitdaging 3: Dynamisch Menu"
   ]
  },
  {
   "cell_type": "code",
   "execution_count": null,
   "metadata": {
    "polyglot_notebook": {
     "kernelName": "csharp"
    },
    "vscode": {
     "languageId": "polyglot-notebook"
    }
   },
   "outputs": [],
   "source": [
    "Console.WriteLine(\"Hoofdmenu:\");\n",
    "Console.WriteLine(\"1. Converteer valuta\");\n",
    "Console.WriteLine(\"2. Bereken cijfer\");\n",
    "Console.WriteLine(\"3. Programma afsluiten\");\n",
    "Console.Write(\"Uw keuze: \");\n",
    "int keuze = int.Parse(Console.ReadLine());\n",
    "\n",
    "switch (keuze)\n",
    "{\n",
    "    case 1:\n",
    "        Console.WriteLine(\"\\nValuta Conversie:\");\n",
    "        Console.WriteLine(\"1. EUR naar USD\");\n",
    "        Console.WriteLine(\"2. USD naar EUR\");\n",
    "        Console.Write(\"Uw keuze: \");\n",
    "        int subkeuze = int.Parse(Console.ReadLine());\n",
    "        switch (subkeuze)\n",
    "        {\n",
    "            case 1: Console.WriteLine(\"EUR naar USD conversie wordt uitgevoerd...\"); break;\n",
    "            case 2: Console.WriteLine(\"USD naar EUR conversie wordt uitgevoerd...\"); break;\n",
    "            default: Console.WriteLine(\"Ongeldige subkeuze.\"); break;\n",
    "        }\n",
    "        break;\n",
    "    case 2:\n",
    "        Console.WriteLine(\"Cijferberekening wordt uitgevoerd...\");\n",
    "        break;\n",
    "    case 3:\n",
    "        Console.WriteLine(\"Programma wordt afgesloten.\");\n",
    "        break;\n",
    "    default:\n",
    "        Console.WriteLine(\"Ongeldige keuze.\");\n",
    "        break;\n",
    "}"
   ]
  },
  {
   "cell_type": "markdown",
   "metadata": {},
   "source": [
    "### Uitdaging 4: Enum met Vaste Waarden"
   ]
  },
  {
   "cell_type": "code",
   "execution_count": null,
   "metadata": {
    "polyglot_notebook": {
     "kernelName": "csharp"
    },
    "vscode": {
     "languageId": "polyglot-notebook"
    }
   },
   "outputs": [],
   "source": [
    "public enum HttpStatusCode \n",
    "{\n",
    "    OK = 200,\n",
    "    NotFound = 404,\n",
    "    InternalServerError = 500\n",
    "}\n",
    "\n",
    "int code;\n",
    "Console.WriteLine(\"Voer een HTTP statuscode in (200, 404, 500):\");\n",
    "while(!int.TryParse(Console.ReadLine(), out code))\n",
    "{\n",
    "    Console.WriteLine(\"Voer een geldig getal in.\");\n",
    "}\n",
    "\n",
    "// Converteer de integer input naar de enum\n",
    "HttpStatusCode status = (HttpStatusCode)code;\n",
    "\n",
    "switch(status)\n",
    "{\n",
    "    case HttpStatusCode.OK:\n",
    "        Console.WriteLine(\"Betekenis: Alles is in orde.\");\n",
    "        break;\n",
    "    case HttpStatusCode.NotFound:\n",
    "        Console.WriteLine(\"Betekenis: Pagina niet gevonden.\");\n",
    "        break;\n",
    "    case HttpStatusCode.InternalServerError:\n",
    "        Console.WriteLine(\"Betekenis: Er is een fout op de server opgetreden.\");\n",
    "        break;\n",
    "    default:\n",
    "        Console.WriteLine(\"Onbekende statuscode.\");\n",
    "        break;\n",
    "}"
   ]
  },
  {
   "cell_type": "markdown",
   "metadata": {},
   "source": [
    "### Uitdaging 5: Fibonacci met Recursie en Switch"
   ]
  },
  {
   "cell_type": "code",
   "execution_count": null,
   "metadata": {
    "polyglot_notebook": {
     "kernelName": "csharp"
    },
    "vscode": {
     "languageId": "polyglot-notebook"
    }
   },
   "outputs": [],
   "source": [
    "// Functie definitie\n",
    "int Fibonacci(int n)\n",
    "{\n",
    "    switch(n)\n",
    "    {\n",
    "        case 0:\n",
    "            return 0; // Basisgeval 1\n",
    "        case 1:\n",
    "            return 1; // Basisgeval 2\n",
    "        default:\n",
    "            // Recursieve stap\n",
    "            return Fibonacci(n - 1) + Fibonacci(n - 2);\n",
    "    }\n",
    "}\n",
    "\n",
    "// Programma uitvoering\n",
    "Console.WriteLine(\"Van welk getal wil je de Fibonacci-waarde weten?\");\n",
    "int getal = int.Parse(Console.ReadLine());\n",
    "int resultaat = Fibonacci(getal);\n",
    "Console.WriteLine($\"Het {getal}e getal in de Fibonacci-reeks is {resultaat}.\");"
   ]
  }
 ],
 "metadata": {
  "kernelspec": {
   "display_name": ".NET (C#)",
   "language": "C#",
   "name": ".net-csharp"
  },
  "language_info": {
   "name": "csharp"
  },
  "polyglot_notebook": {
   "kernelInfo": {
    "defaultKernelName": "csharp",
    "items": [
     {
      "aliases": [],
      "name": "csharp"
     }
    ]
   }
  }
 },
 "nbformat": 4,
 "nbformat_minor": 2
}
