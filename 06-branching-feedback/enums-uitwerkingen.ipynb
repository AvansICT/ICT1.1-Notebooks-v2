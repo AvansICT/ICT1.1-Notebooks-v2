{
 "cells": [
  {
   "cell_type": "markdown",
   "metadata": {},
   "source": [
    "# Uitwerkingen"
   ]
  },
  {
   "cell_type": "markdown",
   "metadata": {},
   "source": [
    "## Opdracht"
   ]
  },
  {
   "cell_type": "code",
   "execution_count": null,
   "metadata": {
    "dotnet_interactive": {
     "language": "csharp"
    },
    "polyglot_notebook": {
     "kernelName": "csharp"
    }
   },
   "outputs": [],
   "source": [
    "using Microsoft.DotNet.Interactive;\n",
    "\n",
    "// Definieer een enum voor dagen\n",
    "enum Dag\n",
    "{\n",
    "    Maandag, // 0\n",
    "    Dinsdag, // 1\n",
    "    Woensdag, // 2\n",
    "    Donderdag, // 3\n",
    "    Vrijdag, // 4\n",
    "    Zaterdag, // 5\n",
    "    Zondag // 6\n",
    "}\n",
    "\n",
    "// Definieer een enum voor maaltijden\n",
    "enum Maaltijd\n",
    "{\n",
    "    Ontbijt, // 0\n",
    "    Lunch, // 1\n",
    "    Diner // 2\n",
    "}\n",
    "\n",
    "// Vraag de gebruiker om de dag\n",
    "string dagInput = await Kernel.GetInputAsync(\"Voer de dag in (0 - 6 voor Maandag - Zondag): \");\n",
    "int dagNummer = Convert.ToInt32(dagInput);\n",
    "\n",
    "// Vraag de gebruiker om de maaltijd\n",
    "string maaltijdInput = await Kernel.GetInputAsync(\"Voer de maaltijd in (0 - 2 voor Ontbijt, Lunch, Diner): \");\n",
    "int maaltijdNummer = Convert.ToInt32(maaltijdInput);\n",
    "\n",
    "// Typecast de input naar de enums en print de resultaten\n",
    "Dag dagEnum = (Dag)dagNummer;\n",
    "Maaltijd maaltijdEnum = (Maaltijd)maaltijdNummer;\n",
    "\n",
    "// Print de geselecteerde dag en maaltijd naar de console\n",
    "Console.WriteLine($\"Je hebt gekozen voor {dagEnum} en {maaltijdEnum}.\");"
   ]
  }
 ],
 "metadata": {
  "kernelspec": {
   "display_name": ".NET (C#)",
   "language": "C#",
   "name": ".net-csharp"
  },
  "language_info": {
   "name": "polyglot-notebook"
  },
  "polyglot_notebook": {
   "kernelInfo": {
    "defaultKernelName": "csharp",
    "items": [
     {
      "aliases": [],
      "languageName": "csharp",
      "name": "csharp"
     }
    ]
   }
  }
 },
 "nbformat": 4,
 "nbformat_minor": 2
}
