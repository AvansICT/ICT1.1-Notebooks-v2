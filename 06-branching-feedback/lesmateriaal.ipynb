{
 "cells": [
  {
   "cell_type": "markdown",
   "metadata": {},
   "source": [
    "# Lesmateriaal: Enums en Switch-Statements"
   ]
  },
  {
   "cell_type": "markdown",
   "metadata": {},
   "source": [
    "# Theorie"
   ]
  },
  {
   "cell_type": "markdown",
   "metadata": {},
   "source": [
    "## Enums\n",
    "\n",
    "Een enum (kort voor enumeratie) is een manier om een set van gerelateerde namen aan numerieke waarden te geven. Dit maakt je code leesbaarder en makkelijker te begrijpen. In plaats van te werken met getallen, kun je werken met namen die beschrijven wat die getallen betekenen.\n",
    "\n",
    "### Voorbeeld Analogie\n",
    "\n",
    "Stel je voor dat je een lijst hebt van de seizoenen in het jaar. In plaats van elk seizoen te representeren met een nummer (zoals 0 voor winter, 1 voor lente, enzovoort), kun je een enum gebruiken om de seizoenen van het jaar een naam te geven. Je zou dit ook met een string kunnen doen, met de strings \"winter\", \"lente\" enzovoort, maar het probleem is dat hierbij gemakkelijk typfouten gemaakt kunnen worden. De C# compiler controleert deze strings niet, maar een enum wordt wel gecontroleerd. Daarnaast kun je met een enum ook code-completion gebruiken in je IDE, wat het programmeren een stuk sneller en gemakkelijker maakt, waarbij je code nog steeds duidelijk leesbaar blijft.\n",
    "\n",
    "### Voorbeeld in praktijk"
   ]
  },
  {
   "cell_type": "code",
   "execution_count": null,
   "metadata": {
    "polyglot_notebook": {
     "kernelName": "csharp"
    },
    "vscode": {
     "languageId": "polyglot-notebook"
    }
   },
   "outputs": [],
   "source": [
    "enum Seizoen {\n",
    "    Winter, // 0\n",
    "    Lente, // 1\n",
    "    Zomer, // 2\n",
    "    Herfst // 3 \n",
    "}"
   ]
  },
  {
   "cell_type": "markdown",
   "metadata": {},
   "source": [
    "In dit voorbeeld hebben we een `enum` gemaakt genaamd 'Seizoen', met de seizoenen als waarde. Standaard krijgen deze waarden de nummers 0 tot en met 3 toegewezen.\n",
    "\n",
    "### Gebruik van een Enum\n",
    "Je kunt altijd een variabele het `enum` type meegeven en hem een `enum` waarde meegeven. Daarnaast kan je een `integer` omzetten naar een `enum` door gebruik te maken van **type-casting**."
   ]
  },
  {
   "cell_type": "code",
   "execution_count": null,
   "metadata": {
    "polyglot_notebook": {
     "kernelName": "csharp"
    },
    "vscode": {
     "languageId": "polyglot-notebook"
    }
   },
   "outputs": [],
   "source": [
    "// Voor dit voorbeeld definiëren we de enum hier opnieuw.\n",
    "// In een echte applicatie staat dit meestal buiten de methode of in een eigen bestand.\n",
    "enum SeizoenEnum { Winter, Lente, Zomer, Herfst }\n",
    "\n",
    "SeizoenEnum vandaag = SeizoenEnum.Lente;\n",
    "Console.WriteLine(vandaag); // Print \"Lente\"\n",
    "\n",
    "int winterAlsGetal = 0;\n",
    "Console.WriteLine(winterAlsGetal); // output is 0\n",
    "\n",
    "// hier geven we C# aan dat we willen dat de int wordt veranderd in een Seizoen enum\n",
    "SeizoenEnum winterInEnum = (SeizoenEnum)winterAlsGetal;\n",
    "Console.WriteLine(winterInEnum); // print \"Winter\""
   ]
  },
  {
   "cell_type": "markdown",
   "metadata": {},
   "source": [
    "## Switch - Case\n",
    "\n",
    "Soms wil je, op basis van de waarde van een variabele, bepaalde acties uitvoeren.\n",
    "\n",
    "Denk bijvoorbeeld aan de kleur van een verkeerslicht, waarop je als verkeersdeelnemer moet reageren:\n",
    "\n",
    "|Kleur|Actie|\n",
    "|-----|-----|\n",
    "|Rood|Stoppen|\n",
    "|Oranje|Afremmen|\n",
    "|Groen|Doorgaan|\n",
    "\n",
    "Je zou dit natuurlijk kunnen oplossen met `if-else if` statements, maar als er veel mogelijke waarden zijn, kan een `switch`-statement overzichtelijker zijn.\n",
    "\n",
    "Een `switch`-statement kiest, op basis van de waarde van een variabele, het juiste pad van acties.\n",
    "\n",
    "Bijvoorbeeld:"
   ]
  },
  {
   "cell_type": "code",
   "execution_count": null,
   "metadata": {
    "polyglot_notebook": {
     "kernelName": "csharp"
    },
    "vscode": {
     "languageId": "polyglot-notebook"
    }
   },
   "outputs": [],
   "source": [
    "string kleur = \"Oranje\";\n",
    "\n",
    "switch(kleur)\n",
    "{\n",
    "    case \"Rood\":\n",
    "        Console.WriteLine(\"Stoppen\");\n",
    "        break;\n",
    "    case \"Oranje\":\n",
    "        Console.WriteLine(\"Afremmen\");\n",
    "        break;\n",
    "    case \"Groen\":\n",
    "        Console.WriteLine(\"Doorgaan\");\n",
    "        break;\n",
    "}"
   ]
  },
  {
   "cell_type": "markdown",
   "metadata": {},
   "source": [
    "Het `break`-statement binnen elke `case` is essentieel. Het zorgt ervoor dat de uitvoering stopt nadat de code voor een overeenkomende case is uitgevoerd. Zonder `break` zou de code doorlopen naar de volgende case (dit heet 'fall-through'), wat in C# meestal een compileerfout geeft, tenzij de case leeg is.\n",
    "\n",
    "### Cases Combineren\n",
    "Als meerdere waarden tot dezelfde actie moeten leiden, kun je `case`-labels combineren door ze onder elkaar te zetten:"
   ]
  },
  {
   "cell_type": "code",
   "execution_count": null,
   "metadata": {
    "polyglot_notebook": {
     "kernelName": "csharp"
    },
    "vscode": {
     "languageId": "polyglot-notebook"
    }
   },
   "outputs": [],
   "source": [
    "string verkeerslichtStatus = \"Knippert oranje\";\n",
    "\n",
    "switch(verkeerslichtStatus)\n",
    "{\n",
    "    case \"Rood\":\n",
    "        Console.WriteLine(\"Stoppen\");\n",
    "        break;\n",
    "    case \"Oranje\":\n",
    "        Console.WriteLine(\"Afremmen\");\n",
    "        break;\n",
    "    case \"Groen\":\n",
    "        Console.WriteLine(\"Doorgaan\");\n",
    "        break;\n",
    "    case \"Geen\": // Lege case, valt door naar de volgende\n",
    "    case \"Knippert oranje\":\n",
    "        Console.WriteLine(\"Oppassen: gevaar!\");\n",
    "        break;\n",
    "}"
   ]
  },
  {
   "cell_type": "markdown",
   "metadata": {},
   "source": [
    "### De `default` Case\n",
    "Voor situaties waarin geen van de `case`-labels overeenkomt met de waarde van de variabele, kun je een `default`-case gebruiken. Dit is vergelijkbaar met de laatste `else` in een `if-else if`-keten."
   ]
  },
  {
   "cell_type": "code",
   "execution_count": null,
   "metadata": {
    "polyglot_notebook": {
     "kernelName": "csharp"
    },
    "vscode": {
     "languageId": "polyglot-notebook"
    }
   },
   "outputs": [],
   "source": [
    "string kleur = \"Paars\"; // Een ongeldige kleur voor een verkeerslicht\n",
    "\n",
    "switch(kleur)\n",
    "{\n",
    "    case \"Rood\":\n",
    "        Console.WriteLine(\"Stoppen\");\n",
    "        break;\n",
    "    case \"Oranje\":\n",
    "        Console.WriteLine(\"Afremmen\");\n",
    "        break;\n",
    "    case \"Groen\":\n",
    "        Console.WriteLine(\"Doorgaan\");\n",
    "        break;\n",
    "    default:\n",
    "        Console.WriteLine(\"Oppassen: gevaar!\");\n",
    "        break;\n",
    "}"
   ]
  },
  {
   "cell_type": "markdown",
   "metadata": {},
   "source": [
    "### Scope binnen een Switch\n",
    "Een `switch`-statement heeft een eigen 'scope'. Variabelen die je binnen een `case`-blok declareert, zijn alleen binnen die `case` geldig. Als je een variabele wilt gebruiken die in de hele `switch` toegankelijk is, moet je deze *buiten* de `switch` declareren."
   ]
  },
  {
   "cell_type": "code",
   "execution_count": null,
   "metadata": {
    "polyglot_notebook": {
     "kernelName": "csharp"
    },
    "vscode": {
     "languageId": "polyglot-notebook"
    }
   },
   "outputs": [],
   "source": [
    "string kleur = \"Groen\";\n",
    "int adviessnelheid = 50;\n",
    "\n",
    "switch(kleur)\n",
    "{\n",
    "    case \"Rood\":\n",
    "        // int lokaleSnelheid = 0; // Alleen geldig binnen deze case\n",
    "        adviessnelheid = 0;\n",
    "        break;\n",
    "    case \"Oranje\":\n",
    "        adviessnelheid = 30;\n",
    "        break;\n",
    "    case \"Groen\":\n",
    "        adviessnelheid = 50;\n",
    "        break;\n",
    "    default:\n",
    "        Console.WriteLine(\"Oppassen: gevaar!\");\n",
    "        break;\n",
    "}\n",
    "\n",
    "Console.WriteLine(\"Adviessnelheid: \" + adviessnelheid + \" km/u\");\n",
    "// Console.WriteLine(lokaleSnelheid); // Zou een fout geven, want buiten scope"
   ]
  },
  {
   "cell_type": "markdown",
   "metadata": {},
   "source": [
    "# Vragen"
   ]
  },
  {
   "cell_type": "markdown",
   "metadata": {},
   "source": [
    "### Vraag 1: Planeten Enum\n",
    "Definieer een `enum` genaamd `Planeet` met daarin de acht planeten van ons zonnestelsel (Mercurius, Venus, Aarde, Mars, Jupiter, Saturnus, Uranus, Neptunus). Maak vervolgens een variabele van het type `Planeet` en geef deze de waarde `Planeet.Aarde`. Print de waarde van deze variabele naar de console."
   ]
  },
  {
   "cell_type": "code",
   "execution_count": null,
   "metadata": {
    "polyglot_notebook": {
     "kernelName": "csharp"
    },
    "vscode": {
     "languageId": "polyglot-notebook"
    }
   },
   "outputs": [],
   "source": []
  },
  {
   "cell_type": "markdown",
   "metadata": {},
   "source": [
    "### Vraag 2: Dag van de Week\n",
    "Vraag de gebruiker om een getal van 1 tot 7. Gebruik een `switch`-statement om de bijbehorende dag van de week te printen (1 = Maandag, 2 = Dinsdag, etc.). Gebruik een `default` case voor ongeldige nummers."
   ]
  },
  {
   "cell_type": "code",
   "execution_count": null,
   "metadata": {
    "polyglot_notebook": {
     "kernelName": "csharp"
    },
    "vscode": {
     "languageId": "polyglot-notebook"
    }
   },
   "outputs": [],
   "source": []
  },
  {
   "cell_type": "markdown",
   "metadata": {},
   "source": [
    "### Vraag 3: Gebruikersrollen\n",
    "Definieer een `enum` `Gebruikersrol` met de waarden `Gast`, `Gebruiker`, `Moderator`, en `Admin`. Vraag de gebruiker om hun rol (als string) en gebruik een `switch`-statement om een welkomstbericht te printen dat past bij de rol. Bijvoorbeeld: \"Welkom, Admin! U heeft volledige toegang.\""
   ]
  },
  {
   "cell_type": "code",
   "execution_count": null,
   "metadata": {
    "polyglot_notebook": {
     "kernelName": "csharp"
    },
    "vscode": {
     "languageId": "polyglot-notebook"
    }
   },
   "outputs": [],
   "source": []
  },
  {
   "cell_type": "markdown",
   "metadata": {},
   "source": [
    "### Vraag 4: Seizoenen\n",
    "Vraag de gebruiker om een maandnummer (1-12). Gebruik een `switch`-statement met gecombineerde `case`-labels om het juiste seizoen te printen. Gebruik de volgende indeling:\n",
    "- Winter: 12, 1, 2\n",
    "- Lente: 3, 4, 5\n",
    "- Zomer: 6, 7, 8\n",
    "- Herfst: 9, 10, 11"
   ]
  },
  {
   "cell_type": "code",
   "execution_count": null,
   "metadata": {
    "polyglot_notebook": {
     "kernelName": "csharp"
    },
    "vscode": {
     "languageId": "polyglot-notebook"
    }
   },
   "outputs": [],
   "source": []
  },
  {
   "cell_type": "markdown",
   "metadata": {},
   "source": [
    "### Vraag 5: Drankautomaat\n",
    "Maak een programma voor een drankautomaat. Vraag de gebruiker om een productcode (bijv. 'A1', 'B2'). Gebruik een `switch` om het gekozen product te printen. `A1` is Cola, `A2` is Fanta, `B1` is Water. Gebruik een `default` case voor ongeldige codes."
   ]
  },
  {
   "cell_type": "code",
   "execution_count": null,
   "metadata": {
    "polyglot_notebook": {
     "kernelName": "csharp"
    },
    "vscode": {
     "languageId": "polyglot-notebook"
    }
   },
   "outputs": [],
   "source": []
  },
  {
   "cell_type": "markdown",
   "metadata": {},
   "source": [
    "### Vraag 6: Type conversie met Enums\n",
    "Gebruik de `Planeet` enum uit vraag 1. Converteer de `enum`-waarde `Planeet.Mars` naar een `int` en print dit getal. Converteer daarna het getal `5` (voor Saturnus) terug naar een `Planeet` en print de resulterende `enum`-naam."
   ]
  },
  {
   "cell_type": "code",
   "execution_count": null,
   "metadata": {
    "polyglot_notebook": {
     "kernelName": "csharp"
    },
    "vscode": {
     "languageId": "polyglot-notebook"
    }
   },
   "outputs": [],
   "source": []
  },
  {
   "cell_type": "markdown",
   "metadata": {},
   "source": [
    "### Vraag 7: Stoplicht met Enums\n",
    "Definieer een `enum` `Verkeerslicht` met de waarden `Rood`, `Oranje`, `Groen`. Maak een variabele van dit type en geef deze een waarde. Gebruik een `switch`-statement op deze `enum`-variabele om de juiste actie te printen (\"Stoppen\", \"Afremmen\", \"Doorgaan\")."
   ]
  },
  {
   "cell_type": "code",
   "execution_count": null,
   "metadata": {
    "polyglot_notebook": {
     "kernelName": "csharp"
    },
    "vscode": {
     "languageId": "polyglot-notebook"
    }
   },
   "outputs": [],
   "source": []
  },
  {
   "cell_type": "markdown",
   "metadata": {},
   "source": [
    "### Vraag 8: Klinker of Medeklinker?\n",
    "Vraag de gebruiker om een enkele letter. Gebruik een `switch` om te bepalen of de letter een klinker (`a, e, i, o, u`) of een medeklinker is. Houd rekening met zowel hoofdletters als kleine letters."
   ]
  },
  {
   "cell_type": "code",
   "execution_count": null,
   "metadata": {
    "polyglot_notebook": {
     "kernelName": "csharp"
    },
    "vscode": {
     "languageId": "polyglot-notebook"
    }
   },
   "outputs": [],
   "source": []
  },
  {
   "cell_type": "markdown",
   "metadata": {},
   "source": [
    "# Uitdagingen"
   ]
  },
  {
   "cell_type": "markdown",
   "metadata": {},
   "source": [
    "### Uitdaging 1: Statusmachine voor een Deur\n",
    "Creëer een `enum` voor de statussen van een deur: `OpSlot`, `Ontgrendeld`, `Open`. Schrijf een programma dat begint met de deur `OpSlot`. Vraag de gebruiker om een actie (\"gebruik sleutel\", \"duw tegen deur\"). Gebruik een `switch` op de huidige status van de deur. Binnen elke `case`, gebruik een geneste `if` of `switch` om te reageren op de actie en de status van de deur te veranderen en te printen. Bijvoorbeeld, als de status `OpSlot` is en de actie is \"gebruik sleutel\", wordt de nieuwe status `Ontgrendeld`."
   ]
  },
  {
   "cell_type": "code",
   "execution_count": null,
   "metadata": {
    "polyglot_notebook": {
     "kernelName": "csharp"
    },
    "vscode": {
     "languageId": "polyglot-notebook"
    }
   },
   "outputs": [],
   "source": []
  },
  {
   "cell_type": "markdown",
   "metadata": {},
   "source": [
    "### Uitdaging 2: RPG Schade Calculator\n",
    "Gebruik `enums` voor `Element` (`Vuur`, `IJs`, `Bliksem`) en `VijandType` (`Trol`, `Geest`, `Golem`). Vraag de gebruiker om een aanvalselement en een vijandtype. Gebruik een `switch` op het vijandtype. Binnen elke `case`, gebruik een geneste `switch` op het element om de schade te bepalen. Een Trol is zwak voor Vuur (200% schade), een Geest is immuun voor Bliksem (0% schade) en een Golem is resistent tegen IJs (50% schade). Alle andere combinaties doen 100% schade."
   ]
  },
  {
   "cell_type": "code",
   "execution_count": null,
   "metadata": {
    "polyglot_notebook": {
     "kernelName": "csharp"
    },
    "vscode": {
     "languageId": "polyglot-notebook"
    }
   },
   "outputs": [],
   "source": []
  },
  {
   "cell_type": "markdown",
   "metadata": {},
   "source": [
    "### Uitdaging 3: Dynamisch Menu\n",
    "Schrijf een programma dat een hoofdmenu toont:\n",
    "1. Converteer valuta\n",
    "2. Bereken cijfer\n",
    "3. Programma afsluiten\n",
    "Gebruik een `switch` om de keuze van de gebruiker te verwerken. Als de gebruiker voor optie 1 kiest, toon dan een submenu (bijv. 1. EUR naar USD, 2. USD naar EUR) en handel die keuze af in een geneste `switch`."
   ]
  },
  {
   "cell_type": "code",
   "execution_count": null,
   "metadata": {
    "polyglot_notebook": {
     "kernelName": "csharp"
    },
    "vscode": {
     "languageId": "polyglot-notebook"
    }
   },
   "outputs": [],
   "source": []
  },
  {
   "cell_type": "markdown",
   "metadata": {},
   "source": [
    "### Uitdaging 4: Enum met Vaste Waarden\n",
    "Definieer een `enum` voor HTTP-statuscodes: `OK = 200`, `NotFound = 404`, `InternalServerError = 500`. Vraag een statuscode (als getal) aan de gebruiker. Gebruik een `switch` om de betekenis van de code te printen. Converteer de input eerst naar de `enum` met een cast."
   ]
  },
  {
   "cell_type": "code",
   "execution_count": null,
   "metadata": {
    "polyglot_notebook": {
     "kernelName": "csharp"
    },
    "vscode": {
     "languageId": "polyglot-notebook"
    }
   },
   "outputs": [],
   "source": []
  },
  {
   "cell_type": "markdown",
   "metadata": {},
   "source": [
    "### Uitdaging 5: Fibonacci met Recursie en Switch\n",
    "Schrijf een *recursieve* functie die het n-de getal in de Fibonacci-reeks berekent. De reeks begint met 0 en 1. Elk volgend getal is de som van de twee voorgaande. Gebruik binnen de functie een `switch`-statement op de input `n` om de basisgevallen (n=0 en n=1) af te handelen en het recursieve geval (`default`)."
   ]
  },
  {
   "cell_type": "code",
   "execution_count": null,
   "metadata": {
    "polyglot_notebook": {
     "kernelName": "csharp"
    },
    "vscode": {
     "languageId": "polyglot-notebook"
    }
   },
   "outputs": [],
   "source": []
  }
 ],
 "metadata": {
  "kernelspec": {
   "display_name": ".NET (C#)",
   "language": "C#",
   "name": ".net-csharp"
  },
  "language_info": {
   "name": "csharp"
  },
  "polyglot_notebook": {
   "kernelInfo": {
    "defaultKernelName": "csharp",
    "items": [
     {
      "aliases": [],
      "name": "csharp"
     }
    ]
   }
  }
 },
 "nbformat": 4,
 "nbformat_minor": 2
}
