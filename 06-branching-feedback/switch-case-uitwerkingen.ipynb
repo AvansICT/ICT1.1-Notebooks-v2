{
 "cells": [
  {
   "cell_type": "markdown",
   "metadata": {
    "dotnet_interactive": {
     "language": "csharp"
    },
    "polyglot_notebook": {
     "kernelName": "csharp"
    }
   },
   "source": [
    "# Uitwerkingen"
   ]
  },
  {
   "cell_type": "markdown",
   "metadata": {},
   "source": [
    "## Opdracht 1\n",
    "\n"
   ]
  },
  {
   "cell_type": "code",
   "execution_count": null,
   "metadata": {
    "dotnet_interactive": {
     "language": "csharp"
    },
    "polyglot_notebook": {
     "kernelName": "csharp"
    }
   },
   "outputs": [],
   "source": [
    "using Microsoft.DotNet.Interactive;\n",
    "\n",
    "string dagNummerInput = await Kernel.GetInputAsync(\"Voer een getal in van 1 t/m 7: \");\n",
    "int dagNummer = Convert.ToInt32(dagNummerInput);\n",
    "\n",
    "// Gebruik een switch-statement om de dagen van de week af te drukken\n",
    "switch (dagNummer)\n",
    "{\n",
    "    case 1:\n",
    "        Console.WriteLine(\"Maandag\");\n",
    "        break;\n",
    "    case 2:\n",
    "        Console.WriteLine(\"Dinsdag\");\n",
    "        break;\n",
    "    case 3:\n",
    "        Console.WriteLine(\"Woensdag\");\n",
    "        break;\n",
    "    case 4:\n",
    "        Console.WriteLine(\"Donderdag\");\n",
    "        break;\n",
    "    case 5:\n",
    "        Console.WriteLine(\"Vrijdag\");\n",
    "        break;\n",
    "    case 6:\n",
    "        Console.WriteLine(\"Zaterdag\");\n",
    "        Console.WriteLine(\"Het is weekend!\");\n",
    "        break;\n",
    "    case 7:\n",
    "        Console.WriteLine(\"Zondag\");\n",
    "        Console.WriteLine(\"Het is weekend!\");\n",
    "        break;\n",
    "    default:\n",
    "        Console.WriteLine(\"Ongeldig getal. Voer een waarde in tussen 1 en 7.\");\n",
    "        break;\n",
    "}"
   ]
  },
  {
   "cell_type": "markdown",
   "metadata": {},
   "source": [
    "## Opdracht 2"
   ]
  },
  {
   "cell_type": "code",
   "execution_count": null,
   "metadata": {
    "dotnet_interactive": {
     "language": "csharp"
    },
    "polyglot_notebook": {
     "kernelName": "csharp"
    }
   },
   "outputs": [],
   "source": [
    "using Microsoft.DotNet.Interactive;\n",
    "\n",
    "string getal1Input = await Kernel.GetInputAsync(\"Voer het eerste getal in: \");\n",
    "double getal1 = Convert.ToInt32(getal1Input);\n",
    "\n",
    "string getal2Input = await Kernel.GetInputAsync(\"Voer het tweede getal in: \");\n",
    "double getal2 = Convert.ToInt32(getal2Input);\n",
    "\n",
    "string operatorKeuzeInput = await Kernel.GetInputAsync(\"Voer de operator in (+, -, *, /): \");\n",
    "char operatorKeuze = Convert.ToChar(operatorKeuzeInput);\n",
    "\n",
    "double resultaat;\n",
    "\n",
    "// Gebruik een switch-statement om de berekening uit te voeren\n",
    "switch (operatorKeuze)\n",
    "{\n",
    "    case '+':\n",
    "        resultaat = getal1 + getal2;\n",
    "        Console.WriteLine($\"Resultaat: {getal1} + {getal2} = {resultaat}\");\n",
    "        break;\n",
    "    case '-':\n",
    "        resultaat = getal1 - getal2;\n",
    "        Console.WriteLine($\"Resultaat: {getal1} - {getal2} = {resultaat}\");\n",
    "        break;\n",
    "    case '*':\n",
    "        resultaat = getal1 * getal2;\n",
    "        Console.WriteLine($\"Resultaat: {getal1} * {getal2} = {resultaat}\");\n",
    "        break;\n",
    "    case '/':\n",
    "        resultaat = getal1 / getal2;\n",
    "        Console.WriteLine($\"Resultaat: {getal1} / {getal2} = {resultaat}\");\n",
    "        break;\n",
    "    default:\n",
    "        Console.WriteLine(\"Ongeldige operator. Gebruik alleen +, -, * of /.\");\n",
    "        break;\n",
    "}"
   ]
  }
 ],
 "metadata": {
  "kernelspec": {
   "display_name": ".NET (C#)",
   "language": "C#",
   "name": ".net-csharp"
  },
  "language_info": {
   "name": "polyglot-notebook"
  },
  "polyglot_notebook": {
   "kernelInfo": {
    "defaultKernelName": "csharp",
    "items": [
     {
      "aliases": [],
      "languageName": "csharp",
      "name": "csharp"
     }
    ]
   }
  }
 },
 "nbformat": 4,
 "nbformat_minor": 2
}
