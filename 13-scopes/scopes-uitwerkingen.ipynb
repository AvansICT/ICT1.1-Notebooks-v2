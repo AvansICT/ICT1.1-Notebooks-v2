{
 "cells": [
  {
   "cell_type": "markdown",
   "metadata": {},
   "source": [
    "# Uitwerkingen"
   ]
  },
  {
   "cell_type": "markdown",
   "metadata": {},
   "source": [
    "## Opdracht 1\n"
   ]
  },
  {
   "cell_type": "code",
   "execution_count": null,
   "metadata": {
    "dotnet_interactive": {
     "language": "csharp"
    },
    "polyglot_notebook": {
     "kernelName": "csharp"
    }
   },
   "outputs": [],
   "source": [
    "// PI moet voor beide methodes beschikbaar zijn. Daarom wordt deze gedeclareerd en \n",
    "// geïnitialiseerd buiten de methode om deze voor dit hele code block beschikbaar te maken\n",
    "double PI = 3.1415926535897931;\n",
    "\n",
    "public double berekenOmtrekCirkel(double straal)\n",
    "{   \n",
    "    double omtrek = 2 * PI * straal;\n",
    "    return omtrek;\n",
    "}\n",
    "\n",
    "public double berekenOppervlakteCirkel(double straal)\n",
    "{\n",
    "    double oppervlakte = PI * straal * straal;\n",
    "    return oppervlakte;\n",
    "}\n",
    "\n",
    "double straalCirkel1 = 5.3;\n",
    "double omtrekCirkel1 = berekenOmtrekCirkel(straalCirkel1);\n",
    "double oppervlakteCirkel1 = berekenOppervlakteCirkel(straalCirkel1);\n",
    "\n",
    "Console.WriteLine(\"De omtrek van een cirkel met straal \" + straalCirkel1 + \" is \" + omtrekCirkel1);\n",
    "Console.WriteLine(\"De oppervlakte van een cirkel met straal \" + straalCirkel1 + \" is \" + oppervlakteCirkel1);"
   ]
  },
  {
   "cell_type": "markdown",
   "metadata": {},
   "source": [
    "## Opdracht 2"
   ]
  },
  {
   "cell_type": "code",
   "execution_count": null,
   "metadata": {
    "dotnet_interactive": {
     "language": "csharp"
    },
    "polyglot_notebook": {
     "kernelName": "csharp"
    }
   },
   "outputs": [],
   "source": [
    "double a = 9.81;\n",
    "\n",
    "// Bereken de snelheid van een object na een bepaalde tijd\n",
    "double berekenSnelheid(double tijd)\n",
    "{\n",
    "    double snelheid = a * tijd;\n",
    "    return snelheid;\n",
    "}\n",
    "\n",
    "// Bereken de afgelegde afstand van een object na een bepaalde tijd\n",
    "double berekenNormaleKracht(double massa)\n",
    "{\n",
    "    /* Doordat double 'a' globaal beschikbaar is kan deze \n",
    "    binnen deze methode aangepast worden, maar dit heeft een \n",
    "    'bijeffect' dat de berekening daardoor niet (meer) klopt. \n",
    "    */\n",
    "    //double a = 11;\n",
    "    double normaleKracht = massa * a;\n",
    "    return normaleKracht;\n",
    "}\n",
    "\n",
    "//Test methods\n",
    "double tijd = 5;\n",
    "double berekendeSnelheid = berekenSnelheid(tijd);\n",
    "double verwachteSnelheid = a * tijd;\n",
    "bool isSnelheidGelijk = (berekendeSnelheid - verwachteSnelheid) < 0.0001;\n",
    "Console.WriteLine(\"De berekende snelheid is \"+ berekendeSnelheid + \"m/s\"\n",
    "    + \" en de verwachte snelheid is \" + verwachteSnelheid + \"m/s.\"\n",
    "    + \" Dus de uitkomst van de methode klopt \" + (isSnelheidGelijk ? \"wel\" : \"niet\") + \".\"); \n",
    "\n",
    "double massa = 10;\n",
    "double berekendeNormaleKracht = berekenNormaleKracht(massa);\n",
    "double verwachteNormaleKracht = massa * a;\n",
    "bool isFnGelijk = (berekendeNormaleKracht - verwachteNormaleKracht) < 0.0001;\n",
    "Console.WriteLine(\"De berekende normale kracht is \" + berekendeNormaleKracht + \"N\"\n",
    "    + \" en de verwachte normale kracht is \" + verwachteNormaleKracht + \"N.\"\n",
    "    + \" Dus de uitkomst van de methode klopt \" + (isFnGelijk ? \"wel\" : \"niet\") + \".\");"
   ]
  }
 ],
 "metadata": {
  "kernelspec": {
   "display_name": ".NET (C#)",
   "language": "C#",
   "name": ".net-csharp"
  },
  "language_info": {
   "name": "polyglot-notebook"
  },
  "polyglot_notebook": {
   "kernelInfo": {
    "defaultKernelName": "csharp",
    "items": [
     {
      "aliases": [],
      "languageName": "csharp",
      "name": "csharp"
     }
    ]
   }
  }
 },
 "nbformat": 4,
 "nbformat_minor": 2
}
