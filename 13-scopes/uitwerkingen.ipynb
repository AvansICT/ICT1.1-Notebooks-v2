{
 "cells": [
  {
   "cell_type": "markdown",
   "source": [
    "# Uitwerkingen: Scope en Levensduur van Variabelen"
   ]
  },
  {
   "cell_type": "markdown",
   "source": [
    "# Vragen"
   ]
  },
  {
   "cell_type": "markdown",
   "source": [
    "### Vraag 1: Scope Fout Analyseren"
   ]
  },
  {
   "cell_type": "code",
   "execution_count": null,
   "metadata": {},
   "outputs": [],
   "source": [
    "// Uitleg:\n",
    "// De variabele 'totaal' wordt gedeclareerd binnen de accolades van het `if`-statement. \n",
    "// Dit betekent dat 'totaal' een 'block scope' heeft en alleen bestaat en toegankelijk is binnen dat blok. \n",
    "// De `Console.WriteLine` aan het einde staat buiten dit blok en kan de variabele dus niet vinden, wat een compileerfout veroorzaakt.\n",
    "\n",
    "// Oplossing: Declareer 'totaal' in de uiterlijke scope, zodat deze toegankelijk is voor zowel het if-blok als de WriteLine-methode.\n",
    "int[] getallen = { 10, 20, 30 };\n",
    "int totaal = 0; // Declaratie in de uiterlijke scope\n",
    "\n",
    "if (getallen.Length > 0)\n",
    "{\n",
    "    foreach (int getal in getallen)\n",
    "    {\n",
    "        totaal += getal;\n",
    "    }\n",
    "}\n",
    "\n",
    "Console.WriteLine(\"De som is: \" + totaal);"
   ]
  },
  {
   "cell_type": "markdown",
   "source": [
    "### Vraag 2: Shadowing Voorspellen"
   ]
  },
  {
   "cell_type": "code",
   "execution_count": null,
   "metadata": {},
   "outputs": [],
   "source": [
    "// Output:\n",
    "// Globaal bericht\n",
    "// Lokaal bericht\n",
    "// Globaal bericht\n",
    "\n",
    "// Uitleg:\n",
    "// 1. De eerste WriteLine bevindt zich in de globale scope en print de globale 'bericht' variabele (\"Globaal bericht\").\n",
    "// 2. ToonNieuwBericht() wordt aangeroepen. Binnen deze methode wordt een nieuwe, LOKALE variabele 'bericht' gedeclareerd. Deze 'overschaduwt' de globale variabele. De WriteLine binnen de methode verwijst dus naar deze lokale variabele en print \"Lokaal bericht\".\n",
    "// 3. Na de methodeaanroep is de lokale 'bericht' variabele vernietigd. De laatste WriteLine bevindt zich weer in de globale scope en verwijst dus weer naar de onveranderde, globale 'bericht' variabele, en print \"Globaal bericht\"."
   ]
  },
  {
   "cell_type": "markdown",
   "source": [
    "### Vraag 3: Parameter Scope"
   ]
  },
  {
   "cell_type": "code",
   "execution_count": null,
   "metadata": {},
   "outputs": [],
   "source": [
    "// Antwoord:\n",
    "// Nee, dit werkt niet. De waarde van mijnGetal blijft 5.\n",
    "\n",
    "// Uitleg:\n",
    "// De parameter `getal` in de methode `VerhoogGetal` is een lokale variabele binnen de scope van die methode. \n",
    "// Wanneer je `VerhoogGetal(mijnGetal)` aanroept, wordt de *waarde* van `mijnGetal` (dus 5) gekopieerd naar deze lokale parameter. \n",
    "// De methode verhoogt vervolgens de waarde van zijn EIGEN, lokale kopie naar 15. \n",
    "// De originele variabele `mijnGetal` in de buitenliggende scope wordt hierdoor niet beïnvloed. Dit principe heet 'pass-by-value'."
   ]
  },
  {
   "cell_type": "markdown",
   "source": [
    "# Uitdagingen"
   ]
  },
  {
   "cell_type": "markdown",
   "source": [
    "### Uitdaging 1: Gedeelde Teller"
   ]
  },
  {
   "cell_type": "code",
   "execution_count": null,
   "metadata": {},
   "outputs": [],
   "source": [
    "// 'teller' heeft een 'globale' scope (binnen de class, buiten de methodes)\n",
    "int teller = 0;\n",
    "\n",
    "void VerhoogTeller(int hoeveelheid)\n",
    "{\n",
    "    // Deze methode heeft toegang tot en wijzigt de globale 'teller'\n",
    "    teller += hoeveelheid;\n",
    "}\n",
    "\n",
    "void ToonTeller()\n",
    "{\n",
    "    // Deze methode heeft ook toegang tot de globale 'teller'\n",
    "    Console.WriteLine(\"De huidige waarde van de teller is: \" + teller);\n",
    "}\n",
    "\n",
    "// Demonstratie\n",
    "ToonTeller(); // Toont 0\n",
    "VerhoogTeller(5);\n",
    "ToonTeller(); // Toont 5\n",
    "VerhoogTeller(10);\n",
    "ToonTeller(); // Toont 15"
   ]
  },
  {
   "cell_type": "markdown",
   "source": [
    "### Uitdaging 2: Herfactoriseren voor Betere Scope"
   ]
  },
  {
   "cell_type": "code",
   "execution_count": null,
   "metadata": {},
   "outputs": [],
   "source": [
    "// Definieer constanten in een brede scope voor makkelijke aanpassingen\n",
    "const decimal KORTING_PERCENTAGE = 0.10m; \n",
    "const decimal KORTING_GRENS = 100.00m;\n",
    "\n",
    "// Methode 1: Berekent en retourneert alleen de korting\n",
    "decimal BerekenKorting(decimal bedrag)\n",
    "{\n",
    "    if (bedrag > KORTING_GRENS)\n",
    "    {\n",
    "        return bedrag * KORTING_PERCENTAGE;\n",
    "    }\n",
    "    return 0; // Geen korting als het bedrag niet hoog genoeg is\n",
    "}\n",
    "\n",
    "// Methode 2: Gebruikt de eerste methode en handelt de output af\n",
    "void ToonPrijsDetails(decimal bedrag)\n",
    "{\n",
    "    decimal berekendeKorting = BerekenKorting(bedrag);\n",
    "    decimal eindBedrag = bedrag - berekendeKorting;\n",
    "\n",
    "    Console.WriteLine($\"Origineel: {bedrag:C}\");\n",
    "    Console.WriteLine($\"Korting: {berekendeKorting:C}\");\n",
    "    Console.WriteLine($\"Totaal: {eindBedrag:C}\");\n",
    "}\n",
    "\n",
    "// Aanroep van de geherstructureerde code\n",
    "ToonPrijsDetails(120.00m);"
   ]
  }
 ],
 "metadata": {
  "kernelspec": {
   "display_name": ".NET (C#)",
   "language": "C#",
   "name": ".net-csharp"
  },
  "language_info": {
   "name": "csharp"
  }
 },
 "nbformat": 4,
 "nbformat_minor": 2
}
