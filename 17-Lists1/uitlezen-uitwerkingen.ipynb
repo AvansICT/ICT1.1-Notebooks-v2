{
 "cells": [
  {
   "cell_type": "markdown",
   "metadata": {},
   "source": [
    "# Uitwerkingen"
   ]
  },
  {
   "cell_type": "markdown",
   "metadata": {},
   "source": [
    "## Opdracht 1"
   ]
  },
  {
   "cell_type": "code",
   "execution_count": null,
   "metadata": {
    "dotnet_interactive": {
     "language": "csharp"
    },
    "polyglot_notebook": {
     "kernelName": "csharp"
    }
   },
   "outputs": [],
   "source": [
    "List<int> solarProfits = [ 10, 4, 9, 12, 90, 165 ];\n",
    "int totalProfit = 0;\n",
    "\n",
    "foreach (int solarProfit in solarProfits)\n",
    "{\n",
    "    totalProfit += solarProfit;\n",
    "}\n",
    "\n",
    "Console.WriteLine($\"De totale profit is: {totalProfit}\");"
   ]
  },
  {
   "cell_type": "markdown",
   "metadata": {},
   "source": [
    "## Opdracht 2"
   ]
  },
  {
   "cell_type": "code",
   "execution_count": null,
   "metadata": {
    "dotnet_interactive": {
     "language": "csharp"
    },
    "polyglot_notebook": {
     "kernelName": "csharp"
    }
   },
   "outputs": [],
   "source": [
    "// Tip: eerst testen met een eenvoudige dataset. Goed? dan de uitgebreide dataset uit de opdracht!\n",
    "List<int> solarProfits = [\n",
    "    3, 15, 7, 12, 9, 20, 8, 14, 6, 18, 11, 5, 22, 10, 17, 4,\n",
    "    13, 19, 16, 21, 7, 9, 2, 29, 8, 33, 32, 15, 1, 17, 12, 11,\n",
    "    2, 4, 5, 3, 17, 17, 17, 12, 10, 12, 11, 10, 11, 11, 12, 22,\n",
    "    2, 4, 5, 2, 5, 6, 2, 7\n",
    "];\n",
    "\n",
    "List<double> averageSolarProfitWeek = [];\n",
    "\n",
    "int weeklyTotal = 0;\n",
    "\n",
    "for (int i = 0; i < solarProfits.Count(); i++)\n",
    "{\n",
    "    weeklyTotal += solarProfits[i];\n",
    "\n",
    "    if ((i + 1) % 7 == 0) // op dag 6, 13 etc. hebben we dus een volle week.  \n",
    "    {\n",
    "        averageSolarProfitWeek.Add((double)weeklyTotal / 7); // Let op de cast naar double.\n",
    "        weeklyTotal = 0;\n",
    "    }\n",
    "}\n",
    "\n",
    "// alleen de laatste week nog! En dat hoeft geen hele week te zijn!\n",
    "// Noot: als je weekgemiddeldes gaat berekenen moet je je afvragen of je wel halve weken in je gemiddeldes wilt\n",
    "// Noot: je kunt ook controleren of de weeklyTotal > 0 is.\n",
    "if (solarProfits.Count % 7 != 0) \n",
    "{\n",
    "    averageSolarProfitWeek.Add((double)weeklyTotal / (solarProfits.Count % 7));\n",
    "}\n",
    "\n",
    "for (int x = 0; x < averageSolarProfitWeek.Count(); x++)\n",
    "{\n",
    "    Console.WriteLine($\"Het gemiddelde verbruik van week {x + 1}: {averageSolarProfitWeek[x]:F2}\");\n",
    "}\n"
   ]
  }
 ],
 "metadata": {
  "kernelspec": {
   "display_name": ".NET (C#)",
   "language": "C#",
   "name": ".net-csharp"
  },
  "language_info": {
   "name": "polyglot-notebook"
  },
  "polyglot_notebook": {
   "kernelInfo": {
    "defaultKernelName": "csharp",
    "items": [
     {
      "aliases": [],
      "languageName": "csharp",
      "name": "csharp"
     }
    ]
   }
  }
 },
 "nbformat": 4,
 "nbformat_minor": 2
}
