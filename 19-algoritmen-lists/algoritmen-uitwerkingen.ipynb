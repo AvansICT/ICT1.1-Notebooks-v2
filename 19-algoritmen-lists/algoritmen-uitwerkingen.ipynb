{
 "cells": [
  {
   "cell_type": "markdown",
   "metadata": {},
   "source": [
    "# Uitwerkingen"
   ]
  },
  {
   "cell_type": "markdown",
   "metadata": {},
   "source": [
    "## Opdracht 1"
   ]
  },
  {
   "cell_type": "code",
   "execution_count": null,
   "metadata": {
    "dotnet_interactive": {
     "language": "csharp"
    },
    "polyglot_notebook": {
     "kernelName": "csharp"
    }
   },
   "outputs": [],
   "source": [
    "// Gegeven lijsten voor gas-, water- en elektriciteitsverbruik per dag\n",
    "List<List<double>> verbruikLijsten = [\n",
    "  [6.4, 5.4, 7.2, 6.8, 8.1 ], // Gasverbruik\n",
    "  [0.4, 0.6, 0.5, 0.7, 0.8 ], // Waterverbruik\n",
    "  [10.8, 11.8, 12.5, 13.2, 14.0] // Elektriciteitsverbruik\n",
    "];\n",
    "\n",
    "\n",
    "// Plaats hier jouw code\n",
    "// Print de verbruiksgegevens voor elke dag\n",
    "for (int dag = 0; dag < verbruikLijsten[0].Count; dag++)\n",
    "{\n",
    "    Console.WriteLine($\"Dag {dag + 1}: {verbruikLijsten[0][dag]:F1} m3 gas, {verbruikLijsten[1][dag]:F1} m3 water, {verbruikLijsten[2][dag]:F1} kWh elektriciteit\");\n",
    "}"
   ]
  }
 ],
 "metadata": {
  "kernelspec": {
   "display_name": ".NET (C#)",
   "language": "C#",
   "name": ".net-csharp"
  },
  "language_info": {
   "name": "polyglot-notebook"
  },
  "polyglot_notebook": {
   "kernelInfo": {
    "defaultKernelName": "csharp",
    "items": [
     {
      "aliases": [],
      "languageName": "csharp",
      "name": "csharp"
     }
    ]
   }
  }
 },
 "nbformat": 4,
 "nbformat_minor": 2
}
