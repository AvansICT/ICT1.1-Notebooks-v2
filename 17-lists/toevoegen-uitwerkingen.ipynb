{
 "cells": [
  {
   "cell_type": "markdown",
   "metadata": {},
   "source": [
    "# Uitwerkingen"
   ]
  },
  {
   "cell_type": "markdown",
   "metadata": {},
   "source": [
    "## Opdracht 1"
   ]
  },
  {
   "cell_type": "code",
   "execution_count": null,
   "metadata": {
    "dotnet_interactive": {
     "language": "csharp"
    },
    "polyglot_notebook": {
     "kernelName": "csharp"
    }
   },
   "outputs": [],
   "source": [
    "\n",
    "using Microsoft.DotNet.Interactive;\n",
    "\n",
    "List<string> woordenLijst = []; \n",
    "\n",
    "while (true)\n",
    "{\n",
    "    string woord = await Kernel.GetInputAsync(\"Voer woord in of stop om te stoppen\");\n",
    "    \n",
    "    if (woord == \"stop\")\n",
    "    {\n",
    "        break;\n",
    "    }\n",
    "\n",
    "    woordenLijst.Add(woord);\n",
    "}\n",
    "\n",
    "Console.WriteLine(\"De ingevoerde woorden zijn:\");\n",
    "\n",
    "foreach (string woord in woordenLijst) \n",
    "{\n",
    "    Console.Write(woord + ' ');\n",
    "}\n",
    "\n",
    " Console.Write(string.Join(' ', woordenLijst));\n",
    "\n",
    "// Alternatief => the one liner\n",
    "// Console.Write(string.Join(' ', woordenLijst))"
   ]
  },
  {
   "cell_type": "markdown",
   "metadata": {},
   "source": [
    "## Opdracht 2"
   ]
  },
  {
   "cell_type": "code",
   "execution_count": null,
   "metadata": {
    "dotnet_interactive": {
     "language": "csharp"
    },
    "polyglot_notebook": {
     "kernelName": "csharp"
    }
   },
   "outputs": [],
   "source": [
    "using Microsoft.DotNet.Interactive;\n",
    "\n",
    "List<int> deelbaarDoorVijf = [];\n",
    "List<int> nietDeelbaarDoorVijf = [];\n",
    "\n",
    "while (true)\n",
    "{\n",
    "    string woord = await Kernel.GetInputAsync(\"Voer getal in of stop om te stoppen\");\n",
    "    if (woord == \"stop\")\n",
    "    {\n",
    "        break;\n",
    "    }\n",
    "    // nu gaan we er vanuit dat we met een getal te maken hebben!\n",
    "    int getal = int.Parse(woord);\n",
    "    if (getal % 5 == 0)\n",
    "    {\n",
    "        deelbaarDoorVijf.Add(getal);\n",
    "    } \n",
    "    else\n",
    "    {\n",
    "        nietDeelbaarDoorVijf.Add(getal);\n",
    "    }\n",
    "}\n",
    "\n",
    "Console.Write(\"De veelvouden van 5 zijn: - \");\n",
    "foreach (int g in deelbaarDoorVijf)\n",
    "{\n",
    "    Console.Write(g + \" \");\n",
    "}\n",
    "Console.WriteLine(\" - \");\n",
    "\n",
    "// een andere/ eenvoudiger manier is: \n",
    "Console.Write($\"De overige ingevoerde getallen zijn: - {string.Join(\" \", nietDeelbaarDoorVijf)}\");\n",
    "Console.WriteLine(\" - \");"
   ]
  }
 ],
 "metadata": {
  "kernelspec": {
   "display_name": ".NET (C#)",
   "language": "C#",
   "name": ".net-csharp"
  },
  "language_info": {
   "name": "polyglot-notebook"
  },
  "polyglot_notebook": {
   "kernelInfo": {
    "defaultKernelName": "csharp",
    "items": [
     {
      "aliases": [],
      "languageName": "csharp",
      "name": "csharp"
     }
    ]
   }
  }
 },
 "nbformat": 4,
 "nbformat_minor": 2
}
