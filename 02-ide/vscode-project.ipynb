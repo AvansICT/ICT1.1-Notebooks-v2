{
 "cells": [
  {
   "cell_type": "markdown",
   "metadata": {},
   "source": [
    "# Project in Visual Studio Code\n"
   ]
  },
  {
   "cell_type": "markdown",
   "metadata": {},
   "source": [
    "## Benodigdheden\n",
    "\n",
    "Om Visual Studio Code te kunnen gebruiken om C# applicaties te maken, zijn dezelfde tools en Extensions nodig als genoemd bij [Notebooks](https://avansict.github.io/ICT1.1-Notebooks/ide/vscode-notebooks.html#benodigdheden)."
   ]
  },
  {
   "cell_type": "markdown",
   "metadata": {},
   "source": [
    "## Een project voor een Console-applicatie maken\n",
    "\n",
    "Een Console-applicatie is een programma zonder grafische interface. Dit soort applicaties wordt meestal uitgevoerd via een Command Line Interface (CLI).\n",
    "\n",
    "Om een C# Console-applicatie op te zetten, zijn er twee mogelijkheden:\n",
    "\n",
    "- Via Visual Studio Code (met grafische interface)  \n",
    "- Via de command line (CLI)\n",
    "\n",
    "### Project maken via Visual Studio Code\n",
    "\n",
    "Volg deze stappen om een nieuw project aan te maken:\n",
    "\n",
    "1. Druk op `Ctrl+Shift+P` en kies **.NET: New Project...**  \n",
    "2. Selecteer **Console App** als projecttype  \n",
    "3. Kies een map waarin je het project wilt opslaan  \n",
    "4. Geef het project een naam, bijvoorbeeld `HelloWorld`  \n",
    "5. Klik op **Create project**\n",
    "\n",
    "\n",
    "\n",
    "### Project maken via de command line (snellere manier)\n",
    "\n",
    "1. Open een Command Prompt (`Win + R`, typ `cmd`, druk op Enter) of open een terminal in VS Code met `Ctrl + `\n",
    "\n",
    "2. Navigeer naar de gewenste locatie, bijvoorbeeld:\n",
    "   ```bash\n",
    "   cd C:\\Users\\%USERNAME%\n",
    "   mkdir projects\n",
    "   cd projects\n",
    "   ```\n",
    "3. Maak een nieuw consoleproject aan met het volgende commando:\n",
    "\n",
    "   ```bash\n",
    "   dotnet new console -n HelloWorld\n",
    "   Open het project in een nieuw VS Code venster:\n",
    "   ```\n",
    "4. Open de map van het project en open deze in Visual Studio Code\n",
    "   ```bash\n",
    "   cd HelloWorld\n",
    "   code .\n",
    "   ```\n",
    "\n",
    "Als het goed gaat, zie je dit in de \"Explorer\" van VS Code:\n",
    "\n",
    "![HelloWorldOverview](images/VSC-Project-HelloWorldOverview.png \"HelloWorldOverview\")\n",
    "\n",
    "---"
   ]
  },
  {
   "cell_type": "markdown",
   "metadata": {},
   "source": [
    "## Projectbestanden\n",
    "\n",
    "Zoals je ziet is **HelloWorld** de hoofdmap van het project.\n",
    "\n",
    "- **Program.cs**  \n",
    "  Dit is het startpunt van de applicatie. Het bevat de `Main`-methode, die als eerste wordt uitgevoerd wanneer het programma start.\n",
    "\n",
    "- **HelloWorld.csproj**  \n",
    "  Dit is het projectbestand met informatie over onder andere:  \n",
    "  * De gebruikte .NET-versie  \n",
    "  * Afhankelijkheden (ook wel *dependencies* genoemd)\n",
    "\n",
    "- **CSharp.sln** (of **HelloWorld.sln**)  \n",
    "  Dit is een *solution*-bestand (.sln) waarmee je meerdere projecten aan elkaar kunt koppelen.  \n",
    "  Voor nu maken we hier nog geen gebruik van, dus je kunt dit bestand negeren.\n",
    "---"
   ]
  },
  {
   "cell_type": "markdown",
   "metadata": {},
   "source": [
    "## Het project bouwen en uitvoeren\n",
    "\n",
    "Voordat de code wordt uitgevoerd, zal Visual Studio Code (meer specifiek de C# Extension) het project eerst **bouwen** tot een uitvoerbaar bestand. Bevat je code syntaxfouten? Dan zal het bouwen mislukken en krijg je foutmeldingen te zien. Pas wanneer het bouwen **zonder fouten** is geslaagd, wordt er een *executable* aangemaakt.\n",
    "\n",
    "Deze executable vind je terug in de `bin`-map van het project, meestal onder de naam `HelloWorld.exe`.\n",
    "\n",
    "Goed om te weten: wanneer je het project uitvoert vanuit Visual Studio Code, hoef je dit bestand **niet handmatig** op te zoeken. Visual Studui Code voert het programma direct uit en maakt het daarnaast ook mogelijk om je code te **debuggen**. \n",
    "\n",
    "---\n"
   ]
  },
  {
   "cell_type": "markdown",
   "metadata": {},
   "source": [
    "# Opdracht 1\n",
    "\n",
    "Schrijf de \"HelloWorld\" applicatie, open een terminal in VS Code en voer de \"Debug\"-versie \"HelloWorld.exe\" uit.\n"
   ]
  },
  {
   "cell_type": "markdown",
   "metadata": {},
   "source": [
    "**Help! Het bouwen lukt niet**\n",
    "\n",
    "Als het bouwen niet lukt, controleer dan eerst of je code geen fouten bevat. Foutmeldingen vind je in het tabblad **Problems** onderin het scherm, of in de terminal. \n",
    "\n",
    "Krijg je een foutmelding van Visual Studio Code zoals: `No C# project is currently loaded`\n",
    "\n",
    "Dan betekent dit dat VS Code niet weet welk project je wilt bouwen. Als je een bovenliggende map hebt geopend, begrijpt VS Code niet welk project je wilt bouwen. Vaak duidt dit erop dat je niet de juiste map hebt geopend in Visual Studio Code. Het is belangrijk dat je de map opent waarin het `.csproj`-bestand staat. "
   ]
  }
 ],
 "metadata": {
  "kernelspec": {
   "display_name": ".NET (C#)",
   "language": "C#",
   "name": ".net-csharp"
  },
  "language_info": {
   "name": "polyglot-notebook"
  },
  "polyglot_notebook": {
   "kernelInfo": {
    "defaultKernelName": "csharp",
    "items": [
     {
      "aliases": [],
      "languageName": "csharp",
      "name": "csharp"
     }
    ]
   }
  }
 },
 "nbformat": 4,
 "nbformat_minor": 2
}
