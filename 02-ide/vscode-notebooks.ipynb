{
 "cells": [
  {
   "cell_type": "markdown",
   "metadata": {},
   "source": [
    "# Notebooks in Visual Studio Code\n",
    "\n",
    "## Wat is een notebook?\n",
    "\n",
    "Een notebook biedt een manier om tekst te combineren met uitvoerbare code.  \n",
    "Hiermee kun je snel bijvoorbeeld een verslag, logboek of groeidocument opstellen.  \n",
    "Naast tekst kun je ook afbeeldingen, tabellen en diagrammen toevoegen.\n",
    "\n",
    "Tekstvelden in een notebook worden geschreven in Markdown-formaat.  \n",
    "Zie [de Markdown-gids](https://www.markdownguide.org/) voor meer informatie.\n",
    "\n",
    "Voor het maken van diagrammen kun je bijvoorbeeld gebruikmaken van [Mermaid](https://mermaid.js.org/#/).  \n",
    "Met Mermaid kun je eenvoudig visuele diagrammen genereren in tekstvorm.\n",
    "\n",
    "Codeblokken in het notebook zijn direct uitvoerbaar.  \n",
    "Dit betekent dat je snel feedback krijgt op je code, zonder het document te verlaten.\n"
   ]
  },
  {
   "cell_type": "markdown",
   "metadata": {},
   "source": [
    "### Diagrammen\n",
    "\n",
    "In de notebooks kun je diagrammane (zoals flowcharts) tegen komen. Voor het weergeven van *Mermaid*-diagrammen is een extensie nodig in Visual Studio Code:\n",
    "\n",
    "- **Markdown Preview Mermaid Support**  \n",
    "  *(Identifier: bierner.markdown-mermaid)*\n",
    "\n",
    "### Programmeren in C#\n",
    "Om codeblokken in notebooks uit te kunnen voeren, moet je een Software Development Kit (SDK) installeren die past bij de programmeertaal waarin je werkt. Een SDK bevat alle benodigde tools om je code om te zetten naar iets dat de computer kan uitvoeren. In jaar 1 programmeer je hoofdzakelijk in C# en heb je de volgende onderdelen nodig\n",
    "\n",
    "- **.NET SDK**  \n",
    "  Deze kun je downloaden vanaf de officiële [dotNET-website](https://dotnet.microsoft.com/en-us/download/dotnet).  \n",
    "  Kies de juiste versie voor jouw besturingssysteem en installeer deze.\n",
    "\n",
    "> ℹ️ Na installatie is het soms nodig om Visual Studio Code opnieuw op te starten.\n",
    "\n",
    "\n",
    "Naast de SDK zijn er ook extensies in VS Code nodig voor ondersteuning van C#.  Deze extensies helpen je bij het schrijven van goed leesbare en onderhoudbare code, bijvoorbeeld door automatische opmaak (formatting) en integratie met de SDK.\n",
    "\n",
    "De benodigde extensies zijn:\n",
    "\n",
    "- **C#** *(Identifier: ms-dotnettools.csharp)*\n",
    "- **C# Dev Kit** *(Identifier: ms-dotnettools.csdevkit)*\n",
    "\n",
    "Weet je nog hoe je extensies installeert?  \n",
    "Zo niet, bekijk dan de uitleg over het installeren van Visual Studio Code op Brightspace of [op de website van Visual Studio Code](https://code.visualstudio.com/docs/getstarted/extensions)\n"
   ]
  },
  {
   "cell_type": "markdown",
   "metadata": {},
   "source": [
    "## Code uitvoeren\n",
    "\n",
    "Hieronder zie je een voorbeeld van een stukje code in een notebook. Als de SDK, Visual Studio Code en de benodigde extensies correct zijn geïnstalleerd, zou je deze code direct moeten kunnen uitvoeren. Zodra je een codeblok invoegt, verschijnt er een kleine **play-knop** links van het blok: ![Codeblock play](images/VSC-Notebook-Codeblock-play.png \"Play-knop in codeblok\"). Zie je de knop? Mooi! Klik erop en laat je code tot leven komen! 😃\n"
   ]
  },
  {
   "cell_type": "code",
   "execution_count": null,
   "metadata": {
    "dotnet_interactive": {
     "language": "csharp"
    },
    "polyglot_notebook": {
     "kernelName": "csharp"
    }
   },
   "outputs": [],
   "source": [
    "Console.WriteLine(\"It works on my machine\");"
   ]
  },
  {
   "cell_type": "markdown",
   "metadata": {},
   "source": [
    "Zoals je hopelijk hebt gezien, kun je kleine stukjes code uitvoeren binnen een notebook.\n",
    "\n",
    "Het uitvoeren van code genereert vaak een stukje *output* direct onder het codeblok.  \n",
    "Die terugkoppeling is handig, maar kan het document ook wat onoverzichtelijk maken wanneer er veel code wordt uitgevoerd.\n",
    "\n",
    "Gelukkig is er bovenaan het notebook een knoppenbalk beschikbaar:\n",
    "\n",
    "![Notebook button bar](images/VSC-Notebook-buttons.png \"Knoppenbalk in notebook\")\n",
    "\n",
    "Met de knop **Clear All Outputs** kun je in één klik alle gegenereerde uitvoer verwijderen.  \n",
    "Zo houd je je notebook overzichtelijk en netjes.\n"
   ]
  },
  {
   "cell_type": "markdown",
   "metadata": {},
   "source": [
    "## Notebook uitbreiden of aanpassen\n",
    "\n",
    "Wil je extra code of tekst (in Markdown) toevoegen aan je notebook?  \n",
    "Gebruik dan de knop **+ Code** of **+ Markdown** in de knoppenbalk bovenaan.\n",
    "\n",
    "Daarnaast verschijnen er soms knoppen direct onder een bestaand blok:\n",
    "\n",
    "![Notebook add block buttons](images/VSC-Notebook-Block-add-buttons.png \"Knoppen onder een blok\")\n",
    "\n",
    "Deze knoppen geven je een snellere manier om nieuwe blokken toe te voegen.\n",
    "\n",
    "Rechtsboven in elk code- of tekstblok zie je ook een kleine knoppenbalk:\n",
    "\n",
    "![Notebook modifier bar](images/VSC-Notebook-modifier.png \"Bewerkbalk voor blokken\")\n",
    "\n",
    "Met deze knoppen kun je blokken aanpassen, splitsen, verwijderen of verplaatsen.  \n",
    "Wanneer je klaar bent met bewerken, klik je op:\n",
    "\n",
    "![Notebook modifier check](images/VSC-Notebook-modifier-check.png \"Bevestigen van wijzigingen\")\n",
    "\n",
    "---\n",
    "\n",
    "## Verschil tussen code in notebooks en 'echte' code\n",
    "\n",
    "Codeblokken in een notebook zijn ideaal om korte stukken code te schrijven en direct uit te voeren.  \n",
    "Ze zijn handig voor experimenten, uitleg of het testen van kleine onderdelen.\n",
    "\n",
    "Het schrijven van volledige programma’s in een notebook is echter niet de bedoeling.  \n",
    "De code in een blok wordt namelijk niet gecompileerd tot een zelfstandig programma, maar alleen geïnterpreteerd en uitgevoerd binnen de notebook-omgeving.\n"
   ]
  },
  {
   "cell_type": "markdown",
   "metadata": {},
   "source": [
    "## Interactie tussen code blokken\n",
    "\n",
    "Opvolgende code blokken kunnen achter elkaar uitgevoerd worden alsof het één codeblok betreft. Bijvoorbeeld de blokken:"
   ]
  },
  {
   "cell_type": "code",
   "execution_count": null,
   "metadata": {
    "dotnet_interactive": {
     "language": "csharp"
    },
    "polyglot_notebook": {
     "kernelName": "csharp"
    }
   },
   "outputs": [],
   "source": [
    "int x = 40;"
   ]
  },
  {
   "cell_type": "code",
   "execution_count": null,
   "metadata": {
    "dotnet_interactive": {
     "language": "csharp"
    },
    "polyglot_notebook": {
     "kernelName": "csharp"
    }
   },
   "outputs": [],
   "source": [
    "Console.WriteLine(\"y = \" + x);\n",
    "\n",
    "int y = 30;"
   ]
  },
  {
   "cell_type": "code",
   "execution_count": null,
   "metadata": {
    "dotnet_interactive": {
     "language": "csharp"
    },
    "polyglot_notebook": {
     "kernelName": "csharp"
    }
   },
   "outputs": [],
   "source": [
    "Console.WriteLine(\"x * y = \", y * x);"
   ]
  },
  {
   "cell_type": "markdown",
   "metadata": {},
   "source": [
    "De variabele 'x' en 'y' worden dus onderwater bewaard! Klink, na het uitvoeren van de bovenstaande code, maar eens op \"Variables\" in de knoppenbalk bovenaan het notebook.\n",
    "Je krijgt dan een overzicht met daarin alle variabelen die gebruikt zijn in het notebook. "
   ]
  }
 ],
 "metadata": {
  "kernelspec": {
   "display_name": ".NET (C#)",
   "language": "C#",
   "name": ".net-csharp"
  },
  "language_info": {
   "name": "polyglot-notebook"
  },
  "polyglot_notebook": {
   "kernelInfo": {
    "defaultKernelName": "csharp",
    "items": [
     {
      "aliases": [],
      "languageName": "csharp",
      "name": "csharp"
     }
    ]
   }
  }
 },
 "nbformat": 4,
 "nbformat_minor": 2
}
