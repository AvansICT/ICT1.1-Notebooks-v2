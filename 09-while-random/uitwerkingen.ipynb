{
 "cells": [
  {
   "cell_type": "markdown",
   "metadata": {},
   "source": [
    "# Uitwerkingen: While-lus en Dynamische Herhaling"
   ]
  },
  {
   "cell_type": "markdown",
   "metadata": {},
   "source": [
    "# Vragen"
   ]
  },
  {
   "cell_type": "markdown",
   "metadata": {},
   "source": [
    "### Vraag 1: Raad het Getal"
   ]
  },
  {
   "cell_type": "code",
   "execution_count": null,
   "metadata": {
    "polyglot_notebook": {
     "kernelName": "csharp"
    },
    "vscode": {
     "languageId": "polyglot-notebook"
    }
   },
   "outputs": [],
   "source": [
    "Random random = new Random();\n",
    "int geheimGetal = random.Next(1, 101); // Genereert een getal van 1 t/m 100\n",
    "int gok = 0;\n",
    "\n",
    "Console.WriteLine(\"Ik heb een getal tussen 1 en 100 in gedachten. Probeer het te raden!\");\n",
    "\n",
    "while (gok != geheimGetal)\n",
    "{\n",
    "    Console.Write(\"Uw gok: \");\n",
    "    int.TryParse(Console.ReadLine(), out gok);\n",
    "\n",
    "    if (gok < geheimGetal)\n",
    "    {\n",
    "        Console.WriteLine(\"Hoger!\");\n",
    "    }\n",
    "    else if (gok > geheimGetal)\n",
    "    {\n",
    "        Console.WriteLine(\"Lager!\");\n",
    "    }\n",
    "}\n",
    "\n",
    "Console.WriteLine($\"Gefeliciteerd! Het juiste getal was inderdaad {geheimGetal}.\");"
   ]
  },
  {
   "cell_type": "markdown",
   "metadata": {},
   "source": [
    "### Vraag 2: Saldo opvragen"
   ]
  },
  {
   "cell_type": "code",
   "execution_count": null,
   "metadata": {
    "polyglot_notebook": {
     "kernelName": "csharp"
    },
    "vscode": {
     "languageId": "polyglot-notebook"
    }
   },
   "outputs": [],
   "source": [
    "decimal saldo = 1000.00m;\n",
    "decimal opname;\n",
    "\n",
    "do\n",
    "{\n",
    "    Console.WriteLine($\"Uw huidige saldo is: {saldo:C}. Hoeveel wilt u opnemen?\");\n",
    "    decimal.TryParse(Console.ReadLine(), out opname);\n",
    "\n",
    "    if (opname > 0)\n",
    "    {\n",
    "        saldo -= opname;\n",
    "    }\n",
    "\n",
    "} while (saldo >= 0);\n",
    "\n",
    "Console.WriteLine($\"Opname niet mogelijk. Uw saldo is te laag ({saldo:C}).\");"
   ]
  },
  {
   "cell_type": "markdown",
   "metadata": {},
   "source": [
    "### Vraag 3: Aantal cijfers tellen"
   ]
  },
  {
   "cell_type": "code",
   "execution_count": null,
   "metadata": {
    "polyglot_notebook": {
     "kernelName": "csharp"
    },
    "vscode": {
     "languageId": "polyglot-notebook"
    }
   },
   "outputs": [],
   "source": [
    "Console.WriteLine(\"Voer een getal in:\");\n",
    "int.TryParse(Console.ReadLine(), out int getal);\n",
    "int origineelGetal = getal; // Bewaar het origineel voor de output\n",
    "int aantalCijfers = 0;\n",
    "\n",
    "// Speciale behandeling voor het getal 0\n",
    "if (getal == 0)\n",
    "{\n",
    "    aantalCijfers = 1;\n",
    "}\n",
    "else\n",
    "{\n",
    "    while (getal != 0)\n",
    "    {\n",
    "        getal /= 10; // Verwijder het laatste cijfer\n",
    "        aantalCijfers++;\n",
    "    }\n",
    "}\n",
    "\n",
    "Console.WriteLine($\"Het getal {origineelGetal} bestaat uit {aantalCijfers} cijfer(s).\");"
   ]
  },
  {
   "cell_type": "markdown",
   "metadata": {},
   "source": [
    "### Vraag 4: Menukeuze met 'while'"
   ]
  },
  {
   "cell_type": "code",
   "execution_count": null,
   "metadata": {
    "polyglot_notebook": {
     "kernelName": "csharp"
    },
    "vscode": {
     "languageId": "polyglot-notebook"
    }
   },
   "outputs": [],
   "source": [
    "int keuze = 0;\n",
    "while (keuze < 1 || keuze > 3)\n",
    "{\n",
    "    Console.WriteLine(\"\\n--- MENU ---\");\n",
    "    Console.WriteLine(\"1. Optie A\");\n",
    "    Console.WriteLine(\"2. Optie B\");\n",
    "    Console.WriteLine(\"3. Optie C\");\n",
    "    Console.Write(\"Maak uw keuze (1-3): \");\n",
    "\n",
    "    int.TryParse(Console.ReadLine(), out keuze);\n",
    "\n",
    "    if (keuze < 1 || keuze > 3)\n",
    "    {\n",
    "        Console.WriteLine(\"Ongeldige keuze, probeer opnieuw.\");\n",
    "    }\n",
    "}\n",
    "\n",
    "Console.WriteLine($\"U heeft gekozen voor optie {keuze}.\");"
   ]
  },
  {
   "cell_type": "markdown",
   "metadata": {},
   "source": [
    "# Uitdagingen"
   ]
  },
  {
   "cell_type": "markdown",
   "metadata": {},
   "source": [
    "### Uitdaging 1: Hoger/Lager (Computer Raadt)"
   ]
  },
  {
   "cell_type": "code",
   "execution_count": null,
   "metadata": {
    "polyglot_notebook": {
     "kernelName": "csharp"
    },
    "vscode": {
     "languageId": "polyglot-notebook"
    }
   },
   "outputs": [],
   "source": [
    "int ondergrens = 1;\n",
    "int bovengrens = 101; // We gebruiken 101 zodat de bovengrens van Random.Next correct is\n",
    "string antwoord = \"\";\n",
    "\n",
    "Console.WriteLine(\"Neem een getal tussen 1 en 100 in gedachten.\");\n",
    "Console.WriteLine(\"Ik zal het proberen te raden. Antwoord met 'hoger', 'lager' of 'correct'.\");\n",
    "\n",
    "while (antwoord != \"correct\")\n",
    "{\n",
    "    int gok = (ondergrens + bovengrens) / 2;\n",
    "    Console.WriteLine($\"Is uw getal {gok}?\");\n",
    "    antwoord = Console.ReadLine().ToLower();\n",
    "\n",
    "    if (antwoord == \"hoger\")\n",
    "    {\n",
    "        ondergrens = gok + 1;\n",
    "    }\n",
    "    else if (antwoord == \"lager\")\n",
    "    {\n",
    "        bovengrens = gok;\n",
    "    }\n",
    "}\n",
    "\n",
    "Console.WriteLine(\"Geweldig! Ik heb het geraden.\");"
   ]
  },
  {
   "cell_type": "markdown",
   "metadata": {},
   "source": [
    "### Uitdaging 2: Grootste Gemene Deler (GGD)"
   ]
  },
  {
   "cell_type": "code",
   "execution_count": null,
   "metadata": {
    "polyglot_notebook": {
     "kernelName": "csharp"
    },
    "vscode": {
     "languageId": "polyglot-notebook"
    }
   },
   "outputs": [],
   "source": [
    "Console.WriteLine(\"Voer het eerste getal in:\");\n",
    "int.TryParse(Console.ReadLine(), out int a);\n",
    "\n",
    "Console.WriteLine(\"Voer het tweede getal in:\");\n",
    "int.TryParse(Console.ReadLine(), out int b);\n",
    "\n",
    "int origineelA = a;\n",
    "int origineelB = b;\n",
    "\n",
    "while (b != 0)\n",
    "{\n",
    "    int temp = b;\n",
    "    b = a % b;\n",
    "    a = temp;\n",
    "}\n",
    "\n",
    "Console.WriteLine($\"De grootste gemeenschappelijke deler van {origineelA} en {origineelB} is {a}.\");"
   ]
  }
 ],
 "metadata": {
  "kernelspec": {
   "display_name": ".NET (C#)",
   "language": "C#",
   "name": ".net-csharp"
  },
  "language_info": {
   "name": "csharp"
  },
  "polyglot_notebook": {
   "kernelInfo": {
    "defaultKernelName": "csharp",
    "items": [
     {
      "aliases": [],
      "name": "csharp"
     }
    ]
   }
  }
 },
 "nbformat": 4,
 "nbformat_minor": 2
}
