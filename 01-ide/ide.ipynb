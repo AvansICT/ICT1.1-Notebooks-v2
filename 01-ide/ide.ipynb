{
 "cells": [
  {
   "cell_type": "markdown",
   "metadata": {},
   "source": [
    "# Integrated Development Environment (IDE)\n",
    "\n",
    "Om code te kunnen schrijven, gebruiken we een **IDE**, een *Integrated Development Environment*. Een IDE is in de basis een teksteditor met allerlei functionaliteiten die het programmeren gemakkelijker maken. Zo bieden IDE’s vaak ondersteuning voor:\n",
    "\n",
    "- **Organiseren van bestanden in een project**  \n",
    "  Een IDE geeft overzicht van verschillende soorten bestanden die nodig zijn voor een project. Denk aan bestanden met daadwerkelijke broncode (functionele code), maar ook aan bestanden waarin afhankelijkheden of interfaces gedefinieerd zijn.\n",
    "\n",
    "- **Syntax highlighting**  \n",
    "  Hierdoor kun je eenvoudig herkennen wat sleutelwoorden zijn binnen een programmeertaal, wat het lezen en schrijven van code overzichtelijker maakt.\n",
    "\n",
    "- **Code completion**  \n",
    "  Op basis van bekende methodes, variabelen, klassen, enzovoort, biedt de IDE tijdens het typen suggesties aan om je code sneller en correcter te schrijven.\n",
    "\n",
    "- **Code-analyse**  \n",
    "  De IDE helpt je bij het identificeren van mogelijke fouten of bugs in je code, nog vóór je deze uitvoert.\n",
    "\n",
    "- **Project compileren en uitvoeren**  \n",
    "  Voordat code door een computer uitgevoerd kan worden, moet deze eerst worden vertaald naar begrijpelijke instructies (bijvoorbeeld via compilatie).  \n",
    "  Hoewel je dit handmatig kunt doen, nemen IDE’s dit proces vaak van je over. Ze voeren automatisch de juiste stappen in de juiste volgorde uit. Zo kun jij je concentreren op het schrijven van de code. 😉\n",
    "\n",
    "- **Debugging**  \n",
    "  Debuggen is een manier om je programma stap voor stap uit te voeren in een speciale omgeving.  \n",
    "  Hierbij kun je bijvoorbeeld:\n",
    "  - toegang krijgen tot variabelen tijdens runtime;\n",
    "  - het programma pauzeren;\n",
    "  - stap voor stap door de code gaan om fouten op te sporen.\n"
   ]
  },
  {
   "cell_type": "code",
   "execution_count": null,
   "metadata": {
    "dotnet_interactive": {
     "language": "csharp"
    },
    "polyglot_notebook": {
     "kernelName": "csharp"
    }
   },
   "outputs": [],
   "source": []
  }
 ],
 "metadata": {
  "kernelspec": {
   "display_name": ".NET (C#)",
   "language": "C#",
   "name": ".net-csharp"
  },
  "language_info": {
   "name": "polyglot-notebook"
  },
  "polyglot_notebook": {
   "kernelInfo": {
    "defaultKernelName": "csharp",
    "items": [
     {
      "aliases": [],
      "languageName": "csharp",
      "name": "csharp"
     }
    ]
   }
  }
 },
 "nbformat": 4,
 "nbformat_minor": 2
}
