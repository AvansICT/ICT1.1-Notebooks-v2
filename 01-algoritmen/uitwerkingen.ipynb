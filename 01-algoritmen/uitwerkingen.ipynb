{
 "cells": [
  {
   "cell_type": "markdown",
   "metadata": {},
   "source": [
    "# Uitwerkingen"
   ]
  },
  {
   "cell_type": "markdown",
   "metadata": {},
   "source": [
    "## Opdracht 1\n",
    "\n",
    "Je ziet hier een mogelijke uitwerking van deze opdracht.\n",
    "\n",
    "![Uitwerking som van drie getallen](images/flowchart_sequentieel_som_drie_getallen.png)"
   ]
  },
  {
   "cell_type": "markdown",
   "metadata": {},
   "source": [
    "# Opdracht 2\n",
    "\n",
    "Je ziet hier een mogelijke uitwerking van deze opdracht ( © Floris Bogers, 2024-2025).\n",
    "\n",
    "![Middelste van 3 getallen](images/uitwerking_opdracht2.png)\n",
    "\n",
    "**2b:** Antwoord staat al in de opdracht. 6 Verschillende manieren (permutatie 3! = 6)\n",
    "\n"
   ]
  },
  {
   "cell_type": "markdown",
   "metadata": {},
   "source": [
    "# Opdracht 3\n",
    "\n",
    "![Vind de Fouten in de flowchart](images/uitwerking_opdracht3.png)"
   ]
  }
 ],
 "metadata": {
  "language_info": {
   "name": "python"
  }
 },
 "nbformat": 4,
 "nbformat_minor": 2
}
