{
 "cells": [
  {
   "cell_type": "markdown",
   "metadata": {},
   "source": [
    "# Uitwerkingen"
   ]
  },
  {
   "cell_type": "markdown",
   "metadata": {},
   "source": [
    "## Opdracht 1"
   ]
  },
  {
   "cell_type": "code",
   "execution_count": null,
   "metadata": {},
   "outputs": [],
   "source": [
    "// Eerste regel met groene tekst op een zwarte achtergrond\n",
    "Console.ForegroundColor = ConsoleColor.Green;\n",
    "Console.BackgroundColor = ConsoleColor.Black;\n",
    "Console.WriteLine(\"Dit is de eerste regel met groene tekst op een zwarte achtergrond.\");\n",
    "\n",
    "// Tweede regel met blauwe tekst op een witte achtergrond\n",
    "Console.ForegroundColor = ConsoleColor.Blue;\n",
    "Console.BackgroundColor = ConsoleColor.White;\n",
    "Console.WriteLine(\"Dit is de tweede regel met blauwe tekst op een witte achtergrond.\");\n",
    "\n",
    "// Derde regel met gele tekst op een blauwe achtergrond\n",
    "Console.ForegroundColor = ConsoleColor.Yellow;\n",
    "Console.BackgroundColor = ConsoleColor.Blue;\n",
    "Console.WriteLine(\"Dit is de derde regel met gele tekst op een blauwe achtergrond.\");\n",
    "\n",
    "// Vergeet niet een reset te doen om de originele kleuren te herstellen\n",
    "Console.ResetColor();"
   ]
  }
 ],
 "metadata": {
  "kernelspec": {
   "display_name": ".NET (C#)",
   "language": "C#",
   "name": ".net-csharp"
  },
  "language_info": {
   "name": "polyglot-notebook"
  },
  "polyglot_notebook": {
   "kernelInfo": {
    "defaultKernelName": "csharp",
    "items": [
     {
      "aliases": [],
      "languageName": "csharp",
      "name": "csharp"
     }
    ]
   }
  }
 },
 "nbformat": 4,
 "nbformat_minor": 2
}
