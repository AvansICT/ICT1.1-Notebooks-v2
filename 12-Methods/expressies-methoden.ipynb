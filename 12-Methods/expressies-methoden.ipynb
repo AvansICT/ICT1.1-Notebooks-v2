{
 "cells": [
  {
   "cell_type": "markdown",
   "metadata": {},
   "source": [
    "# Expressies met Methodes\n",
    "Naast het gebruiken van *booleans, getallen en strings* voor expressies. Is er nog een mogelijkheid namelijk de methode. \n",
    "\n",
    "## Variabele assignment\n",
    "We kunnen een variabele toewijzen door middel van een methode. Hou hier wel rekening mee dat de return waarde van de methode gelijk is aan type van de variabele. \n",
    "`int squareRoot = SqaureRoot(16);` \n",
    "Hier zou de methode SqaureRoot een return waarde hebben van een **int**. \n",
    "\n",
    "## If en While statement\n",
    "In het geval van een **if** of **while** statement. Moet de gebruikte expressie evalueren naar een **true** of **false**. Dit kan op twee manieren met een methode:\n",
    "1. `if(SunIsShining()) || while(SunIsShining)`\n",
    "2. `while(EnergyConsumptionToday() > 100) || if(EnergyConsumptionToday() > 100)`\n",
    "In manier nummer 1 moet de return waarde een *boolean* zijn. Manier 2 vraagt erom dat de return waarde van *EnergyConsumptionToday()* een **int** is. Maar dit kan ook een **string** zijn. Alleen moet de vorm van de expressie dan meer in lijn zijn zoals aangegeven in [Expressies-strings](./expressies-strings.ipynb).\n",
    "\n",
    "## return waarde\n",
    "Zoals bij de andere gevallen is het ook mogelijk om een methode als return waarde te geven. Zoals `return MoonEnergyConsumption(5)`. Hierbij moeten de return waardes van de aangeroepen methode en de methode die hem aanroept gelijk zijn. Het volgende voorbeeld laat dit zien:"
   ]
  },
  {
   "cell_type": "code",
   "execution_count": 5,
   "metadata": {
    "dotnet_interactive": {
     "language": "csharp"
    },
    "polyglot_notebook": {
     "kernelName": "csharp"
    }
   },
   "outputs": [],
   "source": [
    "string MoonEnergy(int hour){\n",
    "    return $\"{1.6 * hour}\";\n",
    "    // return 1.6 * hour; // het returnen van een int kan hier niet. Zorgt voor meerdere fouten in de volgorde van aanroep\n",
    "}\n",
    "\n",
    "int SunEnergy(int hour){\n",
    "    //return $\"{5.9 * hour}\";// het returnen van een int kan hier niet. Zorgt voor meerdere fouten in de volgorde van aanroep\n",
    "    return (int)(5.9 * hour); \n",
    "}\n",
    "\n",
    "string SunAndMoonEnergy(int hour)\n",
    "{\n",
    "    return $\"moon energy : {MoonEnergy(hour)} sun energy : {SunEnergy(hour)}\";\n",
    "}"
   ]
  },
  {
   "cell_type": "markdown",
   "metadata": {},
   "source": [
    "Uncomment de extra regels maar eens en kijk wat er gebeurd met je code. \n",
    "Probeer ook eens de return waardes van MoonEnergy en SunEnergy aan te passen.\n",
    "\n",
    "## methode aanroepen\n",
    "Je kan ook methodes doorgeven als parameters in een andere methode. Hier geld ook weer de regel de return waarde van de methode moet gelijk zijn aan het parameter type. Dus als het parameter type een **int** is dan is de return waarde van de methode ook een **int**. \n",
    "`CalculateSunEnergy(IsSunShining(\"12:00\" ), SunStrength(\"juli\"))`\n",
    "`CalculateSunEnergy(boolean sunIsShining, double sunStrength){}`\n",
    "Hierbij wel goed onthouden dat methode aanroepen om parameters te bepalen snel de leesbaarheid van je code complex kunnen maken. Dus probeer dit met mate te doen.\n",
    "\n",
    "## Korte Recap\n",
    "Eigenlijk gelden bij methodes dezelfde regels als bij [Expressie boolean](./expressies-boolean.ipynb), [Expressie getallen](./expressies-getallen.ipynb), [Expressies strings](\"./expressies-strings.ipynb\"). Je kunt ook alle booleans, strings, getallen vervangen door een methode indien de return waarde hetzelfde type is. Dus bij een string is de return waarde van de methode een string.\n",
    "\n",
    "\n",
    "## Opdracht 1\n",
    "Herschrijf opdracht 2 in [Expressie boolean](./expressies-boolean.ipynb) om naar methode expressie. Hierbij moet je IsEven omschrijven naar een methode die IsEven heet"
   ]
  },
  {
   "cell_type": "code",
   "execution_count": null,
   "metadata": {
    "dotnet_interactive": {
     "language": "csharp"
    },
    "polyglot_notebook": {
     "kernelName": "csharp"
    }
   },
   "outputs": [],
   "source": []
  },
  {
   "cell_type": "markdown",
   "metadata": {},
   "source": [
    "## Opdracht 2\n",
    "Schrijf opdracht 1 van  [Expressie boolean](./expressies-boolean.ipynb) om naar een methode is die aangeeft of het vriest. Hierbij is de parameter een int.  "
   ]
  },
  {
   "cell_type": "code",
   "execution_count": 7,
   "metadata": {
    "dotnet_interactive": {
     "language": "csharp"
    },
    "polyglot_notebook": {
     "kernelName": "csharp"
    }
   },
   "outputs": [],
   "source": []
  },
  {
   "cell_type": "markdown",
   "metadata": {},
   "source": [
    "## Opdracht 3\n",
    "We hebben een elektrische auto met een batterij opslag van 82kwh. Deze auto heeft notmaliter een actie radius 663 km. Omdat batterijen in de winter minder goed presteren is de actieraduis in de winter maar 500 km. Jouw opdracht is om een programma te schrijven waarin de gebruiker twee waardes opgeeft: het aantal kilometers wat hij gaat rijden en welk seizoen het is. Aan de hand daarvan wordt bepaald wat het aantal kwh is bij aankomst op bestemming. Je mag er vanuit gaan dat de bestuurder altijd met een volle accu vertrekt. Er moet een output op het scherm komen die aangeeft hoeveel juice er nog in de tank zit (restenend aantal kwh in de batterij).\n",
    "\n",
    "Deel de code in door deze op te splitsen in drie delen:\n",
    "- Een methode om te bepalen of het winter is of niet\n",
    "- Een methode om te berekenen hoeveel kwh er nodig is voor deze rit (gegeven het aantal kilometers en het seizoen als parameter)\n",
    "- Een stukje code die input van de gebruiker vraagt, de methode(s) gebruikt voor de berekening en en op het scherm afdrukt hoeveel kwh resterend is."
   ]
  },
  {
   "cell_type": "code",
   "execution_count": 8,
   "metadata": {
    "dotnet_interactive": {
     "language": "csharp"
    },
    "polyglot_notebook": {
     "kernelName": "csharp"
    }
   },
   "outputs": [],
   "source": []
  }
 ],
 "metadata": {
  "kernelspec": {
   "display_name": ".NET (C#)",
   "language": "C#",
   "name": ".net-csharp"
  },
  "language_info": {
   "name": "polyglot-notebook"
  },
  "polyglot_notebook": {
   "kernelInfo": {
    "defaultKernelName": "csharp",
    "items": [
     {
      "aliases": [],
      "languageName": "csharp",
      "name": "csharp"
     }
    ]
   }
  }
 },
 "nbformat": 4,
 "nbformat_minor": 2
}
