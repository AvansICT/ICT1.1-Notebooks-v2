{
 "cells": [
  {
   "cell_type": "markdown",
   "metadata": {},
   "source": [
    "# Uitwerkingen"
   ]
  },
  {
   "cell_type": "markdown",
   "metadata": {},
   "source": [
    "## Opdracht 1\n"
   ]
  },
  {
   "cell_type": "code",
   "execution_count": 8,
   "metadata": {
    "dotnet_interactive": {
     "language": "csharp"
    },
    "polyglot_notebook": {
     "kernelName": "csharp"
    }
   },
   "outputs": [],
   "source": [
    "decimal BerekenWaterprijs(decimal prijsPerKuub, short aantalM3Water) // hoewel je de short in de praktijk niet vaak zult tegenkomen.\n",
    "{\n",
    "    double belastingPercentage = 0.08;\n",
    "    // berekeningen voor de totale prijs inclusief belasting\n",
    "    decimal belasting = prijsPerKuub * (decimal)belastingPercentage;\n",
    "    decimal totalePrijs = aantalM3Water * (prijsPerKuub + belasting);\n",
    "\n",
    "    return Math.Round(totalePrijs, 3, MidpointRounding.AwayFromZero);\n",
    "}\n",
    "\n"
   ]
  },
  {
   "cell_type": "markdown",
   "metadata": {},
   "source": [
    "## Opdracht 2"
   ]
  },
  {
   "cell_type": "code",
   "execution_count": 21,
   "metadata": {
    "dotnet_interactive": {
     "language": "csharp"
    },
    "polyglot_notebook": {
     "kernelName": "csharp"
    }
   },
   "outputs": [],
   "source": [
    "decimal BerekenElectriciteitsprijs(long kWhVerbruik, float prijsPerKWhTot100, decimal verhogingBoven100KWh) // de verschillende datatypes zijn vooral bedoeld om te laten zien dat ook bij parameters types van toepassing zijn en niet perse nuttig/ bewust gekozen.\n",
    "{\n",
    "    // geven waardes volgens opdracht\n",
    "    double belastingPercentage = 0.04;\n",
    "\n",
    "    // Bereken kosten voor verbruik tot en boven 100 kWh\n",
    "    decimal totaleKosten = (decimal)Math.Min(kWhVerbruik, 100) * (decimal)prijsPerKWhTot100;\n",
    "    totaleKosten += ((kWhVerbruik > 100) ? (kWhVerbruik - 100) : 0) * ((decimal)prijsPerKWhTot100 + verhogingBoven100KWh);\n",
    "\n",
    "    // totaalprijs en de prijs inclusief btw berekenen\n",
    "    decimal belasting = totaleKosten * (decimal)belastingPercentage;\n",
    "    decimal totalePrijs = totaleKosten + belasting;\n",
    "\n",
    "    // Output\n",
    "    return Math.Round(totalePrijs, 3, MidpointRounding.AwayFromZero);\n",
    "}"
   ]
  },
  {
   "cell_type": "markdown",
   "metadata": {},
   "source": [
    "## Opdracht 3"
   ]
  },
  {
   "cell_type": "code",
   "execution_count": null,
   "metadata": {
    "dotnet_interactive": {
     "language": "csharp"
    },
    "polyglot_notebook": {
     "kernelName": "csharp"
    }
   },
   "outputs": [],
   "source": [
    "short waterVerbruikM3 = 1;\n",
    "long electriciteitsVerbruikKWh = 100;\n",
    "\n",
    "Console.WriteLine($\"{waterVerbruikM3} m3 water kost: € {BerekenWaterprijs(1.37m, waterVerbruikM3)} en {electriciteitsVerbruikKWh} kWh electriciteit kost: € {BerekenElectriciteitsprijs(electriciteitsVerbruikKWh, 0.23f, 0.20m)}\");"
   ]
  }
 ],
 "metadata": {
  "kernelspec": {
   "display_name": ".NET (C#)",
   "language": "C#",
   "name": ".net-csharp"
  },
  "language_info": {
   "name": "polyglot-notebook"
  },
  "polyglot_notebook": {
   "kernelInfo": {
    "defaultKernelName": "csharp",
    "items": [
     {
      "aliases": [],
      "languageName": "csharp",
      "name": "csharp"
     }
    ]
   }
  }
 },
 "nbformat": 4,
 "nbformat_minor": 2
}
