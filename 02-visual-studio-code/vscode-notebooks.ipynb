{
 "cells": [
  {
   "cell_type": "markdown",
   "metadata": {},
   "source": [
    "# Notebooks in Visual Studio Code\n",
    "\n",
    "## Wat is een Notebook?\n",
    "\n",
    "Een notebook geeft een manier om tekst te combineren met code.\n",
    "Daarmee kun je heel snel bijvoorbeeld een verslag of logbook (groeidocument) maken.\n",
    "Naast tekst, zijn natuurlijk ook afbeeldingen e.d. toe te voegen.\n",
    "\n",
    "Tekstvelden in een Notebook zijn geschreven in het Markdown format. Zie [hier](https://www.markdownguide.org/) voor meer informatie.\n",
    "\n",
    "Voor het maken van diagrammen, kan bijvoorbeeld gebruik gemaakt worden van \"Mermaid\" diagrammen. Zie [Mermaid](https://mermaid.js.org/#/).\n",
    "\n",
    "Codeblokken die in het notebook zitten zijn zelfs uit te voeren vanuit het notebook.\n",
    "Dat geeft je dus heel snel feedback!\n"
   ]
  },
  {
   "cell_type": "markdown",
   "metadata": {},
   "source": [
    "## <a name=\"benodigdheden\"></a>Wat heb je nodig om Notebooks te kunnen gebruiken in VS Code?\n",
    "\n",
    "Voor het afbeelden van \"Mermaid\" diagrammen, is een 'Extension' nodig voor VS Code:\n",
    "\n",
    "- Markdown Preview Mermaid Support (identifier: bierner.markdown-mermaid)\n",
    "\n",
    "Om de codeblokken uit te kunnen voeren, zul je een 'software development kit' (SDK) behorende bij de programmeertaal moeten installeren.\n",
    "\n",
    "Een SDK geeft je alle tools om code om te zetten naar iets dat de computer kan uitvoeren.\n",
    "\n",
    "Voor de programmeertaal C#, heb je een versie van '.NET SDK' nodig.\n",
    "\n",
    "Deze is te vinden op [dotNet](https://dotnet.microsoft.com/en-us/download/dotnet)\n",
    "\n",
    "Kies de juiste versie en installeer deze op je PC.\n",
    "\n",
    "\n",
    "Het kan zijn dat je Visual Studio Code even moet afsluiten en opnieuw moet opstarten.\n",
    "\n",
    "Naast de SDK zijn in VS Code 'Extensions' nodig voor de programmeertaal. \n",
    "\n",
    "Deze kunnen je helpen bij het schrijven van code. Bijvoorbeeld door ervoor te zorgen dat geschreven code allemaal dezelfde opmaak heeft. Hiermee wordt de code beter leesbaar, en dus onderhoudbaar.\n",
    "Deze 'Extensions' zorgen er ook voor dat de juiste SDK tools worden aangesproken om je code om te zetten naar een daadwerkelijk programma!\n",
    "\n",
    "\n",
    "De 'Extensions' die wij nodig hebben voor C# zijn:\n",
    "\n",
    "- C#  (identifier: ms-dotnettools.csharp)\n",
    "- C# Dev Kit (identifier: ms-dotnettools.csdevkit)\n",
    "\n",
    "Weet je nog hoe je deze kan installeren? Zo niet, kijk dan [hier](https://avansict.github.io/ICT1.1-Notebooks/ide/vscode.html#Extensions)"
   ]
  },
  {
   "cell_type": "markdown",
   "metadata": {},
   "source": [
    "## Code uitvoeren\n",
    "\n",
    "Hieronder vind je een voorbeeld van een stukje code in een Notebook.\n",
    "\n",
    "Als de SDK, VS Code en de 'Extensions' helemaal goed zijn geïnstalleerd, zou je deze code kunnen uitvoeren.\n",
    "\n",
    "Maak daarvoor een nieuw bestand aan, bijvoorbeeld Test.ipynb\n",
    "\n",
    "Je zou een kleine 'play'-knop moeten zien, links van het codeblok:\n",
    "![Codeblock play](VSC-Notebook-Codeblock-play.png \"Play\")\n",
    "\n",
    "Heb je die? Ja? waar wacht je dan op? Klikken!! 😃"
   ]
  },
  {
   "cell_type": "code",
   "execution_count": null,
   "metadata": {
    "dotnet_interactive": {
     "language": "csharp"
    },
    "polyglot_notebook": {
     "kernelName": "csharp"
    }
   },
   "outputs": [],
   "source": [
    "for (int i = 0; i < 10; i++)\n",
    "{\n",
    "    Console.WriteLine(i);\n",
    "}"
   ]
  },
  {
   "cell_type": "markdown",
   "metadata": {},
   "source": [
    "Zoals je, hopelijk, hebt kunnen zien, kun je kleine stukjes code uitvoeren binnen een notebook.\n",
    "\n",
    "Het uitvoeren van bovenstaande code, levert wat 'output'. Erg fijn die terugkoppeling, maar het maakt het lezen wel lastig. \n",
    "\n",
    "Gelukkig zou je ook een knoppenbalk moeten hebben bovenaan het notebook: \n",
    "![Notebook button bar](VSC-Notebook-buttons.png \"Buttons\")\n",
    "\n",
    "De knop \"Clear All Outputs\" zorgt ervoor dat alle 'output' opgeruimd wordt."
   ]
  },
  {
   "cell_type": "markdown",
   "metadata": {},
   "source": [
    "## Notebook uitbreiden/aanpassen\n",
    "\n",
    "Mocht je extra code of teksten (markdown) willen toevoegen aan het Notebook, dan kun je de \"+ Code\" knop van de knoppenbalk gebruiken.\n",
    "\n",
    "Ook onder een blok kunnen buttons verschijnen: \n",
    "![Notebook add block buttons](VSC-Notebook-Block-add-buttons.png \"Add block buttons\")\n",
    "\n",
    "Deze geven je een nog snellere manier om blokken toe te voegen.\n",
    "\n",
    "\n",
    "Naast de knoppenbalk, zul je rechtsboven een code- of tekstblok ook een knoppenbalkje zien: \n",
    "![Notebook modifier bar](VSC-Notebook-modifier.png \"Modifier\")\n",
    "\n",
    "Met de knoppen op dit balkje, kun je blokken aanpassen, splitsen, verwijderen etc. etc. Zodra je blok \"klaar\" is, klik je op: \n",
    "![Notebook modifier check](VSC-Notebook-modifier-check.png \"Modifier check\")\n"
   ]
  },
  {
   "cell_type": "markdown",
   "metadata": {},
   "source": [
    "## Verschil tussen code in Notebooks en 'echte' code\n",
    "\n",
    "Code blokken in een Notebook zijn erg handig om korte stukken code te schrijven en hun functionaliteit te testen. \n",
    "\n",
    "Hele programma's schrijven in deze blokken kan niet.\n",
    "\n",
    "Code geschreven in een blok wordt namelijk niet echt omgezet naar een programma, maar alleen geïnterpreteerd alsof het een programma is."
   ]
  },
  {
   "cell_type": "markdown",
   "metadata": {},
   "source": [
    "## Interactie tussen code blokken\n",
    "\n",
    "Opvolgende code blokken, kunnen achter elkaar uitgevoerd worden, als of het 1 code blok is.\n",
    "\n",
    "Bijvoorbeeld de blokken:"
   ]
  },
  {
   "cell_type": "code",
   "execution_count": null,
   "metadata": {
    "dotnet_interactive": {
     "language": "csharp"
    },
    "polyglot_notebook": {
     "kernelName": "csharp"
    }
   },
   "outputs": [],
   "source": [
    "int x = 40;"
   ]
  },
  {
   "cell_type": "code",
   "execution_count": null,
   "metadata": {
    "dotnet_interactive": {
     "language": "csharp"
    },
    "polyglot_notebook": {
     "kernelName": "csharp"
    }
   },
   "outputs": [],
   "source": [
    "Console.WriteLine(\"y = \" + x);\n",
    "\n",
    "int y = 30;"
   ]
  },
  {
   "cell_type": "code",
   "execution_count": null,
   "metadata": {
    "dotnet_interactive": {
     "language": "csharp"
    },
    "polyglot_notebook": {
     "kernelName": "csharp"
    }
   },
   "outputs": [],
   "source": [
    "Console.WriteLine(\"x * y = \", y * x);"
   ]
  },
  {
   "cell_type": "markdown",
   "metadata": {},
   "source": [
    "De variabele 'x' en 'y' worden dus onderwater opgeslagen!\n",
    "\n",
    "Klink, na het uitvoeren van de bovenstaande code, maar eens op \"Variables\" in de knoppenbalk bovenaan het notebook.\n",
    "Je krijgt dan een overzicht met daarin alle variabelen die gebruikt zijn in het notebook. "
   ]
  }
 ],
 "metadata": {
  "kernelspec": {
   "display_name": ".NET (C#)",
   "language": "C#",
   "name": ".net-csharp"
  },
  "language_info": {
   "name": "polyglot-notebook"
  },
  "polyglot_notebook": {
   "kernelInfo": {
    "defaultKernelName": "csharp",
    "items": [
     {
      "aliases": [],
      "languageName": "csharp",
      "name": "csharp"
     }
    ]
   }
  }
 },
 "nbformat": 4,
 "nbformat_minor": 2
}
