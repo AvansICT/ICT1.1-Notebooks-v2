{
 "cells": [
  {
   "cell_type": "markdown",
   "metadata": {},
   "source": [
    "# Visual Studio Code\n",
    "\n",
    "[Visual Studio Code](https://code.visualstudio.com) (VS Code) is een lichtgewicht IDE van Microsoft, en geeft door middel van plugins (Extensions) ondersteuning voor veel verschillende manieren van programmeren, in verschillende talen en verschillende projectvormen.\n"
   ]
  },
  {
   "cell_type": "markdown",
   "metadata": {},
   "source": [
    "\n",
    "## Installatie\n",
    "\n",
    "Installeren van Visual Studio Code, kan op een Windows PC op verschillende manieren:\n",
    "\n",
    "- Microsoft Store\n",
    "- Zelf downloaden en installeren\n",
    "- via de Windows package manager\n",
    "\n",
    "### Microsoft Store\n",
    "\n",
    "Open de Microsoft store in Windows en zoek naar \"Visual Studio code\" in de store staan twee versies.\n",
    "een Insiders versie en de standaard versie, selecteer de standaard versie en start de installatie.\n",
    "\n",
    "![VS Code Microsoft Store](VScode_MSstore.png \"VS Code Microsoft Store\")\n",
    "\n",
    "### Zelf downloaden en installeren\n",
    "\n",
    "Visual Studio Code is te downloaden van de website: https://code.visualstudio.com/download\n",
    "\n",
    "Voor een Windows PC zul je daar 2 verschillende versies vinden:\n",
    "\n",
    "Een \"User\" versie: https://code.visualstudio.com/sha/download?build=stable&os=win32-x64-user\n",
    "\n",
    "Deze installeert zichzelf alleen voor de huidige gebruiker. Er zijn dan ook geen 'administrator' rechten nodig.\n",
    "Selecteer deze als je deze rechten dus niet hebt.\n",
    "\n",
    "En een \"System\"-versie: https://code.visualstudio.com/sha/download?build=stable&os=win32-x64\n",
    "\n",
    "Deze installeert zich voor alle gebruikers van het systeem. Hiervoor zijn wel 'administrator' rechten nodig.\n",
    "\n",
    "Door het gedownloade bestand uit te voeren, wordt de installatie gestart.\n",
    "\n",
    "- License Agreement -> \"I accept the agreement\" -> 'Next'.\n",
    "- Select Start Menu Folder -> 'Next'.\n",
    "- Select Additional Tasks -> Selecteer wat je nog extra gedaan wilt hebben -> 'Next'.\n",
    "- Ready to Install -> 'Install'.\n",
    "- Completing -> Selecteer om VS Code te starten -> 'Finish'.\n",
    "\n",
    "### Installeren via package manager\n",
    "\n",
    "Om te VS Code te installeren via de Windows package manager ('winget'), kun je het volgende commando uitvoeren:\n",
    "\n",
    "```\n",
    "winget install Microsoft.VisualStudioCode\n",
    "```\n",
    "\n",
    "Meest snelle manier is door dit commando te geven in een \"Run\" dialog, toegankelijk via \"WindowsKey+R\".\n",
    "\n",
    "Mocht dit niet lukken, probeer dan de manier beschreven bij [Zelf downloaden en installeren](#Zelf-downloaden-en-installeren).a\n",
    "\n",
    "## Eerste start en configuratie\n",
    "\n",
    "Bij de eerste start, zal VS Code een welkomsscherm tonen.\n",
    "Hier kun je de editor aanpassen naar je eigen wensen.\n",
    "\n",
    "Onderaan staat een optie die ook wat aandacht nodig heeft:\n",
    "\n",
    "![Opt out Telemetry](VSC-OptOutWarning.png \"Telemetry opt out\")\n",
    "\n",
    "Door op 'opt-out' te klikken kun je 'telemetry' uitzetten. Hiermee voorkom je dat Microsoft data over jouw gebruik van VS Code ontvangt.\n",
    "\n",
    "![Telemetry settings](VSC-TelemetrySettings.png \"Telemetry opt settings\")\n",
    "\n"
   ]
  },
  {
   "cell_type": "markdown",
   "metadata": {},
   "source": [
    "## Extensions\n",
    "\n",
    "Met 'Extensions' kun je VS Code uitbreiden met bepaalde functionaliteit.\n",
    "Visual Studio Code is redelijk meedenkend en stelt vaak al een 'Extension' voor, mocht hij die missen.\n",
    "\n",
    "Om een 'Extension' te installeren, open je de 'Extension:marketplace'. Dit kan door links onder op het tandwiel te klikken (1) en te kiezen voor \"Extensions\" (2). Je kunt ook \"CTRL+Shift+X\" gebruiken.\n",
    "\n",
    "![Extension Marketplace](VSC-OpenExtensions.png \"Open Extensions Marketplace\")\n",
    "\n",
    "'Extension' hebben allemaal een unieke identifier, waarmee ze vinden zijn.\n",
    "\n",
    "'Extensions' die sowieso handig zijn om te installeren, zijn:\n",
    "\n",
    "- Polyglot Notebooks (identifier: ms-dotnettools.dotnet-interactive-vscode)\n",
    "- Markdown Preview Mermaid Support (identifier: bierner.markdown-mermaid)\n",
    "- C#  (identifier: ms-dotnettools.csharp)\n",
    "- C# Dev Kit (identifier: ms-dotnettools.csdevkit)\n",
    "- Dutch - Code Spell Checker (identifier: streetsidesoftware.code-spell-checker-dutch)\n",
    "\n",
    "Naast de marketplace, kun je ook 'Extensions' installeren door een command terminal te openen (\"Ctrl+`\") en het volgende commando uit te voeren:\n",
    "\n",
    "```\n",
    "code --install-extension <ext-id>\n",
    "```\n",
    "\n",
    "Bijvoorbeeld, om Polyglot Notebooks te installeren:\n",
    "\n",
    "```\n",
    "code --install-extension ms-dotnettools.dotnet-interactive-vscode\n",
    "```\n"
   ]
  },
  {
   "cell_type": "markdown",
   "metadata": {},
   "source": [
    "### Dutch Spell Checker instellingen\n",
    "\n",
    "In het vorige deel hebben we een Extension geïnstalleerd. Deze staat standaard ingesteld om alleen Engels te controleren.\n",
    "\n",
    "Deze is ook in te stellen om ook Nederlands te controleren.\n",
    "\n",
    "Zoek bij je Settings (\"Ctrl+,\") op \"C Spell:Language\".\n",
    "\n",
    "Hier zie je waarschijnlijk \"en\" (Engels) staan. Om ook Nederlands te controleren, zullen we \"en,nl\" hier moeten invullen.\n",
    "\n",
    "Dat ziet er dan zo uit:\n",
    "\n",
    "![Spell Check Settings](VSC-SpellCheckSettings.png \"Spell Check Settings\")\n",
    "\n",
    "\n"
   ]
  },
  {
   "cell_type": "markdown",
   "metadata": {},
   "source": [
    "## Workspaces\n",
    "\n",
    "Visual Studio Code werkt met zogenaamde \"workspaces\", een verzameling van directories (mappen), die geopend zijn in een instantie van VS Code.\n",
    "\n",
    "Een workspace kan eigen settings hebben, bijvoorbeeld:\n",
    "- configuratie van Extensions;\n",
    "- configuratie van build, run en debug;\n",
    "\n",
    "Daarnaast wordt ook de staat van geopende bestanden e.d. opgeslagen in een workspace.\n",
    "\n",
    "Voor meer informatie zie: https://code.visualstudio.com/docs/editor/workspaces"
   ]
  },
  {
   "cell_type": "markdown",
   "metadata": {},
   "source": [
    "## Configuratie\n",
    "\n",
    "Visual Studio Code werkt met meerdere \"lagen\" van configuraties:\n",
    "\n",
    "- User settings, zijn voor elke instantie van VS Code die je opent. \n",
    "Hierdoor blijft bijvoorbeel de look-and-feel hetzelfde voor elke VS Code die je opstart.\n",
    "- Workspace settings, gelden alleen voor die specieke workspace.\n",
    "\n",
    "Een workspace setting kan een User setting overschrijven (alleen in functionaliteit).\n",
    "Dit betekent bijvoorbeeld dat een Extention die codestyle controleert en aanpast, binnen een workspace een andere code-opmaak terug kan geven, dan de gebruiker in \"zijn\" instellingen zou hebben.\n",
    "\n",
    "Workspace settings gaan dus voor op gebruikers instellingen."
   ]
  },
  {
   "cell_type": "markdown",
   "metadata": {},
   "source": [
    "## Visual Studio Hotkeys\n",
    "\n",
    "Binnen Visual Studio Code zijn er ook een heleboel hotkeys gedefineerd. Hiermee kun je, bijna zonder je muist te gebruiken coderen.\n",
    "\n",
    "Een aantal (standaard) handige hotkeys:\n",
    "\n",
    "|Hotkey|Functie|\n",
    "|-----|-------|\n",
    "|\"Ctrl+Shift+X\"|Opent \"Extensions:Marketplace\"|\n",
    "|\"F1\" <br>of<br> \"Ctrl+Shift+P\"|\"Show Commands\", geeft je een lijst met beschikbare commando's met zoekoptie|\n",
    "|\"F11\"|Toggled \"Full Screen\"|\n",
    "|\"Ctrl+`\"|Opent een \"commandline\"|\n",
    "|\"Ctrl+=\"|Zoom in|\n",
    "|\"Ctrl+-\"|Zoom out|\n",
    "|\"Ctrl+Numpad5\"|Reset zoom|\n",
    "|\"Ctrl+F\"|Find (in het open bestand)|\n",
    "|\"Ctrl+Shift+F\"|Search (in het project/workspace)|\n",
    "\n",
    "Voor nog veel meer hotkeys, kijk eens [hier](https://code.visualstudio.com/docs/getstarted/keybindings#_default-keyboard-shortcuts).\n",
    "\n",
    "Hotkeys zijn helemaal te configureren naar eigen smaak. Zie hiervoor: https://code.visualstudio.com/docs/getstarted/keybindings\n",
    "\n",
    "\n"
   ]
  },
  {
   "cell_type": "code",
   "execution_count": null,
   "metadata": {
    "dotnet_interactive": {
     "language": "csharp"
    },
    "polyglot_notebook": {
     "kernelName": "csharp"
    }
   },
   "outputs": [],
   "source": []
  }
 ],
 "metadata": {
  "kernelspec": {
   "display_name": ".NET (C#)",
   "language": "C#",
   "name": ".net-csharp"
  },
  "language_info": {
   "name": "polyglot-notebook"
  },
  "polyglot_notebook": {
   "kernelInfo": {
    "defaultKernelName": "csharp",
    "items": [
     {
      "aliases": [],
      "languageName": "csharp",
      "name": "csharp"
     }
    ]
   }
  }
 },
 "nbformat": 4,
 "nbformat_minor": 2
}
