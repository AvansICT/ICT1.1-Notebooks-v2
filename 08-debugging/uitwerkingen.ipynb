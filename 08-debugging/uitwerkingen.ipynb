{
 "cells": [
  {
   "cell_type": "markdown",
   "metadata": {},
   "source": [
    "# Uitwerkingen: Debugging Technieken\n",
    "\n",
    "Hieronder volgen de uitwerkingen en de denkprocessen voor de opgaven over debugging."
   ]
  },
  {
   "cell_type": "markdown",
   "metadata": {},
   "source": [
    "# Vragen"
   ]
  },
  {
   "cell_type": "markdown",
   "metadata": {},
   "source": [
    "### Vraag 1: Breakpoint Plaatsing"
   ]
  },
  {
   "cell_type": "code",
   "execution_count": null,
   "metadata": {
    "polyglot_notebook": {
     "kernelName": "csharp"
    },
    "vscode": {
     "languageId": "polyglot-notebook"
    }
   },
   "outputs": [],
   "source": [
    "// Tekstueel antwoord:\n",
    "// Je plaatst het breakpoint op de EERSTE regel van de `if-else if-else` keten, dus op de `if` zelf.\n",
    "//\n",
    "// Waarom daar? Omdat de uitvoering daar pauzeert *voordat* de conditie wordt geëvalueerd. \n",
    "// Dit stelt je in staat om de waarden van alle variabelen die in de condities worden gebruikt te inspecteren op het moment van de beslissing.\n",
    "// Als je het breakpoint pas in een van de `else if` blokken zet, pauzeert het programma alleen als die specifieke tak al gekozen is, \n",
    "// waardoor je mogelijk de reden mist waarom een eerdere conditie `true` of `false` was."
   ]
  },
  {
   "cell_type": "markdown",
   "metadata": {},
   "source": [
    "### Vraag 2: Step Over vs. Step Into"
   ]
  },
  {
   "cell_type": "code",
   "execution_count": null,
   "metadata": {
    "polyglot_notebook": {
     "kernelName": "csharp"
    },
    "vscode": {
     "languageId": "polyglot-notebook"
    }
   },
   "outputs": [],
   "source": [
    "// Tekstueel antwoord:\n",
    "// - Step Over (F10): De debugger voert de volledige `BerekenTotaalprijs()` functie uit op de achtergrond en pauzeert direct op de volgende regel code *na* de functieaanroep. Je ziet de interne stappen van de functie niet.\n",
    "// \n",
    "// - Step Into (F11): De debugger navigeert *in* de `BerekenTotaalprijs()` functie. De uitvoering pauzeert op de eerste regel code binnen die functie. Dit stelt je in staat om de logica binnen de functie stap voor stap te debuggen."
   ]
  },
  {
   "cell_type": "markdown",
   "metadata": {},
   "source": [
    "### Vraag 3: Call Stack Analyse"
   ]
  },
  {
   "cell_type": "code",
   "execution_count": null,
   "metadata": {
    "polyglot_notebook": {
     "kernelName": "csharp"
    },
    "vscode": {
     "languageId": "polyglot-notebook"
    }
   },
   "outputs": [],
   "source": [
    "// Tekstueel antwoord:\n",
    "// De Call Stack wordt van boven (meest recent) naar beneden (oudste) gelezen:\n",
    "// 1. FormatteerString()  <-- Huidige locatie\n",
    "// 2. VerwerkData()\n",
    "// 3. Start()\n",
    "// (4. Main() of globale scope, afhankelijk van de context)\n",
    "//\n",
    "// Dit toont aan dat Start() de functie VerwerkData() heeft aangeroepen, die op zijn beurt FormatteerString() heeft aangeroepen."
   ]
  },
  {
   "cell_type": "markdown",
   "metadata": {},
   "source": [
    "### Vraag 4: Een `for`-lus debuggen"
   ]
  },
  {
   "cell_type": "code",
   "execution_count": null,
   "metadata": {
    "polyglot_notebook": {
     "kernelName": "csharp"
    },
    "vscode": {
     "languageId": "polyglot-notebook"
    }
   },
   "outputs": [],
   "source": [
    "// Tekstueel antwoord:\n",
    "// Je zou de volgende twee variabelen in het 'Watch'-venster plaatsen:\n",
    "// 1. De teller-variabele (meestal `i`): Om te controleren of de lus het juiste aantal iteraties uitvoert en of de index correct is bij het benaderen van de lijst.\n",
    "// 2. De som-variabele (de accumulator): Om na elke stap te zien hoe de totaalsom wordt opgebouwd. Je kunt dan direct zien bij welke iteratie de som afwijkt van de verwachting."
   ]
  },
  {
   "cell_type": "markdown",
   "metadata": {},
   "source": [
    "### Vraag 5: Efficiënt uit een functie stappen"
   ]
  },
  {
   "cell_type": "code",
   "execution_count": null,
   "metadata": {
    "polyglot_notebook": {
     "kernelName": "csharp"
    },
    "vscode": {
     "languageId": "polyglot-notebook"
    }
   },
   "outputs": [],
   "source": [
    "// Tekstueel antwoord:\n",
    "// Je gebruikt de actie 'Step Out' (Shift+F11)."
   ]
  },
  {
   "cell_type": "markdown",
   "metadata": {},
   "source": [
    "### Vraag 6: Call Stack bij recursie"
   ]
  },
  {
   "cell_type": "code",
   "execution_count": null,
   "metadata": {
    "polyglot_notebook": {
     "kernelName": "csharp"
    },
    "vscode": {
     "languageId": "polyglot-notebook"
    }
   },
   "outputs": [],
   "source": [
    "// Tekstueel antwoord:\n",
    "// Bij een recursieve functie roept een functie zichzelf aan. De Call Stack is hierbij essentieel om te visualiseren hoe 'diep' de recursie is.\n",
    "// Bij elke recursieve aanroep wordt er een nieuwe 'frame' (een nieuwe instantie van de functie) bovenop de Call Stack geplaatst. \n",
    "// De stack groeit dus met elke aanroep. Als je een breakpoint in de functie zet, kun je in de Call Stack precies zien hoe vaak de functie zichzelf al heeft aangeroepen.\n",
    "// Als het basisgeval nooit bereikt wordt, blijft de functie zichzelf aanroepen, groeit de stack oneindig door en krijg je uiteindelijk een 'StackOverflowException'."
   ]
  },
  {
   "cell_type": "markdown",
   "metadata": {},
   "source": [
    "# Uitdagingen"
   ]
  },
  {
   "cell_type": "markdown",
   "metadata": {},
   "source": [
    "### Uitdaging 1: De \"Off-by-One\" Fout"
   ]
  },
  {
   "cell_type": "code",
   "execution_count": null,
   "metadata": {
    "polyglot_notebook": {
     "kernelName": "csharp"
    },
    "vscode": {
     "languageId": "polyglot-notebook"
    }
   },
   "outputs": [],
   "source": [
    "// Probleemcode:\n",
    "int som = 0;\n",
    "for (int i = 1; i < 5; i++)\n",
    "{\n",
    "    som += i;\n",
    "}\n",
    "Console.WriteLine(\"De berekende som is: \" + som); // Output: 10, zou 15 moeten zijn\n",
    "\n",
    "// Analyse:\n",
    "// 1. Breakpoint: Plaats je op de regel `som += i;`.\n",
    "// 2. Watch: Zet `i` en `som` in het Watch-venster.\n",
    "// 3. Debug stappen:\n",
    "//    - i=1, som=1\n",
    "//    - i=2, som=3\n",
    "//    - i=3, som=6\n",
    "//    - i=4, som=10\n",
    "//    De lus stopt hier. Je ziet dat `i` nooit de waarde 5 bereikt.\n",
    "//    De conditie `i < 5` is de oorzaak; deze moet `i <= 5` zijn om ook de laatste iteratie mee te nemen.\n",
    "\n",
    "// Gecorrigeerde code:\n",
    "int correcteSom = 0;\n",
    "for (int i = 1; i <= 5; i++) // Oplossing: '<' veranderd in '<='\n",
    "{\n",
    "    correcteSom += i;\n",
    "}\n",
    "Console.WriteLine(\"De correcte som is: \" + correcteSom);"
   ]
  },
  {
   "cell_type": "markdown",
   "metadata": {},
   "source": [
    "### Uitdaging 2: De Verdwaalde Recursie"
   ]
  },
  {
   "cell_type": "code",
   "execution_count": null,
   "metadata": {
    "polyglot_notebook": {
     "kernelName": "csharp"
    },
    "vscode": {
     "languageId": "polyglot-notebook"
    }
   },
   "outputs": [],
   "source": [
    "// Probleemcode:\n",
    "void TelAf(int n)\n",
    "{\n",
    "    Console.WriteLine(n);\n",
    "    TelAf(n - 1); // Fout: er is geen basisgeval om te stoppen\n",
    "}\n",
    "// TelAf(5); // Dit aanroepen veroorzaakt een StackOverflowException\n",
    "\n",
    "// Analyse:\n",
    "// Als je een breakpoint in de functie plaatst en deze uitvoert, zie je dat de Call Stack razendsnel groeit.\n",
    "// TelAf(5) roept TelAf(4) aan, die TelAf(3) aanroept, etc. De functie blijft zichzelf aanroepen met negatieve getallen (-1, -2, ...).\n",
    "// Er is geen 'basisgeval' (een `if`-statement) dat de recursie stopt wanneer `n` een bepaalde waarde bereikt (bijv. 0). \n",
    "// Hierdoor raakt het geheugen dat gereserveerd is voor de Call Stack vol, wat leidt tot een StackOverflowException.\n",
    "\n",
    "// Gecorrigeerde code:\n",
    "void CorrectTelAf(int n)\n",
    "{\n",
    "    // Basisgeval toegevoegd:\n",
    "    if (n < 0) \n",
    "    {\n",
    "        return; // Stopt de recursie\n",
    "    }\n",
    "    Console.WriteLine(n);\n",
    "    CorrectTelAf(n - 1);\n",
    "}\n",
    "CorrectTelAf(5);"
   ]
  },
  {
   "cell_type": "markdown",
   "metadata": {},
   "source": [
    "### Uitdaging 3: Complexe Data Inspecteren"
   ]
  },
  {
   "cell_type": "code",
   "execution_count": null,
   "metadata": {
    "polyglot_notebook": {
     "kernelName": "csharp"
    },
    "vscode": {
     "languageId": "polyglot-notebook"
    }
   },
   "outputs": [],
   "source": [
    "// Setup van de class en data\n",
    "public class Product { public string Naam { get; set; } public decimal Prijs { get; set; } }\n",
    "\n",
    "List<Product> producten = new List<Product>\n",
    "{\n",
    "    new Product { Naam = \"Laptop\", Prijs = 1200 },\n",
    "    new Product { Naam = \"Muis\", Prijs = 25 },\n",
    "    null, // Dit is het probleemgeval\n",
    "    new Product { Naam = \"Toetsenbord\", Prijs = 75 }\n",
    "};\n",
    "\n",
    "decimal totaal = 0;\n",
    "foreach (var product in producten)\n",
    "{\n",
    "    // Hier plaats je het conditional breakpoint\n",
    "    totaal += product.Prijs; // Deze regel veroorzaakt de crash\n",
    "}\n",
    "\n",
    "// Oplossing:\n",
    "// 1. Plaats een breakpoint op de regel `totaal += product.Prijs;`.\n",
    "// 2. Klik met de rechtermuisknop op het rode breakpoint en kies 'Edit Breakpoint...'.\n",
    "// 3. In het dialoogvenster, kies bij 'Condition' voor 'Expression' en voer de volgende conditie in:\n",
    "//    `product == null`\n",
    "//\n",
    "// Als je nu de debugger start, zal de code niet bij elke iteratie pauzeren, \n",
    "// maar alleen op het moment dat de variabele `product` daadwerkelijk `null` is.\n",
    "// Dit bespaart enorm veel tijd bij het debuggen van grote datasets."
   ]
  }
 ],
 "metadata": {
  "kernelspec": {
   "display_name": ".NET (C#)",
   "language": "C#",
   "name": ".net-csharp"
  },
  "language_info": {
   "name": "csharp"
  }
 },
 "nbformat": 4,
 "nbformat_minor": 2
}
