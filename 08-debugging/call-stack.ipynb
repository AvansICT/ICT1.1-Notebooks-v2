{
 "cells": [
  {
   "cell_type": "markdown",
   "metadata": {},
   "source": [
    "# Call stack\n",
    "\n",
    "Bij het uitvoeren van een programma is er altijd een actieve regel, de regel code die op dat moment uitgevoerd word. Bij het uitvoeren gaat deze regel steeds verder, maar doordat er ook constructies zijn die de flow van de applicatie aanpassen, kan deze regel ook verspringen (bij een if, lus of een methodeaanroep). Hierdoor kan het onoverzichtelijk worden hoe de programma op een bepaalde regel is gekomen. De callstack is een datastructuur die opslaat welke regel uitgevoerd wordt, en daarbij, als een methode aangeroepen wordt, de oude positie opslaat. Neem als voorbeeld onderstaande code."
   ]
  },
  {
   "cell_type": "code",
   "execution_count": null,
   "metadata": {
    "dotnet_interactive": {
     "language": "csharp"
    },
    "polyglot_notebook": {
     "kernelName": "csharp"
    }
   },
   "outputs": [],
   "source": [
    "int multiply(int a, int b)\n",
    "{\n",
    "    return a * b;\n",
    "}\n",
    "\n",
    "int square(int n)\n",
    "{\n",
    "    return multiply(n, n);\n",
    "}\n",
    "\n",
    "void printSquare(int n)\n",
    "{\n",
    "    Console.WriteLine(square(n));\n",
    "}\n",
    "printSquare(5);"
   ]
  },
  {
   "cell_type": "markdown",
   "metadata": {},
   "source": [
    "Op het moment dat de regel code `return a * b;` uitgevoerd wordt, wordt deze aangeroepen vanuit de square methode, die aangeroepen wordt vanuit de printSquare methode, die aangeroepen wordt van de main. Dit is dus in de volgende tabel te zien.\n",
    "\n",
    "| Methode | Regel |\n",
    "|---------|-------|\n",
    "| multiply | main.cs:3    |\n",
    "| square | main.cs:8 |\n",
    "| printSuare | main.cs:13 |\n",
    "| main | main.cs:15 |\n",
    "\n",
    "Dit is de callstack die bij de uitvoering van bovenstaande code, op het moment dat je een breakpoint op regel 3 zou zetten. In de callstack is dus precies te zien hoe uitvoer bij een regel code is gekomen.\n",
    "\n",
    "In de debugger, is het ook mogelijk om te dubbelklikken op elementen in de callstack. Hiermee kan er in de stack gewisseld worden van context, waardoor je de lokale variabelen in die methode kunt bekijken, terwijl de uitvoer al verder is."
   ]
  }
 ],
 "metadata": {
  "kernelspec": {
   "display_name": ".NET (C#)",
   "language": "C#",
   "name": ".net-csharp"
  },
  "language_info": {
   "name": "polyglot-notebook"
  },
  "polyglot_notebook": {
   "kernelInfo": {
    "defaultKernelName": "csharp",
    "items": [
     {
      "aliases": [],
      "languageName": "csharp",
      "name": "csharp"
     }
    ]
   }
  }
 },
 "nbformat": 4,
 "nbformat_minor": 2
}
