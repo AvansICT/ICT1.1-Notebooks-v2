{
 "cells": [
  {
   "cell_type": "markdown",
   "metadata": {},
   "source": [
    "# Stepping\n",
    "\n",
    "Nadat een applicatie is gepauseerd (door een breakpoint), is het mogelijk om de code weer verder uit te voeren (resume), maar het is ook mogelijk om de code hierna stap voor stap uit te voeren. Hier zijn een aantal stap-opties voor, die bovenaan in de balk naar voren komen\n",
    "\n",
    "## Step Over\n",
    "De **step over** is de basis stap die in de code gezet kan worden, waarbij de computer alles zal uitvoeren dat op deze regel staat. Dit is de basis van het debuggen van de code, doordat je stapsgewijs kunt zien wat een applicatie doet. Bij iedere stap updaten de variabelen in scherm van visual studio, en kun je dus zien wat het algoritme uitvoert. Door herhaaldelijk de step over te doen, is goed te zien wat een algoritme doet, en waarom bepaalde condities niet gedaan worden. \n",
    "\n",
    "## Step Into\n",
    "Zodra je met methodes gaat werken, is het ook belangrijk om te zien wat er in een methode gebeurt. Als op een regel een methodeaanroep staat, zal de *step into* de uitvoer in de methode weer pauzeren en kun je kijken wat er in de methode gebeurt. Dit in tegenstelling tot de *step over*, die niet de code in de methode laat zien en hier gewoon overheen gaat\n",
    "\n",
    "## Step Out\n",
    "De step out zal alle resterende code in een methode uitvoeren, en terug gaan naar de methode die de huidige methode heeft aangeroepen. Dit kun je gebruiken als je perongeluk een step into hebt gedaan en terug wilt, of als je de werking van een methode hebt gevalideerd hebt en terug wilt naar de code die dit wil uitvoeren. "
   ]
  },
  {
   "cell_type": "code",
   "execution_count": null,
   "metadata": {
    "dotnet_interactive": {
     "language": "csharp"
    },
    "polyglot_notebook": {
     "kernelName": "csharp"
    }
   },
   "outputs": [],
   "source": []
  }
 ],
 "metadata": {
  "kernelspec": {
   "display_name": ".NET (C#)",
   "language": "C#",
   "name": ".net-csharp"
  },
  "language_info": {
   "name": "polyglot-notebook"
  },
  "polyglot_notebook": {
   "kernelInfo": {
    "defaultKernelName": "csharp",
    "items": [
     {
      "aliases": [],
      "languageName": "csharp",
      "name": "csharp"
     }
    ]
   }
  }
 },
 "nbformat": 4,
 "nbformat_minor": 2
}
